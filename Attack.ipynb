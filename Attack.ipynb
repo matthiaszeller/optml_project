{
 "metadata": {
  "language_info": {
   "codemirror_mode": {
    "name": "ipython",
    "version": 3
   },
   "file_extension": ".py",
   "mimetype": "text/x-python",
   "name": "python",
   "nbconvert_exporter": "python",
   "pygments_lexer": "ipython3",
   "version": "3.8.5"
  },
  "orig_nbformat": 2,
  "kernelspec": {
   "name": "python3",
   "display_name": "Python 3",
   "language": "python"
  }
 },
 "nbformat": 4,
 "nbformat_minor": 2,
 "cells": [
  {
   "source": [
    "# Attack Code Testing"
   ],
   "cell_type": "markdown",
   "metadata": {}
  },
  {
   "source": [
    "## Imports"
   ],
   "cell_type": "markdown",
   "metadata": {}
  },
  {
   "cell_type": "code",
   "execution_count": 1,
   "metadata": {},
   "outputs": [],
   "source": [
    "from adversary import *\n",
    "from net import Net\n",
    "import numpy as np\n",
    "from torch.optim import Optimizer\n",
    "import torch\n",
    "from training import training, testing, accuracy\n",
    "from optimizer import MiniBatchOptimizer\n",
    "import matplotlib.pyplot as plt\n",
    "from data_utils import get_mnist, build_data_loaders"
   ]
  },
  {
   "source": [
    "## Setup of a Testing Net with Minibatch"
   ],
   "cell_type": "markdown",
   "metadata": {}
  },
  {
   "cell_type": "code",
   "execution_count": 2,
   "metadata": {},
   "outputs": [],
   "source": [
    "train_dataset, test_dataset = get_mnist(normalize=True)\n",
    "\n",
    "accuracies_naive_fgsm = []\n",
    "accuracies_naive_proj = []\n",
    "\n",
    "criterion = torch.nn.CrossEntropyLoss()\n",
    "\n",
    "epochs = 10\n",
    "batch_size = 32\n",
    "learning_rate = 0.01\n",
    "decreasing_lr = False\n",
    "use_cuda = True # GPU seems to raise erros on my side\n",
    "device = torch.device('cuda' if use_cuda and torch.cuda.is_available() else 'cpu')\n",
    "\n",
    "\n",
    "net_naive = Net().to(device)\n",
    "train_loader, test_loader = build_data_loaders(train_dataset, test_dataset, batch_size)\n"
   ]
  },
  {
   "cell_type": "code",
   "execution_count": 19,
   "metadata": {},
   "outputs": [],
   "source": [
    "epsilons_fgsm = np.arange(0, 1.5, 0.05)\n",
    "\n",
    "epsilons_proj = []\n",
    "\n",
    "n = 788 # Thus n is the dimension of each image, which we need to scale the L2 norm for Projected Gradient Descent\n",
    "\n",
    "# From source https://adversarial-ml-tutorial.org/adversarial_examples/ for L2 PGD\n",
    "scaler = np.sqrt(2*n)/(np.sqrt(np.pi*np.exp(1)))\n",
    "for eps in epsilons_fgsm:\n",
    "    new_eps = eps*scaler\n",
    "    epsilons_proj.append(new_eps)"
   ]
  },
  {
   "cell_type": "code",
   "execution_count": 20,
   "metadata": {},
   "outputs": [
    {
     "output_type": "execute_result",
     "data": {
      "text/plain": [
       "[0.0,\n",
       " 0.6792441920337892,\n",
       " 1.3584883840675783,\n",
       " 2.0377325761013676,\n",
       " 2.7169767681351567,\n",
       " 3.3962209601689457,\n",
       " 4.075465152202735,\n",
       " 4.754709344236525,\n",
       " 5.433953536270313,\n",
       " 6.113197728304103,\n",
       " 6.792441920337891,\n",
       " 7.471686112371681,\n",
       " 8.15093030440547,\n",
       " 8.830174496439259,\n",
       " 9.50941868847305,\n",
       " 10.188662880506836,\n",
       " 10.867907072540627,\n",
       " 11.547151264574417,\n",
       " 12.226395456608206,\n",
       " 12.905639648641994,\n",
       " 13.584883840675783,\n",
       " 14.264128032709573,\n",
       " 14.943372224743362,\n",
       " 15.622616416777152,\n",
       " 16.30186060881094,\n",
       " 16.98110480084473,\n",
       " 17.660348992878518,\n",
       " 18.339593184912307,\n",
       " 19.0188373769461,\n",
       " 19.698081568979887]"
      ]
     },
     "metadata": {},
     "execution_count": 20
    }
   ],
   "source": [
    "epsilons_proj"
   ]
  },
  {
   "source": [
    "## Train Naive Model"
   ],
   "cell_type": "markdown",
   "metadata": {}
  },
  {
   "cell_type": "code",
   "execution_count": null,
   "metadata": {},
   "outputs": [],
   "source": []
  },
  {
   "cell_type": "code",
   "execution_count": 21,
   "metadata": {},
   "outputs": [
    {
     "output_type": "stream",
     "name": "stdout",
     "text": [
      "Launching training on cuda\n",
      "batch 100\tloss = 0.0003594\tacc = 1.0\n",
      "batch 200\tloss = 0.001926\tacc = 1.0\n",
      "batch 300\tloss = 0.002923\tacc = 1.0\n",
      "batch 400\tloss = 0.01806\tacc = 1.0\n",
      "batch 500\tloss = 0.0073\tacc = 1.0\n",
      "batch 600\tloss = 0.002441\tacc = 1.0\n",
      "batch 700\tloss = 0.0003793\tacc = 1.0\n",
      "batch 800\tloss = 0.004233\tacc = 1.0\n",
      "batch 900\tloss = 0.01792\tacc = 1.0\n",
      "batch 1000\tloss = 0.0342\tacc = 0.9688\n",
      "batch 1100\tloss = 0.001284\tacc = 1.0\n",
      "batch 1200\tloss = 0.1825\tacc = 0.9375\n",
      "batch 1300\tloss = 0.006582\tacc = 1.0\n",
      "batch 1400\tloss = 0.0008634\tacc = 1.0\n",
      "batch 1500\tloss = 0.01077\tacc = 1.0\n",
      "batch 1600\tloss = 0.001178\tacc = 1.0\n",
      "batch 1700\tloss = 0.003245\tacc = 1.0\n",
      "batch 1800\tloss = 0.000753\tacc = 1.0\n",
      "epoch 0\tavg epoch loss = 0.01786\tavg epoch acc = 0.9953\n",
      "batch 100\tloss = 0.0002917\tacc = 1.0\n",
      "batch 200\tloss = 0.001662\tacc = 1.0\n",
      "batch 300\tloss = 0.002025\tacc = 1.0\n",
      "batch 400\tloss = 0.01718\tacc = 1.0\n",
      "batch 500\tloss = 0.007298\tacc = 1.0\n",
      "batch 600\tloss = 0.001988\tacc = 1.0\n",
      "batch 700\tloss = 0.000342\tacc = 1.0\n",
      "batch 800\tloss = 0.003845\tacc = 1.0\n",
      "batch 900\tloss = 0.01437\tacc = 1.0\n",
      "batch 1000\tloss = 0.03124\tacc = 0.9688\n",
      "batch 1100\tloss = 0.001101\tacc = 1.0\n",
      "batch 1200\tloss = 0.1809\tacc = 0.9375\n",
      "batch 1300\tloss = 0.006051\tacc = 1.0\n",
      "batch 1400\tloss = 0.0005871\tacc = 1.0\n",
      "batch 1500\tloss = 0.009444\tacc = 1.0\n",
      "batch 1600\tloss = 0.001051\tacc = 1.0\n",
      "batch 1700\tloss = 0.002573\tacc = 1.0\n",
      "batch 1800\tloss = 0.0007118\tacc = 1.0\n",
      "epoch 1\tavg epoch loss = 0.01591\tavg epoch acc = 0.9959\n",
      "batch 100\tloss = 0.0002321\tacc = 1.0\n",
      "batch 200\tloss = 0.001418\tacc = 1.0\n",
      "batch 300\tloss = 0.001458\tacc = 1.0\n",
      "batch 400\tloss = 0.0178\tacc = 1.0\n",
      "batch 500\tloss = 0.00716\tacc = 1.0\n",
      "batch 600\tloss = 0.001627\tacc = 1.0\n",
      "batch 700\tloss = 0.0002954\tacc = 1.0\n",
      "batch 800\tloss = 0.003492\tacc = 1.0\n",
      "batch 900\tloss = 0.01278\tacc = 1.0\n",
      "batch 1000\tloss = 0.02701\tacc = 0.9688\n",
      "batch 1100\tloss = 0.0009151\tacc = 1.0\n",
      "batch 1200\tloss = 0.1746\tacc = 0.9375\n",
      "batch 1300\tloss = 0.005422\tacc = 1.0\n",
      "batch 1400\tloss = 0.0004747\tacc = 1.0\n",
      "batch 1500\tloss = 0.008525\tacc = 1.0\n",
      "batch 1600\tloss = 0.0009826\tacc = 1.0\n",
      "batch 1700\tloss = 0.002125\tacc = 1.0\n",
      "batch 1800\tloss = 0.0007172\tacc = 1.0\n",
      "epoch 2\tavg epoch loss = 0.0142\tavg epoch acc = 0.9964\n",
      "batch 100\tloss = 0.0001904\tacc = 1.0\n",
      "batch 200\tloss = 0.001207\tacc = 1.0\n",
      "batch 300\tloss = 0.001089\tacc = 1.0\n",
      "batch 400\tloss = 0.01873\tacc = 1.0\n",
      "batch 500\tloss = 0.007278\tacc = 1.0\n",
      "batch 600\tloss = 0.001354\tacc = 1.0\n",
      "batch 700\tloss = 0.0002378\tacc = 1.0\n",
      "batch 800\tloss = 0.003375\tacc = 1.0\n",
      "batch 900\tloss = 0.01032\tacc = 1.0\n",
      "batch 1000\tloss = 0.02498\tacc = 0.9688\n",
      "batch 1100\tloss = 0.0007896\tacc = 1.0\n",
      "batch 1200\tloss = 0.1667\tacc = 0.9375\n",
      "batch 1300\tloss = 0.005028\tacc = 1.0\n",
      "batch 1400\tloss = 0.0003673\tacc = 1.0\n",
      "batch 1500\tloss = 0.007786\tacc = 1.0\n",
      "batch 1600\tloss = 0.0009423\tacc = 1.0\n",
      "batch 1700\tloss = 0.001715\tacc = 1.0\n",
      "batch 1800\tloss = 0.0007733\tacc = 1.0\n",
      "epoch 3\tavg epoch loss = 0.01268\tavg epoch acc = 0.9969\n",
      "batch 100\tloss = 0.0001635\tacc = 1.0\n",
      "batch 200\tloss = 0.001104\tacc = 1.0\n",
      "batch 300\tloss = 0.0007706\tacc = 1.0\n",
      "batch 400\tloss = 0.01791\tacc = 1.0\n",
      "batch 500\tloss = 0.006874\tacc = 1.0\n",
      "batch 600\tloss = 0.001107\tacc = 1.0\n",
      "batch 700\tloss = 0.000195\tacc = 1.0\n",
      "batch 800\tloss = 0.002971\tacc = 1.0\n",
      "batch 900\tloss = 0.008096\tacc = 1.0\n",
      "batch 1000\tloss = 0.02296\tacc = 0.9688\n",
      "batch 1100\tloss = 0.0007013\tacc = 1.0\n",
      "batch 1200\tloss = 0.1586\tacc = 0.9375\n",
      "batch 1300\tloss = 0.004283\tacc = 1.0\n",
      "batch 1400\tloss = 0.0002586\tacc = 1.0\n",
      "batch 1500\tloss = 0.006748\tacc = 1.0\n",
      "batch 1600\tloss = 0.0009477\tacc = 1.0\n",
      "batch 1700\tloss = 0.001463\tacc = 1.0\n",
      "batch 1800\tloss = 0.0008206\tacc = 1.0\n",
      "epoch 4\tavg epoch loss = 0.0113\tavg epoch acc = 0.9972\n",
      "batch 100\tloss = 0.0001362\tacc = 1.0\n",
      "batch 200\tloss = 0.0009835\tacc = 1.0\n",
      "batch 300\tloss = 0.0006193\tacc = 1.0\n",
      "batch 400\tloss = 0.01728\tacc = 1.0\n",
      "batch 500\tloss = 0.006698\tacc = 1.0\n",
      "batch 600\tloss = 0.0008695\tacc = 1.0\n",
      "batch 700\tloss = 0.0001531\tacc = 1.0\n",
      "batch 800\tloss = 0.002752\tacc = 1.0\n",
      "batch 900\tloss = 0.006869\tacc = 1.0\n",
      "batch 1000\tloss = 0.01728\tacc = 1.0\n",
      "batch 1100\tloss = 0.0006491\tacc = 1.0\n",
      "batch 1200\tloss = 0.1497\tacc = 0.9375\n",
      "batch 1300\tloss = 0.004496\tacc = 1.0\n",
      "batch 1400\tloss = 0.0002159\tacc = 1.0\n",
      "batch 1500\tloss = 0.006045\tacc = 1.0\n",
      "batch 1600\tloss = 0.0009348\tacc = 1.0\n",
      "batch 1700\tloss = 0.001219\tacc = 1.0\n",
      "batch 1800\tloss = 0.0008533\tacc = 1.0\n",
      "epoch 5\tavg epoch loss = 0.01008\tavg epoch acc = 0.9977\n",
      "batch 100\tloss = 0.0001178\tacc = 1.0\n",
      "batch 200\tloss = 0.0007722\tacc = 1.0\n",
      "batch 300\tloss = 0.0005143\tacc = 1.0\n",
      "batch 400\tloss = 0.01539\tacc = 1.0\n",
      "batch 500\tloss = 0.006153\tacc = 1.0\n",
      "batch 600\tloss = 0.0007855\tacc = 1.0\n",
      "batch 700\tloss = 0.0001182\tacc = 1.0\n",
      "batch 800\tloss = 0.002553\tacc = 1.0\n",
      "batch 900\tloss = 0.005582\tacc = 1.0\n",
      "batch 1000\tloss = 0.01369\tacc = 1.0\n",
      "batch 1100\tloss = 0.0005923\tacc = 1.0\n",
      "batch 1200\tloss = 0.1416\tacc = 0.9375\n",
      "batch 1300\tloss = 0.003908\tacc = 1.0\n",
      "batch 1400\tloss = 0.0001664\tacc = 1.0\n",
      "batch 1500\tloss = 0.005267\tacc = 1.0\n",
      "batch 1600\tloss = 0.0009272\tacc = 1.0\n",
      "batch 1700\tloss = 0.001071\tacc = 1.0\n",
      "batch 1800\tloss = 0.0008871\tacc = 1.0\n",
      "epoch 6\tavg epoch loss = 0.008999\tavg epoch acc = 0.9979\n",
      "batch 100\tloss = 0.0001034\tacc = 1.0\n",
      "batch 200\tloss = 0.0006186\tacc = 1.0\n",
      "batch 300\tloss = 0.0004445\tacc = 1.0\n",
      "batch 400\tloss = 0.01506\tacc = 1.0\n",
      "batch 500\tloss = 0.006239\tacc = 1.0\n",
      "batch 600\tloss = 0.0006575\tacc = 1.0\n",
      "batch 700\tloss = 9.222e-05\tacc = 1.0\n",
      "batch 800\tloss = 0.002257\tacc = 1.0\n",
      "batch 900\tloss = 0.005604\tacc = 1.0\n",
      "batch 1000\tloss = 0.01119\tacc = 1.0\n",
      "batch 1100\tloss = 0.0005721\tacc = 1.0\n",
      "batch 1200\tloss = 0.1259\tacc = 0.9375\n",
      "batch 1300\tloss = 0.003856\tacc = 1.0\n",
      "batch 1400\tloss = 0.000138\tacc = 1.0\n",
      "batch 1500\tloss = 0.004402\tacc = 1.0\n",
      "batch 1600\tloss = 0.0009454\tacc = 1.0\n",
      "batch 1700\tloss = 0.0009789\tacc = 1.0\n",
      "batch 1800\tloss = 0.0009254\tacc = 1.0\n",
      "epoch 7\tavg epoch loss = 0.008072\tavg epoch acc = 0.9982\n",
      "batch 100\tloss = 8.275e-05\tacc = 1.0\n",
      "batch 200\tloss = 0.0005069\tacc = 1.0\n",
      "batch 300\tloss = 0.0003755\tacc = 1.0\n",
      "batch 400\tloss = 0.01468\tacc = 1.0\n",
      "batch 500\tloss = 0.005932\tacc = 1.0\n",
      "batch 600\tloss = 0.0005962\tacc = 1.0\n",
      "batch 700\tloss = 6.92e-05\tacc = 1.0\n",
      "batch 800\tloss = 0.001874\tacc = 1.0\n",
      "batch 900\tloss = 0.005119\tacc = 1.0\n",
      "batch 1000\tloss = 0.008207\tacc = 1.0\n",
      "batch 1100\tloss = 0.0005298\tacc = 1.0\n",
      "batch 1200\tloss = 0.1187\tacc = 0.9375\n",
      "batch 1300\tloss = 0.003329\tacc = 1.0\n",
      "batch 1400\tloss = 0.0001189\tacc = 1.0\n",
      "batch 1500\tloss = 0.003662\tacc = 1.0\n",
      "batch 1600\tloss = 0.0009089\tacc = 1.0\n",
      "batch 1700\tloss = 0.000874\tacc = 1.0\n",
      "batch 1800\tloss = 0.0009963\tacc = 1.0\n",
      "epoch 8\tavg epoch loss = 0.007224\tavg epoch acc = 0.9987\n",
      "batch 100\tloss = 7.497e-05\tacc = 1.0\n",
      "batch 200\tloss = 0.0004215\tacc = 1.0\n",
      "batch 300\tloss = 0.000308\tacc = 1.0\n",
      "batch 400\tloss = 0.01351\tacc = 1.0\n",
      "batch 500\tloss = 0.00594\tacc = 1.0\n",
      "batch 600\tloss = 0.0005141\tacc = 1.0\n",
      "batch 700\tloss = 5.627e-05\tacc = 1.0\n",
      "batch 800\tloss = 0.001611\tacc = 1.0\n",
      "batch 900\tloss = 0.00551\tacc = 1.0\n",
      "batch 1000\tloss = 0.00606\tacc = 1.0\n",
      "batch 1100\tloss = 0.0004875\tacc = 1.0\n",
      "batch 1200\tloss = 0.1074\tacc = 0.9375\n",
      "batch 1300\tloss = 0.003178\tacc = 1.0\n",
      "batch 1400\tloss = 0.000103\tacc = 1.0\n",
      "batch 1500\tloss = 0.003302\tacc = 1.0\n",
      "batch 1600\tloss = 0.0008461\tacc = 1.0\n",
      "batch 1700\tloss = 0.0007657\tacc = 1.0\n",
      "batch 1800\tloss = 0.0009515\tacc = 1.0\n",
      "epoch 9\tavg epoch loss = 0.006521\tavg epoch acc = 0.9989\n",
      "training took 44.68 s\n",
      "Avg test loss = 0.0331\tAvg test acc = 0.989\n"
     ]
    }
   ],
   "source": [
    "mini_opt = MiniBatchOptimizer(net_naive.parameters(), lr=learning_rate, decreasing_lr=decreasing_lr)\n",
    "losses, acc = training(net_naive, train_loader, mini_opt, criterion, accuracy, epochs=epochs, device=device)\n",
    "losses, acc = testing(net_naive, test_loader, criterion, accuracy, device=device)\n"
   ]
  },
  {
   "source": [
    "## Attack Naive Model"
   ],
   "cell_type": "markdown",
   "metadata": {}
  },
  {
   "source": [
    "Standard FGSM"
   ],
   "cell_type": "markdown",
   "metadata": {}
  },
  {
   "cell_type": "code",
   "execution_count": 22,
   "metadata": {},
   "outputs": [
    {
     "output_type": "stream",
     "name": "stdout",
     "text": [
      "Epsilon: 0.00\tTest Accuracy = 0.972\n",
      "Epsilon: 0.05\tTest Accuracy = 0.966\n",
      "Epsilon: 0.10\tTest Accuracy = 0.958\n",
      "Epsilon: 0.15\tTest Accuracy = 0.949\n",
      "Epsilon: 0.20\tTest Accuracy = 0.935\n",
      "Epsilon: 0.25\tTest Accuracy = 0.914\n",
      "Epsilon: 0.30\tTest Accuracy = 0.886\n",
      "Epsilon: 0.35\tTest Accuracy = 0.846\n",
      "Epsilon: 0.40\tTest Accuracy = 0.792\n",
      "Epsilon: 0.45\tTest Accuracy = 0.707\n",
      "Epsilon: 0.50\tTest Accuracy = 0.609\n",
      "Epsilon: 0.55\tTest Accuracy = 0.492\n",
      "Epsilon: 0.60\tTest Accuracy = 0.371\n",
      "Epsilon: 0.65\tTest Accuracy = 0.262\n",
      "Epsilon: 0.70\tTest Accuracy = 0.181\n",
      "Epsilon: 0.75\tTest Accuracy = 0.120\n",
      "Epsilon: 0.80\tTest Accuracy = 0.073\n",
      "Epsilon: 0.85\tTest Accuracy = 0.044\n",
      "Epsilon: 0.90\tTest Accuracy = 0.025\n",
      "Epsilon: 0.95\tTest Accuracy = 0.015\n",
      "Epsilon: 1.00\tTest Accuracy = 0.011\n",
      "Epsilon: 1.05\tTest Accuracy = 0.009\n",
      "Epsilon: 1.10\tTest Accuracy = 0.008\n",
      "Epsilon: 1.15\tTest Accuracy = 0.008\n",
      "Epsilon: 1.20\tTest Accuracy = 0.008\n",
      "Epsilon: 1.25\tTest Accuracy = 0.010\n",
      "Epsilon: 1.30\tTest Accuracy = 0.011\n",
      "Epsilon: 1.35\tTest Accuracy = 0.013\n",
      "Epsilon: 1.40\tTest Accuracy = 0.015\n",
      "Epsilon: 1.45\tTest Accuracy = 0.018\n"
     ]
    }
   ],
   "source": [
    "for eps in epsilons_fgsm:\n",
    "    loss_attack, acc_attack  = attack(net_naive, criterion, accuracy, test_loader, epsilon=eps, device=device)\n",
    "    accuracies_naive_fgsm.append(acc_attack)"
   ]
  },
  {
   "source": [
    "Projected Gradient Descent"
   ],
   "cell_type": "markdown",
   "metadata": {}
  },
  {
   "cell_type": "code",
   "execution_count": 23,
   "metadata": {},
   "outputs": [
    {
     "output_type": "stream",
     "name": "stdout",
     "text": [
      "Epsilon: 0.00\tTest Accuracy = 0.972\n",
      "Epsilon: 0.68\tTest Accuracy = 0.972\n",
      "Epsilon: 1.36\tTest Accuracy = 0.972\n",
      "Epsilon: 2.04\tTest Accuracy = 0.972\n",
      "Epsilon: 2.72\tTest Accuracy = 0.971\n",
      "Epsilon: 3.40\tTest Accuracy = 0.971\n",
      "Epsilon: 4.08\tTest Accuracy = 0.971\n",
      "Epsilon: 4.75\tTest Accuracy = 0.971\n",
      "Epsilon: 5.43\tTest Accuracy = 0.971\n",
      "Epsilon: 6.11\tTest Accuracy = 0.971\n",
      "Epsilon: 6.79\tTest Accuracy = 0.970\n",
      "Epsilon: 7.47\tTest Accuracy = 0.970\n",
      "Epsilon: 8.15\tTest Accuracy = 0.970\n",
      "Epsilon: 8.83\tTest Accuracy = 0.969\n",
      "Epsilon: 9.51\tTest Accuracy = 0.965\n",
      "Epsilon: 10.19\tTest Accuracy = 0.953\n",
      "Epsilon: 10.87\tTest Accuracy = 0.921\n",
      "Epsilon: 11.55\tTest Accuracy = 0.852\n",
      "Epsilon: 12.23\tTest Accuracy = 0.732\n",
      "Epsilon: 12.91\tTest Accuracy = 0.599\n",
      "Epsilon: 13.58\tTest Accuracy = 0.521\n",
      "Epsilon: 14.26\tTest Accuracy = 0.463\n",
      "Epsilon: 14.94\tTest Accuracy = 0.414\n",
      "Epsilon: 15.62\tTest Accuracy = 0.372\n",
      "Epsilon: 16.30\tTest Accuracy = 0.333\n",
      "Epsilon: 16.98\tTest Accuracy = 0.299\n",
      "Epsilon: 17.66\tTest Accuracy = 0.272\n",
      "Epsilon: 18.34\tTest Accuracy = 0.246\n",
      "Epsilon: 19.02\tTest Accuracy = 0.221\n",
      "Epsilon: 19.70\tTest Accuracy = 0.203\n"
     ]
    }
   ],
   "source": [
    "for eps in epsilons_proj:\n",
    "    loss_attack, acc_attack  = projected_attack(net_naive, criterion, accuracy, test_loader, epsilon=eps, alpha=0.1, num_iter=40, device=device)\n",
    "    accuracies_naive_proj.append(acc_attack)\n"
   ]
  },
  {
   "source": [
    "## Train Robust Models Version"
   ],
   "cell_type": "markdown",
   "metadata": {}
  },
  {
   "cell_type": "code",
   "execution_count": null,
   "metadata": {},
   "outputs": [],
   "source": [
    "robust_net = Net().to(device)\n",
    "protect_epochs = 10\n",
    "protect_lr = 0.01\n",
    "protect_bz = 32\n",
    "protect_dec_lr = False\n",
    "prot_train_loader, prot_test_loader = build_data_loaders(train_dataset, test_dataset, protect_bz)\n",
    "mini_opt_proc = MiniBatchOptimizer(robust_net.parameters(), lr=protect_lr, decreasing_lr=protect_dec_lr)\n",
    "\n",
    "accuracies_robust_fgsm = []\n",
    "accuracies_robust_proj = []"
   ]
  },
  {
   "cell_type": "code",
   "execution_count": null,
   "metadata": {},
   "outputs": [],
   "source": [
    "loss_train, acc_train = protected_training(robust_net, prot_train_loader, mini_opt_proc, criterion, accuracy, epochs=protect_epochs, device=device)\n",
    "loss_test, acc_test = testing(robust_net, test_loader, criterion, accuracy, device=device)"
   ]
  },
  {
   "source": [
    "## Attack Robust Model Version"
   ],
   "cell_type": "markdown",
   "metadata": {}
  },
  {
   "source": [
    "Standard FGSM"
   ],
   "cell_type": "markdown",
   "metadata": {}
  },
  {
   "cell_type": "code",
   "execution_count": null,
   "metadata": {},
   "outputs": [],
   "source": [
    "for eps in epsilons_fgsm:\n",
    "    loss_attack, acc_attack  = attack(robust_net, criterion, accuracy, test_loader, epsilon=eps, device=device)\n",
    "    accuracies_robust_fgsm.append(acc_attack)"
   ]
  },
  {
   "source": [
    "Projected Gradient Descent"
   ],
   "cell_type": "markdown",
   "metadata": {}
  },
  {
   "cell_type": "code",
   "execution_count": null,
   "metadata": {},
   "outputs": [],
   "source": [
    "for eps in epsilons_proj:\n",
    "    loss_attack, acc_attack  = projected_attack(robust_net, criterion, accuracy, test_loader, epsilon=eps, alpha=1e-2, num_iter=40, device=device)\n",
    "    accuracies_robust_proj.append(acc_attack)\n"
   ]
  },
  {
   "source": [
    "## Comparative Analysis"
   ],
   "cell_type": "markdown",
   "metadata": {}
  },
  {
   "cell_type": "code",
   "execution_count": null,
   "metadata": {},
   "outputs": [],
   "source": [
    "epsilons_it = np.arange(0, len(epsilons_pgd), 1)\n"
   ]
  },
  {
   "source": [
    "### Naive Model"
   ],
   "cell_type": "markdown",
   "metadata": {}
  },
  {
   "cell_type": "code",
   "execution_count": null,
   "metadata": {},
   "outputs": [],
   "source": [
    "plt.figure(figsize=(5,5))\n",
    "plt.plot(epsilons_it, accuracies_naive_fgsm, \"*-\", c='blue', label='Std. FGSM')\n",
    "plt.plot(epsilons_it, accuracies_naive_proj, \"*-\", c='orange', label='PGD')\n",
    "\n",
    "plt.yticks(np.arange(0, 1.1, step=0.1))\n",
    "plt.xticks(epsilons_it)\n",
    "\n",
    "plt.title(\"Naive Model\")\n",
    "plt.xlabel(\"Epsilon Choices\")\n",
    "plt.ylabel(\"Accuracy\")\n",
    "plt.legend();"
   ]
  },
  {
   "source": [
    "### Robust Mode"
   ],
   "cell_type": "markdown",
   "metadata": {}
  },
  {
   "cell_type": "code",
   "execution_count": null,
   "metadata": {},
   "outputs": [],
   "source": [
    "plt.figure(figsize=(5,5))\n",
    "plt.plot(epsilons_it, accuracies_robust_fgsm, \"*-\", c='blue', label='Std. FGSM')\n",
    "plt.plot(epsilons_it, accuracies_robust_proj, \"*-\", c='orange', label='PGD')\n",
    "\n",
    "plt.yticks(np.arange(0, 1.1, step=0.1))\n",
    "plt.xticks(epsilons_it)\n",
    "\n",
    "plt.title(\"Robust Model\")\n",
    "plt.xlabel(\"Epsilon Choices\")\n",
    "plt.ylabel(\"Accuracy\")\n",
    "plt.legend();"
   ]
  },
  {
   "source": [
    "## File output"
   ],
   "cell_type": "markdown",
   "metadata": {}
  },
  {
   "cell_type": "code",
   "execution_count": null,
   "metadata": {},
   "outputs": [],
   "source": [
    "print(\"********************************\")\n",
    "for entry in  accuracies_naive_fgsm:\n",
    "    print(entry)\n",
    "print(\"********************************\")\n",
    "for entry in  accuracies_naive_proj:\n",
    "    print(entry)\n",
    "print(\"********************************\")\n",
    "for entry in  accuracies_robust_fgsm:\n",
    "    print(entry)\n",
    "print(\"********************************\")\n",
    "for entry in  accuracies_robust_proj:\n",
    "    print(entry)"
   ]
  }
 ]
}