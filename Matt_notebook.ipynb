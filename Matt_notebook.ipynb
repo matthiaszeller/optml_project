{
 "metadata": {
  "language_info": {
   "codemirror_mode": {
    "name": "ipython",
    "version": 3
   },
   "file_extension": ".py",
   "mimetype": "text/x-python",
   "name": "python",
   "nbconvert_exporter": "python",
   "pygments_lexer": "ipython3",
   "version": "3.8.5"
  },
  "orig_nbformat": 2,
  "kernelspec": {
   "name": "python3",
   "display_name": "Python 3",
   "language": "python"
  }
 },
 "nbformat": 4,
 "nbformat_minor": 2,
 "cells": [
  {
   "source": [
    "# Mini-Batch GD and How Adverserial Examples affects its Performance"
   ],
   "cell_type": "markdown",
   "metadata": {}
  },
  {
   "source": [
    "### Overview of this Notebook: <br>\n",
    "#### 1. Import of Python libraries and the dataset<br>\n",
    "#### 2. Tuning of the Hyperparameters of the Mini-Batch Optimiser<br>\n",
    "#### 3. Training a Naive Model<br>\n",
    "#### 4. Evaluate the Attack against the Naive Model<br>\n",
    "#### 5. Training a Robust Model <br>\n",
    "#### 6. Evaluate the Attack against the Robust Model <br>\n",
    "#### 7. Comparision of the two performances <br>"
   ],
   "cell_type": "markdown",
   "metadata": {}
  },
  {
   "source": [
    "## Begin by importing the relevant libraries"
   ],
   "cell_type": "markdown",
   "metadata": {}
  },
  {
   "cell_type": "code",
   "execution_count": 9,
   "metadata": {},
   "outputs": [],
   "source": [
    "from adversary import attack, protect\n",
    "from net import Net\n",
    "import numpy as np\n",
    "from torch.optim import Optimizer\n",
    "import torch\n",
    "from training import training, testing, accuracy, tune_optimizer\n",
    "from minibatch import MiniBatchOptimizer\n",
    "import matplotlib.pyplot as plt\n",
    "from data_utils import get_mnist, build_data_loaders\n",
    "import json\n",
    "from pathlib import Path\n",
    "import random\n",
    "import pandas as pd\n"
   ]
  },
  {
   "source": [
    "## Get Data and Setup"
   ],
   "cell_type": "markdown",
   "metadata": {}
  },
  {
   "cell_type": "code",
   "execution_count": 2,
   "metadata": {},
   "outputs": [],
   "source": [
    "use_cuda = True\n",
    "device = torch.device('cuda' if use_cuda and torch.cuda.is_available() else 'cpu')\n",
    "train_dataset, test_dataset = get_mnist(normalize=True)"
   ]
  },
  {
   "cell_type": "code",
   "execution_count": 3,
   "metadata": {},
   "outputs": [],
   "source": [
    "epsilons = np.arange(0, 0.5, 0.05)\n",
    "criterion = torch.nn.CrossEntropyLoss()\n",
    "epochs = 10\n",
    "batch_size = 16"
   ]
  },
  {
   "source": [
    "## Hyperparameter Tuning"
   ],
   "cell_type": "markdown",
   "metadata": {}
  },
  {
   "source": [
    "### To test the tuning, just set hyperparamter_tune to True. Otherwise, there is a JSON file with previous results"
   ],
   "cell_type": "markdown",
   "metadata": {}
  },
  {
   "cell_type": "code",
   "execution_count": 4,
   "metadata": {},
   "outputs": [],
   "source": [
    "hyperparamter_tune = True"
   ]
  },
  {
   "source": [
    "This is the tuning setup. It initialises the Optimiser, a new Neural net and then generates a the True/False options for the flag for a Decreasing Learning rate."
   ],
   "cell_type": "markdown",
   "metadata": {}
  },
  {
   "cell_type": "code",
   "execution_count": 5,
   "metadata": {},
   "outputs": [],
   "source": [
    "net_tune = Net().to(device)\n",
    "mini_opt_tune = MiniBatchOptimizer(net_tune.parameters()) # Just using defaults\n",
    "dec_lr_set =  [0]*1 + [1]*1\n",
    "random.shuffle(dec_lr_set)\n",
    "fp = 'mini_tuning.json'\n",
    "if not hyperparamter_tune:\n",
    "    results = []"
   ]
  },
  {
   "source": [
    "If tuning is desired, then the following will use a custom function that takes only the training dataset, and uses it as the basic for new training/testing sets to prevent overfitting on the test data. The algorithm tries out every combination of elements in its search grid."
   ],
   "cell_type": "markdown",
   "metadata": {}
  },
  {
   "cell_type": "code",
   "execution_count": 6,
   "metadata": {},
   "outputs": [
    {
     "output_type": "stream",
     "name": "stdout",
     "text": [
      "{'lr': 1e-05, 'decreasing_lr': 0}\n",
      "Launching training on cuda\n",
      "epoch 0\tavg epoch loss = 2.296\tavg epoch acc = 0.181\n",
      "epoch 1\tavg epoch loss = 2.288\tavg epoch acc = 0.2155\n",
      "epoch 2\tavg epoch loss = 2.281\tavg epoch acc = 0.254\n",
      "epoch 3\tavg epoch loss = 2.274\tavg epoch acc = 0.2854\n",
      "epoch 4\tavg epoch loss = 2.267\tavg epoch acc = 0.309\n",
      "epoch 5\tavg epoch loss = 2.26\tavg epoch acc = 0.3286\n",
      "epoch 6\tavg epoch loss = 2.252\tavg epoch acc = 0.3446\n",
      "epoch 7\tavg epoch loss = 2.245\tavg epoch acc = 0.3596\n",
      "epoch 8\tavg epoch loss = 2.237\tavg epoch acc = 0.3741\n",
      "epoch 9\tavg epoch loss = 2.229\tavg epoch acc = 0.3881\n",
      "training took 55.55 s\n",
      "Avg test loss = 2.22\tAvg test acc = 0.402\n",
      "{'lr': 1e-05, 'decreasing_lr': 1}\n",
      "Launching training on cuda\n",
      "epoch 0\tavg epoch loss = 2.299\tavg epoch acc = 0.1648\n",
      "epoch 1\tavg epoch loss = 2.299\tavg epoch acc = 0.1648\n",
      "epoch 2\tavg epoch loss = 2.299\tavg epoch acc = 0.1648\n",
      "epoch 3\tavg epoch loss = 2.299\tavg epoch acc = 0.1648\n",
      "epoch 4\tavg epoch loss = 2.299\tavg epoch acc = 0.1648\n",
      "epoch 5\tavg epoch loss = 2.299\tavg epoch acc = 0.1648\n",
      "epoch 6\tavg epoch loss = 2.299\tavg epoch acc = 0.1648\n",
      "epoch 7\tavg epoch loss = 2.299\tavg epoch acc = 0.1648\n",
      "epoch 8\tavg epoch loss = 2.299\tavg epoch acc = 0.1648\n",
      "epoch 9\tavg epoch loss = 2.299\tavg epoch acc = 0.1648\n",
      "training took 54.71 s\n",
      "Avg test loss = 2.3\tAvg test acc = 0.162\n"
     ]
    }
   ],
   "source": [
    "if hyperparamter_tune:\n",
    "    results = tune_optimizer(\n",
    "    net_tune,\n",
    "    train_dataset.data,\n",
    "    train_dataset.targets,\n",
    "    criterion,\n",
    "    accuracy,\n",
    "    device,\n",
    "    MiniBatchOptimizer,\n",
    "    epochs=10,\n",
    "    search_grid={\n",
    "        'lr': np.linspace(0.00001, 0.01, 1),\n",
    "        'decreasing_lr': dec_lr_set,\n",
    "    }, \n",
    "    batch_size=16\n",
    ")"
   ]
  },
  {
   "source": [
    "We then append any new results into the json file for the specific Optimiser so that we do not need to retread previous configurations."
   ],
   "cell_type": "markdown",
   "metadata": {}
  },
  {
   "cell_type": "code",
   "execution_count": 10,
   "metadata": {},
   "outputs": [],
   "source": [
    "if Path(fp).exists():\n",
    "    with open(fp, 'r') as f:\n",
    "        old_results = json.load(f)\n",
    "\n",
    "    results = old_results + results\n",
    "\n",
    "with open(fp, 'w') as f:\n",
    "    json.dump(results, f, indent=2)\n",
    "\n",
    "# Select Best Hyperparamters\n",
    "with open(fp, 'r') as f:\n",
    "        old_results = json.load(f)"
   ]
  },
  {
   "source": [
    "### Here we read out the best configuration, as determined by the Test Accuracy"
   ],
   "cell_type": "markdown",
   "metadata": {}
  },
  {
   "cell_type": "code",
   "execution_count": 11,
   "metadata": {},
   "outputs": [
    {
     "output_type": "stream",
     "name": "stdout",
     "text": [
      "Best Accuracy was 99.175% with Learning Rate 0.050005 and Decreasing LR: 0\n"
     ]
    }
   ],
   "source": [
    "df_analysis = pd.DataFrame(results)\n",
    "best_acc = 0.0\n",
    "for index, row in df_analysis.iterrows():    \n",
    "        trial_acc = row[\"metric_test\"]\n",
    "        if trial_acc > best_acc:\n",
    "            best_acc = trial_acc\n",
    "            learning_rate = round(row[\"lr\"], 6)\n",
    "            decreasing_lr = row[\"decreasing_lr\"]\n",
    "\n",
    "print(\"Best Accuracy was {}% with Learning Rate {} and Decreasing LR: {}\".format(100*best_acc, learning_rate, decreasing_lr))\n"
   ]
  },
  {
   "source": [
    "## Train the Naive Model"
   ],
   "cell_type": "markdown",
   "metadata": {}
  },
  {
   "source": [
    "### Create Data Loaders with the set Batch Size and the Model\n",
    "#### The layer setup is in the net.py file"
   ],
   "cell_type": "markdown",
   "metadata": {}
  },
  {
   "cell_type": "code",
   "execution_count": 12,
   "metadata": {},
   "outputs": [],
   "source": [
    "net_naive = Net().to(device)\n",
    "train_loader, test_loader = build_data_loaders(train_dataset, test_dataset, batch_size)"
   ]
  },
  {
   "source": [
    "### Train and Test"
   ],
   "cell_type": "markdown",
   "metadata": {}
  },
  {
   "cell_type": "code",
   "execution_count": 13,
   "metadata": {},
   "outputs": [
    {
     "output_type": "stream",
     "name": "stdout",
     "text": [
      "Launching training on cuda\n",
      "batch 100\tloss = 0.6558\tacc = 0.8125\n",
      "batch 200\tloss = 0.12\tacc = 1.0\n",
      "batch 300\tloss = 0.4539\tacc = 0.9375\n",
      "batch 400\tloss = 0.03814\tacc = 1.0\n",
      "batch 500\tloss = 0.3917\tacc = 0.875\n",
      "batch 600\tloss = 0.2347\tacc = 0.9375\n",
      "batch 700\tloss = 0.1437\tacc = 0.9375\n",
      "batch 800\tloss = 0.1658\tacc = 0.9375\n",
      "batch 900\tloss = 0.09529\tacc = 0.9375\n",
      "batch 1000\tloss = 0.08687\tacc = 1.0\n",
      "batch 1100\tloss = 0.2221\tacc = 0.9375\n",
      "batch 1200\tloss = 0.057\tacc = 1.0\n",
      "batch 1300\tloss = 0.04105\tacc = 1.0\n",
      "batch 1400\tloss = 0.002612\tacc = 1.0\n",
      "batch 1500\tloss = 0.009377\tacc = 1.0\n",
      "batch 1600\tloss = 0.1242\tacc = 0.9375\n",
      "batch 1700\tloss = 0.2054\tacc = 0.875\n",
      "batch 1800\tloss = 0.122\tacc = 0.9375\n",
      "batch 1900\tloss = 0.001416\tacc = 1.0\n",
      "batch 2000\tloss = 0.2128\tacc = 0.9375\n",
      "batch 2100\tloss = 0.008937\tacc = 1.0\n",
      "batch 2200\tloss = 0.01003\tacc = 1.0\n",
      "batch 2300\tloss = 0.0003592\tacc = 1.0\n",
      "batch 2400\tloss = 0.1446\tacc = 0.9375\n",
      "batch 2500\tloss = 0.1202\tacc = 0.9375\n",
      "batch 2600\tloss = 0.008033\tacc = 1.0\n",
      "batch 2700\tloss = 0.01878\tacc = 1.0\n",
      "batch 2800\tloss = 0.02307\tacc = 1.0\n",
      "batch 2900\tloss = 0.008774\tacc = 1.0\n",
      "batch 3000\tloss = 0.01785\tacc = 1.0\n",
      "batch 3100\tloss = 0.01762\tacc = 1.0\n",
      "batch 3200\tloss = 0.004376\tacc = 1.0\n",
      "batch 3300\tloss = 0.002431\tacc = 1.0\n",
      "batch 3400\tloss = 0.01024\tacc = 1.0\n",
      "batch 3500\tloss = 0.0005336\tacc = 1.0\n",
      "batch 3600\tloss = 0.002542\tacc = 1.0\n",
      "batch 3700\tloss = 0.0001719\tacc = 1.0\n",
      "epoch 0\tavg epoch loss = 0.1237\tavg epoch acc = 0.962\n",
      "batch 100\tloss = 0.06811\tacc = 0.9375\n",
      "batch 200\tloss = 0.009749\tacc = 1.0\n",
      "batch 300\tloss = 0.0002798\tacc = 1.0\n",
      "batch 400\tloss = 0.01285\tacc = 1.0\n",
      "batch 500\tloss = 0.1966\tacc = 0.9375\n",
      "batch 600\tloss = 0.04075\tacc = 1.0\n",
      "batch 700\tloss = 0.08154\tacc = 0.9375\n",
      "batch 800\tloss = 0.03405\tacc = 1.0\n",
      "batch 900\tloss = 0.04482\tacc = 1.0\n",
      "batch 1000\tloss = 0.004095\tacc = 1.0\n",
      "batch 1100\tloss = 0.005535\tacc = 1.0\n",
      "batch 1200\tloss = 0.02297\tacc = 1.0\n",
      "batch 1300\tloss = 0.00577\tacc = 1.0\n",
      "batch 1400\tloss = 0.0005103\tacc = 1.0\n",
      "batch 1500\tloss = 0.0003753\tacc = 1.0\n",
      "batch 1600\tloss = 0.004346\tacc = 1.0\n",
      "batch 1700\tloss = 0.04696\tacc = 0.9375\n",
      "batch 1800\tloss = 0.04419\tacc = 1.0\n",
      "batch 1900\tloss = 0.0001371\tacc = 1.0\n",
      "batch 2000\tloss = 0.00422\tacc = 1.0\n",
      "batch 2100\tloss = 0.000641\tacc = 1.0\n",
      "batch 2200\tloss = 0.006819\tacc = 1.0\n",
      "batch 2300\tloss = 0.0002409\tacc = 1.0\n",
      "batch 2400\tloss = 0.05403\tacc = 1.0\n",
      "batch 2500\tloss = 0.2047\tacc = 0.9375\n",
      "batch 2600\tloss = 0.001822\tacc = 1.0\n",
      "batch 2700\tloss = 0.009832\tacc = 1.0\n",
      "batch 2800\tloss = 0.002573\tacc = 1.0\n",
      "batch 2900\tloss = 0.00161\tacc = 1.0\n",
      "batch 3000\tloss = 0.02057\tacc = 1.0\n",
      "batch 3100\tloss = 0.01068\tacc = 1.0\n",
      "batch 3200\tloss = 0.0007945\tacc = 1.0\n",
      "batch 3300\tloss = 0.003399\tacc = 1.0\n",
      "batch 3400\tloss = 0.003111\tacc = 1.0\n",
      "batch 3500\tloss = 7.276e-05\tacc = 1.0\n",
      "batch 3600\tloss = 0.003733\tacc = 1.0\n",
      "batch 3700\tloss = 5.825e-05\tacc = 1.0\n",
      "epoch 1\tavg epoch loss = 0.03792\tavg epoch acc = 0.9888\n",
      "batch 100\tloss = 0.01271\tacc = 1.0\n",
      "batch 200\tloss = 0.006078\tacc = 1.0\n",
      "batch 300\tloss = 0.0005376\tacc = 1.0\n",
      "batch 400\tloss = 0.01404\tacc = 1.0\n",
      "batch 500\tloss = 0.07722\tacc = 0.9375\n",
      "batch 600\tloss = 0.006369\tacc = 1.0\n",
      "batch 700\tloss = 0.001431\tacc = 1.0\n",
      "batch 800\tloss = 0.002048\tacc = 1.0\n",
      "batch 900\tloss = 0.01709\tacc = 1.0\n",
      "batch 1000\tloss = 0.01091\tacc = 1.0\n",
      "batch 1100\tloss = 0.005156\tacc = 1.0\n",
      "batch 1200\tloss = 0.001389\tacc = 1.0\n",
      "batch 1300\tloss = 0.00158\tacc = 1.0\n",
      "batch 1400\tloss = 0.0003395\tacc = 1.0\n",
      "batch 1500\tloss = 0.0002209\tacc = 1.0\n",
      "batch 1600\tloss = 0.001615\tacc = 1.0\n",
      "batch 1700\tloss = 0.006958\tacc = 1.0\n",
      "batch 1800\tloss = 0.0449\tacc = 0.9375\n",
      "batch 1900\tloss = 0.008907\tacc = 1.0\n",
      "batch 2000\tloss = 0.0176\tacc = 1.0\n",
      "batch 2100\tloss = 0.0001645\tacc = 1.0\n",
      "batch 2200\tloss = 0.002482\tacc = 1.0\n",
      "batch 2300\tloss = 7.425e-05\tacc = 1.0\n",
      "batch 2400\tloss = 0.03143\tacc = 1.0\n",
      "batch 2500\tloss = 0.1352\tacc = 0.9375\n",
      "batch 2600\tloss = 0.00157\tacc = 1.0\n",
      "batch 2700\tloss = 0.005776\tacc = 1.0\n",
      "batch 2800\tloss = 0.0008134\tacc = 1.0\n",
      "batch 2900\tloss = 0.007357\tacc = 1.0\n",
      "batch 3000\tloss = 0.01353\tacc = 1.0\n",
      "batch 3100\tloss = 0.0009943\tacc = 1.0\n",
      "batch 3200\tloss = 0.0007503\tacc = 1.0\n",
      "batch 3300\tloss = 0.0002917\tacc = 1.0\n",
      "batch 3400\tloss = 0.006202\tacc = 1.0\n",
      "batch 3500\tloss = 0.0001968\tacc = 1.0\n",
      "batch 3600\tloss = 0.0008696\tacc = 1.0\n",
      "batch 3700\tloss = 1.896e-05\tacc = 1.0\n",
      "epoch 2\tavg epoch loss = 0.02434\tavg epoch acc = 0.9927\n",
      "batch 100\tloss = 0.00571\tacc = 1.0\n",
      "batch 200\tloss = 0.001002\tacc = 1.0\n",
      "batch 300\tloss = 0.001152\tacc = 1.0\n",
      "batch 400\tloss = 0.0003926\tacc = 1.0\n",
      "batch 500\tloss = 0.02269\tacc = 1.0\n",
      "batch 600\tloss = 0.002962\tacc = 1.0\n",
      "batch 700\tloss = 0.001136\tacc = 1.0\n",
      "batch 800\tloss = 0.0008698\tacc = 1.0\n",
      "batch 900\tloss = 0.02067\tacc = 1.0\n",
      "batch 1000\tloss = 0.02836\tacc = 1.0\n",
      "batch 1100\tloss = 0.005096\tacc = 1.0\n",
      "batch 1200\tloss = 0.0001014\tacc = 1.0\n",
      "batch 1300\tloss = 0.002348\tacc = 1.0\n",
      "batch 1400\tloss = 0.0001619\tacc = 1.0\n",
      "batch 1500\tloss = 5.862e-05\tacc = 1.0\n",
      "batch 1600\tloss = 0.001239\tacc = 1.0\n",
      "batch 1700\tloss = 0.0002012\tacc = 1.0\n",
      "batch 1800\tloss = 0.04077\tacc = 1.0\n",
      "batch 1900\tloss = 5.984e-05\tacc = 1.0\n",
      "batch 2000\tloss = 0.00302\tacc = 1.0\n",
      "batch 2100\tloss = 0.0001263\tacc = 1.0\n",
      "batch 2200\tloss = 0.001852\tacc = 1.0\n",
      "batch 2300\tloss = 0.000133\tacc = 1.0\n",
      "batch 2400\tloss = 0.03357\tacc = 1.0\n",
      "batch 2500\tloss = 0.01464\tacc = 1.0\n",
      "batch 2600\tloss = 0.003284\tacc = 1.0\n",
      "batch 2700\tloss = 0.004063\tacc = 1.0\n",
      "batch 2800\tloss = 0.0003948\tacc = 1.0\n",
      "batch 2900\tloss = 0.02048\tacc = 1.0\n",
      "batch 3000\tloss = 0.009642\tacc = 1.0\n",
      "batch 3100\tloss = 0.000606\tacc = 1.0\n",
      "batch 3200\tloss = 0.001544\tacc = 1.0\n",
      "batch 3300\tloss = 0.0001938\tacc = 1.0\n",
      "batch 3400\tloss = 0.0001801\tacc = 1.0\n",
      "batch 3500\tloss = 1.863e-05\tacc = 1.0\n",
      "batch 3600\tloss = 0.0001818\tacc = 1.0\n",
      "batch 3700\tloss = 4.858e-06\tacc = 1.0\n",
      "epoch 3\tavg epoch loss = 0.01543\tavg epoch acc = 0.9957\n",
      "batch 100\tloss = 0.001511\tacc = 1.0\n",
      "batch 200\tloss = 0.0002219\tacc = 1.0\n",
      "batch 300\tloss = 0.0005187\tacc = 1.0\n",
      "batch 400\tloss = 0.001391\tacc = 1.0\n",
      "batch 500\tloss = 0.01794\tacc = 1.0\n",
      "batch 600\tloss = 0.001276\tacc = 1.0\n",
      "batch 700\tloss = 0.003207\tacc = 1.0\n",
      "batch 800\tloss = 0.002072\tacc = 1.0\n",
      "batch 900\tloss = 0.002139\tacc = 1.0\n",
      "batch 1000\tloss = 0.023\tacc = 1.0\n",
      "batch 1100\tloss = 0.008035\tacc = 1.0\n",
      "batch 1200\tloss = 0.0002814\tacc = 1.0\n",
      "batch 1300\tloss = 0.00125\tacc = 1.0\n",
      "batch 1400\tloss = 0.0004477\tacc = 1.0\n",
      "batch 1500\tloss = 1.929e-05\tacc = 1.0\n",
      "batch 1600\tloss = 0.001109\tacc = 1.0\n",
      "batch 1700\tloss = 0.002346\tacc = 1.0\n",
      "batch 1800\tloss = 0.01816\tacc = 1.0\n",
      "batch 1900\tloss = 0.000779\tacc = 1.0\n",
      "batch 2000\tloss = 0.0009535\tacc = 1.0\n",
      "batch 2100\tloss = 5.786e-05\tacc = 1.0\n",
      "batch 2200\tloss = 0.001026\tacc = 1.0\n",
      "batch 2300\tloss = 5.158e-05\tacc = 1.0\n",
      "batch 2400\tloss = 0.04967\tacc = 1.0\n",
      "batch 2500\tloss = 0.00532\tacc = 1.0\n",
      "batch 2600\tloss = 0.0004487\tacc = 1.0\n",
      "batch 2700\tloss = 0.001484\tacc = 1.0\n",
      "batch 2800\tloss = 0.0001251\tacc = 1.0\n",
      "batch 2900\tloss = 0.07443\tacc = 0.9375\n",
      "batch 3000\tloss = 0.005703\tacc = 1.0\n",
      "batch 3100\tloss = 0.0001108\tacc = 1.0\n",
      "batch 3200\tloss = 0.0006174\tacc = 1.0\n",
      "batch 3300\tloss = 3.918e-05\tacc = 1.0\n",
      "batch 3400\tloss = 0.0004907\tacc = 1.0\n",
      "batch 3500\tloss = 9.492e-06\tacc = 1.0\n",
      "batch 3600\tloss = 0.0002541\tacc = 1.0\n",
      "batch 3700\tloss = 9.686e-07\tacc = 1.0\n",
      "epoch 4\tavg epoch loss = 0.01075\tavg epoch acc = 0.9969\n",
      "batch 100\tloss = 0.00119\tacc = 1.0\n",
      "batch 200\tloss = 0.0006659\tacc = 1.0\n",
      "batch 300\tloss = 0.0323\tacc = 1.0\n",
      "batch 400\tloss = 0.001402\tacc = 1.0\n",
      "batch 500\tloss = 0.01228\tacc = 1.0\n",
      "batch 600\tloss = 0.0003103\tacc = 1.0\n",
      "batch 700\tloss = 0.004175\tacc = 1.0\n",
      "batch 800\tloss = 0.0004749\tacc = 1.0\n",
      "batch 900\tloss = 0.0008576\tacc = 1.0\n",
      "batch 1000\tloss = 0.01273\tacc = 1.0\n",
      "batch 1100\tloss = 0.007891\tacc = 1.0\n",
      "batch 1200\tloss = 6.851e-05\tacc = 1.0\n",
      "batch 1300\tloss = 0.001144\tacc = 1.0\n",
      "batch 1400\tloss = 3.995e-05\tacc = 1.0\n",
      "batch 1500\tloss = 3.025e-05\tacc = 1.0\n",
      "batch 1600\tloss = 0.001427\tacc = 1.0\n",
      "batch 1700\tloss = 3.782e-05\tacc = 1.0\n",
      "batch 1800\tloss = 5.572e-05\tacc = 1.0\n",
      "batch 1900\tloss = 0.005415\tacc = 1.0\n",
      "batch 2000\tloss = 0.00051\tacc = 1.0\n",
      "batch 2100\tloss = 0.0001087\tacc = 1.0\n",
      "batch 2200\tloss = 0.0009581\tacc = 1.0\n",
      "batch 2300\tloss = 3.056e-05\tacc = 1.0\n",
      "batch 2400\tloss = 0.001037\tacc = 1.0\n",
      "batch 2500\tloss = 0.01406\tacc = 1.0\n",
      "batch 2600\tloss = 0.0002559\tacc = 1.0\n",
      "batch 2700\tloss = 0.00251\tacc = 1.0\n",
      "batch 2800\tloss = 0.000175\tacc = 1.0\n",
      "batch 2900\tloss = 0.0003687\tacc = 1.0\n",
      "batch 3000\tloss = 0.007094\tacc = 1.0\n",
      "batch 3100\tloss = 0.0001792\tacc = 1.0\n",
      "batch 3200\tloss = 0.002708\tacc = 1.0\n",
      "batch 3300\tloss = 2.474e-06\tacc = 1.0\n",
      "batch 3400\tloss = 0.0003654\tacc = 1.0\n",
      "batch 3500\tloss = 6.631e-07\tacc = 1.0\n",
      "batch 3600\tloss = 0.0002761\tacc = 1.0\n",
      "batch 3700\tloss = 1.49e-07\tacc = 1.0\n",
      "epoch 5\tavg epoch loss = 0.007975\tavg epoch acc = 0.9974\n",
      "batch 100\tloss = 0.0004096\tacc = 1.0\n",
      "batch 200\tloss = 0.001337\tacc = 1.0\n",
      "batch 300\tloss = 2.179e-05\tacc = 1.0\n",
      "batch 400\tloss = 2.044e-05\tacc = 1.0\n",
      "batch 500\tloss = 0.0003731\tacc = 1.0\n",
      "batch 600\tloss = 2.964e-05\tacc = 1.0\n",
      "batch 700\tloss = 0.0003823\tacc = 1.0\n",
      "batch 800\tloss = 0.0004777\tacc = 1.0\n",
      "batch 900\tloss = 0.004295\tacc = 1.0\n",
      "batch 1000\tloss = 0.004188\tacc = 1.0\n",
      "batch 1100\tloss = 0.0005831\tacc = 1.0\n",
      "batch 1200\tloss = 0.0004443\tacc = 1.0\n",
      "batch 1300\tloss = 0.003633\tacc = 1.0\n",
      "batch 1400\tloss = 5.857e-05\tacc = 1.0\n",
      "batch 1500\tloss = 2.411e-05\tacc = 1.0\n",
      "batch 1600\tloss = 0.0002071\tacc = 1.0\n",
      "batch 1700\tloss = 0.01628\tacc = 1.0\n",
      "batch 1800\tloss = 0.0003945\tacc = 1.0\n",
      "batch 1900\tloss = 8.546e-05\tacc = 1.0\n",
      "batch 2000\tloss = 0.000343\tacc = 1.0\n",
      "batch 2100\tloss = 3.055e-05\tacc = 1.0\n",
      "batch 2200\tloss = 0.0002089\tacc = 1.0\n",
      "batch 2300\tloss = 3.703e-06\tacc = 1.0\n",
      "batch 2400\tloss = 0.04053\tacc = 1.0\n",
      "batch 2500\tloss = 0.004138\tacc = 1.0\n",
      "batch 2600\tloss = 0.0005423\tacc = 1.0\n",
      "batch 2700\tloss = 0.01235\tacc = 1.0\n",
      "batch 2800\tloss = 3.847e-05\tacc = 1.0\n",
      "batch 2900\tloss = 0.0001066\tacc = 1.0\n",
      "batch 3000\tloss = 0.0007084\tacc = 1.0\n",
      "batch 3100\tloss = 1.885e-05\tacc = 1.0\n",
      "batch 3200\tloss = 0.001804\tacc = 1.0\n",
      "batch 3300\tloss = 1.486e-05\tacc = 1.0\n",
      "batch 3400\tloss = 4.113e-05\tacc = 1.0\n",
      "batch 3500\tloss = 0.0001076\tacc = 1.0\n",
      "batch 3600\tloss = 0.0005048\tacc = 1.0\n",
      "batch 3700\tloss = 5.96e-08\tacc = 1.0\n",
      "epoch 6\tavg epoch loss = 0.009345\tavg epoch acc = 0.9968\n",
      "batch 100\tloss = 0.001611\tacc = 1.0\n",
      "batch 200\tloss = 0.0003097\tacc = 1.0\n",
      "batch 300\tloss = 2.809e-06\tacc = 1.0\n",
      "batch 400\tloss = 0.0001315\tacc = 1.0\n",
      "batch 500\tloss = 0.0003406\tacc = 1.0\n",
      "batch 600\tloss = 9.991e-06\tacc = 1.0\n",
      "batch 700\tloss = 0.0006593\tacc = 1.0\n",
      "batch 800\tloss = 0.006265\tacc = 1.0\n",
      "batch 900\tloss = 0.001545\tacc = 1.0\n",
      "batch 1000\tloss = 0.02679\tacc = 1.0\n",
      "batch 1100\tloss = 0.001149\tacc = 1.0\n",
      "batch 1200\tloss = 4.508e-06\tacc = 1.0\n",
      "batch 1300\tloss = 0.001161\tacc = 1.0\n",
      "batch 1400\tloss = 4.113e-06\tacc = 1.0\n",
      "batch 1500\tloss = 3.584e-06\tacc = 1.0\n",
      "batch 1600\tloss = 0.0001252\tacc = 1.0\n",
      "batch 1700\tloss = 2.612e-05\tacc = 1.0\n",
      "batch 1800\tloss = 0.03158\tacc = 1.0\n",
      "batch 1900\tloss = 0.0001847\tacc = 1.0\n",
      "batch 2000\tloss = 2.072e-05\tacc = 1.0\n",
      "batch 2100\tloss = 1.967e-06\tacc = 1.0\n",
      "batch 2200\tloss = 4.31e-05\tacc = 1.0\n",
      "batch 2300\tloss = 2.517e-05\tacc = 1.0\n",
      "batch 2400\tloss = 0.04085\tacc = 1.0\n",
      "batch 2500\tloss = 0.03012\tacc = 1.0\n",
      "batch 2600\tloss = 0.0005772\tacc = 1.0\n",
      "batch 2700\tloss = 0.003225\tacc = 1.0\n",
      "batch 2800\tloss = 0.000888\tacc = 1.0\n",
      "batch 2900\tloss = 0.001157\tacc = 1.0\n",
      "batch 3000\tloss = 0.0006072\tacc = 1.0\n",
      "batch 3100\tloss = 1.24e-05\tacc = 1.0\n",
      "batch 3200\tloss = 0.001352\tacc = 1.0\n",
      "batch 3300\tloss = 0.0009551\tacc = 1.0\n",
      "batch 3400\tloss = 0.0001854\tacc = 1.0\n",
      "batch 3500\tloss = 1.384e-05\tacc = 1.0\n",
      "batch 3600\tloss = 2.927e-05\tacc = 1.0\n",
      "batch 3700\tloss = 2.608e-07\tacc = 1.0\n",
      "epoch 7\tavg epoch loss = 0.009117\tavg epoch acc = 0.9971\n",
      "batch 100\tloss = 0.0001466\tacc = 1.0\n",
      "batch 200\tloss = 0.003567\tacc = 1.0\n",
      "batch 300\tloss = 2.333e-05\tacc = 1.0\n",
      "batch 400\tloss = 3.603e-05\tacc = 1.0\n",
      "batch 500\tloss = 9.52e-05\tacc = 1.0\n",
      "batch 600\tloss = 9.62e-05\tacc = 1.0\n",
      "batch 700\tloss = 0.0001191\tacc = 1.0\n",
      "batch 800\tloss = 9.737e-05\tacc = 1.0\n",
      "batch 900\tloss = 0.002206\tacc = 1.0\n",
      "batch 1000\tloss = 0.001081\tacc = 1.0\n",
      "batch 1100\tloss = 0.005882\tacc = 1.0\n",
      "batch 1200\tloss = 1.144e-05\tacc = 1.0\n",
      "batch 1300\tloss = 0.04829\tacc = 0.9375\n",
      "batch 1400\tloss = 2.831e-07\tacc = 1.0\n",
      "batch 1500\tloss = 1.773e-06\tacc = 1.0\n",
      "batch 1600\tloss = 0.05139\tacc = 0.9375\n",
      "batch 1700\tloss = 1.199e-05\tacc = 1.0\n",
      "batch 1800\tloss = 0.03134\tacc = 1.0\n",
      "batch 1900\tloss = 9.377e-05\tacc = 1.0\n",
      "batch 2000\tloss = 2.115e-05\tacc = 1.0\n",
      "batch 2100\tloss = 1.276e-05\tacc = 1.0\n",
      "batch 2200\tloss = 1.36e-05\tacc = 1.0\n",
      "batch 2300\tloss = 4.545e-07\tacc = 1.0\n",
      "batch 2400\tloss = 0.00864\tacc = 1.0\n",
      "batch 2500\tloss = 0.0006948\tacc = 1.0\n",
      "batch 2600\tloss = 2.972e-05\tacc = 1.0\n",
      "batch 2700\tloss = 0.03659\tacc = 1.0\n",
      "batch 2800\tloss = 2.288e-05\tacc = 1.0\n",
      "batch 2900\tloss = 7.126e-05\tacc = 1.0\n",
      "batch 3000\tloss = 0.0001767\tacc = 1.0\n",
      "batch 3100\tloss = 8.612e-06\tacc = 1.0\n",
      "batch 3200\tloss = 0.0005977\tacc = 1.0\n",
      "batch 3300\tloss = 8.754e-06\tacc = 1.0\n",
      "batch 3400\tloss = 8.285e-05\tacc = 1.0\n",
      "batch 3500\tloss = 5.96e-08\tacc = 1.0\n",
      "batch 3600\tloss = 0.0003361\tacc = 1.0\n",
      "batch 3700\tloss = 1.49e-08\tacc = 1.0\n",
      "epoch 8\tavg epoch loss = 0.005843\tavg epoch acc = 0.9979\n",
      "batch 100\tloss = 4.542e-05\tacc = 1.0\n",
      "batch 200\tloss = 2.014e-05\tacc = 1.0\n",
      "batch 300\tloss = 3.032e-06\tacc = 1.0\n",
      "batch 400\tloss = 2.255e-05\tacc = 1.0\n",
      "batch 500\tloss = 4.069e-05\tacc = 1.0\n",
      "batch 600\tloss = 6.238e-05\tacc = 1.0\n",
      "batch 700\tloss = 0.0002667\tacc = 1.0\n",
      "batch 800\tloss = 0.0002803\tacc = 1.0\n",
      "batch 900\tloss = 0.0061\tacc = 1.0\n",
      "batch 1000\tloss = 0.005305\tacc = 1.0\n",
      "batch 1100\tloss = 3.463e-05\tacc = 1.0\n",
      "batch 1200\tloss = 7.726e-06\tacc = 1.0\n",
      "batch 1300\tloss = 5.439e-07\tacc = 1.0\n",
      "batch 1400\tloss = 3.576e-07\tacc = 1.0\n",
      "batch 1500\tloss = 2.183e-06\tacc = 1.0\n",
      "batch 1600\tloss = 7.014e-05\tacc = 1.0\n",
      "batch 1700\tloss = 1.572e-06\tacc = 1.0\n",
      "batch 1800\tloss = 5.826e-06\tacc = 1.0\n",
      "batch 1900\tloss = 0.2788\tacc = 0.9375\n",
      "batch 2000\tloss = 8.873e-06\tacc = 1.0\n",
      "batch 2100\tloss = 1.17e-06\tacc = 1.0\n",
      "batch 2200\tloss = 1.26e-05\tacc = 1.0\n",
      "batch 2300\tloss = 7.927e-06\tacc = 1.0\n",
      "batch 2400\tloss = 0.003296\tacc = 1.0\n",
      "batch 2500\tloss = 0.0003697\tacc = 1.0\n",
      "batch 2600\tloss = 9.222e-05\tacc = 1.0\n",
      "batch 2700\tloss = 0.002399\tacc = 1.0\n",
      "batch 2800\tloss = 7.004e-07\tacc = 1.0\n",
      "batch 2900\tloss = 1.169e-05\tacc = 1.0\n",
      "batch 3000\tloss = 0.0003818\tacc = 1.0\n",
      "batch 3100\tloss = 0.001781\tacc = 1.0\n",
      "batch 3200\tloss = 0.007931\tacc = 1.0\n",
      "batch 3300\tloss = 1.363e-06\tacc = 1.0\n",
      "batch 3400\tloss = 1.506e-05\tacc = 1.0\n",
      "batch 3500\tloss = 3.725e-08\tacc = 1.0\n",
      "batch 3600\tloss = 1.225e-05\tacc = 1.0\n",
      "batch 3700\tloss = 7.451e-09\tacc = 1.0\n",
      "epoch 9\tavg epoch loss = 0.00403\tavg epoch acc = 0.9986\n",
      "training took 69.14 s\n",
      "Avg test loss = 0.0386\tAvg test acc = 0.99\n"
     ]
    }
   ],
   "source": [
    "mini_opt_naive = MiniBatchOptimizer(net_naive.parameters(), lr=learning_rate, decreasing_lr=decreasing_lr)\n",
    "loss_train, acc_train = training(net_naive, train_loader, mini_opt_naive, criterion, accuracy, epochs=epochs, device=device)\n",
    "loss_test, acc_test = testing(net_naive, test_loader, criterion, accuracy, device=device)"
   ]
  },
  {
   "source": [
    "## Attack Naive Model"
   ],
   "cell_type": "markdown",
   "metadata": {}
  },
  {
   "cell_type": "code",
   "execution_count": 14,
   "metadata": {},
   "outputs": [
    {
     "output_type": "stream",
     "name": "stdout",
     "text": [
      "Epsilon: 0.00\tTest Accuracy = 0.974\n",
      "Epsilon: 0.05\tTest Accuracy = 0.970\n",
      "Epsilon: 0.10\tTest Accuracy = 0.965\n",
      "Epsilon: 0.15\tTest Accuracy = 0.959\n",
      "Epsilon: 0.20\tTest Accuracy = 0.946\n",
      "Epsilon: 0.25\tTest Accuracy = 0.931\n",
      "Epsilon: 0.30\tTest Accuracy = 0.907\n",
      "Epsilon: 0.35\tTest Accuracy = 0.876\n",
      "Epsilon: 0.40\tTest Accuracy = 0.831\n",
      "Epsilon: 0.45\tTest Accuracy = 0.764\n"
     ]
    }
   ],
   "source": [
    "accuracy_naive= []\n",
    "losses_naive= []\n",
    "\n",
    "for eps in epsilons:\n",
    "    loss_attack, acc_attack  = attack(net_naive, criterion, test_loader, epsilon=eps, device=device)\n",
    "    accuracy_naive.append(acc_attack)\n",
    "    losses_naive.append(loss_attack)"
   ]
  },
  {
   "source": [
    "## Train the Robust Model"
   ],
   "cell_type": "markdown",
   "metadata": {}
  },
  {
   "cell_type": "code",
   "execution_count": 15,
   "metadata": {},
   "outputs": [],
   "source": [
    "robust_net = Net().to(device)\n",
    "protect_epochs = epochs\n",
    "protect_lr = learning_rate\n",
    "protect_bz = batch_size\n",
    "protect_dec_lr = decreasing_lr\n",
    "prot_train_loader, prot_test_loader = build_data_loaders(train_dataset, test_dataset, protect_bz)\n",
    "mini_opt_proc = MiniBatchOptimizer(robust_net.parameters(), lr=protect_lr, decreasing_lr=protect_dec_lr)"
   ]
  },
  {
   "source": [
    "### Call the protect function to make the model robust"
   ],
   "cell_type": "markdown",
   "metadata": {}
  },
  {
   "cell_type": "code",
   "execution_count": 16,
   "metadata": {},
   "outputs": [
    {
     "output_type": "stream",
     "name": "stdout",
     "text": [
      "Epoch 0.00 | Test accuracy: 0.97830\n",
      "Epoch 1.00 | Test accuracy: 0.98570\n",
      "Epoch 2.00 | Test accuracy: 0.98560\n",
      "Epoch 3.00 | Test accuracy: 0.98620\n",
      "Epoch 4.00 | Test accuracy: 0.98510\n",
      "Epoch 5.00 | Test accuracy: 0.98390\n",
      "Epoch 6.00 | Test accuracy: 0.98520\n",
      "Epoch 7.00 | Test accuracy: 0.98490\n",
      "Epoch 8.00 | Test accuracy: 0.98620\n",
      "Epoch 9.00 | Test accuracy: 0.98570\n",
      "training took 123.5 s\n"
     ]
    }
   ],
   "source": [
    "robust_net = protect(robust_net, mini_opt_proc, criterion, prot_train_loader, prot_test_loader, device=device, epochs=protect_epochs)"
   ]
  },
  {
   "source": [
    "## Attack the Robust Model"
   ],
   "cell_type": "markdown",
   "metadata": {}
  },
  {
   "cell_type": "code",
   "execution_count": 17,
   "metadata": {},
   "outputs": [
    {
     "output_type": "stream",
     "name": "stdout",
     "text": [
      "Epsilon: 0.00\tTest Accuracy = 0.998\n",
      "Epsilon: 0.05\tTest Accuracy = 0.997\n",
      "Epsilon: 0.10\tTest Accuracy = 0.996\n",
      "Epsilon: 0.15\tTest Accuracy = 0.995\n",
      "Epsilon: 0.20\tTest Accuracy = 0.992\n",
      "Epsilon: 0.25\tTest Accuracy = 0.988\n",
      "Epsilon: 0.30\tTest Accuracy = 0.980\n",
      "Epsilon: 0.35\tTest Accuracy = 0.967\n",
      "Epsilon: 0.40\tTest Accuracy = 0.950\n",
      "Epsilon: 0.45\tTest Accuracy = 0.924\n"
     ]
    }
   ],
   "source": [
    "accuracy_robust = []\n",
    "losses_robust = []\n",
    "\n",
    "for eps in epsilons:\n",
    "    loss_attack, acc_attack = attack(robust_net, criterion, prot_train_loader, eps, device=device)\n",
    "    accuracy_robust.append(acc_attack)\n",
    "    losses_robust.append(loss_attack)"
   ]
  },
  {
   "source": [
    "## Comparative Analysis of the Two Models"
   ],
   "cell_type": "markdown",
   "metadata": {}
  },
  {
   "cell_type": "code",
   "execution_count": 18,
   "metadata": {},
   "outputs": [
    {
     "output_type": "display_data",
     "data": {
      "text/plain": "<Figure size 360x360 with 1 Axes>",
      "image/svg+xml": "<?xml version=\"1.0\" encoding=\"utf-8\" standalone=\"no\"?>\n<!DOCTYPE svg PUBLIC \"-//W3C//DTD SVG 1.1//EN\"\n  \"http://www.w3.org/Graphics/SVG/1.1/DTD/svg11.dtd\">\n<!-- Created with matplotlib (https://matplotlib.org/) -->\n<svg height=\"331.674375pt\" version=\"1.1\" viewBox=\"0 0 329.98125 331.674375\" width=\"329.98125pt\" xmlns=\"http://www.w3.org/2000/svg\" xmlns:xlink=\"http://www.w3.org/1999/xlink\">\n <metadata>\n  <rdf:RDF xmlns:cc=\"http://creativecommons.org/ns#\" xmlns:dc=\"http://purl.org/dc/elements/1.1/\" xmlns:rdf=\"http://www.w3.org/1999/02/22-rdf-syntax-ns#\">\n   <cc:Work>\n    <dc:type rdf:resource=\"http://purl.org/dc/dcmitype/StillImage\"/>\n    <dc:date>2021-05-27T21:30:47.363634</dc:date>\n    <dc:format>image/svg+xml</dc:format>\n    <dc:creator>\n     <cc:Agent>\n      <dc:title>Matplotlib v3.3.2, https://matplotlib.org/</dc:title>\n     </cc:Agent>\n    </dc:creator>\n   </cc:Work>\n  </rdf:RDF>\n </metadata>\n <defs>\n  <style type=\"text/css\">*{stroke-linecap:butt;stroke-linejoin:round;}</style>\n </defs>\n <g id=\"figure_1\">\n  <g id=\"patch_1\">\n   <path d=\"M 0 331.674375 \nL 329.98125 331.674375 \nL 329.98125 0 \nL 0 0 \nz\n\" style=\"fill:none;\"/>\n  </g>\n  <g id=\"axes_1\">\n   <g id=\"patch_2\">\n    <path d=\"M 43.78125 294.118125 \nL 322.78125 294.118125 \nL 322.78125 22.318125 \nL 43.78125 22.318125 \nz\n\" style=\"fill:#ffffff;\"/>\n   </g>\n   <g id=\"matplotlib.axis_1\">\n    <g id=\"xtick_1\">\n     <g id=\"line2d_1\">\n      <defs>\n       <path d=\"M 0 0 \nL 0 3.5 \n\" id=\"m98c11278ac\" style=\"stroke:#000000;stroke-width:0.8;\"/>\n      </defs>\n      <g>\n       <use style=\"stroke:#000000;stroke-width:0.8;\" x=\"56.463068\" xlink:href=\"#m98c11278ac\" y=\"294.118125\"/>\n      </g>\n     </g>\n     <g id=\"text_1\">\n      <!-- 0.00 -->\n      <g transform=\"translate(45.330256 308.716563)scale(0.1 -0.1)\">\n       <defs>\n        <path d=\"M 31.78125 66.40625 \nQ 24.171875 66.40625 20.328125 58.90625 \nQ 16.5 51.421875 16.5 36.375 \nQ 16.5 21.390625 20.328125 13.890625 \nQ 24.171875 6.390625 31.78125 6.390625 \nQ 39.453125 6.390625 43.28125 13.890625 \nQ 47.125 21.390625 47.125 36.375 \nQ 47.125 51.421875 43.28125 58.90625 \nQ 39.453125 66.40625 31.78125 66.40625 \nz\nM 31.78125 74.21875 \nQ 44.046875 74.21875 50.515625 64.515625 \nQ 56.984375 54.828125 56.984375 36.375 \nQ 56.984375 17.96875 50.515625 8.265625 \nQ 44.046875 -1.421875 31.78125 -1.421875 \nQ 19.53125 -1.421875 13.0625 8.265625 \nQ 6.59375 17.96875 6.59375 36.375 \nQ 6.59375 54.828125 13.0625 64.515625 \nQ 19.53125 74.21875 31.78125 74.21875 \nz\n\" id=\"DejaVuSans-48\"/>\n        <path d=\"M 10.6875 12.40625 \nL 21 12.40625 \nL 21 0 \nL 10.6875 0 \nz\n\" id=\"DejaVuSans-46\"/>\n       </defs>\n       <use xlink:href=\"#DejaVuSans-48\"/>\n       <use x=\"63.623047\" xlink:href=\"#DejaVuSans-46\"/>\n       <use x=\"95.410156\" xlink:href=\"#DejaVuSans-48\"/>\n       <use x=\"159.033203\" xlink:href=\"#DejaVuSans-48\"/>\n      </g>\n     </g>\n    </g>\n    <g id=\"xtick_2\">\n     <g id=\"line2d_2\">\n      <g>\n       <use style=\"stroke:#000000;stroke-width:0.8;\" x=\"84.644886\" xlink:href=\"#m98c11278ac\" y=\"294.118125\"/>\n      </g>\n     </g>\n     <g id=\"text_2\">\n      <!-- 0.05 -->\n      <g transform=\"translate(73.512074 308.716563)scale(0.1 -0.1)\">\n       <defs>\n        <path d=\"M 10.796875 72.90625 \nL 49.515625 72.90625 \nL 49.515625 64.59375 \nL 19.828125 64.59375 \nL 19.828125 46.734375 \nQ 21.96875 47.46875 24.109375 47.828125 \nQ 26.265625 48.1875 28.421875 48.1875 \nQ 40.625 48.1875 47.75 41.5 \nQ 54.890625 34.8125 54.890625 23.390625 \nQ 54.890625 11.625 47.5625 5.09375 \nQ 40.234375 -1.421875 26.90625 -1.421875 \nQ 22.3125 -1.421875 17.546875 -0.640625 \nQ 12.796875 0.140625 7.71875 1.703125 \nL 7.71875 11.625 \nQ 12.109375 9.234375 16.796875 8.0625 \nQ 21.484375 6.890625 26.703125 6.890625 \nQ 35.15625 6.890625 40.078125 11.328125 \nQ 45.015625 15.765625 45.015625 23.390625 \nQ 45.015625 31 40.078125 35.4375 \nQ 35.15625 39.890625 26.703125 39.890625 \nQ 22.75 39.890625 18.8125 39.015625 \nQ 14.890625 38.140625 10.796875 36.28125 \nz\n\" id=\"DejaVuSans-53\"/>\n       </defs>\n       <use xlink:href=\"#DejaVuSans-48\"/>\n       <use x=\"63.623047\" xlink:href=\"#DejaVuSans-46\"/>\n       <use x=\"95.410156\" xlink:href=\"#DejaVuSans-48\"/>\n       <use x=\"159.033203\" xlink:href=\"#DejaVuSans-53\"/>\n      </g>\n     </g>\n    </g>\n    <g id=\"xtick_3\">\n     <g id=\"line2d_3\">\n      <g>\n       <use style=\"stroke:#000000;stroke-width:0.8;\" x=\"112.826705\" xlink:href=\"#m98c11278ac\" y=\"294.118125\"/>\n      </g>\n     </g>\n     <g id=\"text_3\">\n      <!-- 0.10 -->\n      <g transform=\"translate(101.693892 308.716563)scale(0.1 -0.1)\">\n       <defs>\n        <path d=\"M 12.40625 8.296875 \nL 28.515625 8.296875 \nL 28.515625 63.921875 \nL 10.984375 60.40625 \nL 10.984375 69.390625 \nL 28.421875 72.90625 \nL 38.28125 72.90625 \nL 38.28125 8.296875 \nL 54.390625 8.296875 \nL 54.390625 0 \nL 12.40625 0 \nz\n\" id=\"DejaVuSans-49\"/>\n       </defs>\n       <use xlink:href=\"#DejaVuSans-48\"/>\n       <use x=\"63.623047\" xlink:href=\"#DejaVuSans-46\"/>\n       <use x=\"95.410156\" xlink:href=\"#DejaVuSans-49\"/>\n       <use x=\"159.033203\" xlink:href=\"#DejaVuSans-48\"/>\n      </g>\n     </g>\n    </g>\n    <g id=\"xtick_4\">\n     <g id=\"line2d_4\">\n      <g>\n       <use style=\"stroke:#000000;stroke-width:0.8;\" x=\"141.008523\" xlink:href=\"#m98c11278ac\" y=\"294.118125\"/>\n      </g>\n     </g>\n     <g id=\"text_4\">\n      <!-- 0.15 -->\n      <g transform=\"translate(129.87571 308.716563)scale(0.1 -0.1)\">\n       <use xlink:href=\"#DejaVuSans-48\"/>\n       <use x=\"63.623047\" xlink:href=\"#DejaVuSans-46\"/>\n       <use x=\"95.410156\" xlink:href=\"#DejaVuSans-49\"/>\n       <use x=\"159.033203\" xlink:href=\"#DejaVuSans-53\"/>\n      </g>\n     </g>\n    </g>\n    <g id=\"xtick_5\">\n     <g id=\"line2d_5\">\n      <g>\n       <use style=\"stroke:#000000;stroke-width:0.8;\" x=\"169.190341\" xlink:href=\"#m98c11278ac\" y=\"294.118125\"/>\n      </g>\n     </g>\n     <g id=\"text_5\">\n      <!-- 0.20 -->\n      <g transform=\"translate(158.057528 308.716563)scale(0.1 -0.1)\">\n       <defs>\n        <path d=\"M 19.1875 8.296875 \nL 53.609375 8.296875 \nL 53.609375 0 \nL 7.328125 0 \nL 7.328125 8.296875 \nQ 12.9375 14.109375 22.625 23.890625 \nQ 32.328125 33.6875 34.8125 36.53125 \nQ 39.546875 41.84375 41.421875 45.53125 \nQ 43.3125 49.21875 43.3125 52.78125 \nQ 43.3125 58.59375 39.234375 62.25 \nQ 35.15625 65.921875 28.609375 65.921875 \nQ 23.96875 65.921875 18.8125 64.3125 \nQ 13.671875 62.703125 7.8125 59.421875 \nL 7.8125 69.390625 \nQ 13.765625 71.78125 18.9375 73 \nQ 24.125 74.21875 28.421875 74.21875 \nQ 39.75 74.21875 46.484375 68.546875 \nQ 53.21875 62.890625 53.21875 53.421875 \nQ 53.21875 48.921875 51.53125 44.890625 \nQ 49.859375 40.875 45.40625 35.40625 \nQ 44.1875 33.984375 37.640625 27.21875 \nQ 31.109375 20.453125 19.1875 8.296875 \nz\n\" id=\"DejaVuSans-50\"/>\n       </defs>\n       <use xlink:href=\"#DejaVuSans-48\"/>\n       <use x=\"63.623047\" xlink:href=\"#DejaVuSans-46\"/>\n       <use x=\"95.410156\" xlink:href=\"#DejaVuSans-50\"/>\n       <use x=\"159.033203\" xlink:href=\"#DejaVuSans-48\"/>\n      </g>\n     </g>\n    </g>\n    <g id=\"xtick_6\">\n     <g id=\"line2d_6\">\n      <g>\n       <use style=\"stroke:#000000;stroke-width:0.8;\" x=\"197.372159\" xlink:href=\"#m98c11278ac\" y=\"294.118125\"/>\n      </g>\n     </g>\n     <g id=\"text_6\">\n      <!-- 0.25 -->\n      <g transform=\"translate(186.239347 308.716563)scale(0.1 -0.1)\">\n       <use xlink:href=\"#DejaVuSans-48\"/>\n       <use x=\"63.623047\" xlink:href=\"#DejaVuSans-46\"/>\n       <use x=\"95.410156\" xlink:href=\"#DejaVuSans-50\"/>\n       <use x=\"159.033203\" xlink:href=\"#DejaVuSans-53\"/>\n      </g>\n     </g>\n    </g>\n    <g id=\"xtick_7\">\n     <g id=\"line2d_7\">\n      <g>\n       <use style=\"stroke:#000000;stroke-width:0.8;\" x=\"225.553977\" xlink:href=\"#m98c11278ac\" y=\"294.118125\"/>\n      </g>\n     </g>\n     <g id=\"text_7\">\n      <!-- 0.30 -->\n      <g transform=\"translate(214.421165 308.716563)scale(0.1 -0.1)\">\n       <defs>\n        <path d=\"M 40.578125 39.3125 \nQ 47.65625 37.796875 51.625 33 \nQ 55.609375 28.21875 55.609375 21.1875 \nQ 55.609375 10.40625 48.1875 4.484375 \nQ 40.765625 -1.421875 27.09375 -1.421875 \nQ 22.515625 -1.421875 17.65625 -0.515625 \nQ 12.796875 0.390625 7.625 2.203125 \nL 7.625 11.71875 \nQ 11.71875 9.328125 16.59375 8.109375 \nQ 21.484375 6.890625 26.8125 6.890625 \nQ 36.078125 6.890625 40.9375 10.546875 \nQ 45.796875 14.203125 45.796875 21.1875 \nQ 45.796875 27.640625 41.28125 31.265625 \nQ 36.765625 34.90625 28.71875 34.90625 \nL 20.21875 34.90625 \nL 20.21875 43.015625 \nL 29.109375 43.015625 \nQ 36.375 43.015625 40.234375 45.921875 \nQ 44.09375 48.828125 44.09375 54.296875 \nQ 44.09375 59.90625 40.109375 62.90625 \nQ 36.140625 65.921875 28.71875 65.921875 \nQ 24.65625 65.921875 20.015625 65.03125 \nQ 15.375 64.15625 9.8125 62.3125 \nL 9.8125 71.09375 \nQ 15.4375 72.65625 20.34375 73.4375 \nQ 25.25 74.21875 29.59375 74.21875 \nQ 40.828125 74.21875 47.359375 69.109375 \nQ 53.90625 64.015625 53.90625 55.328125 \nQ 53.90625 49.265625 50.4375 45.09375 \nQ 46.96875 40.921875 40.578125 39.3125 \nz\n\" id=\"DejaVuSans-51\"/>\n       </defs>\n       <use xlink:href=\"#DejaVuSans-48\"/>\n       <use x=\"63.623047\" xlink:href=\"#DejaVuSans-46\"/>\n       <use x=\"95.410156\" xlink:href=\"#DejaVuSans-51\"/>\n       <use x=\"159.033203\" xlink:href=\"#DejaVuSans-48\"/>\n      </g>\n     </g>\n    </g>\n    <g id=\"xtick_8\">\n     <g id=\"line2d_8\">\n      <g>\n       <use style=\"stroke:#000000;stroke-width:0.8;\" x=\"253.735795\" xlink:href=\"#m98c11278ac\" y=\"294.118125\"/>\n      </g>\n     </g>\n     <g id=\"text_8\">\n      <!-- 0.35 -->\n      <g transform=\"translate(242.602983 308.716563)scale(0.1 -0.1)\">\n       <use xlink:href=\"#DejaVuSans-48\"/>\n       <use x=\"63.623047\" xlink:href=\"#DejaVuSans-46\"/>\n       <use x=\"95.410156\" xlink:href=\"#DejaVuSans-51\"/>\n       <use x=\"159.033203\" xlink:href=\"#DejaVuSans-53\"/>\n      </g>\n     </g>\n    </g>\n    <g id=\"xtick_9\">\n     <g id=\"line2d_9\">\n      <g>\n       <use style=\"stroke:#000000;stroke-width:0.8;\" x=\"281.917614\" xlink:href=\"#m98c11278ac\" y=\"294.118125\"/>\n      </g>\n     </g>\n     <g id=\"text_9\">\n      <!-- 0.40 -->\n      <g transform=\"translate(270.784801 308.716563)scale(0.1 -0.1)\">\n       <defs>\n        <path d=\"M 37.796875 64.3125 \nL 12.890625 25.390625 \nL 37.796875 25.390625 \nz\nM 35.203125 72.90625 \nL 47.609375 72.90625 \nL 47.609375 25.390625 \nL 58.015625 25.390625 \nL 58.015625 17.1875 \nL 47.609375 17.1875 \nL 47.609375 0 \nL 37.796875 0 \nL 37.796875 17.1875 \nL 4.890625 17.1875 \nL 4.890625 26.703125 \nz\n\" id=\"DejaVuSans-52\"/>\n       </defs>\n       <use xlink:href=\"#DejaVuSans-48\"/>\n       <use x=\"63.623047\" xlink:href=\"#DejaVuSans-46\"/>\n       <use x=\"95.410156\" xlink:href=\"#DejaVuSans-52\"/>\n       <use x=\"159.033203\" xlink:href=\"#DejaVuSans-48\"/>\n      </g>\n     </g>\n    </g>\n    <g id=\"xtick_10\">\n     <g id=\"line2d_10\">\n      <g>\n       <use style=\"stroke:#000000;stroke-width:0.8;\" x=\"310.099432\" xlink:href=\"#m98c11278ac\" y=\"294.118125\"/>\n      </g>\n     </g>\n     <g id=\"text_10\">\n      <!-- 0.45 -->\n      <g transform=\"translate(298.966619 308.716563)scale(0.1 -0.1)\">\n       <use xlink:href=\"#DejaVuSans-48\"/>\n       <use x=\"63.623047\" xlink:href=\"#DejaVuSans-46\"/>\n       <use x=\"95.410156\" xlink:href=\"#DejaVuSans-52\"/>\n       <use x=\"159.033203\" xlink:href=\"#DejaVuSans-53\"/>\n      </g>\n     </g>\n    </g>\n    <g id=\"text_11\">\n     <!-- Epsilon -->\n     <g transform=\"translate(165.336719 322.394687)scale(0.1 -0.1)\">\n      <defs>\n       <path d=\"M 9.8125 72.90625 \nL 55.90625 72.90625 \nL 55.90625 64.59375 \nL 19.671875 64.59375 \nL 19.671875 43.015625 \nL 54.390625 43.015625 \nL 54.390625 34.71875 \nL 19.671875 34.71875 \nL 19.671875 8.296875 \nL 56.78125 8.296875 \nL 56.78125 0 \nL 9.8125 0 \nz\n\" id=\"DejaVuSans-69\"/>\n       <path d=\"M 18.109375 8.203125 \nL 18.109375 -20.796875 \nL 9.078125 -20.796875 \nL 9.078125 54.6875 \nL 18.109375 54.6875 \nL 18.109375 46.390625 \nQ 20.953125 51.265625 25.265625 53.625 \nQ 29.59375 56 35.59375 56 \nQ 45.5625 56 51.78125 48.09375 \nQ 58.015625 40.1875 58.015625 27.296875 \nQ 58.015625 14.40625 51.78125 6.484375 \nQ 45.5625 -1.421875 35.59375 -1.421875 \nQ 29.59375 -1.421875 25.265625 0.953125 \nQ 20.953125 3.328125 18.109375 8.203125 \nz\nM 48.6875 27.296875 \nQ 48.6875 37.203125 44.609375 42.84375 \nQ 40.53125 48.484375 33.40625 48.484375 \nQ 26.265625 48.484375 22.1875 42.84375 \nQ 18.109375 37.203125 18.109375 27.296875 \nQ 18.109375 17.390625 22.1875 11.75 \nQ 26.265625 6.109375 33.40625 6.109375 \nQ 40.53125 6.109375 44.609375 11.75 \nQ 48.6875 17.390625 48.6875 27.296875 \nz\n\" id=\"DejaVuSans-112\"/>\n       <path d=\"M 44.28125 53.078125 \nL 44.28125 44.578125 \nQ 40.484375 46.53125 36.375 47.5 \nQ 32.28125 48.484375 27.875 48.484375 \nQ 21.1875 48.484375 17.84375 46.4375 \nQ 14.5 44.390625 14.5 40.28125 \nQ 14.5 37.15625 16.890625 35.375 \nQ 19.28125 33.59375 26.515625 31.984375 \nL 29.59375 31.296875 \nQ 39.15625 29.25 43.1875 25.515625 \nQ 47.21875 21.78125 47.21875 15.09375 \nQ 47.21875 7.46875 41.1875 3.015625 \nQ 35.15625 -1.421875 24.609375 -1.421875 \nQ 20.21875 -1.421875 15.453125 -0.5625 \nQ 10.6875 0.296875 5.421875 2 \nL 5.421875 11.28125 \nQ 10.40625 8.6875 15.234375 7.390625 \nQ 20.0625 6.109375 24.8125 6.109375 \nQ 31.15625 6.109375 34.5625 8.28125 \nQ 37.984375 10.453125 37.984375 14.40625 \nQ 37.984375 18.0625 35.515625 20.015625 \nQ 33.0625 21.96875 24.703125 23.78125 \nL 21.578125 24.515625 \nQ 13.234375 26.265625 9.515625 29.90625 \nQ 5.8125 33.546875 5.8125 39.890625 \nQ 5.8125 47.609375 11.28125 51.796875 \nQ 16.75 56 26.8125 56 \nQ 31.78125 56 36.171875 55.265625 \nQ 40.578125 54.546875 44.28125 53.078125 \nz\n\" id=\"DejaVuSans-115\"/>\n       <path d=\"M 9.421875 54.6875 \nL 18.40625 54.6875 \nL 18.40625 0 \nL 9.421875 0 \nz\nM 9.421875 75.984375 \nL 18.40625 75.984375 \nL 18.40625 64.59375 \nL 9.421875 64.59375 \nz\n\" id=\"DejaVuSans-105\"/>\n       <path d=\"M 9.421875 75.984375 \nL 18.40625 75.984375 \nL 18.40625 0 \nL 9.421875 0 \nz\n\" id=\"DejaVuSans-108\"/>\n       <path d=\"M 30.609375 48.390625 \nQ 23.390625 48.390625 19.1875 42.75 \nQ 14.984375 37.109375 14.984375 27.296875 \nQ 14.984375 17.484375 19.15625 11.84375 \nQ 23.34375 6.203125 30.609375 6.203125 \nQ 37.796875 6.203125 41.984375 11.859375 \nQ 46.1875 17.53125 46.1875 27.296875 \nQ 46.1875 37.015625 41.984375 42.703125 \nQ 37.796875 48.390625 30.609375 48.390625 \nz\nM 30.609375 56 \nQ 42.328125 56 49.015625 48.375 \nQ 55.71875 40.765625 55.71875 27.296875 \nQ 55.71875 13.875 49.015625 6.21875 \nQ 42.328125 -1.421875 30.609375 -1.421875 \nQ 18.84375 -1.421875 12.171875 6.21875 \nQ 5.515625 13.875 5.515625 27.296875 \nQ 5.515625 40.765625 12.171875 48.375 \nQ 18.84375 56 30.609375 56 \nz\n\" id=\"DejaVuSans-111\"/>\n       <path d=\"M 54.890625 33.015625 \nL 54.890625 0 \nL 45.90625 0 \nL 45.90625 32.71875 \nQ 45.90625 40.484375 42.875 44.328125 \nQ 39.84375 48.1875 33.796875 48.1875 \nQ 26.515625 48.1875 22.3125 43.546875 \nQ 18.109375 38.921875 18.109375 30.90625 \nL 18.109375 0 \nL 9.078125 0 \nL 9.078125 54.6875 \nL 18.109375 54.6875 \nL 18.109375 46.1875 \nQ 21.34375 51.125 25.703125 53.5625 \nQ 30.078125 56 35.796875 56 \nQ 45.21875 56 50.046875 50.171875 \nQ 54.890625 44.34375 54.890625 33.015625 \nz\n\" id=\"DejaVuSans-110\"/>\n      </defs>\n      <use xlink:href=\"#DejaVuSans-69\"/>\n      <use x=\"63.183594\" xlink:href=\"#DejaVuSans-112\"/>\n      <use x=\"126.660156\" xlink:href=\"#DejaVuSans-115\"/>\n      <use x=\"178.759766\" xlink:href=\"#DejaVuSans-105\"/>\n      <use x=\"206.542969\" xlink:href=\"#DejaVuSans-108\"/>\n      <use x=\"234.326172\" xlink:href=\"#DejaVuSans-111\"/>\n      <use x=\"295.507812\" xlink:href=\"#DejaVuSans-110\"/>\n     </g>\n    </g>\n   </g>\n   <g id=\"matplotlib.axis_2\">\n    <g id=\"ytick_1\">\n     <g id=\"line2d_11\">\n      <defs>\n       <path d=\"M 0 0 \nL -3.5 0 \n\" id=\"m4c5873b3bc\" style=\"stroke:#000000;stroke-width:0.8;\"/>\n      </defs>\n      <g>\n       <use style=\"stroke:#000000;stroke-width:0.8;\" x=\"43.78125\" xlink:href=\"#m4c5873b3bc\" y=\"294.118125\"/>\n      </g>\n     </g>\n     <g id=\"text_12\">\n      <!-- 0.0 -->\n      <g transform=\"translate(20.878125 297.917344)scale(0.1 -0.1)\">\n       <use xlink:href=\"#DejaVuSans-48\"/>\n       <use x=\"63.623047\" xlink:href=\"#DejaVuSans-46\"/>\n       <use x=\"95.410156\" xlink:href=\"#DejaVuSans-48\"/>\n      </g>\n     </g>\n    </g>\n    <g id=\"ytick_2\">\n     <g id=\"line2d_12\">\n      <g>\n       <use style=\"stroke:#000000;stroke-width:0.8;\" x=\"43.78125\" xlink:href=\"#m4c5873b3bc\" y=\"267.192305\"/>\n      </g>\n     </g>\n     <g id=\"text_13\">\n      <!-- 0.1 -->\n      <g transform=\"translate(20.878125 270.991523)scale(0.1 -0.1)\">\n       <use xlink:href=\"#DejaVuSans-48\"/>\n       <use x=\"63.623047\" xlink:href=\"#DejaVuSans-46\"/>\n       <use x=\"95.410156\" xlink:href=\"#DejaVuSans-49\"/>\n      </g>\n     </g>\n    </g>\n    <g id=\"ytick_3\">\n     <g id=\"line2d_13\">\n      <g>\n       <use style=\"stroke:#000000;stroke-width:0.8;\" x=\"43.78125\" xlink:href=\"#m4c5873b3bc\" y=\"240.266484\"/>\n      </g>\n     </g>\n     <g id=\"text_14\">\n      <!-- 0.2 -->\n      <g transform=\"translate(20.878125 244.065703)scale(0.1 -0.1)\">\n       <use xlink:href=\"#DejaVuSans-48\"/>\n       <use x=\"63.623047\" xlink:href=\"#DejaVuSans-46\"/>\n       <use x=\"95.410156\" xlink:href=\"#DejaVuSans-50\"/>\n      </g>\n     </g>\n    </g>\n    <g id=\"ytick_4\">\n     <g id=\"line2d_14\">\n      <g>\n       <use style=\"stroke:#000000;stroke-width:0.8;\" x=\"43.78125\" xlink:href=\"#m4c5873b3bc\" y=\"213.340664\"/>\n      </g>\n     </g>\n     <g id=\"text_15\">\n      <!-- 0.3 -->\n      <g transform=\"translate(20.878125 217.139883)scale(0.1 -0.1)\">\n       <use xlink:href=\"#DejaVuSans-48\"/>\n       <use x=\"63.623047\" xlink:href=\"#DejaVuSans-46\"/>\n       <use x=\"95.410156\" xlink:href=\"#DejaVuSans-51\"/>\n      </g>\n     </g>\n    </g>\n    <g id=\"ytick_5\">\n     <g id=\"line2d_15\">\n      <g>\n       <use style=\"stroke:#000000;stroke-width:0.8;\" x=\"43.78125\" xlink:href=\"#m4c5873b3bc\" y=\"186.414844\"/>\n      </g>\n     </g>\n     <g id=\"text_16\">\n      <!-- 0.4 -->\n      <g transform=\"translate(20.878125 190.214063)scale(0.1 -0.1)\">\n       <use xlink:href=\"#DejaVuSans-48\"/>\n       <use x=\"63.623047\" xlink:href=\"#DejaVuSans-46\"/>\n       <use x=\"95.410156\" xlink:href=\"#DejaVuSans-52\"/>\n      </g>\n     </g>\n    </g>\n    <g id=\"ytick_6\">\n     <g id=\"line2d_16\">\n      <g>\n       <use style=\"stroke:#000000;stroke-width:0.8;\" x=\"43.78125\" xlink:href=\"#m4c5873b3bc\" y=\"159.489024\"/>\n      </g>\n     </g>\n     <g id=\"text_17\">\n      <!-- 0.5 -->\n      <g transform=\"translate(20.878125 163.288242)scale(0.1 -0.1)\">\n       <use xlink:href=\"#DejaVuSans-48\"/>\n       <use x=\"63.623047\" xlink:href=\"#DejaVuSans-46\"/>\n       <use x=\"95.410156\" xlink:href=\"#DejaVuSans-53\"/>\n      </g>\n     </g>\n    </g>\n    <g id=\"ytick_7\">\n     <g id=\"line2d_17\">\n      <g>\n       <use style=\"stroke:#000000;stroke-width:0.8;\" x=\"43.78125\" xlink:href=\"#m4c5873b3bc\" y=\"132.563203\"/>\n      </g>\n     </g>\n     <g id=\"text_18\">\n      <!-- 0.6 -->\n      <g transform=\"translate(20.878125 136.362422)scale(0.1 -0.1)\">\n       <defs>\n        <path d=\"M 33.015625 40.375 \nQ 26.375 40.375 22.484375 35.828125 \nQ 18.609375 31.296875 18.609375 23.390625 \nQ 18.609375 15.53125 22.484375 10.953125 \nQ 26.375 6.390625 33.015625 6.390625 \nQ 39.65625 6.390625 43.53125 10.953125 \nQ 47.40625 15.53125 47.40625 23.390625 \nQ 47.40625 31.296875 43.53125 35.828125 \nQ 39.65625 40.375 33.015625 40.375 \nz\nM 52.59375 71.296875 \nL 52.59375 62.3125 \nQ 48.875 64.0625 45.09375 64.984375 \nQ 41.3125 65.921875 37.59375 65.921875 \nQ 27.828125 65.921875 22.671875 59.328125 \nQ 17.53125 52.734375 16.796875 39.40625 \nQ 19.671875 43.65625 24.015625 45.921875 \nQ 28.375 48.1875 33.59375 48.1875 \nQ 44.578125 48.1875 50.953125 41.515625 \nQ 57.328125 34.859375 57.328125 23.390625 \nQ 57.328125 12.15625 50.6875 5.359375 \nQ 44.046875 -1.421875 33.015625 -1.421875 \nQ 20.359375 -1.421875 13.671875 8.265625 \nQ 6.984375 17.96875 6.984375 36.375 \nQ 6.984375 53.65625 15.1875 63.9375 \nQ 23.390625 74.21875 37.203125 74.21875 \nQ 40.921875 74.21875 44.703125 73.484375 \nQ 48.484375 72.75 52.59375 71.296875 \nz\n\" id=\"DejaVuSans-54\"/>\n       </defs>\n       <use xlink:href=\"#DejaVuSans-48\"/>\n       <use x=\"63.623047\" xlink:href=\"#DejaVuSans-46\"/>\n       <use x=\"95.410156\" xlink:href=\"#DejaVuSans-54\"/>\n      </g>\n     </g>\n    </g>\n    <g id=\"ytick_8\">\n     <g id=\"line2d_18\">\n      <g>\n       <use style=\"stroke:#000000;stroke-width:0.8;\" x=\"43.78125\" xlink:href=\"#m4c5873b3bc\" y=\"105.637383\"/>\n      </g>\n     </g>\n     <g id=\"text_19\">\n      <!-- 0.7 -->\n      <g transform=\"translate(20.878125 109.436602)scale(0.1 -0.1)\">\n       <defs>\n        <path d=\"M 8.203125 72.90625 \nL 55.078125 72.90625 \nL 55.078125 68.703125 \nL 28.609375 0 \nL 18.3125 0 \nL 43.21875 64.59375 \nL 8.203125 64.59375 \nz\n\" id=\"DejaVuSans-55\"/>\n       </defs>\n       <use xlink:href=\"#DejaVuSans-48\"/>\n       <use x=\"63.623047\" xlink:href=\"#DejaVuSans-46\"/>\n       <use x=\"95.410156\" xlink:href=\"#DejaVuSans-55\"/>\n      </g>\n     </g>\n    </g>\n    <g id=\"ytick_9\">\n     <g id=\"line2d_19\">\n      <g>\n       <use style=\"stroke:#000000;stroke-width:0.8;\" x=\"43.78125\" xlink:href=\"#m4c5873b3bc\" y=\"78.711563\"/>\n      </g>\n     </g>\n     <g id=\"text_20\">\n      <!-- 0.8 -->\n      <g transform=\"translate(20.878125 82.510782)scale(0.1 -0.1)\">\n       <defs>\n        <path d=\"M 31.78125 34.625 \nQ 24.75 34.625 20.71875 30.859375 \nQ 16.703125 27.09375 16.703125 20.515625 \nQ 16.703125 13.921875 20.71875 10.15625 \nQ 24.75 6.390625 31.78125 6.390625 \nQ 38.8125 6.390625 42.859375 10.171875 \nQ 46.921875 13.96875 46.921875 20.515625 \nQ 46.921875 27.09375 42.890625 30.859375 \nQ 38.875 34.625 31.78125 34.625 \nz\nM 21.921875 38.8125 \nQ 15.578125 40.375 12.03125 44.71875 \nQ 8.5 49.078125 8.5 55.328125 \nQ 8.5 64.0625 14.71875 69.140625 \nQ 20.953125 74.21875 31.78125 74.21875 \nQ 42.671875 74.21875 48.875 69.140625 \nQ 55.078125 64.0625 55.078125 55.328125 \nQ 55.078125 49.078125 51.53125 44.71875 \nQ 48 40.375 41.703125 38.8125 \nQ 48.828125 37.15625 52.796875 32.3125 \nQ 56.78125 27.484375 56.78125 20.515625 \nQ 56.78125 9.90625 50.3125 4.234375 \nQ 43.84375 -1.421875 31.78125 -1.421875 \nQ 19.734375 -1.421875 13.25 4.234375 \nQ 6.78125 9.90625 6.78125 20.515625 \nQ 6.78125 27.484375 10.78125 32.3125 \nQ 14.796875 37.15625 21.921875 38.8125 \nz\nM 18.3125 54.390625 \nQ 18.3125 48.734375 21.84375 45.5625 \nQ 25.390625 42.390625 31.78125 42.390625 \nQ 38.140625 42.390625 41.71875 45.5625 \nQ 45.3125 48.734375 45.3125 54.390625 \nQ 45.3125 60.0625 41.71875 63.234375 \nQ 38.140625 66.40625 31.78125 66.40625 \nQ 25.390625 66.40625 21.84375 63.234375 \nQ 18.3125 60.0625 18.3125 54.390625 \nz\n\" id=\"DejaVuSans-56\"/>\n       </defs>\n       <use xlink:href=\"#DejaVuSans-48\"/>\n       <use x=\"63.623047\" xlink:href=\"#DejaVuSans-46\"/>\n       <use x=\"95.410156\" xlink:href=\"#DejaVuSans-56\"/>\n      </g>\n     </g>\n    </g>\n    <g id=\"ytick_10\">\n     <g id=\"line2d_20\">\n      <g>\n       <use style=\"stroke:#000000;stroke-width:0.8;\" x=\"43.78125\" xlink:href=\"#m4c5873b3bc\" y=\"51.785743\"/>\n      </g>\n     </g>\n     <g id=\"text_21\">\n      <!-- 0.9 -->\n      <g transform=\"translate(20.878125 55.584961)scale(0.1 -0.1)\">\n       <defs>\n        <path d=\"M 10.984375 1.515625 \nL 10.984375 10.5 \nQ 14.703125 8.734375 18.5 7.8125 \nQ 22.3125 6.890625 25.984375 6.890625 \nQ 35.75 6.890625 40.890625 13.453125 \nQ 46.046875 20.015625 46.78125 33.40625 \nQ 43.953125 29.203125 39.59375 26.953125 \nQ 35.25 24.703125 29.984375 24.703125 \nQ 19.046875 24.703125 12.671875 31.3125 \nQ 6.296875 37.9375 6.296875 49.421875 \nQ 6.296875 60.640625 12.9375 67.421875 \nQ 19.578125 74.21875 30.609375 74.21875 \nQ 43.265625 74.21875 49.921875 64.515625 \nQ 56.59375 54.828125 56.59375 36.375 \nQ 56.59375 19.140625 48.40625 8.859375 \nQ 40.234375 -1.421875 26.421875 -1.421875 \nQ 22.703125 -1.421875 18.890625 -0.6875 \nQ 15.09375 0.046875 10.984375 1.515625 \nz\nM 30.609375 32.421875 \nQ 37.25 32.421875 41.125 36.953125 \nQ 45.015625 41.5 45.015625 49.421875 \nQ 45.015625 57.28125 41.125 61.84375 \nQ 37.25 66.40625 30.609375 66.40625 \nQ 23.96875 66.40625 20.09375 61.84375 \nQ 16.21875 57.28125 16.21875 49.421875 \nQ 16.21875 41.5 20.09375 36.953125 \nQ 23.96875 32.421875 30.609375 32.421875 \nz\n\" id=\"DejaVuSans-57\"/>\n       </defs>\n       <use xlink:href=\"#DejaVuSans-48\"/>\n       <use x=\"63.623047\" xlink:href=\"#DejaVuSans-46\"/>\n       <use x=\"95.410156\" xlink:href=\"#DejaVuSans-57\"/>\n      </g>\n     </g>\n    </g>\n    <g id=\"ytick_11\">\n     <g id=\"line2d_21\">\n      <g>\n       <use style=\"stroke:#000000;stroke-width:0.8;\" x=\"43.78125\" xlink:href=\"#m4c5873b3bc\" y=\"24.859922\"/>\n      </g>\n     </g>\n     <g id=\"text_22\">\n      <!-- 1.0 -->\n      <g transform=\"translate(20.878125 28.659141)scale(0.1 -0.1)\">\n       <use xlink:href=\"#DejaVuSans-49\"/>\n       <use x=\"63.623047\" xlink:href=\"#DejaVuSans-46\"/>\n       <use x=\"95.410156\" xlink:href=\"#DejaVuSans-48\"/>\n      </g>\n     </g>\n    </g>\n    <g id=\"text_23\">\n     <!-- Accuracy -->\n     <g transform=\"translate(14.798438 181.04625)rotate(-90)scale(0.1 -0.1)\">\n      <defs>\n       <path d=\"M 34.1875 63.1875 \nL 20.796875 26.90625 \nL 47.609375 26.90625 \nz\nM 28.609375 72.90625 \nL 39.796875 72.90625 \nL 67.578125 0 \nL 57.328125 0 \nL 50.6875 18.703125 \nL 17.828125 18.703125 \nL 11.1875 0 \nL 0.78125 0 \nz\n\" id=\"DejaVuSans-65\"/>\n       <path d=\"M 48.78125 52.59375 \nL 48.78125 44.1875 \nQ 44.96875 46.296875 41.140625 47.34375 \nQ 37.3125 48.390625 33.40625 48.390625 \nQ 24.65625 48.390625 19.8125 42.84375 \nQ 14.984375 37.3125 14.984375 27.296875 \nQ 14.984375 17.28125 19.8125 11.734375 \nQ 24.65625 6.203125 33.40625 6.203125 \nQ 37.3125 6.203125 41.140625 7.25 \nQ 44.96875 8.296875 48.78125 10.40625 \nL 48.78125 2.09375 \nQ 45.015625 0.34375 40.984375 -0.53125 \nQ 36.96875 -1.421875 32.421875 -1.421875 \nQ 20.0625 -1.421875 12.78125 6.34375 \nQ 5.515625 14.109375 5.515625 27.296875 \nQ 5.515625 40.671875 12.859375 48.328125 \nQ 20.21875 56 33.015625 56 \nQ 37.15625 56 41.109375 55.140625 \nQ 45.0625 54.296875 48.78125 52.59375 \nz\n\" id=\"DejaVuSans-99\"/>\n       <path d=\"M 8.5 21.578125 \nL 8.5 54.6875 \nL 17.484375 54.6875 \nL 17.484375 21.921875 \nQ 17.484375 14.15625 20.5 10.265625 \nQ 23.53125 6.390625 29.59375 6.390625 \nQ 36.859375 6.390625 41.078125 11.03125 \nQ 45.3125 15.671875 45.3125 23.6875 \nL 45.3125 54.6875 \nL 54.296875 54.6875 \nL 54.296875 0 \nL 45.3125 0 \nL 45.3125 8.40625 \nQ 42.046875 3.421875 37.71875 1 \nQ 33.40625 -1.421875 27.6875 -1.421875 \nQ 18.265625 -1.421875 13.375 4.4375 \nQ 8.5 10.296875 8.5 21.578125 \nz\nM 31.109375 56 \nz\n\" id=\"DejaVuSans-117\"/>\n       <path d=\"M 41.109375 46.296875 \nQ 39.59375 47.171875 37.8125 47.578125 \nQ 36.03125 48 33.890625 48 \nQ 26.265625 48 22.1875 43.046875 \nQ 18.109375 38.09375 18.109375 28.8125 \nL 18.109375 0 \nL 9.078125 0 \nL 9.078125 54.6875 \nL 18.109375 54.6875 \nL 18.109375 46.1875 \nQ 20.953125 51.171875 25.484375 53.578125 \nQ 30.03125 56 36.53125 56 \nQ 37.453125 56 38.578125 55.875 \nQ 39.703125 55.765625 41.0625 55.515625 \nz\n\" id=\"DejaVuSans-114\"/>\n       <path d=\"M 34.28125 27.484375 \nQ 23.390625 27.484375 19.1875 25 \nQ 14.984375 22.515625 14.984375 16.5 \nQ 14.984375 11.71875 18.140625 8.90625 \nQ 21.296875 6.109375 26.703125 6.109375 \nQ 34.1875 6.109375 38.703125 11.40625 \nQ 43.21875 16.703125 43.21875 25.484375 \nL 43.21875 27.484375 \nz\nM 52.203125 31.203125 \nL 52.203125 0 \nL 43.21875 0 \nL 43.21875 8.296875 \nQ 40.140625 3.328125 35.546875 0.953125 \nQ 30.953125 -1.421875 24.3125 -1.421875 \nQ 15.921875 -1.421875 10.953125 3.296875 \nQ 6 8.015625 6 15.921875 \nQ 6 25.140625 12.171875 29.828125 \nQ 18.359375 34.515625 30.609375 34.515625 \nL 43.21875 34.515625 \nL 43.21875 35.40625 \nQ 43.21875 41.609375 39.140625 45 \nQ 35.0625 48.390625 27.6875 48.390625 \nQ 23 48.390625 18.546875 47.265625 \nQ 14.109375 46.140625 10.015625 43.890625 \nL 10.015625 52.203125 \nQ 14.9375 54.109375 19.578125 55.046875 \nQ 24.21875 56 28.609375 56 \nQ 40.484375 56 46.34375 49.84375 \nQ 52.203125 43.703125 52.203125 31.203125 \nz\n\" id=\"DejaVuSans-97\"/>\n       <path d=\"M 32.171875 -5.078125 \nQ 28.375 -14.84375 24.75 -17.8125 \nQ 21.140625 -20.796875 15.09375 -20.796875 \nL 7.90625 -20.796875 \nL 7.90625 -13.28125 \nL 13.1875 -13.28125 \nQ 16.890625 -13.28125 18.9375 -11.515625 \nQ 21 -9.765625 23.484375 -3.21875 \nL 25.09375 0.875 \nL 2.984375 54.6875 \nL 12.5 54.6875 \nL 29.59375 11.921875 \nL 46.6875 54.6875 \nL 56.203125 54.6875 \nz\n\" id=\"DejaVuSans-121\"/>\n      </defs>\n      <use xlink:href=\"#DejaVuSans-65\"/>\n      <use x=\"66.658203\" xlink:href=\"#DejaVuSans-99\"/>\n      <use x=\"121.638672\" xlink:href=\"#DejaVuSans-99\"/>\n      <use x=\"176.619141\" xlink:href=\"#DejaVuSans-117\"/>\n      <use x=\"239.998047\" xlink:href=\"#DejaVuSans-114\"/>\n      <use x=\"281.111328\" xlink:href=\"#DejaVuSans-97\"/>\n      <use x=\"342.390625\" xlink:href=\"#DejaVuSans-99\"/>\n      <use x=\"397.371094\" xlink:href=\"#DejaVuSans-121\"/>\n     </g>\n    </g>\n   </g>\n   <g id=\"line2d_22\">\n    <path clip-path=\"url(#pb703c619ba)\" d=\"M 56.463068 31.83371 \nL 84.644886 32.856891 \nL 112.826705 34.28396 \nL 141.008523 36.034138 \nL 169.190341 39.480643 \nL 197.372159 43.331035 \nL 225.553977 49.847084 \nL 253.735795 58.221014 \nL 281.917614 70.499188 \nL 310.099432 88.512562 \n\" style=\"fill:none;stroke:#0000ff;stroke-linecap:square;stroke-width:1.5;\"/>\n    <defs>\n     <path d=\"M 0 -3 \nL -0.673542 -0.927051 \nL -2.85317 -0.927051 \nL -1.089814 0.354102 \nL -1.763356 2.427051 \nL -0 1.145898 \nL 1.763356 2.427051 \nL 1.089814 0.354102 \nL 2.85317 -0.927051 \nL 0.673542 -0.927051 \nz\n\" id=\"ma2556c8f8c\" style=\"stroke:#0000ff;stroke-linejoin:bevel;\"/>\n    </defs>\n    <g clip-path=\"url(#pb703c619ba)\">\n     <use style=\"fill:#0000ff;stroke:#0000ff;stroke-linejoin:bevel;\" x=\"56.463068\" xlink:href=\"#ma2556c8f8c\" y=\"31.83371\"/>\n     <use style=\"fill:#0000ff;stroke:#0000ff;stroke-linejoin:bevel;\" x=\"84.644886\" xlink:href=\"#ma2556c8f8c\" y=\"32.856891\"/>\n     <use style=\"fill:#0000ff;stroke:#0000ff;stroke-linejoin:bevel;\" x=\"112.826705\" xlink:href=\"#ma2556c8f8c\" y=\"34.28396\"/>\n     <use style=\"fill:#0000ff;stroke:#0000ff;stroke-linejoin:bevel;\" x=\"141.008523\" xlink:href=\"#ma2556c8f8c\" y=\"36.034138\"/>\n     <use style=\"fill:#0000ff;stroke:#0000ff;stroke-linejoin:bevel;\" x=\"169.190341\" xlink:href=\"#ma2556c8f8c\" y=\"39.480643\"/>\n     <use style=\"fill:#0000ff;stroke:#0000ff;stroke-linejoin:bevel;\" x=\"197.372159\" xlink:href=\"#ma2556c8f8c\" y=\"43.331035\"/>\n     <use style=\"fill:#0000ff;stroke:#0000ff;stroke-linejoin:bevel;\" x=\"225.553977\" xlink:href=\"#ma2556c8f8c\" y=\"49.847084\"/>\n     <use style=\"fill:#0000ff;stroke:#0000ff;stroke-linejoin:bevel;\" x=\"253.735795\" xlink:href=\"#ma2556c8f8c\" y=\"58.221014\"/>\n     <use style=\"fill:#0000ff;stroke:#0000ff;stroke-linejoin:bevel;\" x=\"281.917614\" xlink:href=\"#ma2556c8f8c\" y=\"70.499188\"/>\n     <use style=\"fill:#0000ff;stroke:#0000ff;stroke-linejoin:bevel;\" x=\"310.099432\" xlink:href=\"#ma2556c8f8c\" y=\"88.512562\"/>\n    </g>\n   </g>\n   <g id=\"line2d_23\">\n    <path clip-path=\"url(#pb703c619ba)\" d=\"M 56.463068 25.470241 \nL 84.644886 25.640771 \nL 112.826705 25.910029 \nL 141.008523 26.313917 \nL 169.190341 27.031939 \nL 197.372159 28.22565 \nL 225.553977 30.213673 \nL 253.735795 33.646715 \nL 281.917614 38.363221 \nL 310.099432 45.247256 \n\" style=\"fill:none;stroke:#ffa500;stroke-linecap:square;stroke-width:1.5;\"/>\n    <defs>\n     <path d=\"M 0 -3 \nL -0.673542 -0.927051 \nL -2.85317 -0.927051 \nL -1.089814 0.354102 \nL -1.763356 2.427051 \nL -0 1.145898 \nL 1.763356 2.427051 \nL 1.089814 0.354102 \nL 2.85317 -0.927051 \nL 0.673542 -0.927051 \nz\n\" id=\"mffd1cf0a3d\" style=\"stroke:#ffa500;stroke-linejoin:bevel;\"/>\n    </defs>\n    <g clip-path=\"url(#pb703c619ba)\">\n     <use style=\"fill:#ffa500;stroke:#ffa500;stroke-linejoin:bevel;\" x=\"56.463068\" xlink:href=\"#mffd1cf0a3d\" y=\"25.470241\"/>\n     <use style=\"fill:#ffa500;stroke:#ffa500;stroke-linejoin:bevel;\" x=\"84.644886\" xlink:href=\"#mffd1cf0a3d\" y=\"25.640771\"/>\n     <use style=\"fill:#ffa500;stroke:#ffa500;stroke-linejoin:bevel;\" x=\"112.826705\" xlink:href=\"#mffd1cf0a3d\" y=\"25.910029\"/>\n     <use style=\"fill:#ffa500;stroke:#ffa500;stroke-linejoin:bevel;\" x=\"141.008523\" xlink:href=\"#mffd1cf0a3d\" y=\"26.313917\"/>\n     <use style=\"fill:#ffa500;stroke:#ffa500;stroke-linejoin:bevel;\" x=\"169.190341\" xlink:href=\"#mffd1cf0a3d\" y=\"27.031939\"/>\n     <use style=\"fill:#ffa500;stroke:#ffa500;stroke-linejoin:bevel;\" x=\"197.372159\" xlink:href=\"#mffd1cf0a3d\" y=\"28.22565\"/>\n     <use style=\"fill:#ffa500;stroke:#ffa500;stroke-linejoin:bevel;\" x=\"225.553977\" xlink:href=\"#mffd1cf0a3d\" y=\"30.213673\"/>\n     <use style=\"fill:#ffa500;stroke:#ffa500;stroke-linejoin:bevel;\" x=\"253.735795\" xlink:href=\"#mffd1cf0a3d\" y=\"33.646715\"/>\n     <use style=\"fill:#ffa500;stroke:#ffa500;stroke-linejoin:bevel;\" x=\"281.917614\" xlink:href=\"#mffd1cf0a3d\" y=\"38.363221\"/>\n     <use style=\"fill:#ffa500;stroke:#ffa500;stroke-linejoin:bevel;\" x=\"310.099432\" xlink:href=\"#mffd1cf0a3d\" y=\"45.247256\"/>\n    </g>\n   </g>\n   <g id=\"patch_3\">\n    <path d=\"M 43.78125 294.118125 \nL 43.78125 22.318125 \n\" style=\"fill:none;stroke:#000000;stroke-linecap:square;stroke-linejoin:miter;stroke-width:0.8;\"/>\n   </g>\n   <g id=\"patch_4\">\n    <path d=\"M 322.78125 294.118125 \nL 322.78125 22.318125 \n\" style=\"fill:none;stroke:#000000;stroke-linecap:square;stroke-linejoin:miter;stroke-width:0.8;\"/>\n   </g>\n   <g id=\"patch_5\">\n    <path d=\"M 43.78125 294.118125 \nL 322.78125 294.118125 \n\" style=\"fill:none;stroke:#000000;stroke-linecap:square;stroke-linejoin:miter;stroke-width:0.8;\"/>\n   </g>\n   <g id=\"patch_6\">\n    <path d=\"M 43.78125 22.318125 \nL 322.78125 22.318125 \n\" style=\"fill:none;stroke:#000000;stroke-linecap:square;stroke-linejoin:miter;stroke-width:0.8;\"/>\n   </g>\n   <g id=\"text_24\">\n    <!-- Accuracy vs Epsilon -->\n    <g transform=\"translate(123.863438 16.318125)scale(0.12 -0.12)\">\n     <defs>\n      <path id=\"DejaVuSans-32\"/>\n      <path d=\"M 2.984375 54.6875 \nL 12.5 54.6875 \nL 29.59375 8.796875 \nL 46.6875 54.6875 \nL 56.203125 54.6875 \nL 35.6875 0 \nL 23.484375 0 \nz\n\" id=\"DejaVuSans-118\"/>\n     </defs>\n     <use xlink:href=\"#DejaVuSans-65\"/>\n     <use x=\"66.658203\" xlink:href=\"#DejaVuSans-99\"/>\n     <use x=\"121.638672\" xlink:href=\"#DejaVuSans-99\"/>\n     <use x=\"176.619141\" xlink:href=\"#DejaVuSans-117\"/>\n     <use x=\"239.998047\" xlink:href=\"#DejaVuSans-114\"/>\n     <use x=\"281.111328\" xlink:href=\"#DejaVuSans-97\"/>\n     <use x=\"342.390625\" xlink:href=\"#DejaVuSans-99\"/>\n     <use x=\"397.371094\" xlink:href=\"#DejaVuSans-121\"/>\n     <use x=\"456.550781\" xlink:href=\"#DejaVuSans-32\"/>\n     <use x=\"488.337891\" xlink:href=\"#DejaVuSans-118\"/>\n     <use x=\"547.517578\" xlink:href=\"#DejaVuSans-115\"/>\n     <use x=\"599.617188\" xlink:href=\"#DejaVuSans-32\"/>\n     <use x=\"631.404297\" xlink:href=\"#DejaVuSans-69\"/>\n     <use x=\"694.587891\" xlink:href=\"#DejaVuSans-112\"/>\n     <use x=\"758.064453\" xlink:href=\"#DejaVuSans-115\"/>\n     <use x=\"810.164062\" xlink:href=\"#DejaVuSans-105\"/>\n     <use x=\"837.947266\" xlink:href=\"#DejaVuSans-108\"/>\n     <use x=\"865.730469\" xlink:href=\"#DejaVuSans-111\"/>\n     <use x=\"926.912109\" xlink:href=\"#DejaVuSans-110\"/>\n    </g>\n   </g>\n   <g id=\"legend_1\">\n    <g id=\"patch_7\">\n     <path d=\"M 50.78125 289.118125 \nL 150.41875 289.118125 \nQ 152.41875 289.118125 152.41875 287.118125 \nL 152.41875 258.761875 \nQ 152.41875 256.761875 150.41875 256.761875 \nL 50.78125 256.761875 \nQ 48.78125 256.761875 48.78125 258.761875 \nL 48.78125 287.118125 \nQ 48.78125 289.118125 50.78125 289.118125 \nz\n\" style=\"fill:#ffffff;opacity:0.8;stroke:#cccccc;stroke-linejoin:miter;\"/>\n    </g>\n    <g id=\"line2d_24\">\n     <path d=\"M 52.78125 264.860312 \nL 72.78125 264.860312 \n\" style=\"fill:none;stroke:#0000ff;stroke-linecap:square;stroke-width:1.5;\"/>\n    </g>\n    <g id=\"line2d_25\">\n     <g>\n      <use style=\"fill:#0000ff;stroke:#0000ff;stroke-linejoin:bevel;\" x=\"62.78125\" xlink:href=\"#ma2556c8f8c\" y=\"264.860312\"/>\n     </g>\n    </g>\n    <g id=\"text_25\">\n     <!-- Naive Model -->\n     <g transform=\"translate(80.78125 268.360312)scale(0.1 -0.1)\">\n      <defs>\n       <path d=\"M 9.8125 72.90625 \nL 23.09375 72.90625 \nL 55.421875 11.921875 \nL 55.421875 72.90625 \nL 64.984375 72.90625 \nL 64.984375 0 \nL 51.703125 0 \nL 19.390625 60.984375 \nL 19.390625 0 \nL 9.8125 0 \nz\n\" id=\"DejaVuSans-78\"/>\n       <path d=\"M 56.203125 29.59375 \nL 56.203125 25.203125 \nL 14.890625 25.203125 \nQ 15.484375 15.921875 20.484375 11.0625 \nQ 25.484375 6.203125 34.421875 6.203125 \nQ 39.59375 6.203125 44.453125 7.46875 \nQ 49.3125 8.734375 54.109375 11.28125 \nL 54.109375 2.78125 \nQ 49.265625 0.734375 44.1875 -0.34375 \nQ 39.109375 -1.421875 33.890625 -1.421875 \nQ 20.796875 -1.421875 13.15625 6.1875 \nQ 5.515625 13.8125 5.515625 26.8125 \nQ 5.515625 40.234375 12.765625 48.109375 \nQ 20.015625 56 32.328125 56 \nQ 43.359375 56 49.78125 48.890625 \nQ 56.203125 41.796875 56.203125 29.59375 \nz\nM 47.21875 32.234375 \nQ 47.125 39.59375 43.09375 43.984375 \nQ 39.0625 48.390625 32.421875 48.390625 \nQ 24.90625 48.390625 20.390625 44.140625 \nQ 15.875 39.890625 15.1875 32.171875 \nz\n\" id=\"DejaVuSans-101\"/>\n       <path d=\"M 9.8125 72.90625 \nL 24.515625 72.90625 \nL 43.109375 23.296875 \nL 61.8125 72.90625 \nL 76.515625 72.90625 \nL 76.515625 0 \nL 66.890625 0 \nL 66.890625 64.015625 \nL 48.09375 14.015625 \nL 38.1875 14.015625 \nL 19.390625 64.015625 \nL 19.390625 0 \nL 9.8125 0 \nz\n\" id=\"DejaVuSans-77\"/>\n       <path d=\"M 45.40625 46.390625 \nL 45.40625 75.984375 \nL 54.390625 75.984375 \nL 54.390625 0 \nL 45.40625 0 \nL 45.40625 8.203125 \nQ 42.578125 3.328125 38.25 0.953125 \nQ 33.9375 -1.421875 27.875 -1.421875 \nQ 17.96875 -1.421875 11.734375 6.484375 \nQ 5.515625 14.40625 5.515625 27.296875 \nQ 5.515625 40.1875 11.734375 48.09375 \nQ 17.96875 56 27.875 56 \nQ 33.9375 56 38.25 53.625 \nQ 42.578125 51.265625 45.40625 46.390625 \nz\nM 14.796875 27.296875 \nQ 14.796875 17.390625 18.875 11.75 \nQ 22.953125 6.109375 30.078125 6.109375 \nQ 37.203125 6.109375 41.296875 11.75 \nQ 45.40625 17.390625 45.40625 27.296875 \nQ 45.40625 37.203125 41.296875 42.84375 \nQ 37.203125 48.484375 30.078125 48.484375 \nQ 22.953125 48.484375 18.875 42.84375 \nQ 14.796875 37.203125 14.796875 27.296875 \nz\n\" id=\"DejaVuSans-100\"/>\n      </defs>\n      <use xlink:href=\"#DejaVuSans-78\"/>\n      <use x=\"74.804688\" xlink:href=\"#DejaVuSans-97\"/>\n      <use x=\"136.083984\" xlink:href=\"#DejaVuSans-105\"/>\n      <use x=\"163.867188\" xlink:href=\"#DejaVuSans-118\"/>\n      <use x=\"223.046875\" xlink:href=\"#DejaVuSans-101\"/>\n      <use x=\"284.570312\" xlink:href=\"#DejaVuSans-32\"/>\n      <use x=\"316.357422\" xlink:href=\"#DejaVuSans-77\"/>\n      <use x=\"402.636719\" xlink:href=\"#DejaVuSans-111\"/>\n      <use x=\"463.818359\" xlink:href=\"#DejaVuSans-100\"/>\n      <use x=\"527.294922\" xlink:href=\"#DejaVuSans-101\"/>\n      <use x=\"588.818359\" xlink:href=\"#DejaVuSans-108\"/>\n     </g>\n    </g>\n    <g id=\"line2d_26\">\n     <path d=\"M 52.78125 279.538437 \nL 72.78125 279.538437 \n\" style=\"fill:none;stroke:#ffa500;stroke-linecap:square;stroke-width:1.5;\"/>\n    </g>\n    <g id=\"line2d_27\">\n     <g>\n      <use style=\"fill:#ffa500;stroke:#ffa500;stroke-linejoin:bevel;\" x=\"62.78125\" xlink:href=\"#mffd1cf0a3d\" y=\"279.538437\"/>\n     </g>\n    </g>\n    <g id=\"text_26\">\n     <!-- Robust Model -->\n     <g transform=\"translate(80.78125 283.038437)scale(0.1 -0.1)\">\n      <defs>\n       <path d=\"M 44.390625 34.1875 \nQ 47.5625 33.109375 50.5625 29.59375 \nQ 53.5625 26.078125 56.59375 19.921875 \nL 66.609375 0 \nL 56 0 \nL 46.6875 18.703125 \nQ 43.0625 26.03125 39.671875 28.421875 \nQ 36.28125 30.8125 30.421875 30.8125 \nL 19.671875 30.8125 \nL 19.671875 0 \nL 9.8125 0 \nL 9.8125 72.90625 \nL 32.078125 72.90625 \nQ 44.578125 72.90625 50.734375 67.671875 \nQ 56.890625 62.453125 56.890625 51.90625 \nQ 56.890625 45.015625 53.6875 40.46875 \nQ 50.484375 35.9375 44.390625 34.1875 \nz\nM 19.671875 64.796875 \nL 19.671875 38.921875 \nL 32.078125 38.921875 \nQ 39.203125 38.921875 42.84375 42.21875 \nQ 46.484375 45.515625 46.484375 51.90625 \nQ 46.484375 58.296875 42.84375 61.546875 \nQ 39.203125 64.796875 32.078125 64.796875 \nz\n\" id=\"DejaVuSans-82\"/>\n       <path d=\"M 48.6875 27.296875 \nQ 48.6875 37.203125 44.609375 42.84375 \nQ 40.53125 48.484375 33.40625 48.484375 \nQ 26.265625 48.484375 22.1875 42.84375 \nQ 18.109375 37.203125 18.109375 27.296875 \nQ 18.109375 17.390625 22.1875 11.75 \nQ 26.265625 6.109375 33.40625 6.109375 \nQ 40.53125 6.109375 44.609375 11.75 \nQ 48.6875 17.390625 48.6875 27.296875 \nz\nM 18.109375 46.390625 \nQ 20.953125 51.265625 25.265625 53.625 \nQ 29.59375 56 35.59375 56 \nQ 45.5625 56 51.78125 48.09375 \nQ 58.015625 40.1875 58.015625 27.296875 \nQ 58.015625 14.40625 51.78125 6.484375 \nQ 45.5625 -1.421875 35.59375 -1.421875 \nQ 29.59375 -1.421875 25.265625 0.953125 \nQ 20.953125 3.328125 18.109375 8.203125 \nL 18.109375 0 \nL 9.078125 0 \nL 9.078125 75.984375 \nL 18.109375 75.984375 \nz\n\" id=\"DejaVuSans-98\"/>\n       <path d=\"M 18.3125 70.21875 \nL 18.3125 54.6875 \nL 36.8125 54.6875 \nL 36.8125 47.703125 \nL 18.3125 47.703125 \nL 18.3125 18.015625 \nQ 18.3125 11.328125 20.140625 9.421875 \nQ 21.96875 7.515625 27.59375 7.515625 \nL 36.8125 7.515625 \nL 36.8125 0 \nL 27.59375 0 \nQ 17.1875 0 13.234375 3.875 \nQ 9.28125 7.765625 9.28125 18.015625 \nL 9.28125 47.703125 \nL 2.6875 47.703125 \nL 2.6875 54.6875 \nL 9.28125 54.6875 \nL 9.28125 70.21875 \nz\n\" id=\"DejaVuSans-116\"/>\n      </defs>\n      <use xlink:href=\"#DejaVuSans-82\"/>\n      <use x=\"64.982422\" xlink:href=\"#DejaVuSans-111\"/>\n      <use x=\"126.164062\" xlink:href=\"#DejaVuSans-98\"/>\n      <use x=\"189.640625\" xlink:href=\"#DejaVuSans-117\"/>\n      <use x=\"253.019531\" xlink:href=\"#DejaVuSans-115\"/>\n      <use x=\"305.119141\" xlink:href=\"#DejaVuSans-116\"/>\n      <use x=\"344.328125\" xlink:href=\"#DejaVuSans-32\"/>\n      <use x=\"376.115234\" xlink:href=\"#DejaVuSans-77\"/>\n      <use x=\"462.394531\" xlink:href=\"#DejaVuSans-111\"/>\n      <use x=\"523.576172\" xlink:href=\"#DejaVuSans-100\"/>\n      <use x=\"587.052734\" xlink:href=\"#DejaVuSans-101\"/>\n      <use x=\"648.576172\" xlink:href=\"#DejaVuSans-108\"/>\n     </g>\n    </g>\n   </g>\n  </g>\n </g>\n <defs>\n  <clipPath id=\"pb703c619ba\">\n   <rect height=\"271.8\" width=\"279\" x=\"43.78125\" y=\"22.318125\"/>\n  </clipPath>\n </defs>\n</svg>\n",
      "image/png": "[encoded data removed]"
     },
     "metadata": {
      "needs_background": "light"
     }
    }
   ],
   "source": [
    "plt.figure(figsize=(5,5))\n",
    "plt.plot(epsilons, accuracy_naive, \"*-\", c='blue', label='Naive Model')\n",
    "plt.plot(epsilons, accuracy_robust, \"*-\", c='orange', label='Robust Model')\n",
    "\n",
    "plt.yticks(np.arange(0, 1.1, step=0.1))\n",
    "plt.xticks(np.arange(0, 0.5, step=0.05))\n",
    "\n",
    "plt.title(\"Accuracy vs Epsilon\")\n",
    "plt.xlabel(\"Epsilon\")\n",
    "plt.ylabel(\"Accuracy\")\n",
    "plt.legend();"
   ]
  },
  {
   "cell_type": "code",
   "execution_count": null,
   "metadata": {},
   "outputs": [],
   "source": []
  }
 ]
}