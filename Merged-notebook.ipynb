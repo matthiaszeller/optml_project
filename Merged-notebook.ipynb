{
 "cells": [
  {
   "cell_type": "markdown",
   "id": "textile-yemen",
   "metadata": {},
   "source": [
    "# guidelines\n",
    "\n",
    "TODO : import whenever needed, not centralized"
   ]
  },
  {
   "cell_type": "markdown",
   "id": "diagnostic-repair",
   "metadata": {},
   "source": [
    "states https://pytorch.org/tutorials/beginner/saving_loading_models.html"
   ]
  },
  {
   "cell_type": "markdown",
   "id": "broken-penguin",
   "metadata": {},
   "source": [
    "# Introduction "
   ]
  },
  {
   "cell_type": "markdown",
   "id": "prepared-flesh",
   "metadata": {},
   "source": [
    "## Aim"
   ]
  },
  {
   "cell_type": "markdown",
   "id": "grave-nicholas",
   "metadata": {},
   "source": [
    "## Data"
   ]
  },
  {
   "cell_type": "code",
   "execution_count": null,
   "id": "royal-differential",
   "metadata": {},
   "outputs": [],
   "source": [
    "# download"
   ]
  },
  {
   "cell_type": "markdown",
   "id": "documentary-defense",
   "metadata": {},
   "source": [
    "## Setup"
   ]
  },
  {
   "cell_type": "code",
   "execution_count": null,
   "id": "automated-period",
   "metadata": {},
   "outputs": [],
   "source": [
    "# flags\n",
    "# use cuda = True\n",
    "# tune_hyperparam = True"
   ]
  },
  {
   "cell_type": "code",
   "execution_count": null,
   "id": "banner-router",
   "metadata": {},
   "outputs": [],
   "source": [
    "# device = "
   ]
  },
  {
   "cell_type": "markdown",
   "id": "three-tunisia",
   "metadata": {},
   "source": [
    "# Model"
   ]
  },
  {
   "cell_type": "code",
   "execution_count": null,
   "id": "dynamic-catalyst",
   "metadata": {},
   "outputs": [],
   "source": [
    "# import the model\n",
    "\n",
    "# net = fhreifg\n",
    "# initial_state = net.get_state()"
   ]
  },
  {
   "cell_type": "markdown",
   "id": "suburban-approach",
   "metadata": {},
   "source": [
    "# Hyperparameter tuning"
   ]
  },
  {
   "cell_type": "code",
   "execution_count": 1,
   "id": "illegal-avenue",
   "metadata": {},
   "outputs": [],
   "source": [
    "# parameters that are in common batch size, epochs"
   ]
  },
  {
   "cell_type": "markdown",
   "id": "indirect-congress",
   "metadata": {},
   "source": [
    "## Adam"
   ]
  },
  {
   "cell_type": "code",
   "execution_count": null,
   "id": "speaking-bachelor",
   "metadata": {},
   "outputs": [],
   "source": [
    "# model.load_state_dict(initial_state)"
   ]
  },
  {
   "cell_type": "markdown",
   "id": "happy-addition",
   "metadata": {},
   "source": [
    "## Nesterov"
   ]
  },
  {
   "cell_type": "markdown",
   "id": "front-technical",
   "metadata": {},
   "source": [
    "## Minibatch"
   ]
  },
  {
   "cell_type": "code",
   "execution_count": null,
   "id": "aging-marketing",
   "metadata": {},
   "outputs": [],
   "source": [
    "# lst_optimizer = {'name': function_optimizer}"
   ]
  },
  {
   "cell_type": "markdown",
   "id": "boolean-details",
   "metadata": {},
   "source": [
    "## Comparison"
   ]
  },
  {
   "cell_type": "markdown",
   "id": "developing-zimbabwe",
   "metadata": {},
   "source": [
    "# Attack on naive model\n",
    "\n"
   ]
  },
  {
   "cell_type": "markdown",
   "id": "noticed-mobility",
   "metadata": {},
   "source": [
    "## Train naive models"
   ]
  },
  {
   "cell_type": "code",
   "execution_count": null,
   "id": "similar-nirvana",
   "metadata": {},
   "outputs": [],
   "source": [
    "# use the lst_optimizer"
   ]
  },
  {
   "cell_type": "markdown",
   "id": "static-colony",
   "metadata": {},
   "source": [
    "## Attack naive models"
   ]
  },
  {
   "cell_type": "code",
   "execution_count": null,
   "id": "danish-rider",
   "metadata": {},
   "outputs": [],
   "source": [
    "# use the lst_optimizer"
   ]
  },
  {
   "cell_type": "markdown",
   "id": "english-saver",
   "metadata": {},
   "source": [
    "## Comparison"
   ]
  },
  {
   "cell_type": "markdown",
   "id": "protecting-equation",
   "metadata": {},
   "source": [
    "# Attack on robust model"
   ]
  },
  {
   "cell_type": "markdown",
   "id": "bridal-blind",
   "metadata": {},
   "source": [
    "## Train robust models"
   ]
  },
  {
   "cell_type": "markdown",
   "id": "swedish-exchange",
   "metadata": {},
   "source": [
    "## Attack robust models"
   ]
  },
  {
   "cell_type": "markdown",
   "id": "broadband-current",
   "metadata": {},
   "source": [
    "## Comparison"
   ]
  },
  {
   "cell_type": "markdown",
   "id": "decimal-elimination",
   "metadata": {},
   "source": [
    "# Comparative analysis"
   ]
  },
  {
   "cell_type": "markdown",
   "id": "naval-abortion",
   "metadata": {},
   "source": [
    "Lots of plots\n",
    "\n",
    "* diff naive vs robust (algo as hue)"
   ]
  }
 ],
 "metadata": {
  "kernelspec": {
   "display_name": "Python [conda env:ml]",
   "language": "python",
   "name": "conda-env-ml-py"
  },
  "language_info": {
   "codemirror_mode": {
    "name": "ipython",
    "version": 3
   },
   "file_extension": ".py",
   "mimetype": "text/x-python",
   "name": "python",
   "nbconvert_exporter": "python",
   "pygments_lexer": "ipython3",
   "version": "3.8.8"
  }
 },
 "nbformat": 4,
 "nbformat_minor": 5
}
