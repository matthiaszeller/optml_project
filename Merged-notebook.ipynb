{
 "cells": [
  {
   "cell_type": "code",
   "execution_count": 1,
   "id": "joined-completion",
   "metadata": {},
   "outputs": [],
   "source": [
    "%load_ext autoreload\n",
    "%autoreload 2"
   ]
  },
  {
   "cell_type": "markdown",
   "id": "noticed-gallery",
   "metadata": {
    "id": "UJ_a9gfoTC4y"
   },
   "source": [
    "# guidelines\n",
    "\n",
    "TODO : import whenever needed, not centralized"
   ]
  },
  {
   "cell_type": "markdown",
   "id": "extensive-photograph",
   "metadata": {
    "id": "qm2EKZTHTC41"
   },
   "source": [
    "states https://pytorch.org/tutorials/beginner/saving_loading_models.html"
   ]
  },
  {
   "cell_type": "markdown",
   "id": "surprised-international",
   "metadata": {
    "id": "NsH47FguTC41"
   },
   "source": [
    "# Introduction "
   ]
  },
  {
   "cell_type": "markdown",
   "id": "technical-education",
   "metadata": {
    "id": "clL0GDWjTC42"
   },
   "source": [
    "## Aim"
   ]
  },
  {
   "cell_type": "markdown",
   "id": "soviet-vegetarian",
   "metadata": {
    "id": "_cM5-hWaTC42"
   },
   "source": [
    "## Data"
   ]
  },
  {
   "cell_type": "markdown",
   "id": "silver-safety",
   "metadata": {
    "id": "8XnMM2bBTC43"
   },
   "source": [
    "First load the dataset:"
   ]
  },
  {
   "cell_type": "code",
   "execution_count": 2,
   "id": "union-gather",
   "metadata": {
    "executionInfo": {
     "elapsed": 1536,
     "status": "ok",
     "timestamp": 1623615226047,
     "user": {
      "displayName": "Baris Sevilmis",
      "photoUrl": "",
      "userId": "05631870087761794056"
     },
     "user_tz": -120
    },
    "id": "W_KxujBATC43"
   },
   "outputs": [],
   "source": [
    "from data_utils import get_mnist\n",
    "\n",
    "train_dataset, test_dataset = get_mnist(normalize=True)"
   ]
  },
  {
   "cell_type": "code",
   "execution_count": 3,
   "id": "classified-parker",
   "metadata": {
    "executionInfo": {
     "elapsed": 4,
     "status": "ok",
     "timestamp": 1623615226048,
     "user": {
      "displayName": "Baris Sevilmis",
      "photoUrl": "",
      "userId": "05631870087761794056"
     },
     "user_tz": -120
    },
    "id": "ydlgk0IATC45"
   },
   "outputs": [],
   "source": [
    "import numpy as np\n",
    "#import random\n",
    "import torch\n",
    "import matplotlib.pyplot as plt\n",
    "import pandas as pd\n",
    "import seaborn as sns"
   ]
  },
  {
   "cell_type": "markdown",
   "id": "departmental-simulation",
   "metadata": {
    "id": "JOCvUKD4TC45"
   },
   "source": [
    "## Setup"
   ]
  },
  {
   "cell_type": "markdown",
   "id": "extensive-florence",
   "metadata": {
    "id": "Jo1zcsgCTC46"
   },
   "source": [
    "Below one can find flags that will setup the notebook:"
   ]
  },
  {
   "cell_type": "code",
   "execution_count": 4,
   "id": "golden-termination",
   "metadata": {
    "executionInfo": {
     "elapsed": 3,
     "status": "ok",
     "timestamp": 1623615227626,
     "user": {
      "displayName": "Baris Sevilmis",
      "photoUrl": "",
      "userId": "05631870087761794056"
     },
     "user_tz": -120
    },
    "id": "FIDMg4EQTC46"
   },
   "outputs": [],
   "source": [
    "# Whether to tune the hyperparameters in this notebook\n",
    "# Note that this might take a long time (especially for Adam)\n",
    "hyperparameter_tune = False\n",
    "prot_hyperparameter_tune = False"
   ]
  },
  {
   "cell_type": "code",
   "execution_count": 5,
   "id": "complex-bandwidth",
   "metadata": {
    "colab": {
     "base_uri": "https://localhost:8080/"
    },
    "executionInfo": {
     "elapsed": 4,
     "status": "ok",
     "timestamp": 1623615228148,
     "user": {
      "displayName": "Baris Sevilmis",
      "photoUrl": "",
      "userId": "05631870087761794056"
     },
     "user_tz": -120
    },
    "id": "yU6gHibuTC46",
    "outputId": "3775ac24-0575-4b38-c3a7-7cb5eaabe3ca"
   },
   "outputs": [
    {
     "name": "stdout",
     "output_type": "stream",
     "text": [
      "Device chosen is cuda\n"
     ]
    }
   ],
   "source": [
    "# Whether to use the GPU, if it's not available, this will be ignored\n",
    "use_cuda = True\n",
    "device = torch.device('cuda' if use_cuda and torch.cuda.is_available() else 'cpu')\n",
    "print(\"Device chosen is {}\".format(device))"
   ]
  },
  {
   "cell_type": "markdown",
   "id": "israeli-diameter",
   "metadata": {
    "id": "x9yEXbkCTC47"
   },
   "source": [
    "We setup the training parameters that we will use all along the notebook, in order to improve readability in downstream code:"
   ]
  },
  {
   "cell_type": "code",
   "execution_count": 10,
   "id": "recognized-rebel",
   "metadata": {
    "colab": {
     "base_uri": "https://localhost:8080/"
    },
    "executionInfo": {
     "elapsed": 3,
     "status": "ok",
     "timestamp": 1623615229299,
     "user": {
      "displayName": "Baris Sevilmis",
      "photoUrl": "",
      "userId": "05631870087761794056"
     },
     "user_tz": -120
    },
    "id": "-k633Z4qTC48",
    "outputId": "e2521401-b76d-4591-b3ed-15de5f10b7ae"
   },
   "outputs": [],
   "source": [
    "from training import accuracy\n",
    "\n",
    "training_config = {\n",
    "    # Loss function\n",
    "    'loss_fun': torch.nn.CrossEntropyLoss(),\n",
    "    # Performance evaluation function\n",
    "    'metric_fun': accuracy,\n",
    "    # The device to train on\n",
    "    'device': device,\n",
    "    # Number of epochs\n",
    "    'epochs': 10,\n",
    "}\n",
    "\n",
    "test_config = training_config.copy()\n",
    "test_config.pop('epochs');"
   ]
  },
  {
   "cell_type": "markdown",
   "id": "adopted-vegetable",
   "metadata": {
    "id": "mwSjghI5TC47"
   },
   "source": [
    "Note that we will use a model with a 10-dimensional output, where each output is passed through softmax. When receiving an output \n",
    "\n",
    "$$Z = \\begin{bmatrix} \\mathbf z_1 & \\dots & \\mathbf z_B \\end{bmatrix}^\\top \\in \\mathbb R^{B \\times 10}$$\n",
    "\n",
    "with $B$ the batch size, we first retrieve the maximal component of each $\\mathbf z_i$:\n",
    "\n",
    "$$\\hat y_i = \\text{argmax}_{k = 1, \\ldots, 10} \\; z_{ik}, \\quad i = 1, \\ldots, B$$\n",
    "\n",
    "and then compute the accuracy:\n",
    "\n",
    "$$\\text{acc} = \\frac 1 B \\sum_{i=1}^B I\\left\\{ \\hat y_i = y_i \\right\\} $$\n",
    "\n",
    "with $I$ the indicator function and $y_i \\in \\{1, \\ldots, 10\\}$ the true target. "
   ]
  },
  {
   "cell_type": "code",
   "execution_count": 11,
   "id": "expected-publicity",
   "metadata": {
    "executionInfo": {
     "elapsed": 3456,
     "status": "ok",
     "timestamp": 1623615233031,
     "user": {
      "displayName": "Baris Sevilmis",
      "photoUrl": "",
      "userId": "05631870087761794056"
     },
     "user_tz": -120
    },
    "id": "duD86o_VTC48"
   },
   "outputs": [
    {
     "data": {
      "text/plain": [
       "\u001b[0;31mSignature:\u001b[0m \u001b[0maccuracy\u001b[0m\u001b[0;34m(\u001b[0m\u001b[0myhat\u001b[0m\u001b[0;34m,\u001b[0m \u001b[0my\u001b[0m\u001b[0;34m)\u001b[0m\u001b[0;34m\u001b[0m\u001b[0;34m\u001b[0m\u001b[0m\n",
       "\u001b[0;31mDocstring:\u001b[0m <no docstring>\n",
       "\u001b[0;31mSource:\u001b[0m   \n",
       "\u001b[0;32mdef\u001b[0m \u001b[0maccuracy\u001b[0m\u001b[0;34m(\u001b[0m\u001b[0myhat\u001b[0m\u001b[0;34m,\u001b[0m \u001b[0my\u001b[0m\u001b[0;34m)\u001b[0m\u001b[0;34m:\u001b[0m\u001b[0;34m\u001b[0m\n",
       "\u001b[0;34m\u001b[0m    \u001b[0mprediction\u001b[0m \u001b[0;34m=\u001b[0m \u001b[0myhat\u001b[0m\u001b[0;34m.\u001b[0m\u001b[0margmax\u001b[0m\u001b[0;34m(\u001b[0m\u001b[0mdim\u001b[0m\u001b[0;34m=\u001b[0m\u001b[0;36m1\u001b[0m\u001b[0;34m)\u001b[0m\u001b[0;34m\u001b[0m\n",
       "\u001b[0;34m\u001b[0m    \u001b[0;32mreturn\u001b[0m \u001b[0;34m(\u001b[0m\u001b[0my\u001b[0m\u001b[0;34m.\u001b[0m\u001b[0meq\u001b[0m\u001b[0;34m(\u001b[0m\u001b[0mprediction\u001b[0m\u001b[0;34m)\u001b[0m\u001b[0;34m)\u001b[0m\u001b[0;34m.\u001b[0m\u001b[0mto\u001b[0m\u001b[0;34m(\u001b[0m\u001b[0mfloat\u001b[0m\u001b[0;34m)\u001b[0m\u001b[0;34m.\u001b[0m\u001b[0mmean\u001b[0m\u001b[0;34m(\u001b[0m\u001b[0;34m)\u001b[0m\u001b[0;34m.\u001b[0m\u001b[0mitem\u001b[0m\u001b[0;34m(\u001b[0m\u001b[0;34m)\u001b[0m\u001b[0;34m\u001b[0m\u001b[0;34m\u001b[0m\u001b[0m\n",
       "\u001b[0;31mFile:\u001b[0m      /media/maousi/Data/Documents/Programmation/courses/DS-MA2/optml_project/training.py\n",
       "\u001b[0;31mType:\u001b[0m      function\n"
      ]
     },
     "metadata": {},
     "output_type": "display_data"
    }
   ],
   "source": [
    "# View the source code\n",
    "??accuracy"
   ]
  },
  {
   "cell_type": "markdown",
   "id": "opened-invasion",
   "metadata": {
    "id": "eLHWxZnwTC48"
   },
   "source": [
    "# Model"
   ]
  },
  {
   "cell_type": "markdown",
   "id": "delayed-payday",
   "metadata": {
    "id": "ShHEMS_2TC49"
   },
   "source": [
    "We use a simple standard model for the MNIST dataset (can be found [here](https://github.com/floydhub/mnist/blob/master/ConvNet.py))."
   ]
  },
  {
   "cell_type": "code",
   "execution_count": 12,
   "id": "fluid-attitude",
   "metadata": {
    "executionInfo": {
     "elapsed": 460,
     "status": "ok",
     "timestamp": 1623615234700,
     "user": {
      "displayName": "Baris Sevilmis",
      "photoUrl": "",
      "userId": "05631870087761794056"
     },
     "user_tz": -120
    },
    "id": "37yE7eiYTC49"
   },
   "outputs": [
    {
     "data": {
      "text/plain": [
       "\u001b[0;31mInit signature:\u001b[0m \u001b[0mNet\u001b[0m\u001b[0;34m(\u001b[0m\u001b[0;34m)\u001b[0m\u001b[0;34m\u001b[0m\u001b[0;34m\u001b[0m\u001b[0m\n",
       "\u001b[0;31mSource:\u001b[0m        \n",
       "\u001b[0;32mclass\u001b[0m \u001b[0mNet\u001b[0m\u001b[0;34m(\u001b[0m\u001b[0mnn\u001b[0m\u001b[0;34m.\u001b[0m\u001b[0mModule\u001b[0m\u001b[0;34m)\u001b[0m\u001b[0;34m:\u001b[0m\u001b[0;34m\u001b[0m\n",
       "\u001b[0;34m\u001b[0m    \u001b[0;34m\"\"\"ConvNet -> Max_Pool -> RELU -> ConvNet -> Max_Pool -> RELU -> FC -> RELU -> FC -> SOFTMAX\"\"\"\u001b[0m\u001b[0;34m\u001b[0m\n",
       "\u001b[0;34m\u001b[0m    \u001b[0;32mdef\u001b[0m \u001b[0m__init__\u001b[0m\u001b[0;34m(\u001b[0m\u001b[0mself\u001b[0m\u001b[0;34m)\u001b[0m\u001b[0;34m:\u001b[0m\u001b[0;34m\u001b[0m\n",
       "\u001b[0;34m\u001b[0m        \u001b[0msuper\u001b[0m\u001b[0;34m(\u001b[0m\u001b[0mNet\u001b[0m\u001b[0;34m,\u001b[0m \u001b[0mself\u001b[0m\u001b[0;34m)\u001b[0m\u001b[0;34m.\u001b[0m\u001b[0m__init__\u001b[0m\u001b[0;34m(\u001b[0m\u001b[0;34m)\u001b[0m\u001b[0;34m\u001b[0m\n",
       "\u001b[0;34m\u001b[0m        \u001b[0mself\u001b[0m\u001b[0;34m.\u001b[0m\u001b[0mconv1\u001b[0m \u001b[0;34m=\u001b[0m \u001b[0mnn\u001b[0m\u001b[0;34m.\u001b[0m\u001b[0mConv2d\u001b[0m\u001b[0;34m(\u001b[0m\u001b[0;36m1\u001b[0m\u001b[0;34m,\u001b[0m \u001b[0;36m20\u001b[0m\u001b[0;34m,\u001b[0m \u001b[0;36m5\u001b[0m\u001b[0;34m,\u001b[0m \u001b[0;36m1\u001b[0m\u001b[0;34m)\u001b[0m\u001b[0;34m\u001b[0m\n",
       "\u001b[0;34m\u001b[0m        \u001b[0mself\u001b[0m\u001b[0;34m.\u001b[0m\u001b[0mconv2\u001b[0m \u001b[0;34m=\u001b[0m \u001b[0mnn\u001b[0m\u001b[0;34m.\u001b[0m\u001b[0mConv2d\u001b[0m\u001b[0;34m(\u001b[0m\u001b[0;36m20\u001b[0m\u001b[0;34m,\u001b[0m \u001b[0;36m50\u001b[0m\u001b[0;34m,\u001b[0m \u001b[0;36m5\u001b[0m\u001b[0;34m,\u001b[0m \u001b[0;36m1\u001b[0m\u001b[0;34m)\u001b[0m\u001b[0;34m\u001b[0m\n",
       "\u001b[0;34m\u001b[0m        \u001b[0mself\u001b[0m\u001b[0;34m.\u001b[0m\u001b[0mfc1\u001b[0m \u001b[0;34m=\u001b[0m \u001b[0mnn\u001b[0m\u001b[0;34m.\u001b[0m\u001b[0mLinear\u001b[0m\u001b[0;34m(\u001b[0m\u001b[0;36m4\u001b[0m\u001b[0;34m*\u001b[0m\u001b[0;36m4\u001b[0m\u001b[0;34m*\u001b[0m\u001b[0;36m50\u001b[0m\u001b[0;34m,\u001b[0m \u001b[0;36m500\u001b[0m\u001b[0;34m)\u001b[0m\u001b[0;34m\u001b[0m\n",
       "\u001b[0;34m\u001b[0m        \u001b[0mself\u001b[0m\u001b[0;34m.\u001b[0m\u001b[0mfc2\u001b[0m \u001b[0;34m=\u001b[0m \u001b[0mnn\u001b[0m\u001b[0;34m.\u001b[0m\u001b[0mLinear\u001b[0m\u001b[0;34m(\u001b[0m\u001b[0;36m500\u001b[0m\u001b[0;34m,\u001b[0m \u001b[0;36m10\u001b[0m\u001b[0;34m)\u001b[0m\u001b[0;34m\u001b[0m\n",
       "\u001b[0;34m\u001b[0m\u001b[0;34m\u001b[0m\n",
       "\u001b[0;34m\u001b[0m    \u001b[0;32mdef\u001b[0m \u001b[0mforward\u001b[0m\u001b[0;34m(\u001b[0m\u001b[0mself\u001b[0m\u001b[0;34m,\u001b[0m \u001b[0mx\u001b[0m\u001b[0;34m)\u001b[0m\u001b[0;34m:\u001b[0m\u001b[0;34m\u001b[0m\n",
       "\u001b[0;34m\u001b[0m        \u001b[0mx\u001b[0m \u001b[0;34m=\u001b[0m \u001b[0mF\u001b[0m\u001b[0;34m.\u001b[0m\u001b[0mrelu\u001b[0m\u001b[0;34m(\u001b[0m\u001b[0mself\u001b[0m\u001b[0;34m.\u001b[0m\u001b[0mconv1\u001b[0m\u001b[0;34m(\u001b[0m\u001b[0mx\u001b[0m\u001b[0;34m)\u001b[0m\u001b[0;34m)\u001b[0m\u001b[0;34m\u001b[0m\n",
       "\u001b[0;34m\u001b[0m        \u001b[0mx\u001b[0m \u001b[0;34m=\u001b[0m \u001b[0mF\u001b[0m\u001b[0;34m.\u001b[0m\u001b[0mmax_pool2d\u001b[0m\u001b[0;34m(\u001b[0m\u001b[0mx\u001b[0m\u001b[0;34m,\u001b[0m \u001b[0;36m2\u001b[0m\u001b[0;34m,\u001b[0m \u001b[0;36m2\u001b[0m\u001b[0;34m)\u001b[0m\u001b[0;34m\u001b[0m\n",
       "\u001b[0;34m\u001b[0m        \u001b[0mx\u001b[0m \u001b[0;34m=\u001b[0m \u001b[0mF\u001b[0m\u001b[0;34m.\u001b[0m\u001b[0mrelu\u001b[0m\u001b[0;34m(\u001b[0m\u001b[0mself\u001b[0m\u001b[0;34m.\u001b[0m\u001b[0mconv2\u001b[0m\u001b[0;34m(\u001b[0m\u001b[0mx\u001b[0m\u001b[0;34m)\u001b[0m\u001b[0;34m)\u001b[0m\u001b[0;34m\u001b[0m\n",
       "\u001b[0;34m\u001b[0m        \u001b[0mx\u001b[0m \u001b[0;34m=\u001b[0m \u001b[0mF\u001b[0m\u001b[0;34m.\u001b[0m\u001b[0mmax_pool2d\u001b[0m\u001b[0;34m(\u001b[0m\u001b[0mx\u001b[0m\u001b[0;34m,\u001b[0m \u001b[0;36m2\u001b[0m\u001b[0;34m,\u001b[0m \u001b[0;36m2\u001b[0m\u001b[0;34m)\u001b[0m\u001b[0;34m\u001b[0m\n",
       "\u001b[0;34m\u001b[0m        \u001b[0mx\u001b[0m \u001b[0;34m=\u001b[0m \u001b[0mx\u001b[0m\u001b[0;34m.\u001b[0m\u001b[0mview\u001b[0m\u001b[0;34m(\u001b[0m\u001b[0;34m-\u001b[0m\u001b[0;36m1\u001b[0m\u001b[0;34m,\u001b[0m \u001b[0;36m4\u001b[0m\u001b[0;34m*\u001b[0m\u001b[0;36m4\u001b[0m\u001b[0;34m*\u001b[0m\u001b[0;36m50\u001b[0m\u001b[0;34m)\u001b[0m\u001b[0;34m\u001b[0m\n",
       "\u001b[0;34m\u001b[0m        \u001b[0mx\u001b[0m \u001b[0;34m=\u001b[0m \u001b[0mF\u001b[0m\u001b[0;34m.\u001b[0m\u001b[0mrelu\u001b[0m\u001b[0;34m(\u001b[0m\u001b[0mself\u001b[0m\u001b[0;34m.\u001b[0m\u001b[0mfc1\u001b[0m\u001b[0;34m(\u001b[0m\u001b[0mx\u001b[0m\u001b[0;34m)\u001b[0m\u001b[0;34m)\u001b[0m\u001b[0;34m\u001b[0m\n",
       "\u001b[0;34m\u001b[0m        \u001b[0mx\u001b[0m \u001b[0;34m=\u001b[0m \u001b[0mself\u001b[0m\u001b[0;34m.\u001b[0m\u001b[0mfc2\u001b[0m\u001b[0;34m(\u001b[0m\u001b[0mx\u001b[0m\u001b[0;34m)\u001b[0m\u001b[0;34m\u001b[0m\n",
       "\u001b[0;34m\u001b[0m        \u001b[0;32mreturn\u001b[0m \u001b[0mF\u001b[0m\u001b[0;34m.\u001b[0m\u001b[0mlog_softmax\u001b[0m\u001b[0;34m(\u001b[0m\u001b[0mx\u001b[0m\u001b[0;34m,\u001b[0m \u001b[0mdim\u001b[0m\u001b[0;34m=\u001b[0m\u001b[0;36m1\u001b[0m\u001b[0;34m)\u001b[0m\u001b[0;34m\u001b[0m\u001b[0;34m\u001b[0m\u001b[0m\n",
       "\u001b[0;31mFile:\u001b[0m           /media/maousi/Data/Documents/Programmation/courses/DS-MA2/optml_project/net.py\n",
       "\u001b[0;31mType:\u001b[0m           type\n",
       "\u001b[0;31mSubclasses:\u001b[0m     \n"
      ]
     },
     "metadata": {},
     "output_type": "display_data"
    }
   ],
   "source": [
    "from net import Net\n",
    "\n",
    "??Net"
   ]
  },
  {
   "cell_type": "markdown",
   "id": "ceramic-collection",
   "metadata": {
    "id": "Wi6r1BeyTC4-"
   },
   "source": [
    "# Hyperparameter tuning"
   ]
  },
  {
   "cell_type": "code",
   "execution_count": 13,
   "id": "interesting-genealogy",
   "metadata": {
    "executionInfo": {
     "elapsed": 565,
     "status": "ok",
     "timestamp": 1623615235262,
     "user": {
      "displayName": "Baris Sevilmis",
      "photoUrl": "",
      "userId": "05631870087761794056"
     },
     "user_tz": -120
    },
    "id": "lJkShBNlTC4-"
   },
   "outputs": [],
   "source": [
    "from torch.optim import Optimizer\n",
    "from training import tune_optimizer\n",
    "from optimizer import AdamOptimizer, NesterovOptimizer, MiniBatchOptimizer\n",
    "from data_utils import get_best_hyperparams"
   ]
  },
  {
   "cell_type": "markdown",
   "id": "nasty-publisher",
   "metadata": {
    "id": "qVEQ7Sq9TC4-"
   },
   "source": [
    "If the `hyperparameter_tune` flag was set to `True` above, the following code will run hyperparameter tuning on all optimizers. Note that one can either run KFold cross validation (by providing `n_folds`) or use a simple train/test split (by providing `train_ratio`)."
   ]
  },
  {
   "cell_type": "markdown",
   "id": "japanese-toilet",
   "metadata": {
    "id": "ZudQ63PlTC4-"
   },
   "source": [
    "If the flag is set to `False`, the cell below will simply set up the hyperparameters that we carefully cross-validated:"
   ]
  },
  {
   "cell_type": "code",
   "execution_count": 14,
   "id": "norwegian-commercial",
   "metadata": {
    "executionInfo": {
     "elapsed": 1603,
     "status": "ok",
     "timestamp": 1623615239771,
     "user": {
      "displayName": "Baris Sevilmis",
      "photoUrl": "",
      "userId": "05631870087761794056"
     },
     "user_tz": -120
    },
    "id": "2s-KL5tQTC4-"
   },
   "outputs": [],
   "source": [
    "optimizers = {\n",
    "    AdamOptimizer: get_best_hyperparams('./res/adam_tuning_round3.json'),\n",
    "    NesterovOptimizer: get_best_hyperparams('./res/nesterov_tuning_round2.json'),\n",
    "    MiniBatchOptimizer: get_best_hyperparams('./res/minibatch_tuning_round2.json')\n",
    "}"
   ]
  },
  {
   "cell_type": "markdown",
   "id": "productive-finder",
   "metadata": {
    "id": "n0IP8shlTC4_"
   },
   "source": [
    "## Adam"
   ]
  },
  {
   "cell_type": "code",
   "execution_count": 15,
   "id": "reasonable-branch",
   "metadata": {
    "executionInfo": {
     "elapsed": 3,
     "status": "ok",
     "timestamp": 1623615239772,
     "user": {
      "displayName": "Baris Sevilmis",
      "photoUrl": "",
      "userId": "05631870087761794056"
     },
     "user_tz": -120
    },
    "id": "CGoUXfziTC4_"
   },
   "outputs": [],
   "source": [
    "search_grid_adam = {\n",
    "        'lr': np.linspace(0.001, 0.01, 2),\n",
    "        'beta1':  np.linspace(0.1, 0.9, 2),\n",
    "        'beta2': np.linspace(0.5, 0.999, 2),\n",
    "        'batch_size': [32, 64, 128],\n",
    "        'weight_decay': np.linspace(0.001, 0.1, 2),\n",
    "        'epsilon': np.linspace(1e-10, 1e-8, 2),\n",
    "    }\n",
    "\n",
    "if hyperparameter_tune:\n",
    "    results_adam = tune_optimizer(\n",
    "        model=Net().to(device),\n",
    "        optim_fun=AdamOptimizer,\n",
    "        xtrain=train_dataset.data,\n",
    "        ytrain=train_dataset.targets,\n",
    "        search_grid=search_grid_adam,\n",
    "        nfolds=3,\n",
    "        **training_config)\n",
    "\n",
    "else:\n",
    "    results_adam = optimizers[AdamOptimizer]"
   ]
  },
  {
   "cell_type": "markdown",
   "id": "julian-tolerance",
   "metadata": {
    "id": "zID5R12xTC4_"
   },
   "source": [
    "## Nesterov"
   ]
  },
  {
   "cell_type": "code",
   "execution_count": 16,
   "id": "vocal-mentor",
   "metadata": {
    "executionInfo": {
     "elapsed": 2,
     "status": "ok",
     "timestamp": 1623615241221,
     "user": {
      "displayName": "Baris Sevilmis",
      "photoUrl": "",
      "userId": "05631870087761794056"
     },
     "user_tz": -120
    },
    "id": "GngpxuJ3TC4_"
   },
   "outputs": [],
   "source": [
    "search_grid_nesterov = {\n",
    "    'lr': np.logspace(0, 1),\n",
    "    'batch_size': [32, 64, 128]\n",
    "}\n",
    "\n",
    "if hyperparameter_tune:\n",
    "    results_nesterov = tune_optimizer(\n",
    "        model=Net().to(device),\n",
    "        optim_fun=NesterovOptimizer,\n",
    "        xtrain=train_dataset.data,\n",
    "        ytrain=train_dataset.targets,\n",
    "        search_grid=search_grid_nesterov,\n",
    "        nfolds=3,\n",
    "        **training_config\n",
    "    )\n",
    "\n",
    "else:\n",
    "    results_nesterov = optimizers[NesterovOptimizer]"
   ]
  },
  {
   "cell_type": "markdown",
   "id": "sought-mason",
   "metadata": {
    "id": "QdZrv5wMTC5A"
   },
   "source": [
    "## Minibatch"
   ]
  },
  {
   "cell_type": "code",
   "execution_count": 17,
   "id": "conscious-collective",
   "metadata": {
    "executionInfo": {
     "elapsed": 2,
     "status": "ok",
     "timestamp": 1623615241506,
     "user": {
      "displayName": "Baris Sevilmis",
      "photoUrl": "",
      "userId": "05631870087761794056"
     },
     "user_tz": -120
    },
    "id": "Nqw3LTmHTC5A"
   },
   "outputs": [],
   "source": [
    "search_grid_mini  = {\n",
    "    'lr': np.linspace(0.00001, 0.01, 5),\n",
    "    'batch_size': [32, 64, 128],\n",
    "    'decreasing_lr': [0, 1],\n",
    "}\n",
    "if hyperparameter_tune:\n",
    "    results_mini = tune_optimizer(\n",
    "        model=Net().to(device),\n",
    "        optim_fun=MiniBatchOptimizer,\n",
    "        xtrain=train_dataset.data,\n",
    "        ytrain=train_dataset.targets,\n",
    "        search_grid=search_grid_mini,\n",
    "        nfolds=3,\n",
    "        **training_config\n",
    "    )\n",
    "\n",
    "else:\n",
    "    results_mini = optimizers[MiniBatchOptimizer]"
   ]
  },
  {
   "cell_type": "code",
   "execution_count": 18,
   "id": "removed-going",
   "metadata": {
    "colab": {
     "base_uri": "https://localhost:8080/"
    },
    "executionInfo": {
     "elapsed": 214,
     "status": "ok",
     "timestamp": 1623615288589,
     "user": {
      "displayName": "Baris Sevilmis",
      "photoUrl": "",
      "userId": "05631870087761794056"
     },
     "user_tz": -120
    },
    "id": "5qHNhl3sTC5A",
    "outputId": "b54fcb71-7e62-4d50-c251-47254e43a73e"
   },
   "outputs": [
    {
     "name": "stdout",
     "output_type": "stream",
     "text": [
      "ADAM: Highest Test Accuracy 0.9868 with standart deviation of 0.0007\n",
      "Hyperparameter set: Learning rate =  0.0001, Beta1 = 0.9, Beta2 = 0.999, Weight decay = 0.01, Epsilon = 0.00000001,  Batch Size = 32\n",
      "\n",
      "NESTEROV: Highest Test Accuracy 0.9876 with standart deviation of 0.0010\n",
      "Hyperparameter set: Learning rate =  0.0001, Batch Size = 64\n",
      "\n",
      "MINIBATCH: Highest Test Accuracy 0.9886 with standart deviation of 0.0002\n",
      "Hyperparameter set: Learning rate =  0.2639, Decreasing Learning rate 0.0, Batch Size = 128\n",
      "\n"
     ]
    }
   ],
   "source": [
    "print(\"ADAM: Highest Test Accuracy {:.4f} with standart deviation of {:.4f}\".format(results_adam[\"metric_test\"], results_adam[\"metric_test_std\"]))\n",
    "print(\"Hyperparameter set: Learning rate =  {:.4f}, Beta1 = {:.1f}, Beta2 = {:.3f}, Weight decay = {:.2f}, Epsilon = {:.8f},  Batch Size = {:.0f}\\n\".format(results_adam[\"lr\"], results_adam[\"beta1\"], results_adam[\"beta2\"], results_adam[\"weight_decay\"], results_adam[\"epsilon\"], results_adam['batch_size']))\n",
    "print(\"NESTEROV: Highest Test Accuracy {:.4f} with standart deviation of {:.4f}\".format(results_nesterov[\"metric_test\"], results_nesterov[\"metric_test_std\"]))\n",
    "print(\"Hyperparameter set: Learning rate =  {:.4f}, Batch Size = {:.0f}\\n\".format(results_nesterov[\"lr\"], results_nesterov[\"batch_size\"]))\n",
    "print(\"MINIBATCH: Highest Test Accuracy {:.4f} with standart deviation of {:.4f}\".format(results_mini[\"metric_test\"], results_mini[\"metric_test_std\"]))\n",
    "print(\"Hyperparameter set: Learning rate =  {:.4f}, Decreasing Learning rate {:.1f}, Batch Size = {:.0f}\\n\".format(results_mini[\"lr\"], results_mini[\"decreasing_lr\"], results_mini[\"batch_size\"]))\n"
   ]
  },
  {
   "cell_type": "markdown",
   "id": "naughty-scheme",
   "metadata": {
    "id": "jZSmvLRTTC5B"
   },
   "source": [
    "# Attack on naive model\n",
    "\n"
   ]
  },
  {
   "cell_type": "code",
   "execution_count": 19,
   "id": "scheduled-monkey",
   "metadata": {
    "executionInfo": {
     "elapsed": 247,
     "status": "ok",
     "timestamp": 1623615428149,
     "user": {
      "displayName": "Baris Sevilmis",
      "photoUrl": "",
      "userId": "05631870087761794056"
     },
     "user_tz": -120
    },
    "id": "GQiIUAR8TC5B"
   },
   "outputs": [],
   "source": [
    "from data_utils import build_data_loaders\n",
    "from training import training, testing\n",
    "from adversary import attack, projected_attack"
   ]
  },
  {
   "cell_type": "code",
   "execution_count": 20,
   "id": "false-armstrong",
   "metadata": {},
   "outputs": [],
   "source": [
    "optimizers = {\n",
    "    AdamOptimizer: get_best_hyperparams('./res/adam_tuning_round3.json', get_performance=False),\n",
    "    NesterovOptimizer: get_best_hyperparams('./res/nesterov_tuning_round2.json', get_performance=False),\n",
    "    MiniBatchOptimizer: get_best_hyperparams('./res/minibatch_tuning_round2.json', get_performance=False)\n",
    "}"
   ]
  },
  {
   "cell_type": "raw",
   "id": "insured-prototype",
   "metadata": {
    "colab": {
     "base_uri": "https://localhost:8080/",
     "height": 249
    },
    "executionInfo": {
     "elapsed": 27,
     "status": "error",
     "timestamp": 1623615469045,
     "user": {
      "displayName": "Baris Sevilmis",
      "photoUrl": "",
      "userId": "05631870087761794056"
     },
     "user_tz": -120
    },
    "id": "3oAvdXjwTC5C",
    "jupyter": {
     "source_hidden": true
    },
    "outputId": "1ade6c5a-b1d0-4739-c1df-26c5777bdfdc",
    "tags": []
   },
   "source": [
    "# NON LOOPY VERSION\n",
    "naive_networks = dict()\n",
    "data_naive = list()\n",
    "batch_log_interval = -1\n",
    "\n",
    "for optimizer, optimizer_params in optimizers.items():\n",
    "    optimizer_params = optimizer_params.copy()\n",
    "    \n",
    "    net = Net().to(device)\n",
    "    # Instantiate data loaders with selected batch size\n",
    "    batch_size = int(optimizer_params.pop('batch_size'))\n",
    "    metric_test = optimizer_params.pop('metric_test')\n",
    "    metric_test_std = optimizer_params.pop('metric_test_std')\n",
    "    train_loader, test_loader = build_data_loaders(train_dataset, test_dataset, batch_size)\n",
    "    # Instantiate optimizer\n",
    "    optimizer_instance = optimizer(net.parameters(), **optimizer_params)\n",
    "    print(f'--- {optimizer_instance}')\n",
    "    # Train\n",
    "    loss_train, acc_train = training(\n",
    "        model=net, \n",
    "        dataset=train_loader, \n",
    "        optim=optimizer_instance,\n",
    "        batch_log_interval=batch_log_interval,\n",
    "        **training_config\n",
    "    )\n",
    "    # Test\n",
    "    loss_test, acc_test = testing(\n",
    "        model=net,\n",
    "        dataset=test_loader,\n",
    "        **test_config\n",
    "    )\n",
    "    # Log\n",
    "    data_naive.append({\n",
    "        'optimizer': str(optimizer_instance),\n",
    "        'loss_train': loss_train,\n",
    "        'acc_train': acc_train,\n",
    "        'loss_test': loss_test,\n",
    "        'acc_test': acc_test\n",
    "    })\n",
    "    # Save naive model\n",
    "    naive_networks[optimizer] = net"
   ]
  },
  {
   "cell_type": "code",
   "execution_count": 22,
   "id": "cheap-symposium",
   "metadata": {},
   "outputs": [],
   "source": [
    "optimizers[AdamOptimizer]['batch_size'] = 128"
   ]
  },
  {
   "cell_type": "code",
   "execution_count": 24,
   "id": "assured-slope",
   "metadata": {},
   "outputs": [],
   "source": [
    "training_config['epochs'] = 3"
   ]
  },
  {
   "cell_type": "code",
   "execution_count": 25,
   "id": "growing-algeria",
   "metadata": {
    "colab": {
     "base_uri": "https://localhost:8080/",
     "height": 249
    },
    "executionInfo": {
     "elapsed": 27,
     "status": "error",
     "timestamp": 1623615469045,
     "user": {
      "displayName": "Baris Sevilmis",
      "photoUrl": "",
      "userId": "05631870087761794056"
     },
     "user_tz": -120
    },
    "id": "3oAvdXjwTC5C",
    "outputId": "1ade6c5a-b1d0-4739-c1df-26c5777bdfdc"
   },
   "outputs": [
    {
     "name": "stdout",
     "output_type": "stream",
     "text": [
      "--- AdamOptimizer\n",
      "Launching training on cuda . . . training took 4.207 s\n",
      "Avg test loss = 0.146\tAvg test acc = 0.955\n",
      "Launching attacks ............\n",
      "Launching training on cuda . . . training took 4.207 s\n",
      "Avg test loss = 0.137\tAvg test acc = 0.958\n",
      "Launching attacks ............\n",
      "Launching training on cuda . . . training took 3.955 s\n",
      "Avg test loss = 0.135\tAvg test acc = 0.96\n",
      "Launching attacks ............\n",
      "--- NesterovOptimizer\n",
      "Launching training on cuda . . . training took 5.465 s\n",
      "Avg test loss = 0.0629\tAvg test acc = 0.979\n",
      "Launching attacks ............\n",
      "Launching training on cuda . . . training took 5.48 s\n",
      "Avg test loss = 0.0642\tAvg test acc = 0.979\n",
      "Launching attacks ............\n",
      "Launching training on cuda . . . training took 5.544 s\n",
      "Avg test loss = 0.0718\tAvg test acc = 0.977\n",
      "Launching attacks ............\n",
      "--- MiniBatchOptimizer\n",
      "Launching training on cuda . . . training took 3.032 s\n",
      "Avg test loss = 0.0378\tAvg test acc = 0.987\n",
      "Launching attacks ............\n",
      "Launching training on cuda . . . training took 3.232 s\n",
      "Avg test loss = 0.0377\tAvg test acc = 0.987\n",
      "Launching attacks ............\n",
      "Launching training on cuda . . . training took 2.964 s\n",
      "Avg test loss = 0.0367\tAvg test acc = 0.989\n",
      "Launching attacks ............\n"
     ]
    }
   ],
   "source": [
    "# Logging data structures\n",
    "data_naive = list()\n",
    "data_naive_attack = list()\n",
    "\n",
    "# Training / attack config\n",
    "n_try = 3\n",
    "batch_log_interval = -1\n",
    "epsilons = np.arange(0, 0.6, 0.05)\n",
    "\n",
    "for optimizer, optimizer_params in optimizers.items():\n",
    "    print(f'--- {optimizer.__name__}')\n",
    "    # --------- SETUP OPTIMIZER\n",
    "    optimizer_params = optimizer_params.copy()\n",
    "    # Instantiate data loaders with selected batch size\n",
    "    batch_size = int(optimizer_params.pop('batch_size'))\n",
    "    train_loader, test_loader = build_data_loaders(train_dataset, test_dataset, batch_size)\n",
    "    \n",
    "    # --------- Train & Attack several times per optimizer\n",
    "    for n in range(1, n_try + 1):\n",
    "        net = Net().to(device)\n",
    "        optimizer_instance = optimizer(net.parameters(), **optimizer_params)\n",
    "        # --------- TRAIN MODEL\n",
    "        loss_train, acc_train = training(\n",
    "            model=net, \n",
    "            dataset=train_loader, \n",
    "            optim=optimizer_instance,\n",
    "            batch_log_interval=batch_log_interval,\n",
    "            **training_config\n",
    "        )\n",
    "        # --------- TEST MODEL\n",
    "        loss_test, acc_test = testing(\n",
    "            model=net,\n",
    "            dataset=test_loader,\n",
    "            **test_config\n",
    "        )\n",
    "        # Log\n",
    "        data_naive.append({\n",
    "            'optimizer': str(optimizer_instance),\n",
    "            'n': n,\n",
    "            'loss_train': loss_train,\n",
    "            'acc_train': acc_train,\n",
    "            'loss_test': loss_test,\n",
    "            'acc_test': acc_test\n",
    "        })\n",
    "\n",
    "        # --------- ATTACK MODEL\n",
    "        print(f'Launching attacks', end=' ')\n",
    "        for eps in epsilons:\n",
    "            print('', end='.')\n",
    "            loss_attack, acc_attack = attack(\n",
    "                model=net,\n",
    "                test_loader=test_loader,\n",
    "                epsilon=eps,\n",
    "                verbose=False,\n",
    "                **test_config\n",
    "            )\n",
    "            # Log\n",
    "            data_naive_attack.append({\n",
    "                'optimizer': str(optimizer_instance),\n",
    "                'n': n,\n",
    "                'epsilon': eps,\n",
    "                'loss': loss_attack,\n",
    "                'acc': acc_attack\n",
    "            })\n",
    "\n",
    "        print()"
   ]
  },
  {
   "cell_type": "markdown",
   "id": "fourth-pickup",
   "metadata": {},
   "source": [
    "### Training curves"
   ]
  },
  {
   "cell_type": "code",
   "execution_count": 26,
   "id": "executive-bermuda",
   "metadata": {},
   "outputs": [
    {
     "data": {
      "image/png": "[encoded data removed]",
      "text/plain": [
       "<Figure size 432x288 with 1 Axes>"
      ]
     },
     "metadata": {
      "needs_background": "light"
     },
     "output_type": "display_data"
    }
   ],
   "source": [
    "df_naive = pd.DataFrame(data_naive).sort_values(['optimizer', 'n'])\n",
    "# Average training loss per epoch\n",
    "df_naive.loss_train = df_naive.loss_train.apply(lambda s: np.mean(s, axis=1))\n",
    "\n",
    "colors = {'AdamOptimizer': 'r', 'MiniBatchOptimizer': 'b', 'NesterovOptimizer': 'm'}\n",
    "for _, row in df_naive.iterrows():\n",
    "    plt.plot(range(1, training_config['epochs'] + 1), row.loss_train, '-o', label=row.optimizer, color=colors[row.optimizer])\n",
    "\n",
    "plt.grid(alpha=.6)\n",
    "plt.legend();\n",
    "plt.yscale('log')\n",
    "plt.xlabel('Epoch'); plt.ylabel('Training Loss')\n",
    "plt.title('Training curves of naive models');"
   ]
  },
  {
   "cell_type": "markdown",
   "id": "nominated-medium",
   "metadata": {},
   "source": [
    "### Attack plots"
   ]
  },
  {
   "cell_type": "code",
   "execution_count": 41,
   "id": "numeric-sherman",
   "metadata": {},
   "outputs": [
    {
     "data": {
      "image/png": "[encoded data removed]",
      "text/plain": [
       "<Figure size 432x288 with 1 Axes>"
      ]
     },
     "metadata": {
      "needs_background": "light"
     },
     "output_type": "display_data"
    }
   ],
   "source": [
    "df = pd.DataFrame(data_naive_attack).sort_values(['optimizer', 'epsilon'])\n",
    "# Raw accuracy in function of attack stength\n",
    "sns.lineplot(x='epsilon', y='acc', data=df, hue='optimizer', marker='o')\n",
    "plt.grid(alpha=.6)\n",
    "plt.ylabel('Accuracy');\n",
    "plt.title('Attack on naive models');"
   ]
  },
  {
   "cell_type": "code",
   "execution_count": 48,
   "id": "alert-secondary",
   "metadata": {},
   "outputs": [],
   "source": [
    "df.T.to_json('res/log_attack_naive.json', indent=2)"
   ]
  },
  {
   "cell_type": "raw",
   "id": "competitive-calibration",
   "metadata": {},
   "source": [
    "# THIS DOESNT WORK, PIVOTING -> several values (1 per run), want to keep list of values or compute std \n",
    "# Difference in accuracy w.r.t. to no attack (epsilon = 0)\n",
    "df_delta = df.pivot_table(index='epsilon', columns='optimizer', values='acc')\n",
    "df_delta -= df_delta.loc[0]\n",
    "df_delta = df_delta.unstack().rename('acc').reset_index()\n",
    "sns.lineplot(x='epsilon', y='acc', data=df_delta, hue='optimizer', marker='o')\n",
    "plt.grid(alpha=.6)\n",
    "plt.ylabel('Difference in accuracy'); plt.xlabel('Attack strength $\\epsilon$');"
   ]
  },
  {
   "cell_type": "raw",
   "id": "residential-winter",
   "metadata": {
    "executionInfo": {
     "elapsed": 4,
     "status": "ok",
     "timestamp": 1623616171457,
     "user": {
      "displayName": "Baris Sevilmis",
      "photoUrl": "",
      "userId": "05631870087761794056"
     },
     "user_tz": -120
    },
    "id": "dPVWZPnSTC5E",
    "jupyter": {
     "source_hidden": true
    },
    "tags": []
   },
   "source": [
    "# NON LOOPY VERSION FOR ATTACK\n",
    "data_naive_attack = list()\n",
    "epsilons = np.arange(0, 0.6, 0.05)\n",
    "\n",
    "for optimizer, network in naive_networks.items():\n",
    "    name = optimizer_names[optimizer]\n",
    "    print(f'\\n{name:<10}', end='')\n",
    "    \n",
    "    for eps in epsilons:\n",
    "        print('', end='.')\n",
    "        loss_attack, acc_attack = attack(\n",
    "            model=network,\n",
    "            test_loader=test_loader,\n",
    "            epsilon=eps,\n",
    "            verbose=False,\n",
    "            **test_config\n",
    "        )\n",
    "        # Log\n",
    "        data_naive_attack.append({\n",
    "            'optimizer': name,\n",
    "            'epsilon': eps,\n",
    "            'loss': loss_attack,\n",
    "            'acc': acc_attack\n",
    "        })"
   ]
  },
  {
   "cell_type": "raw",
   "id": "modular-forth",
   "metadata": {
    "jupyter": {
     "source_hidden": true
    },
    "tags": []
   },
   "source": [
    "# Plots before loops version\n",
    "_, ax = plt.subplots(2, 1, figsize=(7, 6), sharex=True)\n",
    "plt.axes(ax[0])\n",
    "df = pd.DataFrame(data_naive_attack).sort_values(['optimizer', 'epsilon'])\n",
    "\n",
    "# Raw accuracy in function of attack stength\n",
    "sns.lineplot(x='epsilon', y='acc', data=df, hue='optimizer', marker='o')\n",
    "plt.grid(alpha=.6)\n",
    "plt.ylabel('Accuracy');\n",
    "plt.title('Attack on naive models')\n",
    "\n",
    "# Difference in accuracy w.r.t. to no attack (epsilon = 0)\n",
    "plt.axes(ax[1])\n",
    "df_delta = df.pivot(index='epsilon', columns='optimizer', values='acc')\n",
    "df_delta -= df_delta.loc[0]\n",
    "df_delta = df_delta.unstack().rename('acc').reset_index()\n",
    "sns.lineplot(x='epsilon', y='acc', data=df_delta, hue='optimizer', marker='o')\n",
    "plt.grid(alpha=.6)\n",
    "plt.ylabel('Difference in accuracy'); plt.xlabel('Attack strength $\\epsilon$');"
   ]
  },
  {
   "cell_type": "markdown",
   "id": "voluntary-yeast",
   "metadata": {
    "id": "eQCOdFFQTC5F"
   },
   "source": [
    "# Attack on robust model"
   ]
  },
  {
   "cell_type": "markdown",
   "id": "helpful-saturday",
   "metadata": {
    "id": "La4ABLV5gCOd"
   },
   "source": [
    "## Hyperparameter optimization on robust models\n",
    "\n",
    "- If the `prot_hyperparameter_tune` flag was set to `True` above, the following code will run hyperparameter tuning on all optimizers for robust models. Note that one can either run KFold cross validation (by providing `n_folds`) or use a simple train/test split (by providing `train_ratio`).\n"
   ]
  },
  {
   "cell_type": "code",
   "execution_count": 29,
   "id": "limiting-georgia",
   "metadata": {
    "colab": {
     "base_uri": "https://localhost:8080/",
     "height": 351
    },
    "executionInfo": {
     "elapsed": 228,
     "status": "error",
     "timestamp": 1623617263506,
     "user": {
      "displayName": "Baris Sevilmis",
      "photoUrl": "",
      "userId": "05631870087761794056"
     },
     "user_tz": -120
    },
    "id": "DkqBVJufgg-z",
    "outputId": "f6b4fdd5-0490-47a7-88f7-80319364fa38"
   },
   "outputs": [],
   "source": [
    "prot_optimizers = {\n",
    "    AdamOptimizer: get_best_hyperparams('./res/prot_adam_tuning.json', get_performance=False),\n",
    "    NesterovOptimizer: get_best_hyperparams('./res/prot_nesterov_tuning.json', get_performance=False),\n",
    "    MiniBatchOptimizer: get_best_hyperparams('./res/prot_minibatch_tuning.json', get_performance=False)\n",
    "}"
   ]
  },
  {
   "cell_type": "markdown",
   "id": "commercial-flash",
   "metadata": {
    "id": "B-JYd7t8oyOt"
   },
   "source": [
    "### Adam"
   ]
  },
  {
   "cell_type": "code",
   "execution_count": 30,
   "id": "young-pencil",
   "metadata": {
    "colab": {
     "base_uri": "https://localhost:8080/"
    },
    "executionInfo": {
     "elapsed": 9830369,
     "status": "ok",
     "timestamp": 1623627106131,
     "user": {
      "displayName": "Baris Sevilmis",
      "photoUrl": "",
      "userId": "05631870087761794056"
     },
     "user_tz": -120
    },
    "id": "1-LkqzEzgBbH",
    "outputId": "8e866013-c4cc-4fe5-c1f6-99220cfc624c"
   },
   "outputs": [],
   "source": [
    "search_grid_adam = {\n",
    "        'lr': np.linspace(0.001, 0.01, 2),\n",
    "        'beta1':  np.linspace(0.1, 0.9, 2),\n",
    "        'beta2': np.linspace(0.5, 0.999, 2),\n",
    "        'batch_size': [32, 64, 128],\n",
    "        'weight_decay': np.linspace(0.001, 0.1, 2),\n",
    "        'epsilon': np.linspace(1e-10, 1e-8, 2),\n",
    "    }\n",
    "\n",
    "if prot_hyperparameter_tune:\n",
    "    results_adam_prot = tune_optimizer(\n",
    "        model=Net().to(device),\n",
    "        optim_fun=AdamOptimizer,\n",
    "        xtrain=train_dataset.data,\n",
    "        ytrain=train_dataset.targets,\n",
    "        search_grid=search_grid_adam,\n",
    "        nfolds=3,\n",
    "        func=protected_training,\n",
    "        **training_config)\n",
    "\n",
    "else:\n",
    "    results_adam_prot = optimizers[AdamOptimizer]"
   ]
  },
  {
   "cell_type": "markdown",
   "id": "essential-guitar",
   "metadata": {
    "id": "e6pnb9SkouDI"
   },
   "source": [
    "### Nesterov"
   ]
  },
  {
   "cell_type": "code",
   "execution_count": 31,
   "id": "written-thumb",
   "metadata": {
    "executionInfo": {
     "elapsed": 9,
     "status": "ok",
     "timestamp": 1623627106367,
     "user": {
      "displayName": "Baris Sevilmis",
      "photoUrl": "",
      "userId": "05631870087761794056"
     },
     "user_tz": -120
    },
    "id": "J6egfPHBorlC"
   },
   "outputs": [],
   "source": [
    "search_grid_nesterov = {\n",
    "    'lr': np.logspace(0, 1),\n",
    "    'batch_size': [32, 64, 128]\n",
    "}\n",
    "\n",
    "if hyperparameter_tune:\n",
    "    results_nesterov_prot = tune_optimizer(\n",
    "        model=Net().to(device),\n",
    "        optim_fun=NesterovOptimizer,\n",
    "        xtrain=train_dataset.data,\n",
    "        ytrain=train_dataset.targets,\n",
    "        search_grid=search_grid_nesterov,\n",
    "        nfolds=3,\n",
    "        func=protected_training,\n",
    "        **training_config\n",
    "    )\n",
    "\n",
    "else:\n",
    "    results_nesterov_prot = optimizers[NesterovOptimizer]"
   ]
  },
  {
   "cell_type": "markdown",
   "id": "micro-insulin",
   "metadata": {
    "id": "JT4QvX46owJT"
   },
   "source": [
    "### Minibatch"
   ]
  },
  {
   "cell_type": "code",
   "execution_count": 32,
   "id": "planned-attendance",
   "metadata": {
    "executionInfo": {
     "elapsed": 8,
     "status": "ok",
     "timestamp": 1623627106368,
     "user": {
      "displayName": "Baris Sevilmis",
      "photoUrl": "",
      "userId": "05631870087761794056"
     },
     "user_tz": -120
    },
    "id": "v36dhlsxorzj"
   },
   "outputs": [],
   "source": [
    "search_grid_mini  = {\n",
    "        'lr': np.linspace(0.00001, 0.01, 5),\n",
    "        'batch_size': [32, 64, 128],\n",
    "        'decreasing_lr': [0, 1],\n",
    "    }\n",
    "if hyperparameter_tune:\n",
    "    results_mini_prot = tune_optimizer(\n",
    "        model=Net().to(device),\n",
    "        optim_fun=MiniBatchOptimizer,\n",
    "        xtrain=train_dataset.data,\n",
    "        ytrain=train_dataset.targets,\n",
    "        search_grid=search_grid_mini,\n",
    "        nfolds=3,\n",
    "        func=protected_training,\n",
    "        **training_config\n",
    "    )\n",
    "\n",
    "else:\n",
    "    results_mini_prot = optimizers[MiniBatchOptimizer]"
   ]
  },
  {
   "cell_type": "markdown",
   "id": "utility-thousand",
   "metadata": {
    "id": "aTGiymqzTC5F"
   },
   "source": [
    "## Train & Attack robust models"
   ]
  },
  {
   "cell_type": "code",
   "execution_count": 34,
   "id": "ongoing-publisher",
   "metadata": {},
   "outputs": [],
   "source": [
    "from adversary import protected_training"
   ]
  },
  {
   "cell_type": "code",
   "execution_count": 49,
   "id": "returning-dimension",
   "metadata": {},
   "outputs": [
    {
     "name": "stdout",
     "output_type": "stream",
     "text": [
      "--- AdamOptimizer\n",
      ". . . training took 10.97 s\n",
      "Avg test loss = 0.149\tAvg test acc = 0.977\n",
      "Launching attacks ............\n",
      ". . . training took 10.88 s\n",
      "Avg test loss = 0.13\tAvg test acc = 0.979\n",
      "Launching attacks ............\n",
      ". . . training took 10.65 s\n",
      "Avg test loss = 0.237\tAvg test acc = 0.964\n",
      "Launching attacks ............\n",
      "--- NesterovOptimizer\n",
      ". . . training took 9.022 s\n",
      "Avg test loss = 0.124\tAvg test acc = 0.974\n",
      "Launching attacks ............\n",
      ". . . training took 8.857 s\n",
      "Avg test loss = 0.214\tAvg test acc = 0.959\n",
      "Launching attacks ............\n",
      ". . . training took 9.385 s\n",
      "Avg test loss = 0.136\tAvg test acc = 0.972\n",
      "Launching attacks ............\n",
      "--- MiniBatchOptimizer\n",
      ". . . training took 5.235 s\n",
      "Avg test loss = 0.103\tAvg test acc = 0.976\n",
      "Launching attacks ............\n",
      ". . . training took 5.338 s\n",
      "Avg test loss = 0.0863\tAvg test acc = 0.98\n",
      "Launching attacks ............\n",
      ". . . training took 5.295 s\n",
      "Avg test loss = 0.119\tAvg test acc = 0.973\n",
      "Launching attacks ............\n"
     ]
    }
   ],
   "source": [
    "# Logging data structures\n",
    "data_robust = list()\n",
    "data_robust_attack = list()\n",
    "\n",
    "# Training / attack config\n",
    "n_try = 3\n",
    "batch_log_interval = -1\n",
    "epsilons = np.arange(0, 0.6, 0.05)\n",
    "\n",
    "for optimizer, optimizer_params in prot_optimizers.items():\n",
    "    print(f'--- {optimizer.__name__}')\n",
    "    # --------- SETUP OPTIMIZER\n",
    "    optimizer_params = optimizer_params.copy()\n",
    "    # Instantiate data loaders with selected batch size\n",
    "    batch_size = int(optimizer_params.pop('batch_size'))\n",
    "    train_loader, test_loader = build_data_loaders(train_dataset, test_dataset, batch_size)\n",
    "\n",
    "    # --------- Train & Attack several times per optimizer\n",
    "    for n in range(1, n_try + 1):\n",
    "        net = Net().to(device)\n",
    "        optimizer_instance = optimizer(net.parameters(), **optimizer_params)\n",
    "        # --------- TRAIN MODEL\n",
    "        loss_train, acc_train = protected_training(\n",
    "            model=net,\n",
    "            dataset=train_loader,\n",
    "            optim=optimizer_instance,\n",
    "            batch_log_interval=batch_log_interval,\n",
    "            **training_config\n",
    "        )\n",
    "        # --------- TEST MODEL\n",
    "        loss_test, acc_test = testing(\n",
    "            model=net,\n",
    "            dataset=test_loader,\n",
    "            **test_config\n",
    "        )\n",
    "        # Log\n",
    "        data_robust.append({\n",
    "            'optimizer': str(optimizer_instance),\n",
    "            'n': n,\n",
    "            'loss_train': loss_train,\n",
    "            'acc_train': acc_train,\n",
    "            'loss_test': loss_test,\n",
    "            'acc_test': acc_test\n",
    "        })\n",
    "\n",
    "        # --------- ATTACK MODEL\n",
    "        print(f'Launching attacks', end=' ')\n",
    "        for eps in epsilons:\n",
    "            print('', end='.')\n",
    "            loss_attack, acc_attack = attack(\n",
    "                model=net,\n",
    "                test_loader=test_loader,\n",
    "                epsilon=eps,\n",
    "                verbose=False,\n",
    "                **test_config\n",
    "            )\n",
    "            # Log\n",
    "            data_robust_attack.append({\n",
    "                'optimizer': str(optimizer_instance),\n",
    "                'n': n,\n",
    "                'epsilon': eps,\n",
    "                'loss': loss_attack,\n",
    "                'acc': acc_attack\n",
    "            })\n",
    "\n",
    "        print()"
   ]
  },
  {
   "cell_type": "raw",
   "id": "valid-astrology",
   "metadata": {
    "id": "zM_3v15STC5H",
    "jupyter": {
     "source_hidden": true
    },
    "tags": []
   },
   "source": [
    "# non-loopy train\n",
    "robust_networks = dict()\n",
    "data_robust = list()\n",
    "batch_log_interval = 0\n",
    "epsilon = 0.25\n",
    "\n",
    "for optimizer, optimizer_params in prot_optimizers.items():\n",
    "    name = optimizer_names[optimizer]\n",
    "    print(f'--- {name}')\n",
    "    # Instantiate model\n",
    "    net = Net().to(device)\n",
    "    # Instantiate optimizer\n",
    "    optimizer_params = optimizer_params.copy()\n",
    "    batch_size = int(optimizer_params.pop('batch_size'))\n",
    "    metric_test = optimizer_params.pop('metric_test')\n",
    "    metric_test_std = optimizer_params.pop('metric_test_std')\n",
    "    optimizer_instance = optimizer(net.parameters(), **optimizer_params)\n",
    "    # Instantiate data loaders\n",
    "    train_loader, test_loader = build_data_loaders(train_dataset, test_dataset, batch_size)\n",
    "    # Train robust model\n",
    "    losses, metrics = protected_training(\n",
    "        model=net,\n",
    "        dataset=train_loader,\n",
    "        optim=optimizer_instance,\n",
    "        batch_log_interval=batch_log_interval,\n",
    "        **training_config\n",
    "    )\n",
    "    # Log\n",
    "    data_robust.append({\n",
    "        'optimizer': name, \n",
    "        'loss': losses,\n",
    "        'acc': metrics\n",
    "    })\n",
    "    # Save robust net\n",
    "    robust_networks[optimizer] = net"
   ]
  },
  {
   "cell_type": "raw",
   "id": "treated-favor",
   "metadata": {
    "jupyter": {
     "source_hidden": true
    },
    "tags": []
   },
   "source": [
    "# NON LOOPY ATTACK ON ROBUST MODELS\n",
    "data_robust_attack = list()\n",
    "epsilons = np.arange(0, 0.6, 0.05)\n",
    "\n",
    "# Attack all models\n",
    "for optimizer, network in robust_networks.items():\n",
    "    name = optimizer_names[optimizer]\n",
    "    print(f'\\n{name:<10}', end='')\n",
    "    \n",
    "    for eps in epsilons:\n",
    "        print('', end='.')\n",
    "        # Attack\n",
    "        loss_attack, acc_attack = attack(\n",
    "            model=network,\n",
    "            test_loader=test_loader,\n",
    "            epsilon=eps,\n",
    "            verbose=False,\n",
    "            **test_config\n",
    "        )\n",
    "        # Log\n",
    "        data_robust_attack.append({\n",
    "            'optimizer': name,\n",
    "            'epsilon': eps,\n",
    "            'loss': loss_attack,\n",
    "            'acc': acc_attack\n",
    "        })"
   ]
  },
  {
   "cell_type": "code",
   "execution_count": 50,
   "id": "promotional-aside",
   "metadata": {},
   "outputs": [
    {
     "data": {
      "text/html": [
       "<div>\n",
       "<style scoped>\n",
       "    .dataframe tbody tr th:only-of-type {\n",
       "        vertical-align: middle;\n",
       "    }\n",
       "\n",
       "    .dataframe tbody tr th {\n",
       "        vertical-align: top;\n",
       "    }\n",
       "\n",
       "    .dataframe thead th {\n",
       "        text-align: right;\n",
       "    }\n",
       "</style>\n",
       "<table border=\"1\" class=\"dataframe\">\n",
       "  <thead>\n",
       "    <tr style=\"text-align: right;\">\n",
       "      <th></th>\n",
       "      <th>optimizer</th>\n",
       "      <th>n</th>\n",
       "      <th>epsilon</th>\n",
       "      <th>loss</th>\n",
       "      <th>acc</th>\n",
       "    </tr>\n",
       "  </thead>\n",
       "  <tbody>\n",
       "    <tr>\n",
       "      <th>0</th>\n",
       "      <td>AdamOptimizer</td>\n",
       "      <td>1</td>\n",
       "      <td>0.00</td>\n",
       "      <td>[0.014005744829773903, 0.12235231697559357, 0....</td>\n",
       "      <td>0.985470</td>\n",
       "    </tr>\n",
       "    <tr>\n",
       "      <th>1</th>\n",
       "      <td>AdamOptimizer</td>\n",
       "      <td>1</td>\n",
       "      <td>0.05</td>\n",
       "      <td>[0.014005744829773903, 0.12235231697559357, 0....</td>\n",
       "      <td>0.983380</td>\n",
       "    </tr>\n",
       "    <tr>\n",
       "      <th>2</th>\n",
       "      <td>AdamOptimizer</td>\n",
       "      <td>1</td>\n",
       "      <td>0.10</td>\n",
       "      <td>[0.014005744829773903, 0.12235231697559357, 0....</td>\n",
       "      <td>0.980494</td>\n",
       "    </tr>\n",
       "    <tr>\n",
       "      <th>3</th>\n",
       "      <td>AdamOptimizer</td>\n",
       "      <td>1</td>\n",
       "      <td>0.15</td>\n",
       "      <td>[0.014005744829773903, 0.12235231697559357, 0....</td>\n",
       "      <td>0.977408</td>\n",
       "    </tr>\n",
       "    <tr>\n",
       "      <th>4</th>\n",
       "      <td>AdamOptimizer</td>\n",
       "      <td>1</td>\n",
       "      <td>0.20</td>\n",
       "      <td>[0.014005744829773903, 0.12235231697559357, 0....</td>\n",
       "      <td>0.971139</td>\n",
       "    </tr>\n",
       "    <tr>\n",
       "      <th>...</th>\n",
       "      <td>...</td>\n",
       "      <td>...</td>\n",
       "      <td>...</td>\n",
       "      <td>...</td>\n",
       "      <td>...</td>\n",
       "    </tr>\n",
       "    <tr>\n",
       "      <th>103</th>\n",
       "      <td>MiniBatchOptimizer</td>\n",
       "      <td>3</td>\n",
       "      <td>0.35</td>\n",
       "      <td>[0.04023260250687599, 0.15168392658233643, 0.0...</td>\n",
       "      <td>0.920985</td>\n",
       "    </tr>\n",
       "    <tr>\n",
       "      <th>104</th>\n",
       "      <td>MiniBatchOptimizer</td>\n",
       "      <td>3</td>\n",
       "      <td>0.40</td>\n",
       "      <td>[0.04023260250687599, 0.15168392658233643, 0.0...</td>\n",
       "      <td>0.904668</td>\n",
       "    </tr>\n",
       "    <tr>\n",
       "      <th>105</th>\n",
       "      <td>MiniBatchOptimizer</td>\n",
       "      <td>3</td>\n",
       "      <td>0.45</td>\n",
       "      <td>[0.04023260250687599, 0.15168392658233643, 0.0...</td>\n",
       "      <td>0.879945</td>\n",
       "    </tr>\n",
       "    <tr>\n",
       "      <th>106</th>\n",
       "      <td>MiniBatchOptimizer</td>\n",
       "      <td>3</td>\n",
       "      <td>0.50</td>\n",
       "      <td>[0.04023260250687599, 0.15168392658233643, 0.0...</td>\n",
       "      <td>0.844244</td>\n",
       "    </tr>\n",
       "    <tr>\n",
       "      <th>107</th>\n",
       "      <td>MiniBatchOptimizer</td>\n",
       "      <td>3</td>\n",
       "      <td>0.55</td>\n",
       "      <td>[0.04023260250687599, 0.15168392658233643, 0.0...</td>\n",
       "      <td>0.795688</td>\n",
       "    </tr>\n",
       "  </tbody>\n",
       "</table>\n",
       "<p>108 rows × 5 columns</p>\n",
       "</div>"
      ],
      "text/plain": [
       "              optimizer  n  epsilon  \\\n",
       "0         AdamOptimizer  1     0.00   \n",
       "1         AdamOptimizer  1     0.05   \n",
       "2         AdamOptimizer  1     0.10   \n",
       "3         AdamOptimizer  1     0.15   \n",
       "4         AdamOptimizer  1     0.20   \n",
       "..                  ... ..      ...   \n",
       "103  MiniBatchOptimizer  3     0.35   \n",
       "104  MiniBatchOptimizer  3     0.40   \n",
       "105  MiniBatchOptimizer  3     0.45   \n",
       "106  MiniBatchOptimizer  3     0.50   \n",
       "107  MiniBatchOptimizer  3     0.55   \n",
       "\n",
       "                                                  loss       acc  \n",
       "0    [0.014005744829773903, 0.12235231697559357, 0....  0.985470  \n",
       "1    [0.014005744829773903, 0.12235231697559357, 0....  0.983380  \n",
       "2    [0.014005744829773903, 0.12235231697559357, 0....  0.980494  \n",
       "3    [0.014005744829773903, 0.12235231697559357, 0....  0.977408  \n",
       "4    [0.014005744829773903, 0.12235231697559357, 0....  0.971139  \n",
       "..                                                 ...       ...  \n",
       "103  [0.04023260250687599, 0.15168392658233643, 0.0...  0.920985  \n",
       "104  [0.04023260250687599, 0.15168392658233643, 0.0...  0.904668  \n",
       "105  [0.04023260250687599, 0.15168392658233643, 0.0...  0.879945  \n",
       "106  [0.04023260250687599, 0.15168392658233643, 0.0...  0.844244  \n",
       "107  [0.04023260250687599, 0.15168392658233643, 0.0...  0.795688  \n",
       "\n",
       "[108 rows x 5 columns]"
      ]
     },
     "execution_count": 50,
     "metadata": {},
     "output_type": "execute_result"
    }
   ],
   "source": [
    "df_robust = pd.DataFrame(data_robust_attack)\n",
    "df_robust"
   ]
  },
  {
   "cell_type": "markdown",
   "id": "contemporary-period",
   "metadata": {},
   "source": [
    "### Training curves"
   ]
  },
  {
   "cell_type": "code",
   "execution_count": 51,
   "id": "recreational-disney",
   "metadata": {},
   "outputs": [
    {
     "data": {
      "image/png": "[encoded data removed]",
      "text/plain": [
       "<Figure size 432x288 with 1 Axes>"
      ]
     },
     "metadata": {
      "needs_background": "light"
     },
     "output_type": "display_data"
    }
   ],
   "source": [
    "df_naive = pd.DataFrame(data_robust).sort_values(['optimizer', 'n'])\n",
    "# Average training loss per epoch\n",
    "df_naive.loss_train = df_naive.loss_train.apply(lambda s: np.mean(s, axis=1))\n",
    "\n",
    "colors = {'AdamOptimizer': 'r', 'MiniBatchOptimizer': 'b', 'NesterovOptimizer': 'm'}\n",
    "for _, row in df_naive.iterrows():\n",
    "    plt.plot(range(1, training_config['epochs'] + 1), row.loss_train, '-o', label=row.optimizer, color=colors[row.optimizer])\n",
    "\n",
    "plt.grid(alpha=.6)\n",
    "plt.legend();\n",
    "plt.yscale('log')\n",
    "plt.xlabel('Epoch'); plt.ylabel('Training Loss')\n",
    "plt.title('Training curves of naive models');"
   ]
  },
  {
   "cell_type": "markdown",
   "id": "representative-equity",
   "metadata": {},
   "source": [
    "### Attack plots"
   ]
  },
  {
   "cell_type": "code",
   "execution_count": 55,
   "id": "royal-honey",
   "metadata": {},
   "outputs": [
    {
     "data": {
      "image/png": "[encoded data removed]",
      "text/plain": [
       "<Figure size 432x288 with 1 Axes>"
      ]
     },
     "metadata": {
      "needs_background": "light"
     },
     "output_type": "display_data"
    }
   ],
   "source": [
    "df_robust = pd.DataFrame(data_robust_attack).sort_values(['optimizer', 'epsilon'])\n",
    "# Raw accuracy in function of attack stength\n",
    "sns.lineplot(x='epsilon', y='acc', data=df, hue='optimizer', marker='o')\n",
    "plt.grid(alpha=.6)\n",
    "plt.ylabel('Accuracy');\n",
    "plt.title('Attack on robust models');"
   ]
  },
  {
   "cell_type": "code",
   "execution_count": 60,
   "id": "atlantic-forge",
   "metadata": {},
   "outputs": [],
   "source": [
    "df_robust.T.to_json('res/log_attack_robust.json', indent=2)"
   ]
  },
  {
   "cell_type": "markdown",
   "id": "italic-kennedy",
   "metadata": {},
   "source": [
    "# Comparative analysis"
   ]
  },
  {
   "cell_type": "code",
   "execution_count": 6,
   "id": "opposed-brave",
   "metadata": {},
   "outputs": [],
   "source": [
    "# Whether to generate fancy plots for the report. Warning: this lengthens image rendering time\n",
    "# This requires the `ipypublish` library\n",
    "fancy_plots = False\n",
    "\n",
    "if fancy_plots:\n",
    "    from ipypublish import nb_setup\n",
    "    plt = nb_setup.setup_matplotlib()\n",
    "    # Override with seaborn defaults\n",
    "    sns.set(style='whitegrid')"
   ]
  },
  {
   "cell_type": "raw",
   "id": "indie-gather",
   "metadata": {},
   "source": [
    "df_naive = pd.read_json('res/log_attack_naive.json').T.drop(columns=['loss', 'n'])\n",
    "df_robust = pd.read_json('res/log_attack_robust.json').T\n",
    "# For some reason this has to be done after parsing from json\n",
    "df_naive.epsilon = df_naive.epsilon.astype(float)\n",
    "df_robust.acc = df_naive.acc.astype(float)\n",
    "df_robust.epsilon = df_naive.epsilon.astype(float)"
   ]
  },
  {
   "cell_type": "raw",
   "id": "above-reality",
   "metadata": {},
   "source": [
    "df_naive"
   ]
  },
  {
   "cell_type": "raw",
   "id": "integrated-appraisal",
   "metadata": {},
   "source": [
    "_, ax = plt.subplots(1, 2, figsize=(10, 4))\n",
    "\n",
    "plt.axes(ax[0])\n",
    "sns.lineplot(x='epsilon', y='acc', data=df_naive, hue='optimizer', marker='o')\n",
    "plt.grid(alpha=.6)\n",
    "plt.ylabel('Accuracy');\n",
    "plt.title('Attack on naive models');\n",
    "\n",
    "plt.axes(ax[1])\n",
    "plt.axes(ax[0])\n",
    "sns.lineplot(x='epsilon', y='acc', data=df_robust, hue='optimizer', marker='o')\n",
    "plt.grid(alpha=.6)\n",
    "plt.ylabel('Accuracy');\n",
    "plt.title('Attack on naive models');"
   ]
  }
 ],
 "metadata": {
  "accelerator": "GPU",
  "colab": {
   "collapsed_sections": [
    "9kL7lW6RTC5B",
    "xOu0V6AjTC5F",
    "R6vqeaYzTC5I",
    "iQc7A5jETC5I",
    "tcc0rN-VTC5I",
    "treK0pzuTC5I"
   ],
   "name": "Merged-notebook.ipynb",
   "provenance": []
  },
  "kernelspec": {
   "display_name": "Python [conda env:ml]",
   "language": "python",
   "name": "conda-env-ml-py"
  },
  "language_info": {
   "codemirror_mode": {
    "name": "ipython",
    "version": 3
   },
   "file_extension": ".py",
   "mimetype": "text/x-python",
   "name": "python",
   "nbconvert_exporter": "python",
   "pygments_lexer": "ipython3",
   "version": "3.8.8"
  },
  "metadata": {
   "interpreter": {
    "hash": "aee8b7b246df8f9039afb4144a1f6fd8d2ca17a180786b69acc140d282b71a49"
   }
  }
 },
 "nbformat": 4,
 "nbformat_minor": 5
}
