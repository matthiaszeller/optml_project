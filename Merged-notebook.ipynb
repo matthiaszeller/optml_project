{
 "cells": [
  {
   "cell_type": "markdown",
   "id": "respected-eating",
   "metadata": {},
   "source": [
    "# guidelines\n",
    "\n",
    "TODO : import whenever needed, not centralized"
   ]
  },
  {
   "cell_type": "markdown",
   "id": "endless-tattoo",
   "metadata": {},
   "source": [
    "states https://pytorch.org/tutorials/beginner/saving_loading_models.html"
   ]
  },
  {
   "cell_type": "markdown",
   "id": "advisory-circus",
   "metadata": {},
   "source": [
    "# Introduction "
   ]
  },
  {
   "cell_type": "markdown",
   "id": "ignored-minneapolis",
   "metadata": {},
   "source": [
    "## Aim"
   ]
  },
  {
   "cell_type": "markdown",
   "id": "major-tutorial",
   "metadata": {},
   "source": [
    "## Data"
   ]
  },
  {
   "cell_type": "markdown",
   "id": "romance-clearance",
   "metadata": {},
   "source": [
    "# Import (Remove section later on)"
   ]
  },
  {
   "cell_type": "code",
   "execution_count": 1,
   "id": "favorite-player",
   "metadata": {},
   "outputs": [],
   "source": [
    "import numpy as np\n",
    "import torch\n",
    "import matplotlib.pyplot as plt\n",
    "import pandas as pd"
   ]
  },
  {
   "cell_type": "raw",
   "id": "coordinate-circular",
   "metadata": {},
   "source": [
    "from adversary import attack, protect\n",
    "from net import Net\n",
    "from torch.optim import Optimizer\n",
    "from training import training, testing, accuracy, tune_optimizer\n",
    "from minibatch import MiniBatchOptimizer\n",
    "from adam import AdamOptimizer\n",
    "from data_utils import get_mnist, build_data_loaders\n",
    "import json\n",
    "from pathlib import Path\n",
    "import random"
   ]
  },
  {
   "cell_type": "markdown",
   "id": "mechanical-anxiety",
   "metadata": {},
   "source": [
    "## Setup"
   ]
  },
  {
   "cell_type": "markdown",
   "id": "veterinary-error",
   "metadata": {},
   "source": [
    "Below one can find flags that will setup the notebook:"
   ]
  },
  {
   "cell_type": "code",
   "execution_count": 2,
   "id": "widespread-malta",
   "metadata": {},
   "outputs": [],
   "source": [
    "# Whether to tune the hyperparameters in this notebook\n",
    "# Note that this might take a long time (especially for Adam)\n",
    "hyperparameter_tune = False"
   ]
  },
  {
   "cell_type": "code",
   "execution_count": 3,
   "id": "experimental-acrobat",
   "metadata": {},
   "outputs": [
    {
     "name": "stdout",
     "output_type": "stream",
     "text": [
      "Device chosen is cuda\n"
     ]
    }
   ],
   "source": [
    "# Whether to use the GPU, if it's not available, this will be ignored\n",
    "use_cuda = True\n",
    "\n",
    "device = torch.device('cuda' if use_cuda and torch.cuda.is_available() else 'cpu')\n",
    "print(\"Device chosen is {}\".format(device))"
   ]
  },
  {
   "cell_type": "markdown",
   "id": "arabic-explosion",
   "metadata": {},
   "source": [
    "We now load the dataset:"
   ]
  },
  {
   "cell_type": "markdown",
   "id": "premium-vegetable",
   "metadata": {},
   "source": [
    "**TODO add data downloading**"
   ]
  },
  {
   "cell_type": "code",
   "execution_count": 4,
   "id": "cross-actress",
   "metadata": {},
   "outputs": [],
   "source": [
    "# download"
   ]
  },
  {
   "cell_type": "code",
   "execution_count": 5,
   "id": "mediterranean-stupid",
   "metadata": {},
   "outputs": [],
   "source": [
    "from data_utils import get_mnist\n",
    "\n",
    "train_dataset, test_dataset = get_mnist(normalize=True)"
   ]
  },
  {
   "cell_type": "markdown",
   "id": "correct-standard",
   "metadata": {},
   "source": [
    "We setup the training parameters that we will use all along the notebook, in order to improve readability in downstream code:"
   ]
  },
  {
   "cell_type": "code",
   "execution_count": 6,
   "id": "severe-heavy",
   "metadata": {},
   "outputs": [],
   "source": [
    "from training import accuracy\n",
    "\n",
    "training_config = {\n",
    "    # Loss function\n",
    "    'loss_fun': torch.nn.CrossEntropyLoss(),\n",
    "    # Performance evaluation function\n",
    "    'metric_fun': accuracy,\n",
    "    # The device to train on\n",
    "    'device': device,\n",
    "    # Number of epochs\n",
    "    'epochs': 10\n",
    "}\n",
    "\n",
    "test_config = training_config.copy()\n",
    "test_config.pop('epochs');"
   ]
  },
  {
   "cell_type": "markdown",
   "id": "associate-istanbul",
   "metadata": {},
   "source": [
    "Note that we will use a model with a 10-dimensional output, where each output is passed through softmax. When receiving an output \n",
    "\n",
    "$$Z = \\begin{bmatrix} \\mathbf z_1 & \\dots & \\mathbf z_B \\end{bmatrix}^\\top \\in \\mathbb R^{B \\times 10}$$\n",
    "\n",
    "with $B$ the batch size, we first retrieve the maximal component of each $\\mathbf z_i$:\n",
    "\n",
    "$$\\hat y_i = \\text{argmax}_{k = 1, \\ldots, 10} \\; z_{ik}, \\quad i = 1, \\ldots, B$$\n",
    "\n",
    "and then compute the accuracy:\n",
    "\n",
    "$$\\text{acc} = \\frac 1 B \\sum_{i=1}^B I\\left\\{ \\hat y_i = y_i \\right\\} $$\n",
    "\n",
    "with $I$ the indicator function and $y_i \\in \\{1, \\ldots, 10\\}$ the true target. "
   ]
  },
  {
   "cell_type": "code",
   "execution_count": 7,
   "id": "sublime-middle",
   "metadata": {},
   "outputs": [
    {
     "data": {
      "text/plain": [
       "\u001b[0;31mSignature:\u001b[0m \u001b[0maccuracy\u001b[0m\u001b[0;34m(\u001b[0m\u001b[0myhat\u001b[0m\u001b[0;34m,\u001b[0m \u001b[0my\u001b[0m\u001b[0;34m)\u001b[0m\u001b[0;34m\u001b[0m\u001b[0;34m\u001b[0m\u001b[0m\n",
       "\u001b[0;31mDocstring:\u001b[0m <no docstring>\n",
       "\u001b[0;31mSource:\u001b[0m   \n",
       "\u001b[0;32mdef\u001b[0m \u001b[0maccuracy\u001b[0m\u001b[0;34m(\u001b[0m\u001b[0myhat\u001b[0m\u001b[0;34m,\u001b[0m \u001b[0my\u001b[0m\u001b[0;34m)\u001b[0m\u001b[0;34m:\u001b[0m\u001b[0;34m\u001b[0m\n",
       "\u001b[0;34m\u001b[0m    \u001b[0mprediction\u001b[0m \u001b[0;34m=\u001b[0m \u001b[0myhat\u001b[0m\u001b[0;34m.\u001b[0m\u001b[0margmax\u001b[0m\u001b[0;34m(\u001b[0m\u001b[0mdim\u001b[0m\u001b[0;34m=\u001b[0m\u001b[0;36m1\u001b[0m\u001b[0;34m)\u001b[0m\u001b[0;34m\u001b[0m\n",
       "\u001b[0;34m\u001b[0m    \u001b[0;32mreturn\u001b[0m \u001b[0;34m(\u001b[0m\u001b[0my\u001b[0m\u001b[0;34m.\u001b[0m\u001b[0meq\u001b[0m\u001b[0;34m(\u001b[0m\u001b[0mprediction\u001b[0m\u001b[0;34m)\u001b[0m\u001b[0;34m)\u001b[0m\u001b[0;34m.\u001b[0m\u001b[0mto\u001b[0m\u001b[0;34m(\u001b[0m\u001b[0mfloat\u001b[0m\u001b[0;34m)\u001b[0m\u001b[0;34m.\u001b[0m\u001b[0mmean\u001b[0m\u001b[0;34m(\u001b[0m\u001b[0;34m)\u001b[0m\u001b[0;34m.\u001b[0m\u001b[0mitem\u001b[0m\u001b[0;34m(\u001b[0m\u001b[0;34m)\u001b[0m\u001b[0;34m\u001b[0m\u001b[0;34m\u001b[0m\u001b[0m\n",
       "\u001b[0;31mFile:\u001b[0m      /media/maousi/Data/Documents/Programmation/courses/DS-MA2/optml_project/training.py\n",
       "\u001b[0;31mType:\u001b[0m      function\n"
      ]
     },
     "metadata": {},
     "output_type": "display_data"
    }
   ],
   "source": [
    "# View the source code\n",
    "??accuracy"
   ]
  },
  {
   "cell_type": "markdown",
   "id": "varied-greece",
   "metadata": {},
   "source": [
    "# Model"
   ]
  },
  {
   "cell_type": "markdown",
   "id": "liberal-hours",
   "metadata": {},
   "source": [
    "We use a simple standard model for the MNIST dataset (can be found [here](https://github.com/floydhub/mnist/blob/master/ConvNet.py))."
   ]
  },
  {
   "cell_type": "code",
   "execution_count": 8,
   "id": "identical-factory",
   "metadata": {},
   "outputs": [],
   "source": [
    "from net import Net"
   ]
  },
  {
   "cell_type": "code",
   "execution_count": 9,
   "id": "nominated-stranger",
   "metadata": {},
   "outputs": [
    {
     "data": {
      "text/plain": [
       "\u001b[0;31mInit signature:\u001b[0m \u001b[0mNet\u001b[0m\u001b[0;34m(\u001b[0m\u001b[0;34m)\u001b[0m\u001b[0;34m\u001b[0m\u001b[0;34m\u001b[0m\u001b[0m\n",
       "\u001b[0;31mSource:\u001b[0m        \n",
       "\u001b[0;32mclass\u001b[0m \u001b[0mNet\u001b[0m\u001b[0;34m(\u001b[0m\u001b[0mnn\u001b[0m\u001b[0;34m.\u001b[0m\u001b[0mModule\u001b[0m\u001b[0;34m)\u001b[0m\u001b[0;34m:\u001b[0m\u001b[0;34m\u001b[0m\n",
       "\u001b[0;34m\u001b[0m    \u001b[0;34m\"\"\"ConvNet -> Max_Pool -> RELU -> ConvNet -> Max_Pool -> RELU -> FC -> RELU -> FC -> SOFTMAX\"\"\"\u001b[0m\u001b[0;34m\u001b[0m\n",
       "\u001b[0;34m\u001b[0m    \u001b[0;32mdef\u001b[0m \u001b[0m__init__\u001b[0m\u001b[0;34m(\u001b[0m\u001b[0mself\u001b[0m\u001b[0;34m)\u001b[0m\u001b[0;34m:\u001b[0m\u001b[0;34m\u001b[0m\n",
       "\u001b[0;34m\u001b[0m        \u001b[0msuper\u001b[0m\u001b[0;34m(\u001b[0m\u001b[0mNet\u001b[0m\u001b[0;34m,\u001b[0m \u001b[0mself\u001b[0m\u001b[0;34m)\u001b[0m\u001b[0;34m.\u001b[0m\u001b[0m__init__\u001b[0m\u001b[0;34m(\u001b[0m\u001b[0;34m)\u001b[0m\u001b[0;34m\u001b[0m\n",
       "\u001b[0;34m\u001b[0m        \u001b[0mself\u001b[0m\u001b[0;34m.\u001b[0m\u001b[0mconv1\u001b[0m \u001b[0;34m=\u001b[0m \u001b[0mnn\u001b[0m\u001b[0;34m.\u001b[0m\u001b[0mConv2d\u001b[0m\u001b[0;34m(\u001b[0m\u001b[0;36m1\u001b[0m\u001b[0;34m,\u001b[0m \u001b[0;36m20\u001b[0m\u001b[0;34m,\u001b[0m \u001b[0;36m5\u001b[0m\u001b[0;34m,\u001b[0m \u001b[0;36m1\u001b[0m\u001b[0;34m)\u001b[0m\u001b[0;34m\u001b[0m\n",
       "\u001b[0;34m\u001b[0m        \u001b[0mself\u001b[0m\u001b[0;34m.\u001b[0m\u001b[0mconv2\u001b[0m \u001b[0;34m=\u001b[0m \u001b[0mnn\u001b[0m\u001b[0;34m.\u001b[0m\u001b[0mConv2d\u001b[0m\u001b[0;34m(\u001b[0m\u001b[0;36m20\u001b[0m\u001b[0;34m,\u001b[0m \u001b[0;36m50\u001b[0m\u001b[0;34m,\u001b[0m \u001b[0;36m5\u001b[0m\u001b[0;34m,\u001b[0m \u001b[0;36m1\u001b[0m\u001b[0;34m)\u001b[0m\u001b[0;34m\u001b[0m\n",
       "\u001b[0;34m\u001b[0m        \u001b[0mself\u001b[0m\u001b[0;34m.\u001b[0m\u001b[0mfc1\u001b[0m \u001b[0;34m=\u001b[0m \u001b[0mnn\u001b[0m\u001b[0;34m.\u001b[0m\u001b[0mLinear\u001b[0m\u001b[0;34m(\u001b[0m\u001b[0;36m4\u001b[0m\u001b[0;34m*\u001b[0m\u001b[0;36m4\u001b[0m\u001b[0;34m*\u001b[0m\u001b[0;36m50\u001b[0m\u001b[0;34m,\u001b[0m \u001b[0;36m500\u001b[0m\u001b[0;34m)\u001b[0m\u001b[0;34m\u001b[0m\n",
       "\u001b[0;34m\u001b[0m        \u001b[0mself\u001b[0m\u001b[0;34m.\u001b[0m\u001b[0mfc2\u001b[0m \u001b[0;34m=\u001b[0m \u001b[0mnn\u001b[0m\u001b[0;34m.\u001b[0m\u001b[0mLinear\u001b[0m\u001b[0;34m(\u001b[0m\u001b[0;36m500\u001b[0m\u001b[0;34m,\u001b[0m \u001b[0;36m10\u001b[0m\u001b[0;34m)\u001b[0m\u001b[0;34m\u001b[0m\n",
       "\u001b[0;34m\u001b[0m\u001b[0;34m\u001b[0m\n",
       "\u001b[0;34m\u001b[0m    \u001b[0;32mdef\u001b[0m \u001b[0mforward\u001b[0m\u001b[0;34m(\u001b[0m\u001b[0mself\u001b[0m\u001b[0;34m,\u001b[0m \u001b[0mx\u001b[0m\u001b[0;34m)\u001b[0m\u001b[0;34m:\u001b[0m\u001b[0;34m\u001b[0m\n",
       "\u001b[0;34m\u001b[0m        \u001b[0mx\u001b[0m \u001b[0;34m=\u001b[0m \u001b[0mF\u001b[0m\u001b[0;34m.\u001b[0m\u001b[0mrelu\u001b[0m\u001b[0;34m(\u001b[0m\u001b[0mself\u001b[0m\u001b[0;34m.\u001b[0m\u001b[0mconv1\u001b[0m\u001b[0;34m(\u001b[0m\u001b[0mx\u001b[0m\u001b[0;34m)\u001b[0m\u001b[0;34m)\u001b[0m\u001b[0;34m\u001b[0m\n",
       "\u001b[0;34m\u001b[0m        \u001b[0mx\u001b[0m \u001b[0;34m=\u001b[0m \u001b[0mF\u001b[0m\u001b[0;34m.\u001b[0m\u001b[0mmax_pool2d\u001b[0m\u001b[0;34m(\u001b[0m\u001b[0mx\u001b[0m\u001b[0;34m,\u001b[0m \u001b[0;36m2\u001b[0m\u001b[0;34m,\u001b[0m \u001b[0;36m2\u001b[0m\u001b[0;34m)\u001b[0m\u001b[0;34m\u001b[0m\n",
       "\u001b[0;34m\u001b[0m        \u001b[0mx\u001b[0m \u001b[0;34m=\u001b[0m \u001b[0mF\u001b[0m\u001b[0;34m.\u001b[0m\u001b[0mrelu\u001b[0m\u001b[0;34m(\u001b[0m\u001b[0mself\u001b[0m\u001b[0;34m.\u001b[0m\u001b[0mconv2\u001b[0m\u001b[0;34m(\u001b[0m\u001b[0mx\u001b[0m\u001b[0;34m)\u001b[0m\u001b[0;34m)\u001b[0m\u001b[0;34m\u001b[0m\n",
       "\u001b[0;34m\u001b[0m        \u001b[0mx\u001b[0m \u001b[0;34m=\u001b[0m \u001b[0mF\u001b[0m\u001b[0;34m.\u001b[0m\u001b[0mmax_pool2d\u001b[0m\u001b[0;34m(\u001b[0m\u001b[0mx\u001b[0m\u001b[0;34m,\u001b[0m \u001b[0;36m2\u001b[0m\u001b[0;34m,\u001b[0m \u001b[0;36m2\u001b[0m\u001b[0;34m)\u001b[0m\u001b[0;34m\u001b[0m\n",
       "\u001b[0;34m\u001b[0m        \u001b[0mx\u001b[0m \u001b[0;34m=\u001b[0m \u001b[0mx\u001b[0m\u001b[0;34m.\u001b[0m\u001b[0mview\u001b[0m\u001b[0;34m(\u001b[0m\u001b[0;34m-\u001b[0m\u001b[0;36m1\u001b[0m\u001b[0;34m,\u001b[0m \u001b[0;36m4\u001b[0m\u001b[0;34m*\u001b[0m\u001b[0;36m4\u001b[0m\u001b[0;34m*\u001b[0m\u001b[0;36m50\u001b[0m\u001b[0;34m)\u001b[0m\u001b[0;34m\u001b[0m\n",
       "\u001b[0;34m\u001b[0m        \u001b[0mx\u001b[0m \u001b[0;34m=\u001b[0m \u001b[0mF\u001b[0m\u001b[0;34m.\u001b[0m\u001b[0mrelu\u001b[0m\u001b[0;34m(\u001b[0m\u001b[0mself\u001b[0m\u001b[0;34m.\u001b[0m\u001b[0mfc1\u001b[0m\u001b[0;34m(\u001b[0m\u001b[0mx\u001b[0m\u001b[0;34m)\u001b[0m\u001b[0;34m)\u001b[0m\u001b[0;34m\u001b[0m\n",
       "\u001b[0;34m\u001b[0m        \u001b[0mx\u001b[0m \u001b[0;34m=\u001b[0m \u001b[0mself\u001b[0m\u001b[0;34m.\u001b[0m\u001b[0mfc2\u001b[0m\u001b[0;34m(\u001b[0m\u001b[0mx\u001b[0m\u001b[0;34m)\u001b[0m\u001b[0;34m\u001b[0m\n",
       "\u001b[0;34m\u001b[0m        \u001b[0;32mreturn\u001b[0m \u001b[0mF\u001b[0m\u001b[0;34m.\u001b[0m\u001b[0mlog_softmax\u001b[0m\u001b[0;34m(\u001b[0m\u001b[0mx\u001b[0m\u001b[0;34m,\u001b[0m \u001b[0mdim\u001b[0m\u001b[0;34m=\u001b[0m\u001b[0;36m1\u001b[0m\u001b[0;34m)\u001b[0m\u001b[0;34m\u001b[0m\u001b[0;34m\u001b[0m\u001b[0m\n",
       "\u001b[0;31mFile:\u001b[0m           /media/maousi/Data/Documents/Programmation/courses/DS-MA2/optml_project/net.py\n",
       "\u001b[0;31mType:\u001b[0m           type\n",
       "\u001b[0;31mSubclasses:\u001b[0m     \n"
      ]
     },
     "metadata": {},
     "output_type": "display_data"
    }
   ],
   "source": [
    "??Net"
   ]
  },
  {
   "cell_type": "markdown",
   "id": "authorized-institution",
   "metadata": {},
   "source": [
    "# Hyperparameter tuning"
   ]
  },
  {
   "cell_type": "code",
   "execution_count": 10,
   "id": "dedicated-viking",
   "metadata": {},
   "outputs": [],
   "source": [
    "from training import tune_optimizer\n",
    "from optimizer import AdamOptimizer, NesterovOptimizer, MiniBatchOptimizer"
   ]
  },
  {
   "cell_type": "markdown",
   "id": "unusual-premium",
   "metadata": {},
   "source": [
    "If the `hyperparameter_tune` flag was set to `True` above, the following code will run hyperparameter tuning on all optimizers. Note that one can either run KFold cross validation (by providing `n_folds`) or use a simple train/test split (by providing `train_ratio`)."
   ]
  },
  {
   "cell_type": "markdown",
   "id": "blank-organic",
   "metadata": {},
   "source": [
    "If the flag is set to `False`, the cell below will simply set up the hyperparameters that we carefully cross-validated. Check the notebook **Hyperparam-tuning.ipynb** for details."
   ]
  },
  {
   "cell_type": "code",
   "execution_count": 11,
   "id": "fancy-settlement",
   "metadata": {},
   "outputs": [],
   "source": [
    "# Pre-define best parameters, used if hyperparameter_tune = False\n",
    "optimizers = {\n",
    "    AdamOptimizer: {'lr': 8e-05, 'beta1': 0.9, 'beta2': 0.999, 'weight_decay': 0.01, 'epsilon': 1e-08, 'batch_size': 32},\n",
    "    NesterovOptimizer: {'lr': 5e-05, 'batch_size': 64},\n",
    "    #MiniBatchOptimizer: None\n",
    "}"
   ]
  },
  {
   "cell_type": "markdown",
   "id": "norman-substitute",
   "metadata": {},
   "source": [
    "## Utility function"
   ]
  },
  {
   "cell_type": "raw",
   "id": "least-helmet",
   "metadata": {},
   "source": [
    "def find_best_params_adam(adam_tuning):\n",
    "    \"\"\"Given the output of tune_optimizer, return a dictionnary of the best parameters.\"\"\"\n",
    "    best_params = dict()\n",
    "    best_params['loss_test'] = float('inf')\n",
    "    best_params['acc_test'] = -float('inf')\n",
    "\n",
    "        \n",
    "    #IF STD, divide metrics by std\n",
    "    #Wait for the new tuning\n",
    "    for item in adam_tuning:\n",
    "        if best_params['acc_test'] < item['metric_test'] or best_params['loss_test'] > item['loss_test']:\n",
    "            best_params['loss_train'] = item['loss_train']\n",
    "            best_params['acc_train'] = item['metric_train']\n",
    "            best_params['acc_test'] = item['metric_test']\n",
    "            best_params['loss_test'] = item['loss_test']\n",
    "            best_params['lr'] = item['lr']\n",
    "            best_params['beta1'] = item['beta1']\n",
    "            best_params['beta2'] = item['beta2']\n",
    "            best_params['weight_decay'] = item['weight_decay']\n",
    "            best_params['epsilon'] = item['epsilon']\n",
    "            \n",
    "    return best_params\n",
    "best_adam_params = find_best_params_adam(adam_tuning)\n",
    "print_adam_stats(best_adam_params)"
   ]
  },
  {
   "cell_type": "markdown",
   "id": "reverse-ordinary",
   "metadata": {},
   "source": [
    "## Nesterov"
   ]
  },
  {
   "cell_type": "code",
   "execution_count": 12,
   "id": "matched-grove",
   "metadata": {},
   "outputs": [],
   "source": [
    "from optimizer import NesterovOptimizer"
   ]
  },
  {
   "cell_type": "raw",
   "id": "healthy-retention",
   "metadata": {},
   "source": [
    "search_grid_nesterov = {\n",
    "    'lr': np.logspace(0, 1),\n",
    "    'batch_size': [32, 64, 128]\n",
    "}\n",
    "\n",
    "if hyperparameter_tune:\n",
    "    results_nesterov = tune_optimizer(\n",
    "        model=Net().to(device),\n",
    "        optim_fun=NesterovOptimizer,\n",
    "        xtrain=train_dataset.data,\n",
    "        ytrain=train_dataset.targets,\n",
    "        search_grid=search_grid_nesterov,\n",
    "        nfolds=5,\n",
    "        **training_config\n",
    "    )\n",
    "\n",
    "# Generic function to select best config\n",
    "# so something like\n",
    "# optimizers[NesterovOptimizer] = select_best_params(results_nesterov)"
   ]
  },
  {
   "cell_type": "markdown",
   "id": "gross-bearing",
   "metadata": {},
   "source": [
    "## Adam"
   ]
  },
  {
   "cell_type": "raw",
   "id": "adjustable-newark",
   "metadata": {},
   "source": [
    "\n",
    "\n",
    "net_tune = Net().to(device)\n",
    "adam_tune = AdamOptimizer(net_tune.parameters()) \n",
    "fp = './res/adam_tuning.json'\n"
   ]
  },
  {
   "cell_type": "raw",
   "id": "capital-metro",
   "metadata": {},
   "source": [
    "if not hyperparameter_tune:\n",
    "    results = []\n",
    "else:\n",
    "    results = tune_optimizer(\n",
    "    net_tune,\n",
    "    train_dataset.data,\n",
    "    train_dataset.targets,\n",
    "    criterion,\n",
    "    accuracy,\n",
    "    device,\n",
    "    AdamOptimizer,\n",
    "    epochs=10,\n",
    "    search_grid={\n",
    "        'lr': np.linspace(0.00001, 0.01, 5),\n",
    "        'beta1':  np.linspace(0.1, 0.9, 5),\n",
    "        'beta2': np.linspace(0.5, 0.999, 5),\n",
    "        'weight_decay': np.linspace(0.0001, 0.1, 4),\n",
    "        'epsilon': np.linspace(1e-10, 1e-8, 3),\n",
    "    }\n",
    "    batch_size=16\n",
    ")"
   ]
  },
  {
   "cell_type": "raw",
   "id": "personal-heading",
   "metadata": {},
   "source": [
    "if Path(fp).exists():\n",
    "    with open(fp, 'r') as f:\n",
    "        old_results = json.load(f)\n",
    "\n",
    "    results = old_results + results\n",
    "\n",
    "with open(fp, 'w') as f:\n",
    "    json.dump(results, f, indent=2)\n",
    "\n",
    "# Select Best Hyperparamters\n",
    "with open(fp, 'r') as f:\n",
    "        old_results = json.load(f)"
   ]
  },
  {
   "cell_type": "markdown",
   "id": "worse-geneva",
   "metadata": {},
   "source": [
    "## Minibatch"
   ]
  },
  {
   "cell_type": "raw",
   "id": "greek-reconstruction",
   "metadata": {},
   "source": [
    "net_tune = Net().to(device)\n",
    "mini_opt_tune = MiniBatchOptimizer(net_tune.parameters()) # Just using defaults\n",
    "dec_lr_set =  [0]*1 + [1]*1\n",
    "random.shuffle(dec_lr_set)\n",
    "fp = './res/mini_tuning.json'\n",
    "if not hyperparamter_tune:\n",
    "    results = []"
   ]
  },
  {
   "cell_type": "raw",
   "id": "color-glenn",
   "metadata": {},
   "source": [
    "if hyperparamter_tune:\n",
    "    results = tune_optimizer(\n",
    "    net_tune,\n",
    "    train_dataset.data,\n",
    "    train_dataset.targets,\n",
    "    criterion,\n",
    "    accuracy,\n",
    "    device,\n",
    "    MiniBatchOptimizer,\n",
    "    epochs=10,\n",
    "    search_grid={\n",
    "        'lr': np.linspace(0.00001, 0.01, 5),\n",
    "        'decreasing_lr': dec_lr_set,\n",
    "    }, \n",
    "    batch_size=16\n",
    ")"
   ]
  },
  {
   "cell_type": "raw",
   "id": "current-anxiety",
   "metadata": {},
   "source": [
    "if Path(fp).exists():\n",
    "    with open(fp, 'r') as f:\n",
    "        old_results = json.load(f)\n",
    "\n",
    "    results = old_results + results\n",
    "\n",
    "with open(fp, 'w') as f:\n",
    "    json.dump(results, f, indent=2)\n",
    "\n",
    "# Select Best Hyperparamters\n",
    "with open(fp, 'r') as f:\n",
    "        old_results = json.load(f)"
   ]
  },
  {
   "cell_type": "raw",
   "id": "fundamental-offer",
   "metadata": {},
   "source": [
    "df_analysis = pd.DataFrame(results)\n",
    "best_acc = 0.0\n",
    "for index, row in df_analysis.iterrows():    \n",
    "        trial_acc = row[\"metric_test\"]\n",
    "        if trial_acc > best_acc:\n",
    "            best_acc = trial_acc\n",
    "            learning_rate = round(row[\"lr\"], 6)\n",
    "            decreasing_lr = row[\"decreasing_lr\"]\n",
    "\n",
    "print(\"Best Accuracy was {}% with Learning Rate {} and Decreasing LR: {}\".format(100*best_acc, learning_rate, decreasing_lr))\n"
   ]
  },
  {
   "cell_type": "raw",
   "id": "alleged-reconstruction",
   "metadata": {},
   "source": [
    "# lst_optimizer = {'name': function_optimizer}"
   ]
  },
  {
   "cell_type": "markdown",
   "id": "clear-absence",
   "metadata": {},
   "source": [
    "## Comparison"
   ]
  },
  {
   "cell_type": "markdown",
   "id": "prompt-standard",
   "metadata": {},
   "source": [
    "# Attack on naive model\n",
    "\n"
   ]
  },
  {
   "cell_type": "code",
   "execution_count": 13,
   "id": "electoral-advocate",
   "metadata": {},
   "outputs": [],
   "source": [
    "from data_utils import build_data_loaders\n",
    "from training import training, testing"
   ]
  },
  {
   "cell_type": "markdown",
   "id": "annoying-vienna",
   "metadata": {},
   "source": [
    "## Train naive models"
   ]
  },
  {
   "cell_type": "code",
   "execution_count": 14,
   "id": "secure-alexandria",
   "metadata": {},
   "outputs": [
    {
     "name": "stdout",
     "output_type": "stream",
     "text": [
      "--- <class 'optimizer.AdamOptimizer'>\n",
      "Launching training on cuda\n",
      "epoch 0\tavg epoch loss = 0.8359\tavg epoch acc = 0.7553\n",
      "epoch 1\tavg epoch loss = 0.1242\tavg epoch acc = 0.9628\n",
      "epoch 2\tavg epoch loss = 0.07036\tavg epoch acc = 0.9789\n",
      "epoch 3\tavg epoch loss = 0.05043\tavg epoch acc = 0.9844\n",
      "epoch 4\tavg epoch loss = 0.03867\tavg epoch acc = 0.9882\n",
      "epoch 5\tavg epoch loss = 0.03056\tavg epoch acc = 0.9909\n",
      "epoch 6\tavg epoch loss = 0.0246\tavg epoch acc = 0.9932\n",
      "epoch 7\tavg epoch loss = 0.01974\tavg epoch acc = 0.9946\n",
      "epoch 8\tavg epoch loss = 0.01579\tavg epoch acc = 0.9957\n",
      "epoch 9\tavg epoch loss = 0.01247\tavg epoch acc = 0.997\n",
      "training took 44.15 s\n",
      "Avg test loss = 0.0311\tAvg test acc = 0.989\n",
      "--- <class 'optimizer.NesterovOptimizer'>\n",
      "Launching training on cuda\n",
      "epoch 0\tavg epoch loss = 1.453\tavg epoch acc = 0.5861\n",
      "epoch 1\tavg epoch loss = 0.2344\tavg epoch acc = 0.9324\n",
      "epoch 2\tavg epoch loss = 0.09442\tavg epoch acc = 0.9705\n",
      "epoch 3\tavg epoch loss = 0.06535\tavg epoch acc = 0.9792\n",
      "epoch 4\tavg epoch loss = 0.05164\tavg epoch acc = 0.9833\n",
      "epoch 5\tavg epoch loss = 0.03698\tavg epoch acc = 0.9884\n",
      "epoch 6\tavg epoch loss = 0.02833\tavg epoch acc = 0.9914\n",
      "epoch 7\tavg epoch loss = 0.02529\tavg epoch acc = 0.9917\n",
      "epoch 8\tavg epoch loss = 0.02302\tavg epoch acc = 0.9923\n",
      "epoch 9\tavg epoch loss = 0.01785\tavg epoch acc = 0.994\n",
      "training took 19.23 s\n",
      "Avg test loss = 0.0369\tAvg test acc = 0.988\n"
     ]
    }
   ],
   "source": [
    "naive_networks = dict()\n",
    "data_naive = list()\n",
    "batch_log_interval = 0\n",
    "\n",
    "for optimizer, optimizer_params in optimizers.items():\n",
    "    print(f'--- {optimizer}')\n",
    "    optimizer_params = optimizer_params.copy()\n",
    "    \n",
    "    net = Net().to(device)\n",
    "    # Instantiate data loaders with selected batch size\n",
    "    batch_size = optimizer_params.pop('batch_size')\n",
    "    train_loader, test_loader = build_data_loaders(train_dataset, test_dataset, batch_size)\n",
    "    # Instantiate optimizer\n",
    "    optimizer_instance = optimizer(net.parameters(), **optimizer_params)\n",
    "    # Train\n",
    "    loss_train, acc_train = training(\n",
    "        model=net, \n",
    "        dataset=train_loader, \n",
    "        optim=optimizer_instance,\n",
    "        batch_log_interval=batch_log_interval,\n",
    "        **training_config\n",
    "    )\n",
    "    # Test\n",
    "    loss_test, acc_test = testing(\n",
    "        model=net,\n",
    "        dataset=test_loader,\n",
    "        **test_config\n",
    "    )\n",
    "    # Log\n",
    "    data_naive.append({\n",
    "        'optimizer': str(optimizer),\n",
    "        'loss_train': loss_train,\n",
    "        'acc_train': acc_train,\n",
    "        'loss_test': loss_test,\n",
    "        'acc_test': acc_test\n",
    "    })\n",
    "    # Save naive model\n",
    "    naive_networks[optimizer] = net"
   ]
  },
  {
   "cell_type": "markdown",
   "id": "hollow-crest",
   "metadata": {},
   "source": [
    "### Minibatch (for now, loop later)"
   ]
  },
  {
   "cell_type": "raw",
   "id": "deadly-mobility",
   "metadata": {},
   "source": [
    "net_naive = Net().to(device)\n",
    "train_loader, test_loader = build_data_loaders(train_dataset, test_dataset, batch_size)"
   ]
  },
  {
   "cell_type": "raw",
   "id": "patient-mistress",
   "metadata": {},
   "source": [
    "mini_opt_naive = MiniBatchOptimizer(net_naive.parameters(), lr=learning_rate, decreasing_lr=decreasing_lr)\n",
    "loss_train, acc_train = training(net_naive, train_loader, mini_opt_naive, criterion, accuracy, epochs=epochs, device=device)\n",
    "loss_test, acc_test = testing(net_naive, test_loader, criterion, accuracy, device=device)"
   ]
  },
  {
   "cell_type": "markdown",
   "id": "institutional-mother",
   "metadata": {},
   "source": [
    "## Adam"
   ]
  },
  {
   "cell_type": "raw",
   "id": "editorial-classic",
   "metadata": {},
   "source": [
    "net_naive_adam = Net().to(device)\n",
    "train_loader, test_loader = build_data_loaders(train_dataset, test_dataset, batch_size)"
   ]
  },
  {
   "cell_type": "raw",
   "id": "automotive-float",
   "metadata": {},
   "source": [
    "adam_opt_naive = AdamOptimizer(net_naive.parameters(), lr=best_adam_params['lr'], beta1=best_adam_params['beta1'],beta2=best_adam_params['beta2'],weight_decay=best_adam_params['weight_decay'],epsilon=best_adam_params['epsilon'])\n",
    "loss_train, acc_train = training(net_naive, train_loader, adam_opt_naive, criterion, accuracy, epochs=epochs, device=device)\n",
    "loss_test, acc_test = testing(net_naive, test_loader, criterion, accuracy, device=device)"
   ]
  },
  {
   "cell_type": "markdown",
   "id": "blank-compatibility",
   "metadata": {},
   "source": [
    "## Nesterov\n",
    "\n"
   ]
  },
  {
   "cell_type": "markdown",
   "id": "bigger-irrigation",
   "metadata": {},
   "source": [
    "## Attack naive models"
   ]
  },
  {
   "cell_type": "code",
   "execution_count": 15,
   "id": "genetic-soviet",
   "metadata": {},
   "outputs": [],
   "source": [
    "from adversary import attack"
   ]
  },
  {
   "cell_type": "code",
   "execution_count": 16,
   "id": "municipal-hardwood",
   "metadata": {},
   "outputs": [],
   "source": [
    "epsilons = np.arange(0, 0.5, 0.05)"
   ]
  },
  {
   "cell_type": "code",
   "execution_count": 17,
   "id": "powered-defensive",
   "metadata": {},
   "outputs": [],
   "source": [
    "# use the lst_optimizer\n",
    "# Only one optimizer used in this part?"
   ]
  },
  {
   "cell_type": "markdown",
   "id": "inappropriate-leather",
   "metadata": {},
   "source": [
    "### Minibatch (for now, loop later)"
   ]
  },
  {
   "cell_type": "raw",
   "id": "economic-proceeding",
   "metadata": {},
   "source": [
    "accuracy_naive= []\n",
    "losses_naive= []\n",
    "\n",
    "for eps in epsilons:\n",
    "    loss_attack, acc_attack  = attack(net_naive, criterion, test_loader, epsilon=eps, device=device)\n",
    "    accuracy_naive.append(acc_attack)\n",
    "    losses_naive.append(loss_attack)"
   ]
  },
  {
   "cell_type": "markdown",
   "id": "adult-deadline",
   "metadata": {},
   "source": [
    "### Adam"
   ]
  },
  {
   "cell_type": "raw",
   "id": "revised-governor",
   "metadata": {},
   "source": [
    "accuracy_naive_adam= []\n",
    "losses_naive_adam= []\n",
    "\n",
    "for eps in epsilons:\n",
    "    loss_attack, acc_attack  = attack(net_naive_adam, criterion, test_loader, epsilon=eps, device=device)\n",
    "    accuracy_naive_adam.append(acc_attack)\n",
    "    losses_naive_adam.append(loss_attack)"
   ]
  },
  {
   "cell_type": "markdown",
   "id": "approved-kansas",
   "metadata": {},
   "source": [
    "### Nesterov"
   ]
  },
  {
   "cell_type": "code",
   "execution_count": 19,
   "id": "environmental-printer",
   "metadata": {},
   "outputs": [
    {
     "data": {
      "text/plain": [
       "{'loss_fun': CrossEntropyLoss(),\n",
       " 'metric_fun': <function training.accuracy(yhat, y)>,\n",
       " 'device': device(type='cuda')}"
      ]
     },
     "execution_count": 19,
     "metadata": {},
     "output_type": "execute_result"
    }
   ],
   "source": [
    "test_config"
   ]
  },
  {
   "cell_type": "code",
   "execution_count": 20,
   "id": "passing-selection",
   "metadata": {},
   "outputs": [
    {
     "name": "stdout",
     "output_type": "stream",
     "text": [
      "--- <class 'optimizer.AdamOptimizer'>\n",
      "Epsilon: 0.00\tTest Accuracy = 0.911\n",
      "Epsilon: 0.05\tTest Accuracy = 0.900\n",
      "Epsilon: 0.10\tTest Accuracy = 0.890\n",
      "Epsilon: 0.15\tTest Accuracy = 0.875\n",
      "Epsilon: 0.20\tTest Accuracy = 0.858\n",
      "Epsilon: 0.25\tTest Accuracy = 0.832\n",
      "Epsilon: 0.30\tTest Accuracy = 0.797\n",
      "Epsilon: 0.35\tTest Accuracy = 0.749\n",
      "Epsilon: 0.40\tTest Accuracy = 0.686\n",
      "Epsilon: 0.45\tTest Accuracy = 0.610\n",
      "--- <class 'optimizer.NesterovOptimizer'>\n",
      "Epsilon: 0.00\tTest Accuracy = 0.975\n",
      "Epsilon: 0.05\tTest Accuracy = 0.969\n",
      "Epsilon: 0.10\tTest Accuracy = 0.964\n",
      "Epsilon: 0.15\tTest Accuracy = 0.958\n",
      "Epsilon: 0.20\tTest Accuracy = 0.947\n",
      "Epsilon: 0.25\tTest Accuracy = 0.929\n",
      "Epsilon: 0.30\tTest Accuracy = 0.905\n",
      "Epsilon: 0.35\tTest Accuracy = 0.874\n",
      "Epsilon: 0.40\tTest Accuracy = 0.825\n",
      "Epsilon: 0.45\tTest Accuracy = 0.755\n"
     ]
    }
   ],
   "source": [
    "data_naive = list()\n",
    "\n",
    "for optimizer, network in naive_networks.items():\n",
    "    print(f'--- {optimizer}')\n",
    "    \n",
    "    for eps in epsilons:\n",
    "        loss_attack, acc_attack = attack(\n",
    "            model=network, \n",
    "            test_loader=test_loader, \n",
    "            epsilon=eps,\n",
    "            **test_config\n",
    "        )\n",
    "        # Log\n",
    "        data_naive.append({\n",
    "            'optimizer': str(optimizer),\n",
    "            'epsilon': eps,\n",
    "            'loss': loss_attack,\n",
    "            'acc': acc_attack\n",
    "        })"
   ]
  },
  {
   "cell_type": "markdown",
   "id": "varying-quest",
   "metadata": {},
   "source": [
    "## Comparison"
   ]
  },
  {
   "cell_type": "markdown",
   "id": "educational-advertiser",
   "metadata": {},
   "source": [
    "**TODO COMPARE**"
   ]
  },
  {
   "cell_type": "markdown",
   "id": "likely-duration",
   "metadata": {},
   "source": [
    "# Attack on robust model"
   ]
  },
  {
   "cell_type": "markdown",
   "id": "standing-bridges",
   "metadata": {},
   "source": [
    "## Train robust models"
   ]
  },
  {
   "cell_type": "code",
   "execution_count": 23,
   "id": "relevant-factor",
   "metadata": {},
   "outputs": [],
   "source": [
    "from adversary import protect"
   ]
  },
  {
   "cell_type": "markdown",
   "id": "coastal-credits",
   "metadata": {},
   "source": [
    "### Minibatch (for now, loop later)"
   ]
  },
  {
   "cell_type": "raw",
   "id": "expanded-respondent",
   "metadata": {},
   "source": [
    "robust_net = Net().to(device)\n",
    "protect_epochs = epochs\n",
    "protect_lr = learning_rate\n",
    "protect_bz = batch_size\n",
    "protect_dec_lr = decreasing_lr\n",
    "prot_train_loader, prot_test_loader = build_data_loaders(train_dataset, test_dataset, protect_bz)\n",
    "mini_opt_proc = MiniBatchOptimizer(robust_net.parameters(), lr=protect_lr, decreasing_lr=protect_dec_lr)"
   ]
  },
  {
   "cell_type": "raw",
   "id": "laden-malta",
   "metadata": {},
   "source": [
    "robust_net = protect(robust_net, mini_opt_proc, criterion, prot_train_loader, prot_test_loader, device=device, epochs=protect_epochs)"
   ]
  },
  {
   "cell_type": "markdown",
   "id": "still-overview",
   "metadata": {},
   "source": [
    "## Adam"
   ]
  },
  {
   "cell_type": "raw",
   "id": "expressed-personality",
   "metadata": {},
   "source": [
    "robust_net = Net().to(device)\n",
    "protect_epochs = epochs\n",
    "protect_lr = learning_rate\n",
    "protect_bz = batch_size\n",
    "\n",
    "prot_train_loader, prot_test_loader = build_data_loaders(train_dataset, test_dataset, protect_bz)\n",
    "adam_opt_proc = AdamOptimizer(net_naive.parameters(), lr=best_adam_params['lr'], beta1=best_adam_params['beta1'],beta2=best_adam_params['beta2'],weight_decay=best_adam_params['weight_decay'],epsilon=best_adam_params['epsilon'])"
   ]
  },
  {
   "cell_type": "raw",
   "id": "primary-cologne",
   "metadata": {},
   "source": [
    "robust_net_adam = protect(robust_net, adam_opt_proc, criterion, prot_train_loader, prot_test_loader, device=device, epochs=protect_epochs)"
   ]
  },
  {
   "cell_type": "markdown",
   "id": "important-specific",
   "metadata": {},
   "source": [
    "## Nesterov\n",
    "\n"
   ]
  },
  {
   "cell_type": "code",
   "execution_count": 24,
   "id": "expired-sampling",
   "metadata": {},
   "outputs": [
    {
     "name": "stdout",
     "output_type": "stream",
     "text": [
      "Epoch 0.00 | Test accuracy: 0.88678\n",
      "Epoch 1.00 | Test accuracy: 0.92053\n",
      "Epoch 2.00 | Test accuracy: 0.93650\n",
      "Epoch 3.00 | Test accuracy: 0.94299\n",
      "Epoch 4.00 | Test accuracy: 0.94918\n",
      "Epoch 5.00 | Test accuracy: 0.95218\n",
      "Epoch 6.00 | Test accuracy: 0.95517\n",
      "Epoch 7.00 | Test accuracy: 0.95567\n",
      "Epoch 8.00 | Test accuracy: 0.95627\n",
      "Epoch 9.00 | Test accuracy: 0.95777\n",
      "training took 68.52 s\n",
      "Epoch 0.00 | Test accuracy: 0.67765\n",
      "Epoch 1.00 | Test accuracy: 0.92864\n",
      "Epoch 2.00 | Test accuracy: 0.96039\n",
      "Epoch 3.00 | Test accuracy: 0.97323\n",
      "Epoch 4.00 | Test accuracy: 0.97641\n",
      "Epoch 5.00 | Test accuracy: 0.97900\n",
      "Epoch 6.00 | Test accuracy: 0.98059\n",
      "Epoch 7.00 | Test accuracy: 0.98358\n",
      "Epoch 8.00 | Test accuracy: 0.98597\n",
      "Epoch 9.00 | Test accuracy: 0.98706\n",
      "training took 31.16 s\n"
     ]
    }
   ],
   "source": [
    "robust_networks = dict()\n",
    "batch_log_interval = 0\n",
    "epsilon = 0.25\n",
    "\n",
    "for optimizer, optimizer_params in optimizers.items():\n",
    "    print(optimizer)\n",
    "    # Instantiate model\n",
    "    net = Net().to(device)\n",
    "    # Instantiate optimizer\n",
    "    optimizer_params = optimizer_params.copy()\n",
    "    batch_size = optimizer_params.pop('batch_size')\n",
    "    optimizer_instance = optimizer(net.parameters(), **optimizer_params)\n",
    "    # Instantiate data loaders\n",
    "    train_loader, test_loader = build_data_loaders(train_dataset, test_dataset, batch_size)\n",
    "    # Train robust model\n",
    "    protect(\n",
    "        model=net,\n",
    "        optim=optimizer_instance,\n",
    "        train_loader=train_loader,\n",
    "        test_loader=test_loader,\n",
    "        epsilon=epsilon,\n",
    "        **training_config\n",
    "    )\n",
    "    # Save robust net\n",
    "    robust_networks[optimizer] = net"
   ]
  },
  {
   "cell_type": "markdown",
   "id": "liberal-guard",
   "metadata": {},
   "source": [
    "## Attack robust models"
   ]
  },
  {
   "cell_type": "markdown",
   "id": "taken-clinton",
   "metadata": {},
   "source": [
    "### Minibatch (for now, loop later)"
   ]
  },
  {
   "cell_type": "raw",
   "id": "found-sharp",
   "metadata": {},
   "source": [
    "accuracy_robust = []\n",
    "losses_robust = []\n",
    "# This should be the first term test_loader is used\n",
    "for eps in epsilons:\n",
    "    loss_attack, acc_attack = attack(robust_net, criterion, prot_test_loader, eps, device=device)\n",
    "    accuracy_robust.append(acc_attack)\n",
    "    losses_robust.append(loss_attack)"
   ]
  },
  {
   "cell_type": "markdown",
   "id": "scheduled-transport",
   "metadata": {},
   "source": [
    "### Adam"
   ]
  },
  {
   "cell_type": "raw",
   "id": "minor-attempt",
   "metadata": {},
   "source": [
    "accuracy_robust_adam = []\n",
    "losses_robust_adam = []\n",
    "# This should be the first term test_loader is used\n",
    "for eps in epsilons:\n",
    "    loss_attack, acc_attack = attack(robust_net_adam, criterion, prot_test_loader, eps, device=device)\n",
    "    accuracy_robust_adam.append(acc_attack)\n",
    "    losses_robust_adam.append(loss_attack)"
   ]
  },
  {
   "cell_type": "markdown",
   "id": "economic-alexandria",
   "metadata": {},
   "source": [
    "**TODO put the loop**"
   ]
  },
  {
   "cell_type": "markdown",
   "id": "advisory-upper",
   "metadata": {},
   "source": [
    "## Comparison"
   ]
  },
  {
   "cell_type": "markdown",
   "id": "limiting-handbook",
   "metadata": {},
   "source": [
    "**TODO**"
   ]
  },
  {
   "cell_type": "markdown",
   "id": "monetary-malawi",
   "metadata": {},
   "source": [
    "# Attack 2"
   ]
  },
  {
   "cell_type": "markdown",
   "id": "latin-craps",
   "metadata": {},
   "source": [
    "# Comparative analysis"
   ]
  },
  {
   "cell_type": "markdown",
   "id": "indie-display",
   "metadata": {},
   "source": [
    "### Minibatch (for now)"
   ]
  },
  {
   "cell_type": "code",
   "execution_count": null,
   "id": "unnecessary-increase",
   "metadata": {},
   "outputs": [],
   "source": [
    "plt.figure(figsize=(5,5))\n",
    "plt.plot(epsilons, accuracy_naive, \"*-\", c='blue', label='Naive Model')\n",
    "plt.plot(epsilons, accuracy_robust, \"*-\", c='orange', label='Robust Model')\n",
    "\n",
    "plt.yticks(np.arange(0, 1.1, step=0.1))\n",
    "plt.xticks(np.arange(0, 0.5, step=0.05))\n",
    "\n",
    "plt.title(\"Accuracy vs Epsilon\")\n",
    "plt.xlabel(\"Epsilon\")\n",
    "plt.ylabel(\"Accuracy\")\n",
    "plt.legend();"
   ]
  },
  {
   "cell_type": "markdown",
   "id": "strange-delhi",
   "metadata": {},
   "source": [
    "Lots of plots\n",
    "\n",
    "* diff naive vs robust (algo as hue)"
   ]
  }
 ],
 "metadata": {
  "kernelspec": {
   "display_name": "Python [conda env:ml]",
   "language": "python",
   "name": "conda-env-ml-py"
  },
  "language_info": {
   "codemirror_mode": {
    "name": "ipython",
    "version": 3
   },
   "file_extension": ".py",
   "mimetype": "text/x-python",
   "name": "python",
   "nbconvert_exporter": "python",
   "pygments_lexer": "ipython3",
   "version": "3.8.8"
  }
 },
 "nbformat": 4,
 "nbformat_minor": 5
}
