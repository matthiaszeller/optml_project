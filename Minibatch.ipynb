{
 "metadata": {
  "language_info": {
   "codemirror_mode": {
    "name": "ipython",
    "version": 3
   },
   "file_extension": ".py",
   "mimetype": "text/x-python",
   "name": "python",
   "nbconvert_exporter": "python",
   "pygments_lexer": "ipython3",
   "version": "3.8.5"
  },
  "orig_nbformat": 2,
  "kernelspec": {
   "name": "python3",
   "display_name": "Python 3",
   "language": "python"
  }
 },
 "nbformat": 4,
 "nbformat_minor": 2,
 "cells": [
  {
   "cell_type": "code",
   "execution_count": null,
   "metadata": {},
   "outputs": [],
   "source": [
    "# Import data"
   ]
  },
  {
   "cell_type": "code",
   "execution_count": 1,
   "metadata": {},
   "outputs": [],
   "source": [
    "import torch"
   ]
  },
  {
   "cell_type": "code",
   "execution_count": 2,
   "metadata": {},
   "outputs": [],
   "source": [
    "use_cuda = False # GPU seems to raise erros on my side\n",
    "\n",
    "device = torch.device('cuda' if use_cuda and torch.cuda.is_available() else 'cpu')"
   ]
  },
  {
   "cell_type": "code",
   "execution_count": 3,
   "metadata": {},
   "outputs": [
    {
     "output_type": "stream",
     "name": "stdout",
     "text": [
      "cpu\n"
     ]
    }
   ],
   "source": [
    "print(device)"
   ]
  },
  {
   "cell_type": "code",
   "execution_count": 4,
   "metadata": {},
   "outputs": [
    {
     "output_type": "execute_result",
     "data": {
      "text/plain": [
       "(-7.328089801639237e-10, 0.002495675580576062)"
      ]
     },
     "metadata": {},
     "execution_count": 4
    }
   ],
   "source": [
    "from data_utils import get_mnist, build_data_loaders\n",
    "train_dataset, test_dataset = get_mnist(normalize=True)\n",
    "train_dataset.data.mean(0).mean().item(), test_dataset.data.mean(0).mean().item()\n"
   ]
  },
  {
   "cell_type": "code",
   "execution_count": null,
   "metadata": {},
   "outputs": [],
   "source": [
    "# Tuning Hyperparameters"
   ]
  },
  {
   "cell_type": "code",
   "execution_count": 5,
   "metadata": {},
   "outputs": [],
   "source": [
    "from ray import tune\n",
    "from net import Net\n",
    "import numpy as np \n",
    "import pandas\n",
    "from minibatch import minibatch_run, minibatch_tune"
   ]
  },
  {
   "cell_type": "code",
   "execution_count": 6,
   "metadata": {},
   "outputs": [],
   "source": [
    "from ray.tune.suggest.bayesopt import BayesOptSearch\n",
    "space = {\n",
    "            \"lr\": tune.uniform(1e-4, 1e-1),\n",
    "            \"b_size\": tune.uniform(2, 128),\n",
    "            \"dec_lr\": tune.uniform(0, 1)\n",
    "        }\n",
    "samples = 5"
   ]
  },
  {
   "cell_type": "code",
   "execution_count": 7,
   "metadata": {},
   "outputs": [],
   "source": [
    "tune_net = Net().to(device)\n",
    "criterion = torch.nn.CrossEntropyLoss()\n",
    "bayesopt = BayesOptSearch(metric=\"mean_accuracy\", mode=\"max\")"
   ]
  },
  {
   "cell_type": "code",
   "execution_count": null,
   "metadata": {
    "tags": [
     "outputPrepend"
    ]
   },
   "outputs": [],
   "source": [
    "best_config, best_result = minibatch_tune(tune_net, train_dataset, test_dataset, samples, criterion, space, bayesopt, device)"
   ]
  },
  {
   "cell_type": "code",
   "execution_count": null,
   "metadata": {},
   "outputs": [],
   "source": [
    "### Best Config was:\n",
    "best_config"
   ]
  },
  {
   "cell_type": "code",
   "execution_count": 8,
   "metadata": {},
   "outputs": [],
   "source": [
    "## Defaults that work\n",
    "epochs = 10\n",
    "batch_size = 16\n",
    "learning_rate = 0.001\n",
    "decreasing_lr = False"
   ]
  },
  {
   "cell_type": "code",
   "execution_count": null,
   "metadata": {},
   "outputs": [],
   "source": [
    "## From Tuning\n",
    "epochs = 10\n",
    "batch_size = int(best_config[\"b_size\"])\n",
    "learning_rate = best_config[\"lr\"]\n",
    "decreasing_lr = best_config[\"dec_lr\"]"
   ]
  },
  {
   "cell_type": "code",
   "execution_count": null,
   "metadata": {},
   "outputs": [],
   "source": [
    "if decreasing_lr < 0.5:\n",
    "    print(\"Best Result was {:.2f}% with a Batch Size of {} and a fixed learning rate of {:.4f}\".format(best_result*100, batch_size, learning_rate))\n",
    "else:\n",
    "    print(\"Best Result was {:.2f}% with a Batch Size of {} and a learning rate of {:.4f} that was decreasing\".format(best_result*100, batch_size, learning_rate))"
   ]
  },
  {
   "cell_type": "code",
   "execution_count": null,
   "metadata": {},
   "outputs": [],
   "source": [
    "# Training and Testing under Normal Conditions"
   ]
  },
  {
   "cell_type": "code",
   "execution_count": 9,
   "metadata": {},
   "outputs": [],
   "source": [
    "from training import accuracy\n",
    "from torch.nn import CrossEntropyLoss"
   ]
  },
  {
   "cell_type": "code",
   "execution_count": 10,
   "metadata": {},
   "outputs": [],
   "source": [
    "from net import Net\n",
    "net_naive = Net().to(device)"
   ]
  },
  {
   "cell_type": "code",
   "execution_count": 11,
   "metadata": {},
   "outputs": [
    {
     "output_type": "stream",
     "name": "stdout",
     "text": [
      "torch.Size([16, 1, 28, 28]) torch.Size([16])\n"
     ]
    }
   ],
   "source": [
    "train_loader, test_loader = build_data_loaders(train_dataset, test_dataset, batch_size)\n",
    "for x, y in train_loader:\n",
    "    print(x.shape, y.shape)\n",
    "    break"
   ]
  },
  {
   "cell_type": "code",
   "execution_count": 12,
   "metadata": {},
   "outputs": [],
   "source": [
    "### Test"
   ]
  },
  {
   "cell_type": "code",
   "execution_count": 13,
   "metadata": {},
   "outputs": [],
   "source": [
    "from training import training, testing\n",
    "from minibatch import MiniBatchOptimizer\n",
    "\n",
    "mini_opt = MiniBatchOptimizer(net_naive.parameters(), lr=learning_rate, decreasing_lr=decreasing_lr)"
   ]
  },
  {
   "cell_type": "code",
   "execution_count": 14,
   "metadata": {},
   "outputs": [],
   "source": [
    "import matplotlib.pyplot as plt"
   ]
  },
  {
   "cell_type": "code",
   "execution_count": 15,
   "metadata": {},
   "outputs": [
    {
     "output_type": "stream",
     "name": "stdout",
     "text": [
      "Launching training on cpu\n",
      "batch 100\tloss = 2.277\tacc = 0.1875\n",
      "batch 200\tloss = 2.237\tacc = 0.375\n",
      "batch 300\tloss = 2.178\tacc = 0.5625\n",
      "batch 400\tloss = 2.134\tacc = 0.6875\n",
      "batch 500\tloss = 2.119\tacc = 0.5\n",
      "batch 600\tloss = 2.142\tacc = 0.5\n",
      "batch 700\tloss = 1.996\tacc = 0.5\n",
      "batch 800\tloss = 1.79\tacc = 0.625\n",
      "batch 900\tloss = 1.859\tacc = 0.6875\n",
      "batch 1000\tloss = 1.644\tacc = 0.6875\n",
      "batch 1100\tloss = 1.541\tacc = 0.625\n",
      "batch 1200\tloss = 1.585\tacc = 0.5625\n",
      "batch 1300\tloss = 1.324\tacc = 0.625\n",
      "batch 1400\tloss = 0.9021\tacc = 0.875\n",
      "batch 1500\tloss = 0.9173\tacc = 0.8125\n",
      "batch 1600\tloss = 0.7561\tacc = 0.9375\n",
      "batch 1700\tloss = 1.006\tacc = 0.6875\n",
      "batch 1800\tloss = 0.5347\tacc = 0.9375\n",
      "batch 1900\tloss = 0.6873\tacc = 0.75\n",
      "batch 2000\tloss = 0.5378\tacc = 0.9375\n",
      "batch 2100\tloss = 0.7953\tacc = 0.75\n",
      "batch 2200\tloss = 0.6226\tacc = 0.875\n",
      "batch 2300\tloss = 0.2096\tacc = 1.0\n",
      "batch 2400\tloss = 0.3969\tacc = 0.9375\n",
      "batch 2500\tloss = 0.4769\tacc = 0.875\n",
      "batch 2600\tloss = 0.3818\tacc = 0.875\n",
      "batch 2700\tloss = 0.2568\tacc = 1.0\n",
      "batch 2800\tloss = 0.2194\tacc = 1.0\n",
      "batch 2900\tloss = 0.1755\tacc = 0.9375\n",
      "batch 3000\tloss = 0.2978\tacc = 0.875\n",
      "batch 3100\tloss = 0.5258\tacc = 0.8125\n",
      "batch 3200\tloss = 0.3438\tacc = 0.875\n",
      "batch 3300\tloss = 0.2005\tacc = 1.0\n",
      "batch 3400\tloss = 0.5058\tacc = 0.8125\n",
      "batch 3500\tloss = 0.03908\tacc = 1.0\n",
      "batch 3600\tloss = 0.2009\tacc = 0.9375\n",
      "batch 3700\tloss = 0.07094\tacc = 1.0\n",
      "epoch 0\tavg epoch loss = 1.011\tavg epoch acc = 0.763\n",
      "batch 100\tloss = 0.5186\tacc = 0.875\n",
      "batch 200\tloss = 0.214\tacc = 0.9375\n",
      "batch 300\tloss = 0.3153\tacc = 0.9375\n",
      "batch 400\tloss = 0.1505\tacc = 1.0\n",
      "batch 500\tloss = 0.3011\tacc = 0.875\n",
      "batch 600\tloss = 0.4859\tacc = 0.875\n",
      "batch 700\tloss = 0.2174\tacc = 1.0\n",
      "batch 800\tloss = 0.279\tacc = 0.9375\n",
      "batch 900\tloss = 0.4023\tacc = 0.875\n",
      "batch 1000\tloss = 0.4725\tacc = 0.8125\n",
      "batch 1100\tloss = 0.592\tacc = 0.8125\n",
      "batch 1200\tloss = 0.3612\tacc = 0.875\n",
      "batch 1300\tloss = 0.5949\tacc = 0.875\n",
      "batch 1400\tloss = 0.07721\tacc = 1.0\n",
      "batch 1500\tloss = 0.1812\tacc = 1.0\n",
      "batch 1600\tloss = 0.1505\tacc = 1.0\n",
      "batch 1700\tloss = 0.3535\tacc = 0.875\n",
      "batch 1800\tloss = 0.352\tacc = 0.9375\n",
      "batch 1900\tloss = 0.2118\tacc = 0.9375\n",
      "batch 2000\tloss = 0.2246\tacc = 0.9375\n",
      "batch 2100\tloss = 0.3943\tacc = 0.8125\n",
      "batch 2200\tloss = 0.2269\tacc = 0.9375\n",
      "batch 2300\tloss = 0.03389\tacc = 1.0\n",
      "batch 2400\tloss = 0.1452\tacc = 1.0\n",
      "batch 2500\tloss = 0.3684\tacc = 0.875\n",
      "batch 2600\tloss = 0.1694\tacc = 1.0\n",
      "batch 2700\tloss = 0.121\tacc = 1.0\n",
      "batch 2800\tloss = 0.07583\tacc = 1.0\n",
      "batch 2900\tloss = 0.09182\tacc = 0.9375\n",
      "batch 3000\tloss = 0.1443\tacc = 0.9375\n",
      "batch 3100\tloss = 0.3024\tacc = 0.8125\n",
      "batch 3200\tloss = 0.1569\tacc = 0.9375\n",
      "batch 3300\tloss = 0.05659\tacc = 1.0\n",
      "batch 3400\tloss = 0.2658\tacc = 0.875\n",
      "batch 3500\tloss = 0.01867\tacc = 1.0\n",
      "batch 3600\tloss = 0.1178\tacc = 0.9375\n",
      "batch 3700\tloss = 0.02366\tacc = 1.0\n",
      "epoch 1\tavg epoch loss = 0.2664\tavg epoch acc = 0.923\n",
      "batch 100\tloss = 0.3134\tacc = 0.9375\n",
      "batch 200\tloss = 0.1115\tacc = 1.0\n",
      "batch 300\tloss = 0.234\tacc = 0.9375\n",
      "batch 400\tloss = 0.07915\tacc = 1.0\n",
      "batch 500\tloss = 0.2989\tacc = 0.875\n",
      "batch 600\tloss = 0.3401\tacc = 0.875\n",
      "batch 700\tloss = 0.1184\tacc = 1.0\n",
      "batch 800\tloss = 0.1687\tacc = 0.9375\n",
      "batch 900\tloss = 0.2545\tacc = 0.9375\n",
      "batch 1000\tloss = 0.3663\tacc = 0.8125\n",
      "batch 1100\tloss = 0.4752\tacc = 0.8125\n",
      "batch 1200\tloss = 0.1822\tacc = 1.0\n",
      "batch 1300\tloss = 0.4665\tacc = 0.875\n",
      "batch 1400\tloss = 0.04133\tacc = 1.0\n",
      "batch 1500\tloss = 0.0919\tacc = 1.0\n",
      "batch 1600\tloss = 0.09153\tacc = 1.0\n",
      "batch 1700\tloss = 0.198\tacc = 0.9375\n",
      "batch 1800\tloss = 0.3056\tacc = 0.9375\n",
      "batch 1900\tloss = 0.109\tacc = 1.0\n",
      "batch 2000\tloss = 0.1821\tacc = 0.875\n",
      "batch 2100\tloss = 0.2336\tacc = 0.875\n",
      "batch 2200\tloss = 0.1598\tacc = 0.9375\n",
      "batch 2300\tloss = 0.01905\tacc = 1.0\n",
      "batch 2400\tloss = 0.09019\tacc = 1.0\n",
      "batch 2500\tloss = 0.3066\tacc = 0.9375\n",
      "batch 2600\tloss = 0.08929\tacc = 1.0\n",
      "batch 2700\tloss = 0.09272\tacc = 1.0\n",
      "batch 2800\tloss = 0.04854\tacc = 1.0\n",
      "batch 2900\tloss = 0.1006\tacc = 0.9375\n",
      "batch 3000\tloss = 0.11\tacc = 0.9375\n",
      "batch 3100\tloss = 0.2357\tacc = 0.875\n",
      "batch 3200\tloss = 0.08114\tacc = 1.0\n",
      "batch 3300\tloss = 0.03092\tacc = 1.0\n",
      "batch 3400\tloss = 0.1562\tacc = 0.9375\n",
      "batch 3500\tloss = 0.01235\tacc = 1.0\n",
      "batch 3600\tloss = 0.08942\tacc = 0.9375\n",
      "batch 3700\tloss = 0.01285\tacc = 1.0\n",
      "epoch 2\tavg epoch loss = 0.1871\tavg epoch acc = 0.9458\n",
      "batch 100\tloss = 0.2653\tacc = 0.9375\n",
      "batch 200\tloss = 0.06321\tacc = 1.0\n",
      "batch 300\tloss = 0.2163\tacc = 0.9375\n",
      "batch 400\tloss = 0.0586\tacc = 1.0\n",
      "batch 500\tloss = 0.3344\tacc = 0.875\n",
      "batch 600\tloss = 0.2575\tacc = 0.875\n",
      "batch 700\tloss = 0.09747\tacc = 1.0\n",
      "batch 800\tloss = 0.1214\tacc = 0.9375\n",
      "batch 900\tloss = 0.1673\tacc = 0.9375\n",
      "batch 1000\tloss = 0.2664\tacc = 0.875\n",
      "batch 1100\tloss = 0.4132\tacc = 0.8125\n",
      "batch 1200\tloss = 0.1029\tacc = 1.0\n",
      "batch 1300\tloss = 0.3763\tacc = 0.875\n",
      "batch 1400\tloss = 0.02498\tacc = 1.0\n",
      "batch 1500\tloss = 0.05195\tacc = 1.0\n",
      "batch 1600\tloss = 0.0677\tacc = 1.0\n",
      "batch 1700\tloss = 0.1444\tacc = 0.9375\n",
      "batch 1800\tloss = 0.2588\tacc = 0.9375\n",
      "batch 1900\tloss = 0.05624\tacc = 1.0\n",
      "batch 2000\tloss = 0.1534\tacc = 0.9375\n",
      "batch 2100\tloss = 0.1675\tacc = 0.9375\n",
      "batch 2200\tloss = 0.121\tacc = 0.9375\n",
      "batch 2300\tloss = 0.01247\tacc = 1.0\n",
      "batch 2400\tloss = 0.06682\tacc = 1.0\n",
      "batch 2500\tloss = 0.232\tacc = 0.9375\n",
      "batch 2600\tloss = 0.05085\tacc = 1.0\n",
      "batch 2700\tloss = 0.07489\tacc = 1.0\n",
      "batch 2800\tloss = 0.03792\tacc = 1.0\n",
      "batch 2900\tloss = 0.09735\tacc = 0.9375\n",
      "batch 3000\tloss = 0.08799\tacc = 1.0\n",
      "batch 3100\tloss = 0.1967\tacc = 0.875\n",
      "batch 3200\tloss = 0.04588\tacc = 1.0\n",
      "batch 3300\tloss = 0.02162\tacc = 1.0\n",
      "batch 3400\tloss = 0.1034\tacc = 0.9375\n",
      "batch 3500\tloss = 0.008285\tacc = 1.0\n",
      "batch 3600\tloss = 0.0646\tacc = 1.0\n",
      "batch 3700\tloss = 0.00739\tacc = 1.0\n",
      "epoch 3\tavg epoch loss = 0.1446\tavg epoch acc = 0.958\n",
      "batch 100\tloss = 0.2339\tacc = 0.9375\n",
      "batch 200\tloss = 0.03829\tacc = 1.0\n",
      "batch 300\tloss = 0.1953\tacc = 0.9375\n",
      "batch 400\tloss = 0.04687\tacc = 1.0\n",
      "batch 500\tloss = 0.3453\tacc = 0.875\n",
      "batch 600\tloss = 0.2073\tacc = 0.875\n",
      "batch 700\tloss = 0.08967\tacc = 1.0\n",
      "batch 800\tloss = 0.09537\tacc = 1.0\n",
      "batch 900\tloss = 0.108\tacc = 0.9375\n",
      "batch 1000\tloss = 0.1909\tacc = 0.875\n",
      "batch 1100\tloss = 0.3631\tacc = 0.8125\n",
      "batch 1200\tloss = 0.06784\tacc = 1.0\n",
      "batch 1300\tloss = 0.3085\tacc = 0.875\n",
      "batch 1400\tloss = 0.01671\tacc = 1.0\n",
      "batch 1500\tloss = 0.0339\tacc = 1.0\n",
      "batch 1600\tloss = 0.05555\tacc = 1.0\n",
      "batch 1700\tloss = 0.1178\tacc = 0.9375\n",
      "batch 1800\tloss = 0.2189\tacc = 0.9375\n",
      "batch 1900\tloss = 0.03227\tacc = 1.0\n",
      "batch 2000\tloss = 0.1211\tacc = 0.9375\n",
      "batch 2100\tloss = 0.1317\tacc = 0.9375\n",
      "batch 2200\tloss = 0.08971\tacc = 0.9375\n",
      "batch 2300\tloss = 0.008515\tacc = 1.0\n",
      "batch 2400\tloss = 0.05591\tacc = 1.0\n",
      "batch 2500\tloss = 0.1748\tacc = 0.9375\n",
      "batch 2600\tloss = 0.0326\tacc = 1.0\n",
      "batch 2700\tloss = 0.06005\tacc = 1.0\n",
      "batch 2800\tloss = 0.03324\tacc = 1.0\n",
      "batch 2900\tloss = 0.08844\tacc = 0.9375\n",
      "batch 3000\tloss = 0.07346\tacc = 1.0\n",
      "batch 3100\tloss = 0.1748\tacc = 0.875\n",
      "batch 3200\tloss = 0.02861\tacc = 1.0\n",
      "batch 3300\tloss = 0.01689\tacc = 1.0\n",
      "batch 3400\tloss = 0.07316\tacc = 1.0\n",
      "batch 3500\tloss = 0.006267\tacc = 1.0\n",
      "batch 3600\tloss = 0.04447\tacc = 1.0\n",
      "batch 3700\tloss = 0.00472\tacc = 1.0\n",
      "epoch 4\tavg epoch loss = 0.1179\tavg epoch acc = 0.966\n",
      "batch 100\tloss = 0.2043\tacc = 0.9375\n",
      "batch 200\tloss = 0.02452\tacc = 1.0\n",
      "batch 300\tloss = 0.1769\tacc = 0.9375\n",
      "batch 400\tloss = 0.03686\tacc = 1.0\n",
      "batch 500\tloss = 0.3413\tacc = 0.875\n",
      "batch 600\tloss = 0.1751\tacc = 0.9375\n",
      "batch 700\tloss = 0.08477\tacc = 1.0\n",
      "batch 800\tloss = 0.08782\tacc = 0.9375\n",
      "batch 900\tloss = 0.07127\tacc = 1.0\n",
      "batch 1000\tloss = 0.138\tacc = 0.9375\n",
      "batch 1100\tloss = 0.3171\tacc = 0.875\n",
      "batch 1200\tloss = 0.04782\tacc = 1.0\n",
      "batch 1300\tloss = 0.2472\tacc = 0.875\n",
      "batch 1400\tloss = 0.01238\tacc = 1.0\n",
      "batch 1500\tloss = 0.02408\tacc = 1.0\n",
      "batch 1600\tloss = 0.04894\tacc = 1.0\n",
      "batch 1700\tloss = 0.09879\tacc = 0.9375\n",
      "batch 1800\tloss = 0.189\tacc = 0.9375\n",
      "batch 1900\tloss = 0.02075\tacc = 1.0\n",
      "batch 2000\tloss = 0.09415\tacc = 0.9375\n",
      "batch 2100\tloss = 0.1139\tacc = 1.0\n",
      "batch 2200\tloss = 0.06551\tacc = 1.0\n",
      "batch 2300\tloss = 0.005749\tacc = 1.0\n",
      "batch 2400\tloss = 0.05099\tacc = 1.0\n",
      "batch 2500\tloss = 0.1265\tacc = 0.9375\n",
      "batch 2600\tloss = 0.02231\tacc = 1.0\n",
      "batch 2700\tloss = 0.04741\tacc = 1.0\n",
      "batch 2800\tloss = 0.03095\tacc = 1.0\n",
      "batch 2900\tloss = 0.07172\tacc = 0.9375\n",
      "batch 3000\tloss = 0.0631\tacc = 1.0\n",
      "batch 3100\tloss = 0.1601\tacc = 0.875\n",
      "batch 3200\tloss = 0.01992\tacc = 1.0\n",
      "batch 3300\tloss = 0.01405\tacc = 1.0\n",
      "batch 3400\tloss = 0.05479\tacc = 1.0\n",
      "batch 3500\tloss = 0.005089\tacc = 1.0\n",
      "batch 3600\tloss = 0.0314\tacc = 1.0\n",
      "batch 3700\tloss = 0.00331\tacc = 1.0\n",
      "epoch 5\tavg epoch loss = 0.1001\tavg epoch acc = 0.9709\n",
      "batch 100\tloss = 0.1803\tacc = 0.9375\n",
      "batch 200\tloss = 0.01646\tacc = 1.0\n",
      "batch 300\tloss = 0.1537\tacc = 0.9375\n",
      "batch 400\tloss = 0.02958\tacc = 1.0\n",
      "batch 500\tloss = 0.3319\tacc = 0.875\n",
      "batch 600\tloss = 0.1508\tacc = 0.9375\n",
      "batch 700\tloss = 0.07824\tacc = 1.0\n",
      "batch 800\tloss = 0.08856\tacc = 0.9375\n",
      "batch 900\tloss = 0.05108\tacc = 1.0\n",
      "batch 1000\tloss = 0.1051\tacc = 1.0\n",
      "batch 1100\tloss = 0.2783\tacc = 0.875\n",
      "batch 1200\tloss = 0.03565\tacc = 1.0\n",
      "batch 1300\tloss = 0.1978\tacc = 0.875\n",
      "batch 1400\tloss = 0.009555\tacc = 1.0\n",
      "batch 1500\tloss = 0.01807\tacc = 1.0\n",
      "batch 1600\tloss = 0.04426\tacc = 1.0\n",
      "batch 1700\tloss = 0.08449\tacc = 0.9375\n",
      "batch 1800\tloss = 0.1683\tacc = 0.9375\n",
      "batch 1900\tloss = 0.01512\tacc = 1.0\n",
      "batch 2000\tloss = 0.07315\tacc = 0.9375\n",
      "batch 2100\tloss = 0.1017\tacc = 1.0\n",
      "batch 2200\tloss = 0.04788\tacc = 1.0\n",
      "batch 2300\tloss = 0.004261\tacc = 1.0\n",
      "batch 2400\tloss = 0.04756\tacc = 1.0\n",
      "batch 2500\tloss = 0.08936\tacc = 0.9375\n",
      "batch 2600\tloss = 0.01625\tacc = 1.0\n",
      "batch 2700\tloss = 0.03716\tacc = 1.0\n",
      "batch 2800\tloss = 0.03031\tacc = 1.0\n",
      "batch 2900\tloss = 0.05468\tacc = 0.9375\n",
      "batch 3000\tloss = 0.05648\tacc = 1.0\n",
      "batch 3100\tloss = 0.1441\tacc = 0.875\n",
      "batch 3200\tloss = 0.01503\tacc = 1.0\n",
      "batch 3300\tloss = 0.01244\tacc = 1.0\n",
      "batch 3400\tloss = 0.04328\tacc = 1.0\n",
      "batch 3500\tloss = 0.004474\tacc = 1.0\n",
      "batch 3600\tloss = 0.02285\tacc = 1.0\n",
      "batch 3700\tloss = 0.002515\tacc = 1.0\n",
      "epoch 6\tavg epoch loss = 0.08756\tavg epoch acc = 0.9741\n",
      "batch 100\tloss = 0.1599\tacc = 0.9375\n",
      "batch 200\tloss = 0.01171\tacc = 1.0\n",
      "batch 300\tloss = 0.1222\tacc = 0.9375\n",
      "batch 400\tloss = 0.02543\tacc = 1.0\n",
      "batch 500\tloss = 0.3132\tacc = 0.875\n",
      "batch 600\tloss = 0.1307\tacc = 0.9375\n",
      "batch 700\tloss = 0.07246\tacc = 1.0\n",
      "batch 800\tloss = 0.09061\tacc = 0.9375\n",
      "batch 900\tloss = 0.04169\tacc = 1.0\n",
      "batch 1000\tloss = 0.08334\tacc = 1.0\n",
      "batch 1100\tloss = 0.2477\tacc = 0.875\n",
      "batch 1200\tloss = 0.02682\tacc = 1.0\n",
      "batch 1300\tloss = 0.1625\tacc = 0.875\n",
      "batch 1400\tloss = 0.007781\tacc = 1.0\n",
      "batch 1500\tloss = 0.01433\tacc = 1.0\n",
      "batch 1600\tloss = 0.04042\tacc = 1.0\n",
      "batch 1700\tloss = 0.07089\tacc = 1.0\n",
      "batch 1800\tloss = 0.1568\tacc = 0.9375\n",
      "batch 1900\tloss = 0.01156\tacc = 1.0\n",
      "batch 2000\tloss = 0.05787\tacc = 1.0\n",
      "batch 2100\tloss = 0.09072\tacc = 1.0\n",
      "batch 2200\tloss = 0.03546\tacc = 1.0\n",
      "batch 2300\tloss = 0.003369\tacc = 1.0\n",
      "batch 2400\tloss = 0.04556\tacc = 1.0\n",
      "batch 2500\tloss = 0.0646\tacc = 1.0\n",
      "batch 2600\tloss = 0.01284\tacc = 1.0\n",
      "batch 2700\tloss = 0.02964\tacc = 1.0\n",
      "batch 2800\tloss = 0.03111\tacc = 1.0\n",
      "batch 2900\tloss = 0.03948\tacc = 1.0\n",
      "batch 3000\tloss = 0.0524\tacc = 1.0\n",
      "batch 3100\tloss = 0.1273\tacc = 0.875\n",
      "batch 3200\tloss = 0.01202\tacc = 1.0\n",
      "batch 3300\tloss = 0.01123\tacc = 1.0\n",
      "batch 3400\tloss = 0.03514\tacc = 1.0\n",
      "batch 3500\tloss = 0.004036\tacc = 1.0\n",
      "batch 3600\tloss = 0.01737\tacc = 1.0\n",
      "batch 3700\tloss = 0.001985\tacc = 1.0\n",
      "epoch 7\tavg epoch loss = 0.07824\tavg epoch acc = 0.9771\n",
      "batch 100\tloss = 0.1443\tacc = 0.9375\n",
      "batch 200\tloss = 0.008712\tacc = 1.0\n",
      "batch 300\tloss = 0.08893\tacc = 0.9375\n",
      "batch 400\tloss = 0.02213\tacc = 1.0\n",
      "batch 500\tloss = 0.2971\tacc = 0.875\n",
      "batch 600\tloss = 0.1171\tacc = 0.9375\n",
      "batch 700\tloss = 0.06763\tacc = 1.0\n",
      "batch 800\tloss = 0.09031\tacc = 0.9375\n",
      "batch 900\tloss = 0.03856\tacc = 1.0\n",
      "batch 1000\tloss = 0.06824\tacc = 1.0\n",
      "batch 1100\tloss = 0.2252\tacc = 0.875\n",
      "batch 1200\tloss = 0.02091\tacc = 1.0\n",
      "batch 1300\tloss = 0.1345\tacc = 0.9375\n",
      "batch 1400\tloss = 0.006526\tacc = 1.0\n",
      "batch 1500\tloss = 0.01183\tacc = 1.0\n",
      "batch 1600\tloss = 0.03755\tacc = 1.0\n",
      "batch 1700\tloss = 0.06038\tacc = 1.0\n",
      "batch 1800\tloss = 0.1491\tacc = 0.9375\n",
      "batch 1900\tloss = 0.009122\tacc = 1.0\n",
      "batch 2000\tloss = 0.04796\tacc = 1.0\n",
      "batch 2100\tloss = 0.08094\tacc = 1.0\n",
      "batch 2200\tloss = 0.02693\tacc = 1.0\n",
      "batch 2300\tloss = 0.002807\tacc = 1.0\n",
      "batch 2400\tloss = 0.04404\tacc = 1.0\n",
      "batch 2500\tloss = 0.04836\tacc = 1.0\n",
      "batch 2600\tloss = 0.01059\tacc = 1.0\n",
      "batch 2700\tloss = 0.02454\tacc = 1.0\n",
      "batch 2800\tloss = 0.03107\tacc = 1.0\n",
      "batch 2900\tloss = 0.02929\tacc = 1.0\n",
      "batch 3000\tloss = 0.04915\tacc = 1.0\n",
      "batch 3100\tloss = 0.1111\tacc = 0.875\n",
      "batch 3200\tloss = 0.009874\tacc = 1.0\n",
      "batch 3300\tloss = 0.0104\tacc = 1.0\n",
      "batch 3400\tloss = 0.02993\tacc = 1.0\n",
      "batch 3500\tloss = 0.003677\tacc = 1.0\n",
      "batch 3600\tloss = 0.01379\tacc = 1.0\n",
      "batch 3700\tloss = 0.001626\tacc = 1.0\n",
      "epoch 8\tavg epoch loss = 0.07106\tavg epoch acc = 0.9789\n",
      "batch 100\tloss = 0.1306\tacc = 0.9375\n",
      "batch 200\tloss = 0.006724\tacc = 1.0\n",
      "batch 300\tloss = 0.06224\tacc = 0.9375\n",
      "batch 400\tloss = 0.01942\tacc = 1.0\n",
      "batch 500\tloss = 0.2829\tacc = 0.875\n",
      "batch 600\tloss = 0.1061\tacc = 0.9375\n",
      "batch 700\tloss = 0.06215\tacc = 1.0\n",
      "batch 800\tloss = 0.0886\tacc = 0.9375\n",
      "batch 900\tloss = 0.03748\tacc = 1.0\n",
      "batch 1000\tloss = 0.05732\tacc = 1.0\n",
      "batch 1100\tloss = 0.2032\tacc = 0.875\n",
      "batch 1200\tloss = 0.01652\tacc = 1.0\n",
      "batch 1300\tloss = 0.1127\tacc = 0.9375\n",
      "batch 1400\tloss = 0.005546\tacc = 1.0\n",
      "batch 1500\tloss = 0.009893\tacc = 1.0\n",
      "batch 1600\tloss = 0.03451\tacc = 1.0\n",
      "batch 1700\tloss = 0.05129\tacc = 1.0\n",
      "batch 1800\tloss = 0.1427\tacc = 0.9375\n",
      "batch 1900\tloss = 0.007291\tacc = 1.0\n",
      "batch 2000\tloss = 0.03977\tacc = 1.0\n",
      "batch 2100\tloss = 0.07299\tacc = 1.0\n",
      "batch 2200\tloss = 0.02096\tacc = 1.0\n",
      "batch 2300\tloss = 0.002448\tacc = 1.0\n",
      "batch 2400\tloss = 0.04185\tacc = 1.0\n",
      "batch 2500\tloss = 0.03939\tacc = 1.0\n",
      "batch 2600\tloss = 0.008965\tacc = 1.0\n",
      "batch 2700\tloss = 0.02113\tacc = 1.0\n",
      "batch 2800\tloss = 0.03026\tacc = 1.0\n",
      "batch 2900\tloss = 0.02192\tacc = 1.0\n",
      "batch 3000\tloss = 0.04641\tacc = 1.0\n",
      "batch 3100\tloss = 0.09766\tacc = 1.0\n",
      "batch 3200\tloss = 0.008355\tacc = 1.0\n",
      "batch 3300\tloss = 0.009585\tacc = 1.0\n",
      "batch 3400\tloss = 0.026\tacc = 1.0\n",
      "batch 3500\tloss = 0.003403\tacc = 1.0\n",
      "batch 3600\tloss = 0.01135\tacc = 1.0\n",
      "batch 3700\tloss = 0.001353\tacc = 1.0\n",
      "epoch 9\tavg epoch loss = 0.06535\tavg epoch acc = 0.9808\n",
      "training took 332.1 s\n"
     ]
    }
   ],
   "source": [
    "losses, acc = training(net_naive, train_loader, mini_opt, criterion, accuracy, epochs=epochs, device=device)"
   ]
  },
  {
   "cell_type": "code",
   "execution_count": 16,
   "metadata": {},
   "outputs": [
    {
     "output_type": "stream",
     "name": "stdout",
     "text": [
      "Avg loss = 0.06425441516260616\tAvg acc = 0.9793\n"
     ]
    },
    {
     "output_type": "display_data",
     "data": {
      "text/plain": "<Figure size 432x288 with 1 Axes>",
      "image/svg+xml": "<?xml version=\"1.0\" encoding=\"utf-8\" standalone=\"no\"?>\n<!DOCTYPE svg PUBLIC \"-//W3C//DTD SVG 1.1//EN\"\n  \"http://www.w3.org/Graphics/SVG/1.1/DTD/svg11.dtd\">\n<!-- Created with matplotlib (https://matplotlib.org/) -->\n<svg height=\"248.518125pt\" version=\"1.1\" viewBox=\"0 0 372.103125 248.518125\" width=\"372.103125pt\" xmlns=\"http://www.w3.org/2000/svg\" xmlns:xlink=\"http://www.w3.org/1999/xlink\">\n <metadata>\n  <rdf:RDF xmlns:cc=\"http://creativecommons.org/ns#\" xmlns:dc=\"http://purl.org/dc/elements/1.1/\" xmlns:rdf=\"http://www.w3.org/1999/02/22-rdf-syntax-ns#\">\n   <cc:Work>\n    <dc:type rdf:resource=\"http://purl.org/dc/dcmitype/StillImage\"/>\n    <dc:date>2021-05-17T20:49:07.380123</dc:date>\n    <dc:format>image/svg+xml</dc:format>\n    <dc:creator>\n     <cc:Agent>\n      <dc:title>Matplotlib v3.3.2, https://matplotlib.org/</dc:title>\n     </cc:Agent>\n    </dc:creator>\n   </cc:Work>\n  </rdf:RDF>\n </metadata>\n <defs>\n  <style type=\"text/css\">*{stroke-linecap:butt;stroke-linejoin:round;}</style>\n </defs>\n <g id=\"figure_1\">\n  <g id=\"patch_1\">\n   <path d=\"M 0 248.518125 \nL 372.103125 248.518125 \nL 372.103125 0 \nL 0 0 \nz\n\" style=\"fill:none;\"/>\n  </g>\n  <g id=\"axes_1\">\n   <g id=\"patch_2\">\n    <path d=\"M 30.103125 224.64 \nL 364.903125 224.64 \nL 364.903125 7.2 \nL 30.103125 7.2 \nz\n\" style=\"fill:#ffffff;\"/>\n   </g>\n   <g id=\"matplotlib.axis_1\">\n    <g id=\"xtick_1\">\n     <g id=\"line2d_1\">\n      <defs>\n       <path d=\"M 0 0 \nL 0 3.5 \n\" id=\"m9b732241cb\" style=\"stroke:#000000;stroke-width:0.8;\"/>\n      </defs>\n      <g>\n       <use style=\"stroke:#000000;stroke-width:0.8;\" x=\"45.321307\" xlink:href=\"#m9b732241cb\" y=\"224.64\"/>\n      </g>\n     </g>\n     <g id=\"text_1\">\n      <!-- 0 -->\n      <g transform=\"translate(42.140057 239.238437)scale(0.1 -0.1)\">\n       <defs>\n        <path d=\"M 31.78125 66.40625 \nQ 24.171875 66.40625 20.328125 58.90625 \nQ 16.5 51.421875 16.5 36.375 \nQ 16.5 21.390625 20.328125 13.890625 \nQ 24.171875 6.390625 31.78125 6.390625 \nQ 39.453125 6.390625 43.28125 13.890625 \nQ 47.125 21.390625 47.125 36.375 \nQ 47.125 51.421875 43.28125 58.90625 \nQ 39.453125 66.40625 31.78125 66.40625 \nz\nM 31.78125 74.21875 \nQ 44.046875 74.21875 50.515625 64.515625 \nQ 56.984375 54.828125 56.984375 36.375 \nQ 56.984375 17.96875 50.515625 8.265625 \nQ 44.046875 -1.421875 31.78125 -1.421875 \nQ 19.53125 -1.421875 13.0625 8.265625 \nQ 6.59375 17.96875 6.59375 36.375 \nQ 6.59375 54.828125 13.0625 64.515625 \nQ 19.53125 74.21875 31.78125 74.21875 \nz\n\" id=\"DejaVuSans-48\"/>\n       </defs>\n       <use xlink:href=\"#DejaVuSans-48\"/>\n      </g>\n     </g>\n    </g>\n    <g id=\"xtick_2\">\n     <g id=\"line2d_2\">\n      <g>\n       <use style=\"stroke:#000000;stroke-width:0.8;\" x=\"94.097531\" xlink:href=\"#m9b732241cb\" y=\"224.64\"/>\n      </g>\n     </g>\n     <g id=\"text_2\">\n      <!-- 100 -->\n      <g transform=\"translate(84.553781 239.238437)scale(0.1 -0.1)\">\n       <defs>\n        <path d=\"M 12.40625 8.296875 \nL 28.515625 8.296875 \nL 28.515625 63.921875 \nL 10.984375 60.40625 \nL 10.984375 69.390625 \nL 28.421875 72.90625 \nL 38.28125 72.90625 \nL 38.28125 8.296875 \nL 54.390625 8.296875 \nL 54.390625 0 \nL 12.40625 0 \nz\n\" id=\"DejaVuSans-49\"/>\n       </defs>\n       <use xlink:href=\"#DejaVuSans-49\"/>\n       <use x=\"63.623047\" xlink:href=\"#DejaVuSans-48\"/>\n       <use x=\"127.246094\" xlink:href=\"#DejaVuSans-48\"/>\n      </g>\n     </g>\n    </g>\n    <g id=\"xtick_3\">\n     <g id=\"line2d_3\">\n      <g>\n       <use style=\"stroke:#000000;stroke-width:0.8;\" x=\"142.873754\" xlink:href=\"#m9b732241cb\" y=\"224.64\"/>\n      </g>\n     </g>\n     <g id=\"text_3\">\n      <!-- 200 -->\n      <g transform=\"translate(133.330004 239.238437)scale(0.1 -0.1)\">\n       <defs>\n        <path d=\"M 19.1875 8.296875 \nL 53.609375 8.296875 \nL 53.609375 0 \nL 7.328125 0 \nL 7.328125 8.296875 \nQ 12.9375 14.109375 22.625 23.890625 \nQ 32.328125 33.6875 34.8125 36.53125 \nQ 39.546875 41.84375 41.421875 45.53125 \nQ 43.3125 49.21875 43.3125 52.78125 \nQ 43.3125 58.59375 39.234375 62.25 \nQ 35.15625 65.921875 28.609375 65.921875 \nQ 23.96875 65.921875 18.8125 64.3125 \nQ 13.671875 62.703125 7.8125 59.421875 \nL 7.8125 69.390625 \nQ 13.765625 71.78125 18.9375 73 \nQ 24.125 74.21875 28.421875 74.21875 \nQ 39.75 74.21875 46.484375 68.546875 \nQ 53.21875 62.890625 53.21875 53.421875 \nQ 53.21875 48.921875 51.53125 44.890625 \nQ 49.859375 40.875 45.40625 35.40625 \nQ 44.1875 33.984375 37.640625 27.21875 \nQ 31.109375 20.453125 19.1875 8.296875 \nz\n\" id=\"DejaVuSans-50\"/>\n       </defs>\n       <use xlink:href=\"#DejaVuSans-50\"/>\n       <use x=\"63.623047\" xlink:href=\"#DejaVuSans-48\"/>\n       <use x=\"127.246094\" xlink:href=\"#DejaVuSans-48\"/>\n      </g>\n     </g>\n    </g>\n    <g id=\"xtick_4\">\n     <g id=\"line2d_4\">\n      <g>\n       <use style=\"stroke:#000000;stroke-width:0.8;\" x=\"191.649978\" xlink:href=\"#m9b732241cb\" y=\"224.64\"/>\n      </g>\n     </g>\n     <g id=\"text_4\">\n      <!-- 300 -->\n      <g transform=\"translate(182.106228 239.238437)scale(0.1 -0.1)\">\n       <defs>\n        <path d=\"M 40.578125 39.3125 \nQ 47.65625 37.796875 51.625 33 \nQ 55.609375 28.21875 55.609375 21.1875 \nQ 55.609375 10.40625 48.1875 4.484375 \nQ 40.765625 -1.421875 27.09375 -1.421875 \nQ 22.515625 -1.421875 17.65625 -0.515625 \nQ 12.796875 0.390625 7.625 2.203125 \nL 7.625 11.71875 \nQ 11.71875 9.328125 16.59375 8.109375 \nQ 21.484375 6.890625 26.8125 6.890625 \nQ 36.078125 6.890625 40.9375 10.546875 \nQ 45.796875 14.203125 45.796875 21.1875 \nQ 45.796875 27.640625 41.28125 31.265625 \nQ 36.765625 34.90625 28.71875 34.90625 \nL 20.21875 34.90625 \nL 20.21875 43.015625 \nL 29.109375 43.015625 \nQ 36.375 43.015625 40.234375 45.921875 \nQ 44.09375 48.828125 44.09375 54.296875 \nQ 44.09375 59.90625 40.109375 62.90625 \nQ 36.140625 65.921875 28.71875 65.921875 \nQ 24.65625 65.921875 20.015625 65.03125 \nQ 15.375 64.15625 9.8125 62.3125 \nL 9.8125 71.09375 \nQ 15.4375 72.65625 20.34375 73.4375 \nQ 25.25 74.21875 29.59375 74.21875 \nQ 40.828125 74.21875 47.359375 69.109375 \nQ 53.90625 64.015625 53.90625 55.328125 \nQ 53.90625 49.265625 50.4375 45.09375 \nQ 46.96875 40.921875 40.578125 39.3125 \nz\n\" id=\"DejaVuSans-51\"/>\n       </defs>\n       <use xlink:href=\"#DejaVuSans-51\"/>\n       <use x=\"63.623047\" xlink:href=\"#DejaVuSans-48\"/>\n       <use x=\"127.246094\" xlink:href=\"#DejaVuSans-48\"/>\n      </g>\n     </g>\n    </g>\n    <g id=\"xtick_5\">\n     <g id=\"line2d_5\">\n      <g>\n       <use style=\"stroke:#000000;stroke-width:0.8;\" x=\"240.426202\" xlink:href=\"#m9b732241cb\" y=\"224.64\"/>\n      </g>\n     </g>\n     <g id=\"text_5\">\n      <!-- 400 -->\n      <g transform=\"translate(230.882452 239.238437)scale(0.1 -0.1)\">\n       <defs>\n        <path d=\"M 37.796875 64.3125 \nL 12.890625 25.390625 \nL 37.796875 25.390625 \nz\nM 35.203125 72.90625 \nL 47.609375 72.90625 \nL 47.609375 25.390625 \nL 58.015625 25.390625 \nL 58.015625 17.1875 \nL 47.609375 17.1875 \nL 47.609375 0 \nL 37.796875 0 \nL 37.796875 17.1875 \nL 4.890625 17.1875 \nL 4.890625 26.703125 \nz\n\" id=\"DejaVuSans-52\"/>\n       </defs>\n       <use xlink:href=\"#DejaVuSans-52\"/>\n       <use x=\"63.623047\" xlink:href=\"#DejaVuSans-48\"/>\n       <use x=\"127.246094\" xlink:href=\"#DejaVuSans-48\"/>\n      </g>\n     </g>\n    </g>\n    <g id=\"xtick_6\">\n     <g id=\"line2d_6\">\n      <g>\n       <use style=\"stroke:#000000;stroke-width:0.8;\" x=\"289.202426\" xlink:href=\"#m9b732241cb\" y=\"224.64\"/>\n      </g>\n     </g>\n     <g id=\"text_6\">\n      <!-- 500 -->\n      <g transform=\"translate(279.658676 239.238437)scale(0.1 -0.1)\">\n       <defs>\n        <path d=\"M 10.796875 72.90625 \nL 49.515625 72.90625 \nL 49.515625 64.59375 \nL 19.828125 64.59375 \nL 19.828125 46.734375 \nQ 21.96875 47.46875 24.109375 47.828125 \nQ 26.265625 48.1875 28.421875 48.1875 \nQ 40.625 48.1875 47.75 41.5 \nQ 54.890625 34.8125 54.890625 23.390625 \nQ 54.890625 11.625 47.5625 5.09375 \nQ 40.234375 -1.421875 26.90625 -1.421875 \nQ 22.3125 -1.421875 17.546875 -0.640625 \nQ 12.796875 0.140625 7.71875 1.703125 \nL 7.71875 11.625 \nQ 12.109375 9.234375 16.796875 8.0625 \nQ 21.484375 6.890625 26.703125 6.890625 \nQ 35.15625 6.890625 40.078125 11.328125 \nQ 45.015625 15.765625 45.015625 23.390625 \nQ 45.015625 31 40.078125 35.4375 \nQ 35.15625 39.890625 26.703125 39.890625 \nQ 22.75 39.890625 18.8125 39.015625 \nQ 14.890625 38.140625 10.796875 36.28125 \nz\n\" id=\"DejaVuSans-53\"/>\n       </defs>\n       <use xlink:href=\"#DejaVuSans-53\"/>\n       <use x=\"63.623047\" xlink:href=\"#DejaVuSans-48\"/>\n       <use x=\"127.246094\" xlink:href=\"#DejaVuSans-48\"/>\n      </g>\n     </g>\n    </g>\n    <g id=\"xtick_7\">\n     <g id=\"line2d_7\">\n      <g>\n       <use style=\"stroke:#000000;stroke-width:0.8;\" x=\"337.978649\" xlink:href=\"#m9b732241cb\" y=\"224.64\"/>\n      </g>\n     </g>\n     <g id=\"text_7\">\n      <!-- 600 -->\n      <g transform=\"translate(328.434899 239.238437)scale(0.1 -0.1)\">\n       <defs>\n        <path d=\"M 33.015625 40.375 \nQ 26.375 40.375 22.484375 35.828125 \nQ 18.609375 31.296875 18.609375 23.390625 \nQ 18.609375 15.53125 22.484375 10.953125 \nQ 26.375 6.390625 33.015625 6.390625 \nQ 39.65625 6.390625 43.53125 10.953125 \nQ 47.40625 15.53125 47.40625 23.390625 \nQ 47.40625 31.296875 43.53125 35.828125 \nQ 39.65625 40.375 33.015625 40.375 \nz\nM 52.59375 71.296875 \nL 52.59375 62.3125 \nQ 48.875 64.0625 45.09375 64.984375 \nQ 41.3125 65.921875 37.59375 65.921875 \nQ 27.828125 65.921875 22.671875 59.328125 \nQ 17.53125 52.734375 16.796875 39.40625 \nQ 19.671875 43.65625 24.015625 45.921875 \nQ 28.375 48.1875 33.59375 48.1875 \nQ 44.578125 48.1875 50.953125 41.515625 \nQ 57.328125 34.859375 57.328125 23.390625 \nQ 57.328125 12.15625 50.6875 5.359375 \nQ 44.046875 -1.421875 33.015625 -1.421875 \nQ 20.359375 -1.421875 13.671875 8.265625 \nQ 6.984375 17.96875 6.984375 36.375 \nQ 6.984375 53.65625 15.1875 63.9375 \nQ 23.390625 74.21875 37.203125 74.21875 \nQ 40.921875 74.21875 44.703125 73.484375 \nQ 48.484375 72.75 52.59375 71.296875 \nz\n\" id=\"DejaVuSans-54\"/>\n       </defs>\n       <use xlink:href=\"#DejaVuSans-54\"/>\n       <use x=\"63.623047\" xlink:href=\"#DejaVuSans-48\"/>\n       <use x=\"127.246094\" xlink:href=\"#DejaVuSans-48\"/>\n      </g>\n     </g>\n    </g>\n   </g>\n   <g id=\"matplotlib.axis_2\">\n    <g id=\"ytick_1\">\n     <g id=\"line2d_8\">\n      <defs>\n       <path d=\"M 0 0 \nL -3.5 0 \n\" id=\"mc5eb4a798c\" style=\"stroke:#000000;stroke-width:0.8;\"/>\n      </defs>\n      <g>\n       <use style=\"stroke:#000000;stroke-width:0.8;\" x=\"30.103125\" xlink:href=\"#mc5eb4a798c\" y=\"214.807852\"/>\n      </g>\n     </g>\n     <g id=\"text_8\">\n      <!-- 0.0 -->\n      <g transform=\"translate(7.2 218.607071)scale(0.1 -0.1)\">\n       <defs>\n        <path d=\"M 10.6875 12.40625 \nL 21 12.40625 \nL 21 0 \nL 10.6875 0 \nz\n\" id=\"DejaVuSans-46\"/>\n       </defs>\n       <use xlink:href=\"#DejaVuSans-48\"/>\n       <use x=\"63.623047\" xlink:href=\"#DejaVuSans-46\"/>\n       <use x=\"95.410156\" xlink:href=\"#DejaVuSans-48\"/>\n      </g>\n     </g>\n    </g>\n    <g id=\"ytick_2\">\n     <g id=\"line2d_9\">\n      <g>\n       <use style=\"stroke:#000000;stroke-width:0.8;\" x=\"30.103125\" xlink:href=\"#mc5eb4a798c\" y=\"184.646925\"/>\n      </g>\n     </g>\n     <g id=\"text_9\">\n      <!-- 0.1 -->\n      <g transform=\"translate(7.2 188.446144)scale(0.1 -0.1)\">\n       <use xlink:href=\"#DejaVuSans-48\"/>\n       <use x=\"63.623047\" xlink:href=\"#DejaVuSans-46\"/>\n       <use x=\"95.410156\" xlink:href=\"#DejaVuSans-49\"/>\n      </g>\n     </g>\n    </g>\n    <g id=\"ytick_3\">\n     <g id=\"line2d_10\">\n      <g>\n       <use style=\"stroke:#000000;stroke-width:0.8;\" x=\"30.103125\" xlink:href=\"#mc5eb4a798c\" y=\"154.485999\"/>\n      </g>\n     </g>\n     <g id=\"text_10\">\n      <!-- 0.2 -->\n      <g transform=\"translate(7.2 158.285218)scale(0.1 -0.1)\">\n       <use xlink:href=\"#DejaVuSans-48\"/>\n       <use x=\"63.623047\" xlink:href=\"#DejaVuSans-46\"/>\n       <use x=\"95.410156\" xlink:href=\"#DejaVuSans-50\"/>\n      </g>\n     </g>\n    </g>\n    <g id=\"ytick_4\">\n     <g id=\"line2d_11\">\n      <g>\n       <use style=\"stroke:#000000;stroke-width:0.8;\" x=\"30.103125\" xlink:href=\"#mc5eb4a798c\" y=\"124.325072\"/>\n      </g>\n     </g>\n     <g id=\"text_11\">\n      <!-- 0.3 -->\n      <g transform=\"translate(7.2 128.124291)scale(0.1 -0.1)\">\n       <use xlink:href=\"#DejaVuSans-48\"/>\n       <use x=\"63.623047\" xlink:href=\"#DejaVuSans-46\"/>\n       <use x=\"95.410156\" xlink:href=\"#DejaVuSans-51\"/>\n      </g>\n     </g>\n    </g>\n    <g id=\"ytick_5\">\n     <g id=\"line2d_12\">\n      <g>\n       <use style=\"stroke:#000000;stroke-width:0.8;\" x=\"30.103125\" xlink:href=\"#mc5eb4a798c\" y=\"94.164146\"/>\n      </g>\n     </g>\n     <g id=\"text_12\">\n      <!-- 0.4 -->\n      <g transform=\"translate(7.2 97.963364)scale(0.1 -0.1)\">\n       <use xlink:href=\"#DejaVuSans-48\"/>\n       <use x=\"63.623047\" xlink:href=\"#DejaVuSans-46\"/>\n       <use x=\"95.410156\" xlink:href=\"#DejaVuSans-52\"/>\n      </g>\n     </g>\n    </g>\n    <g id=\"ytick_6\">\n     <g id=\"line2d_13\">\n      <g>\n       <use style=\"stroke:#000000;stroke-width:0.8;\" x=\"30.103125\" xlink:href=\"#mc5eb4a798c\" y=\"64.003219\"/>\n      </g>\n     </g>\n     <g id=\"text_13\">\n      <!-- 0.5 -->\n      <g transform=\"translate(7.2 67.802438)scale(0.1 -0.1)\">\n       <use xlink:href=\"#DejaVuSans-48\"/>\n       <use x=\"63.623047\" xlink:href=\"#DejaVuSans-46\"/>\n       <use x=\"95.410156\" xlink:href=\"#DejaVuSans-53\"/>\n      </g>\n     </g>\n    </g>\n    <g id=\"ytick_7\">\n     <g id=\"line2d_14\">\n      <g>\n       <use style=\"stroke:#000000;stroke-width:0.8;\" x=\"30.103125\" xlink:href=\"#mc5eb4a798c\" y=\"33.842293\"/>\n      </g>\n     </g>\n     <g id=\"text_14\">\n      <!-- 0.6 -->\n      <g transform=\"translate(7.2 37.641511)scale(0.1 -0.1)\">\n       <use xlink:href=\"#DejaVuSans-48\"/>\n       <use x=\"63.623047\" xlink:href=\"#DejaVuSans-46\"/>\n       <use x=\"95.410156\" xlink:href=\"#DejaVuSans-54\"/>\n      </g>\n     </g>\n    </g>\n   </g>\n   <g id=\"line2d_15\">\n    <path clip-path=\"url(#p4b2e7f79b3)\" d=\"M 45.321307 213.113953 \nL 45.809069 210.527669 \nL 46.296831 203.172663 \nL 46.784594 208.778318 \nL 47.272356 207.941055 \nL 47.760118 202.465744 \nL 48.24788 209.562643 \nL 48.735642 198.609992 \nL 49.223405 214.224612 \nL 49.711167 193.828934 \nL 50.198929 205.473419 \nL 50.686691 202.800089 \nL 51.174454 208.980067 \nL 51.662216 196.982662 \nL 52.149978 210.444584 \nL 52.63774 192.999749 \nL 53.125503 133.434659 \nL 53.613265 210.748249 \nL 54.101027 192.564785 \nL 54.588789 209.379366 \nL 55.076552 148.300683 \nL 55.564314 190.715358 \nL 56.052076 196.349914 \nL 56.539838 210.413635 \nL 57.027601 203.71066 \nL 57.515363 200.096933 \nL 58.003125 209.028094 \nL 58.490887 84.373807 \nL 58.978649 205.546974 \nL 59.466412 207.016809 \nL 59.954174 194.39988 \nL 60.441936 198.284998 \nL 60.929698 212.406263 \nL 61.417461 194.013847 \nL 61.905223 202.963021 \nL 62.392985 194.845288 \nL 62.880747 118.434721 \nL 63.36851 212.812656 \nL 63.856272 202.93807 \nL 64.344034 209.804155 \nL 64.831796 211.483416 \nL 65.319559 191.337582 \nL 65.807321 162.410434 \nL 66.295083 190.286222 \nL 67.270608 183.596081 \nL 67.75837 188.505731 \nL 68.246132 213.374963 \nL 68.733894 207.198101 \nL 69.221656 203.5198 \nL 69.709419 202.436057 \nL 70.197181 213.325679 \nL 70.684943 184.251856 \nL 71.172705 214.183496 \nL 71.660468 204.766284 \nL 72.14823 184.120174 \nL 72.635992 208.637394 \nL 73.123754 197.669504 \nL 73.611517 197.965361 \nL 74.099279 158.278056 \nL 74.587041 136.377994 \nL 75.074803 208.832324 \nL 75.562566 206.965069 \nL 76.050328 118.785908 \nL 77.025852 203.435227 \nL 77.513615 191.664248 \nL 78.001377 209.991123 \nL 78.489139 196.547224 \nL 78.976901 199.801609 \nL 79.464663 210.677082 \nL 79.952426 212.937063 \nL 80.440188 203.873334 \nL 80.92795 87.947634 \nL 81.415712 204.33025 \nL 81.903475 197.178257 \nL 82.391237 130.818735 \nL 82.878999 105.941882 \nL 83.366761 191.356296 \nL 83.854524 204.325369 \nL 84.342286 194.658722 \nL 84.830048 201.963695 \nL 85.31781 105.195203 \nL 85.805573 211.604338 \nL 86.293335 203.843374 \nL 86.781097 149.319053 \nL 87.268859 211.71086 \nL 87.756622 199.230909 \nL 88.244384 197.739009 \nL 88.732146 198.324051 \nL 89.219908 179.423001 \nL 89.70767 186.757446 \nL 90.195433 213.355676 \nL 90.683195 169.893346 \nL 91.170957 213.528153 \nL 91.658719 132.156571 \nL 92.146482 208.198824 \nL 92.634244 195.874472 \nL 93.122006 192.787311 \nL 93.609768 199.023015 \nL 94.097531 194.079543 \nL 94.585293 187.94636 \nL 95.560817 211.59994 \nL 96.04858 194.376348 \nL 96.536342 164.946493 \nL 97.024104 177.101732 \nL 97.511866 151.676993 \nL 97.999628 207.219555 \nL 98.487391 175.427001 \nL 98.975153 202.903165 \nL 99.462915 135.446706 \nL 99.950677 206.749299 \nL 100.43844 202.640359 \nL 100.926202 211.806471 \nL 101.413964 189.538608 \nL 101.901726 211.181749 \nL 102.389489 166.136416 \nL 102.877251 150.873088 \nL 103.365013 206.427586 \nL 103.852775 213.103347 \nL 104.8283 200.753155 \nL 105.316062 179.167696 \nL 105.803824 171.090078 \nL 106.291587 202.049147 \nL 106.779349 145.024592 \nL 107.267111 169.111014 \nL 107.754873 161.486413 \nL 108.242635 194.944155 \nL 108.730398 185.390997 \nL 109.21816 114.036589 \nL 109.705922 159.862747 \nL 110.193684 93.990429 \nL 110.681447 199.816376 \nL 111.169209 201.386617 \nL 111.656971 127.733244 \nL 112.144733 202.236224 \nL 112.632496 209.69346 \nL 113.120258 210.010179 \nL 113.60802 213.722122 \nL 114.095782 213.327827 \nL 114.583545 139.851984 \nL 115.071307 162.352722 \nL 115.559069 210.769321 \nL 116.046831 199.949389 \nL 116.534594 211.00845 \nL 117.022356 213.481752 \nL 117.510118 192.161352 \nL 117.99788 152.915149 \nL 118.485642 147.511079 \nL 118.973405 167.801749 \nL 119.461167 198.673667 \nL 119.948929 133.266769 \nL 120.436691 211.194329 \nL 120.924454 190.043247 \nL 121.412216 204.58721 \nL 121.899978 210.462223 \nL 122.38774 193.798512 \nL 122.875503 210.282054 \nL 123.363265 209.099816 \nL 123.851027 206.727763 \nL 124.338789 145.845495 \nL 124.826552 202.365378 \nL 125.314314 206.442441 \nL 125.802076 89.65165 \nL 126.289838 212.653246 \nL 127.265363 209.771987 \nL 127.753125 211.510818 \nL 128.240887 198.742724 \nL 128.728649 199.598515 \nL 129.216412 193.049577 \nL 129.704174 192.15728 \nL 130.191936 212.630166 \nL 130.679698 208.42412 \nL 131.167461 210.284438 \nL 131.655223 177.32197 \nL 132.630747 206.789337 \nL 133.11851 213.67186 \nL 133.606272 122.668118 \nL 134.094034 194.011262 \nL 134.581796 175.252361 \nL 135.557321 208.346476 \nL 136.045083 198.015419 \nL 136.532845 158.192088 \nL 137.020608 207.76251 \nL 137.50837 199.215069 \nL 137.996132 214.247781 \nL 138.483894 172.373739 \nL 138.971656 110.921876 \nL 139.459419 201.643034 \nL 139.947181 198.755439 \nL 140.434943 157.011968 \nL 140.922705 210.786247 \nL 141.410468 209.670455 \nL 141.89823 213.980615 \nL 142.385992 208.520381 \nL 142.873754 198.187743 \nL 143.361517 193.512693 \nL 143.849279 182.790758 \nL 144.337041 193.512473 \nL 144.824803 197.761664 \nL 145.312566 194.659014 \nL 145.800328 207.58426 \nL 146.28809 201.781161 \nL 146.775852 134.012827 \nL 147.263615 207.843564 \nL 147.751377 206.737433 \nL 148.239139 208.584253 \nL 148.726901 209.394784 \nL 149.214663 181.04535 \nL 149.702426 211.020114 \nL 150.190188 211.14056 \nL 150.67795 212.080971 \nL 151.165712 188.068394 \nL 151.653475 127.66795 \nL 152.141237 204.637724 \nL 152.628999 110.605161 \nL 153.116761 169.964029 \nL 153.604524 162.564728 \nL 154.092286 207.966024 \nL 154.580048 136.890482 \nL 155.06781 208.721493 \nL 155.555573 205.179673 \nL 156.043335 213.126567 \nL 156.531097 210.449849 \nL 157.018859 205.255779 \nL 157.506622 181.795251 \nL 157.994384 212.555152 \nL 158.482146 177.515397 \nL 158.969908 208.364725 \nL 159.45767 177.024789 \nL 159.945433 199.398771 \nL 160.433195 201.323869 \nL 161.408719 131.136565 \nL 161.896482 173.665791 \nL 162.384244 149.018719 \nL 162.872006 174.787544 \nL 163.359768 212.896407 \nL 163.847531 200.63288 \nL 164.335293 171.224476 \nL 164.823055 189.467629 \nL 165.310817 166.278149 \nL 165.79858 208.905426 \nL 166.774104 190.918765 \nL 167.261866 204.193029 \nL 167.749628 210.087122 \nL 168.237391 212.291098 \nL 168.725153 169.815689 \nL 169.212915 74.136455 \nL 169.700677 213.763705 \nL 170.18844 192.893154 \nL 170.676202 199.422651 \nL 171.163964 212.544615 \nL 171.651726 198.495774 \nL 172.139489 172.431487 \nL 172.627251 178.183506 \nL 173.115013 159.012978 \nL 173.602775 202.62841 \nL 174.090538 149.258186 \nL 174.5783 178.698037 \nL 175.066062 151.887921 \nL 175.553824 213.353176 \nL 176.041587 197.706968 \nL 176.529349 159.744411 \nL 177.017111 212.066632 \nL 177.504873 207.181695 \nL 177.992635 205.181525 \nL 178.480398 196.707447 \nL 178.96816 209.865221 \nL 179.455922 204.857033 \nL 179.943684 206.959991 \nL 180.431447 175.388004 \nL 180.919209 204.617913 \nL 181.406971 212.379157 \nL 181.894733 212.646579 \nL 182.382496 99.615935 \nL 182.870258 213.992673 \nL 183.35802 166.701753 \nL 183.845782 208.868888 \nL 184.333545 184.499008 \nL 184.821307 208.29003 \nL 185.309069 211.61989 \nL 185.796831 187.991323 \nL 186.284594 140.926362 \nL 186.772356 210.154395 \nL 187.260118 199.479352 \nL 187.74788 213.682317 \nL 188.235642 171.252103 \nL 188.723405 213.268511 \nL 189.211167 187.268808 \nL 189.698929 170.9567 \nL 190.674454 212.399843 \nL 191.162216 212.489119 \nL 191.649978 126.145505 \nL 192.13774 165.554032 \nL 192.625503 180.295359 \nL 193.113265 207.160287 \nL 193.601027 193.862741 \nL 194.088789 171.941884 \nL 194.576552 213.597062 \nL 195.552076 207.670987 \nL 196.039838 118.934185 \nL 196.527601 185.562653 \nL 197.015363 176.717943 \nL 197.503125 212.516565 \nL 197.990887 214.243366 \nL 198.478649 214.373242 \nL 199.454174 203.844719 \nL 199.941936 206.568554 \nL 200.429698 213.630992 \nL 200.917461 214.500857 \nL 201.405223 213.864148 \nL 201.892985 181.535317 \nL 202.380747 207.780476 \nL 202.86851 212.010564 \nL 203.356272 213.604439 \nL 203.844034 211.595115 \nL 204.331796 213.006619 \nL 204.819559 202.741219 \nL 205.307321 213.858109 \nL 205.795083 208.638865 \nL 206.282845 198.943198 \nL 206.770608 211.992619 \nL 207.25837 214.569365 \nL 207.746132 184.260291 \nL 208.233894 214.22929 \nL 208.721656 214.26064 \nL 209.209419 213.81741 \nL 209.697181 213.958817 \nL 210.184943 214.296582 \nL 210.672705 214.366226 \nL 211.160468 212.961745 \nL 211.64823 205.032942 \nL 212.135992 214.685241 \nL 212.623754 212.611691 \nL 213.111517 214.016601 \nL 213.599279 210.87606 \nL 214.087041 212.981604 \nL 214.574803 212.059233 \nL 215.062566 212.477904 \nL 215.550328 213.527394 \nL 216.03809 179.286155 \nL 216.525852 211.331646 \nL 217.013615 168.833525 \nL 217.501377 198.993012 \nL 217.989139 204.815361 \nL 218.476901 213.517044 \nL 218.964663 210.214582 \nL 219.452426 211.428208 \nL 219.940188 173.617666 \nL 220.42795 206.812518 \nL 220.915712 214.257036 \nL 221.403475 214.489593 \nL 221.891237 212.895847 \nL 222.378999 214.606443 \nL 222.866761 200.167097 \nL 223.354524 177.441705 \nL 223.842286 202.679103 \nL 224.330048 171.535237 \nL 224.81781 201.441016 \nL 225.305573 209.836353 \nL 225.793335 212.98313 \nL 226.281097 174.188279 \nL 226.768859 187.565939 \nL 227.256622 74.007297 \nL 227.744384 168.608935 \nL 228.232146 190.209897 \nL 228.719908 197.488005 \nL 229.20767 187.650959 \nL 229.695433 189.446207 \nL 230.183195 192.116099 \nL 230.670957 166.974348 \nL 231.158719 213.880518 \nL 231.646482 213.414844 \nL 232.134244 214.628263 \nL 232.622006 209.497738 \nL 233.109768 160.905661 \nL 233.597531 214.408985 \nL 234.085293 214.653371 \nL 234.573055 214.56113 \nL 235.060817 214.247302 \nL 235.54858 214.560638 \nL 236.036342 214.44084 \nL 236.524104 214.744027 \nL 237.011866 213.23465 \nL 237.499628 214.493192 \nL 237.987391 214.704253 \nL 238.475153 213.159838 \nL 238.962915 212.750513 \nL 239.450677 213.99269 \nL 239.93844 213.557579 \nL 240.426202 214.23161 \nL 240.913964 212.718662 \nL 241.401726 214.318012 \nL 241.889489 214.524451 \nL 242.377251 214.56147 \nL 242.865013 213.906982 \nL 243.352775 137.396508 \nL 243.840538 214.225912 \nL 244.3283 203.779086 \nL 245.303824 51.611529 \nL 245.791587 179.157993 \nL 246.279349 17.083636 \nL 246.767111 183.093741 \nL 247.254873 175.411559 \nL 247.742635 146.187962 \nL 248.230398 202.124308 \nL 248.71816 212.996433 \nL 249.205922 213.13345 \nL 249.693684 207.371907 \nL 250.181447 207.798718 \nL 250.669209 204.083206 \nL 251.156971 116.116448 \nL 251.644733 209.87426 \nL 252.132496 206.122366 \nL 252.620258 209.873735 \nL 253.10802 212.729585 \nL 253.595782 160.796673 \nL 254.083545 212.516789 \nL 254.571307 214.039432 \nL 255.546831 211.744186 \nL 256.034594 209.275934 \nL 256.522356 214.626853 \nL 257.010118 212.31172 \nL 257.49788 214.518632 \nL 257.985642 214.432429 \nL 258.473405 213.337969 \nL 258.961167 214.268632 \nL 259.448929 211.736629 \nL 259.936691 214.073734 \nL 260.424454 213.833141 \nL 260.912216 213.01702 \nL 261.399978 208.16304 \nL 261.88774 213.686771 \nL 262.375503 189.419902 \nL 262.863265 214.465643 \nL 263.351027 214.5419 \nL 263.838789 212.670009 \nL 264.326552 211.477188 \nL 265.302076 207.961813 \nL 265.789838 212.237904 \nL 266.277601 195.699802 \nL 266.765363 210.689934 \nL 267.253125 214.578359 \nL 268.228649 214.021624 \nL 268.716412 210.207903 \nL 269.204174 213.965473 \nL 269.691936 214.179786 \nL 270.179698 214.120941 \nL 270.667461 213.279182 \nL 271.155223 213.635973 \nL 271.642985 167.932219 \nL 272.130747 211.295723 \nL 272.61851 205.865995 \nL 273.106272 205.654174 \nL 273.594034 211.513686 \nL 274.081796 213.764551 \nL 274.569559 213.829541 \nL 275.057321 211.881649 \nL 276.032845 212.509522 \nL 276.520608 210.533087 \nL 277.00837 214.429405 \nL 277.496132 213.528051 \nL 277.983894 213.603513 \nL 278.471656 214.219072 \nL 278.959419 213.796654 \nL 279.447181 211.235454 \nL 279.934943 213.392765 \nL 280.422705 213.999852 \nL 280.910468 212.387111 \nL 281.39823 214.268779 \nL 281.885992 214.427673 \nL 282.373754 212.880327 \nL 282.861517 214.050232 \nL 283.349279 200.876774 \nL 283.837041 210.069615 \nL 284.324803 212.10096 \nL 284.812566 208.839488 \nL 285.300328 185.441129 \nL 285.78809 194.462711 \nL 286.275852 206.01404 \nL 286.763615 200.839343 \nL 287.251377 214.292077 \nL 287.739139 214.451903 \nL 288.226901 213.853006 \nL 288.714663 207.719484 \nL 289.202426 214.047068 \nL 289.690188 213.819706 \nL 290.17795 212.77012 \nL 290.665712 201.200409 \nL 291.153475 212.548896 \nL 291.641237 126.733408 \nL 292.128999 210.62739 \nL 292.616761 213.918674 \nL 293.104524 211.447921 \nL 293.592286 214.070369 \nL 294.080048 213.318736 \nL 294.56781 210.333223 \nL 295.055573 213.025405 \nL 295.543335 213.159945 \nL 296.031097 213.966591 \nL 296.518859 211.756697 \nL 297.006622 212.077826 \nL 297.494384 207.633253 \nL 297.982146 214.077464 \nL 298.469908 203.126896 \nL 298.95767 170.738851 \nL 299.445433 213.913792 \nL 299.933195 211.835599 \nL 300.420957 212.119882 \nL 300.908719 214.236918 \nL 301.396482 143.147082 \nL 301.884244 214.388524 \nL 302.372006 214.125865 \nL 302.859768 213.678308 \nL 303.347531 214.560618 \nL 303.835293 213.246445 \nL 304.810817 197.201374 \nL 305.29858 214.606928 \nL 305.786342 214.62785 \nL 306.274104 214.496551 \nL 307.249628 213.864979 \nL 307.737391 214.114592 \nL 308.225153 213.340988 \nL 308.712915 214.475797 \nL 309.68844 214.60649 \nL 310.176202 214.756364 \nL 310.663964 214.715693 \nL 312.127251 214.193018 \nL 312.615013 214.731172 \nL 313.102775 214.728561 \nL 313.590538 214.499845 \nL 314.0783 214.455234 \nL 314.566062 214.705314 \nL 315.541587 214.674046 \nL 316.029349 214.221357 \nL 316.517111 213.08035 \nL 317.004873 214.331136 \nL 317.492635 214.184159 \nL 317.980398 209.483046 \nL 318.46816 214.197421 \nL 318.955922 214.444961 \nL 319.443684 214.328424 \nL 319.931447 61.199549 \nL 320.906971 210.396163 \nL 321.394733 210.047097 \nL 321.882496 214.484137 \nL 322.370258 214.481398 \nL 322.85802 211.958153 \nL 323.345782 214.623258 \nL 323.833545 213.068409 \nL 324.321307 211.058614 \nL 324.809069 213.144557 \nL 325.296831 214.525754 \nL 325.784594 209.631263 \nL 326.272356 212.97286 \nL 326.760118 213.252929 \nL 327.24788 213.268371 \nL 327.735642 214.597874 \nL 328.223405 200.986571 \nL 328.711167 213.537079 \nL 329.198929 202.290102 \nL 329.686691 214.109157 \nL 330.174454 214.019046 \nL 330.662216 213.603142 \nL 331.149978 213.667205 \nL 331.63774 213.485188 \nL 332.613265 213.47578 \nL 333.101027 213.774638 \nL 333.588789 212.957611 \nL 334.076552 214.416192 \nL 334.564314 212.473297 \nL 335.052076 212.902097 \nL 335.539838 208.25481 \nL 336.027601 206.495238 \nL 337.003125 213.983349 \nL 337.490887 156.547573 \nL 337.978649 206.405851 \nL 338.466412 210.024076 \nL 338.954174 136.323101 \nL 339.441936 182.805493 \nL 339.929698 63.278338 \nL 340.417461 192.333125 \nL 340.905223 114.522175 \nL 341.392985 171.848118 \nL 341.880747 187.528225 \nL 342.36851 179.10925 \nL 342.856272 115.945016 \nL 343.344034 100.437058 \nL 343.831796 141.105969 \nL 344.319559 198.238695 \nL 344.807321 188.20366 \nL 345.295083 211.531832 \nL 345.782845 186.466526 \nL 346.270608 208.930837 \nL 346.75837 136.53846 \nL 347.246132 167.194902 \nL 347.733894 207.174162 \nL 348.221656 210.511242 \nL 348.709419 212.197596 \nL 349.197181 198.946539 \nL 349.684943 214.287837 \nL 349.684943 214.287837 \n\" style=\"fill:none;stroke:#1f77b4;stroke-linecap:square;stroke-width:1.5;\"/>\n   </g>\n   <g id=\"patch_3\">\n    <path d=\"M 30.103125 224.64 \nL 30.103125 7.2 \n\" style=\"fill:none;stroke:#000000;stroke-linecap:square;stroke-linejoin:miter;stroke-width:0.8;\"/>\n   </g>\n   <g id=\"patch_4\">\n    <path d=\"M 364.903125 224.64 \nL 364.903125 7.2 \n\" style=\"fill:none;stroke:#000000;stroke-linecap:square;stroke-linejoin:miter;stroke-width:0.8;\"/>\n   </g>\n   <g id=\"patch_5\">\n    <path d=\"M 30.103125 224.64 \nL 364.903125 224.64 \n\" style=\"fill:none;stroke:#000000;stroke-linecap:square;stroke-linejoin:miter;stroke-width:0.8;\"/>\n   </g>\n   <g id=\"patch_6\">\n    <path d=\"M 30.103125 7.2 \nL 364.903125 7.2 \n\" style=\"fill:none;stroke:#000000;stroke-linecap:square;stroke-linejoin:miter;stroke-width:0.8;\"/>\n   </g>\n  </g>\n </g>\n <defs>\n  <clipPath id=\"p4b2e7f79b3\">\n   <rect height=\"217.44\" width=\"334.8\" x=\"30.103125\" y=\"7.2\"/>\n  </clipPath>\n </defs>\n</svg>\n",
      "image/png": "[encoded data removed]"
     },
     "metadata": {
      "needs_background": "light"
     }
    },
    {
     "output_type": "display_data",
     "data": {
      "text/plain": "<Figure size 432x288 with 1 Axes>",
      "image/svg+xml": "<?xml version=\"1.0\" encoding=\"utf-8\" standalone=\"no\"?>\n<!DOCTYPE svg PUBLIC \"-//W3C//DTD SVG 1.1//EN\"\n  \"http://www.w3.org/Graphics/SVG/1.1/DTD/svg11.dtd\">\n<!-- Created with matplotlib (https://matplotlib.org/) -->\n<svg height=\"248.518125pt\" version=\"1.1\" viewBox=\"0 0 384.828125 248.518125\" width=\"384.828125pt\" xmlns=\"http://www.w3.org/2000/svg\" xmlns:xlink=\"http://www.w3.org/1999/xlink\">\n <metadata>\n  <rdf:RDF xmlns:cc=\"http://creativecommons.org/ns#\" xmlns:dc=\"http://purl.org/dc/elements/1.1/\" xmlns:rdf=\"http://www.w3.org/1999/02/22-rdf-syntax-ns#\">\n   <cc:Work>\n    <dc:type rdf:resource=\"http://purl.org/dc/dcmitype/StillImage\"/>\n    <dc:date>2021-05-17T20:49:07.560254</dc:date>\n    <dc:format>image/svg+xml</dc:format>\n    <dc:creator>\n     <cc:Agent>\n      <dc:title>Matplotlib v3.3.2, https://matplotlib.org/</dc:title>\n     </cc:Agent>\n    </dc:creator>\n   </cc:Work>\n  </rdf:RDF>\n </metadata>\n <defs>\n  <style type=\"text/css\">*{stroke-linecap:butt;stroke-linejoin:round;}</style>\n </defs>\n <g id=\"figure_1\">\n  <g id=\"patch_1\">\n   <path d=\"M 0 248.518125 \nL 384.828125 248.518125 \nL 384.828125 0 \nL 0 0 \nz\n\" style=\"fill:none;\"/>\n  </g>\n  <g id=\"axes_1\">\n   <g id=\"patch_2\">\n    <path d=\"M 42.828125 224.64 \nL 377.628125 224.64 \nL 377.628125 7.2 \nL 42.828125 7.2 \nz\n\" style=\"fill:#ffffff;\"/>\n   </g>\n   <g id=\"matplotlib.axis_1\">\n    <g id=\"xtick_1\">\n     <g id=\"line2d_1\">\n      <defs>\n       <path d=\"M 0 0 \nL 0 3.5 \n\" id=\"md6f35199d7\" style=\"stroke:#000000;stroke-width:0.8;\"/>\n      </defs>\n      <g>\n       <use style=\"stroke:#000000;stroke-width:0.8;\" x=\"58.046307\" xlink:href=\"#md6f35199d7\" y=\"224.64\"/>\n      </g>\n     </g>\n     <g id=\"text_1\">\n      <!-- 0 -->\n      <g transform=\"translate(54.865057 239.238438)scale(0.1 -0.1)\">\n       <defs>\n        <path d=\"M 31.78125 66.40625 \nQ 24.171875 66.40625 20.328125 58.90625 \nQ 16.5 51.421875 16.5 36.375 \nQ 16.5 21.390625 20.328125 13.890625 \nQ 24.171875 6.390625 31.78125 6.390625 \nQ 39.453125 6.390625 43.28125 13.890625 \nQ 47.125 21.390625 47.125 36.375 \nQ 47.125 51.421875 43.28125 58.90625 \nQ 39.453125 66.40625 31.78125 66.40625 \nz\nM 31.78125 74.21875 \nQ 44.046875 74.21875 50.515625 64.515625 \nQ 56.984375 54.828125 56.984375 36.375 \nQ 56.984375 17.96875 50.515625 8.265625 \nQ 44.046875 -1.421875 31.78125 -1.421875 \nQ 19.53125 -1.421875 13.0625 8.265625 \nQ 6.59375 17.96875 6.59375 36.375 \nQ 6.59375 54.828125 13.0625 64.515625 \nQ 19.53125 74.21875 31.78125 74.21875 \nz\n\" id=\"DejaVuSans-48\"/>\n       </defs>\n       <use xlink:href=\"#DejaVuSans-48\"/>\n      </g>\n     </g>\n    </g>\n    <g id=\"xtick_2\">\n     <g id=\"line2d_2\">\n      <g>\n       <use style=\"stroke:#000000;stroke-width:0.8;\" x=\"106.822531\" xlink:href=\"#md6f35199d7\" y=\"224.64\"/>\n      </g>\n     </g>\n     <g id=\"text_2\">\n      <!-- 100 -->\n      <g transform=\"translate(97.278781 239.238438)scale(0.1 -0.1)\">\n       <defs>\n        <path d=\"M 12.40625 8.296875 \nL 28.515625 8.296875 \nL 28.515625 63.921875 \nL 10.984375 60.40625 \nL 10.984375 69.390625 \nL 28.421875 72.90625 \nL 38.28125 72.90625 \nL 38.28125 8.296875 \nL 54.390625 8.296875 \nL 54.390625 0 \nL 12.40625 0 \nz\n\" id=\"DejaVuSans-49\"/>\n       </defs>\n       <use xlink:href=\"#DejaVuSans-49\"/>\n       <use x=\"63.623047\" xlink:href=\"#DejaVuSans-48\"/>\n       <use x=\"127.246094\" xlink:href=\"#DejaVuSans-48\"/>\n      </g>\n     </g>\n    </g>\n    <g id=\"xtick_3\">\n     <g id=\"line2d_3\">\n      <g>\n       <use style=\"stroke:#000000;stroke-width:0.8;\" x=\"155.598754\" xlink:href=\"#md6f35199d7\" y=\"224.64\"/>\n      </g>\n     </g>\n     <g id=\"text_3\">\n      <!-- 200 -->\n      <g transform=\"translate(146.055004 239.238438)scale(0.1 -0.1)\">\n       <defs>\n        <path d=\"M 19.1875 8.296875 \nL 53.609375 8.296875 \nL 53.609375 0 \nL 7.328125 0 \nL 7.328125 8.296875 \nQ 12.9375 14.109375 22.625 23.890625 \nQ 32.328125 33.6875 34.8125 36.53125 \nQ 39.546875 41.84375 41.421875 45.53125 \nQ 43.3125 49.21875 43.3125 52.78125 \nQ 43.3125 58.59375 39.234375 62.25 \nQ 35.15625 65.921875 28.609375 65.921875 \nQ 23.96875 65.921875 18.8125 64.3125 \nQ 13.671875 62.703125 7.8125 59.421875 \nL 7.8125 69.390625 \nQ 13.765625 71.78125 18.9375 73 \nQ 24.125 74.21875 28.421875 74.21875 \nQ 39.75 74.21875 46.484375 68.546875 \nQ 53.21875 62.890625 53.21875 53.421875 \nQ 53.21875 48.921875 51.53125 44.890625 \nQ 49.859375 40.875 45.40625 35.40625 \nQ 44.1875 33.984375 37.640625 27.21875 \nQ 31.109375 20.453125 19.1875 8.296875 \nz\n\" id=\"DejaVuSans-50\"/>\n       </defs>\n       <use xlink:href=\"#DejaVuSans-50\"/>\n       <use x=\"63.623047\" xlink:href=\"#DejaVuSans-48\"/>\n       <use x=\"127.246094\" xlink:href=\"#DejaVuSans-48\"/>\n      </g>\n     </g>\n    </g>\n    <g id=\"xtick_4\">\n     <g id=\"line2d_4\">\n      <g>\n       <use style=\"stroke:#000000;stroke-width:0.8;\" x=\"204.374978\" xlink:href=\"#md6f35199d7\" y=\"224.64\"/>\n      </g>\n     </g>\n     <g id=\"text_4\">\n      <!-- 300 -->\n      <g transform=\"translate(194.831228 239.238438)scale(0.1 -0.1)\">\n       <defs>\n        <path d=\"M 40.578125 39.3125 \nQ 47.65625 37.796875 51.625 33 \nQ 55.609375 28.21875 55.609375 21.1875 \nQ 55.609375 10.40625 48.1875 4.484375 \nQ 40.765625 -1.421875 27.09375 -1.421875 \nQ 22.515625 -1.421875 17.65625 -0.515625 \nQ 12.796875 0.390625 7.625 2.203125 \nL 7.625 11.71875 \nQ 11.71875 9.328125 16.59375 8.109375 \nQ 21.484375 6.890625 26.8125 6.890625 \nQ 36.078125 6.890625 40.9375 10.546875 \nQ 45.796875 14.203125 45.796875 21.1875 \nQ 45.796875 27.640625 41.28125 31.265625 \nQ 36.765625 34.90625 28.71875 34.90625 \nL 20.21875 34.90625 \nL 20.21875 43.015625 \nL 29.109375 43.015625 \nQ 36.375 43.015625 40.234375 45.921875 \nQ 44.09375 48.828125 44.09375 54.296875 \nQ 44.09375 59.90625 40.109375 62.90625 \nQ 36.140625 65.921875 28.71875 65.921875 \nQ 24.65625 65.921875 20.015625 65.03125 \nQ 15.375 64.15625 9.8125 62.3125 \nL 9.8125 71.09375 \nQ 15.4375 72.65625 20.34375 73.4375 \nQ 25.25 74.21875 29.59375 74.21875 \nQ 40.828125 74.21875 47.359375 69.109375 \nQ 53.90625 64.015625 53.90625 55.328125 \nQ 53.90625 49.265625 50.4375 45.09375 \nQ 46.96875 40.921875 40.578125 39.3125 \nz\n\" id=\"DejaVuSans-51\"/>\n       </defs>\n       <use xlink:href=\"#DejaVuSans-51\"/>\n       <use x=\"63.623047\" xlink:href=\"#DejaVuSans-48\"/>\n       <use x=\"127.246094\" xlink:href=\"#DejaVuSans-48\"/>\n      </g>\n     </g>\n    </g>\n    <g id=\"xtick_5\">\n     <g id=\"line2d_5\">\n      <g>\n       <use style=\"stroke:#000000;stroke-width:0.8;\" x=\"253.151202\" xlink:href=\"#md6f35199d7\" y=\"224.64\"/>\n      </g>\n     </g>\n     <g id=\"text_5\">\n      <!-- 400 -->\n      <g transform=\"translate(243.607452 239.238438)scale(0.1 -0.1)\">\n       <defs>\n        <path d=\"M 37.796875 64.3125 \nL 12.890625 25.390625 \nL 37.796875 25.390625 \nz\nM 35.203125 72.90625 \nL 47.609375 72.90625 \nL 47.609375 25.390625 \nL 58.015625 25.390625 \nL 58.015625 17.1875 \nL 47.609375 17.1875 \nL 47.609375 0 \nL 37.796875 0 \nL 37.796875 17.1875 \nL 4.890625 17.1875 \nL 4.890625 26.703125 \nz\n\" id=\"DejaVuSans-52\"/>\n       </defs>\n       <use xlink:href=\"#DejaVuSans-52\"/>\n       <use x=\"63.623047\" xlink:href=\"#DejaVuSans-48\"/>\n       <use x=\"127.246094\" xlink:href=\"#DejaVuSans-48\"/>\n      </g>\n     </g>\n    </g>\n    <g id=\"xtick_6\">\n     <g id=\"line2d_6\">\n      <g>\n       <use style=\"stroke:#000000;stroke-width:0.8;\" x=\"301.927426\" xlink:href=\"#md6f35199d7\" y=\"224.64\"/>\n      </g>\n     </g>\n     <g id=\"text_6\">\n      <!-- 500 -->\n      <g transform=\"translate(292.383676 239.238438)scale(0.1 -0.1)\">\n       <defs>\n        <path d=\"M 10.796875 72.90625 \nL 49.515625 72.90625 \nL 49.515625 64.59375 \nL 19.828125 64.59375 \nL 19.828125 46.734375 \nQ 21.96875 47.46875 24.109375 47.828125 \nQ 26.265625 48.1875 28.421875 48.1875 \nQ 40.625 48.1875 47.75 41.5 \nQ 54.890625 34.8125 54.890625 23.390625 \nQ 54.890625 11.625 47.5625 5.09375 \nQ 40.234375 -1.421875 26.90625 -1.421875 \nQ 22.3125 -1.421875 17.546875 -0.640625 \nQ 12.796875 0.140625 7.71875 1.703125 \nL 7.71875 11.625 \nQ 12.109375 9.234375 16.796875 8.0625 \nQ 21.484375 6.890625 26.703125 6.890625 \nQ 35.15625 6.890625 40.078125 11.328125 \nQ 45.015625 15.765625 45.015625 23.390625 \nQ 45.015625 31 40.078125 35.4375 \nQ 35.15625 39.890625 26.703125 39.890625 \nQ 22.75 39.890625 18.8125 39.015625 \nQ 14.890625 38.140625 10.796875 36.28125 \nz\n\" id=\"DejaVuSans-53\"/>\n       </defs>\n       <use xlink:href=\"#DejaVuSans-53\"/>\n       <use x=\"63.623047\" xlink:href=\"#DejaVuSans-48\"/>\n       <use x=\"127.246094\" xlink:href=\"#DejaVuSans-48\"/>\n      </g>\n     </g>\n    </g>\n    <g id=\"xtick_7\">\n     <g id=\"line2d_7\">\n      <g>\n       <use style=\"stroke:#000000;stroke-width:0.8;\" x=\"350.703649\" xlink:href=\"#md6f35199d7\" y=\"224.64\"/>\n      </g>\n     </g>\n     <g id=\"text_7\">\n      <!-- 600 -->\n      <g transform=\"translate(341.159899 239.238438)scale(0.1 -0.1)\">\n       <defs>\n        <path d=\"M 33.015625 40.375 \nQ 26.375 40.375 22.484375 35.828125 \nQ 18.609375 31.296875 18.609375 23.390625 \nQ 18.609375 15.53125 22.484375 10.953125 \nQ 26.375 6.390625 33.015625 6.390625 \nQ 39.65625 6.390625 43.53125 10.953125 \nQ 47.40625 15.53125 47.40625 23.390625 \nQ 47.40625 31.296875 43.53125 35.828125 \nQ 39.65625 40.375 33.015625 40.375 \nz\nM 52.59375 71.296875 \nL 52.59375 62.3125 \nQ 48.875 64.0625 45.09375 64.984375 \nQ 41.3125 65.921875 37.59375 65.921875 \nQ 27.828125 65.921875 22.671875 59.328125 \nQ 17.53125 52.734375 16.796875 39.40625 \nQ 19.671875 43.65625 24.015625 45.921875 \nQ 28.375 48.1875 33.59375 48.1875 \nQ 44.578125 48.1875 50.953125 41.515625 \nQ 57.328125 34.859375 57.328125 23.390625 \nQ 57.328125 12.15625 50.6875 5.359375 \nQ 44.046875 -1.421875 33.015625 -1.421875 \nQ 20.359375 -1.421875 13.671875 8.265625 \nQ 6.984375 17.96875 6.984375 36.375 \nQ 6.984375 53.65625 15.1875 63.9375 \nQ 23.390625 74.21875 37.203125 74.21875 \nQ 40.921875 74.21875 44.703125 73.484375 \nQ 48.484375 72.75 52.59375 71.296875 \nz\n\" id=\"DejaVuSans-54\"/>\n       </defs>\n       <use xlink:href=\"#DejaVuSans-54\"/>\n       <use x=\"63.623047\" xlink:href=\"#DejaVuSans-48\"/>\n       <use x=\"127.246094\" xlink:href=\"#DejaVuSans-48\"/>\n      </g>\n     </g>\n    </g>\n   </g>\n   <g id=\"matplotlib.axis_2\">\n    <g id=\"ytick_1\">\n     <g id=\"line2d_8\">\n      <defs>\n       <path d=\"M 0 0 \nL -3.5 0 \n\" id=\"m8603bc7005\" style=\"stroke:#000000;stroke-width:0.8;\"/>\n      </defs>\n      <g>\n       <use style=\"stroke:#000000;stroke-width:0.8;\" x=\"42.828125\" xlink:href=\"#m8603bc7005\" y=\"201.578182\"/>\n      </g>\n     </g>\n     <g id=\"text_8\">\n      <!-- 0.825 -->\n      <g transform=\"translate(7.2 205.377401)scale(0.1 -0.1)\">\n       <defs>\n        <path d=\"M 10.6875 12.40625 \nL 21 12.40625 \nL 21 0 \nL 10.6875 0 \nz\n\" id=\"DejaVuSans-46\"/>\n        <path d=\"M 31.78125 34.625 \nQ 24.75 34.625 20.71875 30.859375 \nQ 16.703125 27.09375 16.703125 20.515625 \nQ 16.703125 13.921875 20.71875 10.15625 \nQ 24.75 6.390625 31.78125 6.390625 \nQ 38.8125 6.390625 42.859375 10.171875 \nQ 46.921875 13.96875 46.921875 20.515625 \nQ 46.921875 27.09375 42.890625 30.859375 \nQ 38.875 34.625 31.78125 34.625 \nz\nM 21.921875 38.8125 \nQ 15.578125 40.375 12.03125 44.71875 \nQ 8.5 49.078125 8.5 55.328125 \nQ 8.5 64.0625 14.71875 69.140625 \nQ 20.953125 74.21875 31.78125 74.21875 \nQ 42.671875 74.21875 48.875 69.140625 \nQ 55.078125 64.0625 55.078125 55.328125 \nQ 55.078125 49.078125 51.53125 44.71875 \nQ 48 40.375 41.703125 38.8125 \nQ 48.828125 37.15625 52.796875 32.3125 \nQ 56.78125 27.484375 56.78125 20.515625 \nQ 56.78125 9.90625 50.3125 4.234375 \nQ 43.84375 -1.421875 31.78125 -1.421875 \nQ 19.734375 -1.421875 13.25 4.234375 \nQ 6.78125 9.90625 6.78125 20.515625 \nQ 6.78125 27.484375 10.78125 32.3125 \nQ 14.796875 37.15625 21.921875 38.8125 \nz\nM 18.3125 54.390625 \nQ 18.3125 48.734375 21.84375 45.5625 \nQ 25.390625 42.390625 31.78125 42.390625 \nQ 38.140625 42.390625 41.71875 45.5625 \nQ 45.3125 48.734375 45.3125 54.390625 \nQ 45.3125 60.0625 41.71875 63.234375 \nQ 38.140625 66.40625 31.78125 66.40625 \nQ 25.390625 66.40625 21.84375 63.234375 \nQ 18.3125 60.0625 18.3125 54.390625 \nz\n\" id=\"DejaVuSans-56\"/>\n       </defs>\n       <use xlink:href=\"#DejaVuSans-48\"/>\n       <use x=\"63.623047\" xlink:href=\"#DejaVuSans-46\"/>\n       <use x=\"95.410156\" xlink:href=\"#DejaVuSans-56\"/>\n       <use x=\"159.033203\" xlink:href=\"#DejaVuSans-50\"/>\n       <use x=\"222.65625\" xlink:href=\"#DejaVuSans-53\"/>\n      </g>\n     </g>\n    </g>\n    <g id=\"ytick_2\">\n     <g id=\"line2d_9\">\n      <g>\n       <use style=\"stroke:#000000;stroke-width:0.8;\" x=\"42.828125\" xlink:href=\"#m8603bc7005\" y=\"175.221818\"/>\n      </g>\n     </g>\n     <g id=\"text_9\">\n      <!-- 0.850 -->\n      <g transform=\"translate(7.2 179.021037)scale(0.1 -0.1)\">\n       <use xlink:href=\"#DejaVuSans-48\"/>\n       <use x=\"63.623047\" xlink:href=\"#DejaVuSans-46\"/>\n       <use x=\"95.410156\" xlink:href=\"#DejaVuSans-56\"/>\n       <use x=\"159.033203\" xlink:href=\"#DejaVuSans-53\"/>\n       <use x=\"222.65625\" xlink:href=\"#DejaVuSans-48\"/>\n      </g>\n     </g>\n    </g>\n    <g id=\"ytick_3\">\n     <g id=\"line2d_10\">\n      <g>\n       <use style=\"stroke:#000000;stroke-width:0.8;\" x=\"42.828125\" xlink:href=\"#m8603bc7005\" y=\"148.865455\"/>\n      </g>\n     </g>\n     <g id=\"text_10\">\n      <!-- 0.875 -->\n      <g transform=\"translate(7.2 152.664673)scale(0.1 -0.1)\">\n       <defs>\n        <path d=\"M 8.203125 72.90625 \nL 55.078125 72.90625 \nL 55.078125 68.703125 \nL 28.609375 0 \nL 18.3125 0 \nL 43.21875 64.59375 \nL 8.203125 64.59375 \nz\n\" id=\"DejaVuSans-55\"/>\n       </defs>\n       <use xlink:href=\"#DejaVuSans-48\"/>\n       <use x=\"63.623047\" xlink:href=\"#DejaVuSans-46\"/>\n       <use x=\"95.410156\" xlink:href=\"#DejaVuSans-56\"/>\n       <use x=\"159.033203\" xlink:href=\"#DejaVuSans-55\"/>\n       <use x=\"222.65625\" xlink:href=\"#DejaVuSans-53\"/>\n      </g>\n     </g>\n    </g>\n    <g id=\"ytick_4\">\n     <g id=\"line2d_11\">\n      <g>\n       <use style=\"stroke:#000000;stroke-width:0.8;\" x=\"42.828125\" xlink:href=\"#m8603bc7005\" y=\"122.509091\"/>\n      </g>\n     </g>\n     <g id=\"text_11\">\n      <!-- 0.900 -->\n      <g transform=\"translate(7.2 126.30831)scale(0.1 -0.1)\">\n       <defs>\n        <path d=\"M 10.984375 1.515625 \nL 10.984375 10.5 \nQ 14.703125 8.734375 18.5 7.8125 \nQ 22.3125 6.890625 25.984375 6.890625 \nQ 35.75 6.890625 40.890625 13.453125 \nQ 46.046875 20.015625 46.78125 33.40625 \nQ 43.953125 29.203125 39.59375 26.953125 \nQ 35.25 24.703125 29.984375 24.703125 \nQ 19.046875 24.703125 12.671875 31.3125 \nQ 6.296875 37.9375 6.296875 49.421875 \nQ 6.296875 60.640625 12.9375 67.421875 \nQ 19.578125 74.21875 30.609375 74.21875 \nQ 43.265625 74.21875 49.921875 64.515625 \nQ 56.59375 54.828125 56.59375 36.375 \nQ 56.59375 19.140625 48.40625 8.859375 \nQ 40.234375 -1.421875 26.421875 -1.421875 \nQ 22.703125 -1.421875 18.890625 -0.6875 \nQ 15.09375 0.046875 10.984375 1.515625 \nz\nM 30.609375 32.421875 \nQ 37.25 32.421875 41.125 36.953125 \nQ 45.015625 41.5 45.015625 49.421875 \nQ 45.015625 57.28125 41.125 61.84375 \nQ 37.25 66.40625 30.609375 66.40625 \nQ 23.96875 66.40625 20.09375 61.84375 \nQ 16.21875 57.28125 16.21875 49.421875 \nQ 16.21875 41.5 20.09375 36.953125 \nQ 23.96875 32.421875 30.609375 32.421875 \nz\n\" id=\"DejaVuSans-57\"/>\n       </defs>\n       <use xlink:href=\"#DejaVuSans-48\"/>\n       <use x=\"63.623047\" xlink:href=\"#DejaVuSans-46\"/>\n       <use x=\"95.410156\" xlink:href=\"#DejaVuSans-57\"/>\n       <use x=\"159.033203\" xlink:href=\"#DejaVuSans-48\"/>\n       <use x=\"222.65625\" xlink:href=\"#DejaVuSans-48\"/>\n      </g>\n     </g>\n    </g>\n    <g id=\"ytick_5\">\n     <g id=\"line2d_12\">\n      <g>\n       <use style=\"stroke:#000000;stroke-width:0.8;\" x=\"42.828125\" xlink:href=\"#m8603bc7005\" y=\"96.152727\"/>\n      </g>\n     </g>\n     <g id=\"text_12\">\n      <!-- 0.925 -->\n      <g transform=\"translate(7.2 99.951946)scale(0.1 -0.1)\">\n       <use xlink:href=\"#DejaVuSans-48\"/>\n       <use x=\"63.623047\" xlink:href=\"#DejaVuSans-46\"/>\n       <use x=\"95.410156\" xlink:href=\"#DejaVuSans-57\"/>\n       <use x=\"159.033203\" xlink:href=\"#DejaVuSans-50\"/>\n       <use x=\"222.65625\" xlink:href=\"#DejaVuSans-53\"/>\n      </g>\n     </g>\n    </g>\n    <g id=\"ytick_6\">\n     <g id=\"line2d_13\">\n      <g>\n       <use style=\"stroke:#000000;stroke-width:0.8;\" x=\"42.828125\" xlink:href=\"#m8603bc7005\" y=\"69.796364\"/>\n      </g>\n     </g>\n     <g id=\"text_13\">\n      <!-- 0.950 -->\n      <g transform=\"translate(7.2 73.595582)scale(0.1 -0.1)\">\n       <use xlink:href=\"#DejaVuSans-48\"/>\n       <use x=\"63.623047\" xlink:href=\"#DejaVuSans-46\"/>\n       <use x=\"95.410156\" xlink:href=\"#DejaVuSans-57\"/>\n       <use x=\"159.033203\" xlink:href=\"#DejaVuSans-53\"/>\n       <use x=\"222.65625\" xlink:href=\"#DejaVuSans-48\"/>\n      </g>\n     </g>\n    </g>\n    <g id=\"ytick_7\">\n     <g id=\"line2d_14\">\n      <g>\n       <use style=\"stroke:#000000;stroke-width:0.8;\" x=\"42.828125\" xlink:href=\"#m8603bc7005\" y=\"43.44\"/>\n      </g>\n     </g>\n     <g id=\"text_14\">\n      <!-- 0.975 -->\n      <g transform=\"translate(7.2 47.239219)scale(0.1 -0.1)\">\n       <use xlink:href=\"#DejaVuSans-48\"/>\n       <use x=\"63.623047\" xlink:href=\"#DejaVuSans-46\"/>\n       <use x=\"95.410156\" xlink:href=\"#DejaVuSans-57\"/>\n       <use x=\"159.033203\" xlink:href=\"#DejaVuSans-55\"/>\n       <use x=\"222.65625\" xlink:href=\"#DejaVuSans-53\"/>\n      </g>\n     </g>\n    </g>\n    <g id=\"ytick_8\">\n     <g id=\"line2d_15\">\n      <g>\n       <use style=\"stroke:#000000;stroke-width:0.8;\" x=\"42.828125\" xlink:href=\"#m8603bc7005\" y=\"17.083636\"/>\n      </g>\n     </g>\n     <g id=\"text_15\">\n      <!-- 1.000 -->\n      <g transform=\"translate(7.2 20.882855)scale(0.1 -0.1)\">\n       <use xlink:href=\"#DejaVuSans-49\"/>\n       <use x=\"63.623047\" xlink:href=\"#DejaVuSans-46\"/>\n       <use x=\"95.410156\" xlink:href=\"#DejaVuSans-48\"/>\n       <use x=\"159.033203\" xlink:href=\"#DejaVuSans-48\"/>\n       <use x=\"222.65625\" xlink:href=\"#DejaVuSans-48\"/>\n      </g>\n     </g>\n    </g>\n   </g>\n   <g id=\"line2d_16\">\n    <path clip-path=\"url(#p5bc46764d5)\" d=\"M 58.046307 17.083636 \nL 63.899454 17.083636 \nL 64.387216 82.974545 \nL 64.874978 17.083636 \nL 65.36274 82.974545 \nL 65.850503 82.974545 \nL 66.338265 17.083636 \nL 66.826027 82.974545 \nL 67.313789 17.083636 \nL 67.801552 82.974545 \nL 68.289314 82.974545 \nL 68.777076 17.083636 \nL 70.728125 17.083636 \nL 71.215887 82.974545 \nL 71.703649 17.083636 \nL 72.191412 17.083636 \nL 72.679174 82.974545 \nL 73.166936 17.083636 \nL 75.117985 17.083636 \nL 75.605747 148.865455 \nL 76.09351 17.083636 \nL 77.556796 17.083636 \nL 78.044559 82.974545 \nL 80.48337 82.974545 \nL 80.971132 17.083636 \nL 82.922181 17.083636 \nL 83.409943 82.974545 \nL 83.897705 17.083636 \nL 85.360992 17.083636 \nL 85.848754 82.974545 \nL 86.336517 17.083636 \nL 86.824279 82.974545 \nL 87.312041 82.974545 \nL 87.799803 17.083636 \nL 88.287566 17.083636 \nL 88.775328 82.974545 \nL 89.26309 82.974545 \nL 89.750852 17.083636 \nL 93.165188 17.083636 \nL 93.65295 148.865455 \nL 94.140712 17.083636 \nL 94.628475 17.083636 \nL 95.116237 82.974545 \nL 95.603999 214.756364 \nL 96.091761 82.974545 \nL 96.579524 17.083636 \nL 97.555048 17.083636 \nL 98.04281 148.865455 \nL 98.530573 17.083636 \nL 99.018335 17.083636 \nL 99.506097 82.974545 \nL 99.993859 17.083636 \nL 101.944908 17.083636 \nL 102.43267 82.974545 \nL 102.920433 17.083636 \nL 103.408195 82.974545 \nL 103.895957 17.083636 \nL 104.383719 148.865455 \nL 104.871482 17.083636 \nL 105.359244 17.083636 \nL 105.847006 82.974545 \nL 106.334768 17.083636 \nL 106.822531 82.974545 \nL 107.310293 82.974545 \nL 107.798055 17.083636 \nL 108.77358 17.083636 \nL 109.261342 82.974545 \nL 109.749104 82.974545 \nL 110.236866 148.865455 \nL 110.724628 17.083636 \nL 111.212391 82.974545 \nL 111.700153 17.083636 \nL 112.187915 82.974545 \nL 112.675677 17.083636 \nL 114.626726 17.083636 \nL 115.114489 82.974545 \nL 115.602251 82.974545 \nL 116.090013 17.083636 \nL 117.5533 17.083636 \nL 118.041062 82.974545 \nL 118.528824 82.974545 \nL 119.016587 17.083636 \nL 119.504349 148.865455 \nL 119.992111 82.974545 \nL 121.455398 82.974545 \nL 121.94316 148.865455 \nL 122.430922 82.974545 \nL 122.918684 148.865455 \nL 123.894209 17.083636 \nL 124.381971 148.865455 \nL 124.869733 17.083636 \nL 126.820782 17.083636 \nL 127.796307 148.865455 \nL 128.284069 17.083636 \nL 130.235118 17.083636 \nL 130.72288 82.974545 \nL 131.698405 82.974545 \nL 132.186167 17.083636 \nL 132.673929 148.865455 \nL 133.161691 17.083636 \nL 133.649454 82.974545 \nL 134.137216 17.083636 \nL 136.576027 17.083636 \nL 137.063789 148.865455 \nL 137.551552 17.083636 \nL 138.039314 17.083636 \nL 138.527076 82.974545 \nL 139.014838 17.083636 \nL 141.941412 17.083636 \nL 142.429174 82.974545 \nL 142.916936 17.083636 \nL 143.892461 17.083636 \nL 144.380223 82.974545 \nL 144.867985 17.083636 \nL 145.84351 17.083636 \nL 146.331272 82.974545 \nL 146.819034 17.083636 \nL 147.306796 82.974545 \nL 147.794559 17.083636 \nL 148.770083 17.083636 \nL 149.257845 148.865455 \nL 149.745608 17.083636 \nL 150.721132 17.083636 \nL 151.208894 82.974545 \nL 151.696656 82.974545 \nL 152.184419 17.083636 \nL 152.672181 17.083636 \nL 153.159943 82.974545 \nL 153.647705 17.083636 \nL 156.086517 17.083636 \nL 156.574279 82.974545 \nL 157.549803 82.974545 \nL 158.037566 17.083636 \nL 159.01309 17.083636 \nL 159.500852 148.865455 \nL 159.988615 17.083636 \nL 161.451901 17.083636 \nL 161.939663 82.974545 \nL 162.427426 17.083636 \nL 163.40295 17.083636 \nL 163.890712 82.974545 \nL 164.378475 82.974545 \nL 164.866237 17.083636 \nL 165.353999 82.974545 \nL 165.841761 82.974545 \nL 166.329524 148.865455 \nL 166.817286 17.083636 \nL 167.305048 82.974545 \nL 167.79281 17.083636 \nL 169.743859 17.083636 \nL 170.231622 82.974545 \nL 170.719384 17.083636 \nL 171.207146 148.865455 \nL 171.694908 17.083636 \nL 172.18267 82.974545 \nL 172.670433 17.083636 \nL 173.158195 17.083636 \nL 173.645957 148.865455 \nL 174.133719 148.865455 \nL 174.621482 82.974545 \nL 175.597006 82.974545 \nL 176.084768 17.083636 \nL 176.572531 17.083636 \nL 177.060293 82.974545 \nL 177.548055 82.974545 \nL 178.035817 148.865455 \nL 178.52358 17.083636 \nL 179.011342 17.083636 \nL 179.499104 82.974545 \nL 179.986866 17.083636 \nL 180.962391 17.083636 \nL 181.450153 82.974545 \nL 181.937915 214.756364 \nL 182.425677 17.083636 \nL 184.376726 17.083636 \nL 184.864489 82.974545 \nL 185.840013 82.974545 \nL 186.327775 17.083636 \nL 186.815538 148.865455 \nL 187.3033 82.974545 \nL 187.791062 82.974545 \nL 188.278824 17.083636 \nL 188.766587 17.083636 \nL 189.254349 82.974545 \nL 189.742111 17.083636 \nL 194.619733 17.083636 \nL 195.107496 148.865455 \nL 195.595258 17.083636 \nL 196.08302 82.974545 \nL 196.570782 17.083636 \nL 198.034069 17.083636 \nL 198.521831 82.974545 \nL 199.009594 82.974545 \nL 199.497356 17.083636 \nL 201.448405 17.083636 \nL 201.936167 82.974545 \nL 202.911691 82.974545 \nL 203.399454 17.083636 \nL 203.887216 17.083636 \nL 204.374978 82.974545 \nL 205.350503 82.974545 \nL 205.838265 17.083636 \nL 206.326027 82.974545 \nL 206.813789 82.974545 \nL 207.301552 17.083636 \nL 208.277076 17.083636 \nL 208.764838 148.865455 \nL 209.252601 82.974545 \nL 209.740363 82.974545 \nL 210.228125 17.083636 \nL 214.130223 17.083636 \nL 214.617985 82.974545 \nL 215.105747 17.083636 \nL 218.520083 17.083636 \nL 219.007845 82.974545 \nL 219.495608 17.083636 \nL 219.98337 17.083636 \nL 220.471132 82.974545 \nL 220.958894 17.083636 \nL 228.275328 17.083636 \nL 228.76309 82.974545 \nL 229.250852 17.083636 \nL 229.738615 82.974545 \nL 230.226377 17.083636 \nL 232.177426 17.083636 \nL 232.665188 82.974545 \nL 233.15295 17.083636 \nL 235.591761 17.083636 \nL 236.079524 82.974545 \nL 236.567286 17.083636 \nL 237.055048 82.974545 \nL 237.54281 17.083636 \nL 238.518335 17.083636 \nL 239.006097 82.974545 \nL 239.493859 82.974545 \nL 239.981622 214.756364 \nL 240.469384 82.974545 \nL 240.957146 82.974545 \nL 241.444908 17.083636 \nL 241.93267 82.974545 \nL 242.420433 17.083636 \nL 242.908195 82.974545 \nL 243.395957 82.974545 \nL 243.883719 17.083636 \nL 245.347006 17.083636 \nL 245.834768 82.974545 \nL 246.322531 17.083636 \nL 255.590013 17.083636 \nL 256.077775 82.974545 \nL 256.565538 17.083636 \nL 257.0533 17.083636 \nL 257.541062 148.865455 \nL 258.028824 214.756364 \nL 258.516587 82.974545 \nL 259.004349 214.756364 \nL 259.492111 82.974545 \nL 259.979873 148.865455 \nL 260.955398 17.083636 \nL 263.394209 17.083636 \nL 263.881971 82.974545 \nL 264.369733 17.083636 \nL 265.83302 17.083636 \nL 266.320782 82.974545 \nL 266.808545 17.083636 \nL 274.61274 17.083636 \nL 275.100503 82.974545 \nL 275.588265 17.083636 \nL 283.880223 17.083636 \nL 284.367985 82.974545 \nL 284.855747 17.083636 \nL 297.537566 17.083636 \nL 298.025328 82.974545 \nL 298.51309 17.083636 \nL 303.878475 17.083636 \nL 304.366237 148.865455 \nL 304.853999 17.083636 \nL 311.194908 17.083636 \nL 311.68267 82.974545 \nL 312.170433 17.083636 \nL 313.633719 17.083636 \nL 314.121482 82.974545 \nL 314.609244 17.083636 \nL 332.168684 17.083636 \nL 332.656447 214.756364 \nL 333.144209 82.974545 \nL 333.631971 17.083636 \nL 340.460642 17.083636 \nL 340.948405 82.974545 \nL 341.436167 17.083636 \nL 349.728125 17.083636 \nL 350.215887 82.974545 \nL 350.703649 17.083636 \nL 351.191412 17.083636 \nL 351.679174 82.974545 \nL 352.166936 82.974545 \nL 352.654698 148.865455 \nL 353.142461 82.974545 \nL 353.630223 148.865455 \nL 354.605747 17.083636 \nL 355.09351 17.083636 \nL 355.581272 148.865455 \nL 356.069034 148.865455 \nL 356.556796 82.974545 \nL 357.044559 82.974545 \nL 357.532321 17.083636 \nL 358.020083 17.083636 \nL 358.507845 82.974545 \nL 358.995608 17.083636 \nL 359.48337 82.974545 \nL 359.971132 82.974545 \nL 360.458894 17.083636 \nL 362.409943 17.083636 \nL 362.409943 17.083636 \n\" style=\"fill:none;stroke:#1f77b4;stroke-linecap:square;stroke-width:1.5;\"/>\n   </g>\n   <g id=\"patch_3\">\n    <path d=\"M 42.828125 224.64 \nL 42.828125 7.2 \n\" style=\"fill:none;stroke:#000000;stroke-linecap:square;stroke-linejoin:miter;stroke-width:0.8;\"/>\n   </g>\n   <g id=\"patch_4\">\n    <path d=\"M 377.628125 224.64 \nL 377.628125 7.2 \n\" style=\"fill:none;stroke:#000000;stroke-linecap:square;stroke-linejoin:miter;stroke-width:0.8;\"/>\n   </g>\n   <g id=\"patch_5\">\n    <path d=\"M 42.828125 224.64 \nL 377.628125 224.64 \n\" style=\"fill:none;stroke:#000000;stroke-linecap:square;stroke-linejoin:miter;stroke-width:0.8;\"/>\n   </g>\n   <g id=\"patch_6\">\n    <path d=\"M 42.828125 7.2 \nL 377.628125 7.2 \n\" style=\"fill:none;stroke:#000000;stroke-linecap:square;stroke-linejoin:miter;stroke-width:0.8;\"/>\n   </g>\n  </g>\n </g>\n <defs>\n  <clipPath id=\"p5bc46764d5\">\n   <rect height=\"217.44\" width=\"334.8\" x=\"42.828125\" y=\"7.2\"/>\n  </clipPath>\n </defs>\n</svg>\n",
      "image/png": "[encoded data removed]"
     },
     "metadata": {
      "needs_background": "light"
     }
    }
   ],
   "source": [
    "losses, acc = testing(net_naive, test_loader, criterion, accuracy, device=device)\n",
    "plt.plot(losses)\n",
    "plt.show()\n",
    "plt.plot(acc)\n",
    "plt.show()"
   ]
  },
  {
   "cell_type": "code",
   "execution_count": null,
   "metadata": {},
   "outputs": [],
   "source": [
    "#net_compact = Net().to(device)"
   ]
  },
  {
   "cell_type": "code",
   "execution_count": null,
   "metadata": {},
   "outputs": [],
   "source": [
    "# losses, accs = minibatch_run(net_compact, train_dataset, test_dataset, criterion, accuracy, device=device, bz=batch_size, lr=learning_rate, epochs=epochs, dec_lr=decreasing_lr)\n",
    "# Has the weird shaping issue"
   ]
  },
  {
   "cell_type": "code",
   "execution_count": null,
   "metadata": {},
   "outputs": [],
   "source": [
    "## Plot of losses"
   ]
  },
  {
   "cell_type": "code",
   "execution_count": null,
   "metadata": {},
   "outputs": [],
   "source": [
    "plt.plot(losses)\n",
    "plt.show()\n",
    "plt.plot(acc)\n",
    "plt.show()"
   ]
  },
  {
   "cell_type": "code",
   "execution_count": null,
   "metadata": {},
   "outputs": [],
   "source": [
    "# Attack against Unprotected Model"
   ]
  },
  {
   "cell_type": "code",
   "execution_count": 17,
   "metadata": {},
   "outputs": [],
   "source": [
    "from adversary import attack, protect"
   ]
  },
  {
   "cell_type": "code",
   "execution_count": 23,
   "metadata": {},
   "outputs": [],
   "source": [
    "accuracies_lenet= []\n",
    "examples_lenet = []\n",
    "\n",
    "epsilons_lenet = np.arange(0, 0.5, 0.05)"
   ]
  },
  {
   "cell_type": "code",
   "execution_count": 24,
   "metadata": {},
   "outputs": [
    {
     "output_type": "execute_result",
     "data": {
      "text/plain": [
       "array([0.  , 0.05, 0.1 , 0.15, 0.2 , 0.25, 0.3 , 0.35, 0.4 , 0.45])"
      ]
     },
     "metadata": {},
     "execution_count": 24
    }
   ],
   "source": [
    "epsilons_lenet"
   ]
  },
  {
   "cell_type": "code",
   "execution_count": null,
   "metadata": {},
   "outputs": [],
   "source": [
    "### Attack the model with different epsilons"
   ]
  },
  {
   "cell_type": "code",
   "execution_count": 25,
   "metadata": {},
   "outputs": [
    {
     "output_type": "stream",
     "name": "stdout",
     "text": [
      "Epsilon: 0.00\tTest Accuracy = 0.919\n",
      "Epsilon: 0.05\tTest Accuracy = 0.907\n",
      "Epsilon: 0.10\tTest Accuracy = 0.891\n",
      "Epsilon: 0.15\tTest Accuracy = 0.872\n",
      "Epsilon: 0.20\tTest Accuracy = 0.844\n",
      "Epsilon: 0.25\tTest Accuracy = 0.810\n",
      "Epsilon: 0.30\tTest Accuracy = 0.768\n",
      "Epsilon: 0.35\tTest Accuracy = 0.709\n",
      "Epsilon: 0.40\tTest Accuracy = 0.631\n",
      "Epsilon: 0.45\tTest Accuracy = 0.539\n"
     ]
    }
   ],
   "source": [
    "for eps in epsilons_lenet:\n",
    "    acc, ex = attack(net_naive, criterion, test_loader, update_max_norm=eps, device=device)\n",
    "    accuracies_lenet.append(acc)\n",
    "    examples_lenet.append(ex)"
   ]
  },
  {
   "cell_type": "code",
   "execution_count": null,
   "metadata": {},
   "outputs": [],
   "source": [
    "### Plot Results of Attacks"
   ]
  },
  {
   "cell_type": "code",
   "execution_count": 27,
   "metadata": {},
   "outputs": [
    {
     "output_type": "display_data",
     "data": {
      "text/plain": "<Figure size 360x360 with 1 Axes>",
      "image/svg+xml": "<?xml version=\"1.0\" encoding=\"utf-8\" standalone=\"no\"?>\n<!DOCTYPE svg PUBLIC \"-//W3C//DTD SVG 1.1//EN\"\n  \"http://www.w3.org/Graphics/SVG/1.1/DTD/svg11.dtd\">\n<!-- Created with matplotlib (https://matplotlib.org/) -->\n<svg height=\"331.674375pt\" version=\"1.1\" viewBox=\"0 0 329.98125 331.674375\" width=\"329.98125pt\" xmlns=\"http://www.w3.org/2000/svg\" xmlns:xlink=\"http://www.w3.org/1999/xlink\">\n <metadata>\n  <rdf:RDF xmlns:cc=\"http://creativecommons.org/ns#\" xmlns:dc=\"http://purl.org/dc/elements/1.1/\" xmlns:rdf=\"http://www.w3.org/1999/02/22-rdf-syntax-ns#\">\n   <cc:Work>\n    <dc:type rdf:resource=\"http://purl.org/dc/dcmitype/StillImage\"/>\n    <dc:date>2021-05-17T20:58:31.883651</dc:date>\n    <dc:format>image/svg+xml</dc:format>\n    <dc:creator>\n     <cc:Agent>\n      <dc:title>Matplotlib v3.3.2, https://matplotlib.org/</dc:title>\n     </cc:Agent>\n    </dc:creator>\n   </cc:Work>\n  </rdf:RDF>\n </metadata>\n <defs>\n  <style type=\"text/css\">*{stroke-linecap:butt;stroke-linejoin:round;}</style>\n </defs>\n <g id=\"figure_1\">\n  <g id=\"patch_1\">\n   <path d=\"M 0 331.674375 \nL 329.98125 331.674375 \nL 329.98125 0 \nL 0 0 \nz\n\" style=\"fill:none;\"/>\n  </g>\n  <g id=\"axes_1\">\n   <g id=\"patch_2\">\n    <path d=\"M 43.78125 294.118125 \nL 322.78125 294.118125 \nL 322.78125 22.318125 \nL 43.78125 22.318125 \nz\n\" style=\"fill:#ffffff;\"/>\n   </g>\n   <g id=\"matplotlib.axis_1\">\n    <g id=\"xtick_1\">\n     <g id=\"line2d_1\">\n      <defs>\n       <path d=\"M 0 0 \nL 0 3.5 \n\" id=\"m9b8ac34366\" style=\"stroke:#000000;stroke-width:0.8;\"/>\n      </defs>\n      <g>\n       <use style=\"stroke:#000000;stroke-width:0.8;\" x=\"56.463068\" xlink:href=\"#m9b8ac34366\" y=\"294.118125\"/>\n      </g>\n     </g>\n     <g id=\"text_1\">\n      <!-- 0.00 -->\n      <g transform=\"translate(45.330256 308.716563)scale(0.1 -0.1)\">\n       <defs>\n        <path d=\"M 31.78125 66.40625 \nQ 24.171875 66.40625 20.328125 58.90625 \nQ 16.5 51.421875 16.5 36.375 \nQ 16.5 21.390625 20.328125 13.890625 \nQ 24.171875 6.390625 31.78125 6.390625 \nQ 39.453125 6.390625 43.28125 13.890625 \nQ 47.125 21.390625 47.125 36.375 \nQ 47.125 51.421875 43.28125 58.90625 \nQ 39.453125 66.40625 31.78125 66.40625 \nz\nM 31.78125 74.21875 \nQ 44.046875 74.21875 50.515625 64.515625 \nQ 56.984375 54.828125 56.984375 36.375 \nQ 56.984375 17.96875 50.515625 8.265625 \nQ 44.046875 -1.421875 31.78125 -1.421875 \nQ 19.53125 -1.421875 13.0625 8.265625 \nQ 6.59375 17.96875 6.59375 36.375 \nQ 6.59375 54.828125 13.0625 64.515625 \nQ 19.53125 74.21875 31.78125 74.21875 \nz\n\" id=\"DejaVuSans-48\"/>\n        <path d=\"M 10.6875 12.40625 \nL 21 12.40625 \nL 21 0 \nL 10.6875 0 \nz\n\" id=\"DejaVuSans-46\"/>\n       </defs>\n       <use xlink:href=\"#DejaVuSans-48\"/>\n       <use x=\"63.623047\" xlink:href=\"#DejaVuSans-46\"/>\n       <use x=\"95.410156\" xlink:href=\"#DejaVuSans-48\"/>\n       <use x=\"159.033203\" xlink:href=\"#DejaVuSans-48\"/>\n      </g>\n     </g>\n    </g>\n    <g id=\"xtick_2\">\n     <g id=\"line2d_2\">\n      <g>\n       <use style=\"stroke:#000000;stroke-width:0.8;\" x=\"84.644886\" xlink:href=\"#m9b8ac34366\" y=\"294.118125\"/>\n      </g>\n     </g>\n     <g id=\"text_2\">\n      <!-- 0.05 -->\n      <g transform=\"translate(73.512074 308.716563)scale(0.1 -0.1)\">\n       <defs>\n        <path d=\"M 10.796875 72.90625 \nL 49.515625 72.90625 \nL 49.515625 64.59375 \nL 19.828125 64.59375 \nL 19.828125 46.734375 \nQ 21.96875 47.46875 24.109375 47.828125 \nQ 26.265625 48.1875 28.421875 48.1875 \nQ 40.625 48.1875 47.75 41.5 \nQ 54.890625 34.8125 54.890625 23.390625 \nQ 54.890625 11.625 47.5625 5.09375 \nQ 40.234375 -1.421875 26.90625 -1.421875 \nQ 22.3125 -1.421875 17.546875 -0.640625 \nQ 12.796875 0.140625 7.71875 1.703125 \nL 7.71875 11.625 \nQ 12.109375 9.234375 16.796875 8.0625 \nQ 21.484375 6.890625 26.703125 6.890625 \nQ 35.15625 6.890625 40.078125 11.328125 \nQ 45.015625 15.765625 45.015625 23.390625 \nQ 45.015625 31 40.078125 35.4375 \nQ 35.15625 39.890625 26.703125 39.890625 \nQ 22.75 39.890625 18.8125 39.015625 \nQ 14.890625 38.140625 10.796875 36.28125 \nz\n\" id=\"DejaVuSans-53\"/>\n       </defs>\n       <use xlink:href=\"#DejaVuSans-48\"/>\n       <use x=\"63.623047\" xlink:href=\"#DejaVuSans-46\"/>\n       <use x=\"95.410156\" xlink:href=\"#DejaVuSans-48\"/>\n       <use x=\"159.033203\" xlink:href=\"#DejaVuSans-53\"/>\n      </g>\n     </g>\n    </g>\n    <g id=\"xtick_3\">\n     <g id=\"line2d_3\">\n      <g>\n       <use style=\"stroke:#000000;stroke-width:0.8;\" x=\"112.826705\" xlink:href=\"#m9b8ac34366\" y=\"294.118125\"/>\n      </g>\n     </g>\n     <g id=\"text_3\">\n      <!-- 0.10 -->\n      <g transform=\"translate(101.693892 308.716563)scale(0.1 -0.1)\">\n       <defs>\n        <path d=\"M 12.40625 8.296875 \nL 28.515625 8.296875 \nL 28.515625 63.921875 \nL 10.984375 60.40625 \nL 10.984375 69.390625 \nL 28.421875 72.90625 \nL 38.28125 72.90625 \nL 38.28125 8.296875 \nL 54.390625 8.296875 \nL 54.390625 0 \nL 12.40625 0 \nz\n\" id=\"DejaVuSans-49\"/>\n       </defs>\n       <use xlink:href=\"#DejaVuSans-48\"/>\n       <use x=\"63.623047\" xlink:href=\"#DejaVuSans-46\"/>\n       <use x=\"95.410156\" xlink:href=\"#DejaVuSans-49\"/>\n       <use x=\"159.033203\" xlink:href=\"#DejaVuSans-48\"/>\n      </g>\n     </g>\n    </g>\n    <g id=\"xtick_4\">\n     <g id=\"line2d_4\">\n      <g>\n       <use style=\"stroke:#000000;stroke-width:0.8;\" x=\"141.008523\" xlink:href=\"#m9b8ac34366\" y=\"294.118125\"/>\n      </g>\n     </g>\n     <g id=\"text_4\">\n      <!-- 0.15 -->\n      <g transform=\"translate(129.87571 308.716563)scale(0.1 -0.1)\">\n       <use xlink:href=\"#DejaVuSans-48\"/>\n       <use x=\"63.623047\" xlink:href=\"#DejaVuSans-46\"/>\n       <use x=\"95.410156\" xlink:href=\"#DejaVuSans-49\"/>\n       <use x=\"159.033203\" xlink:href=\"#DejaVuSans-53\"/>\n      </g>\n     </g>\n    </g>\n    <g id=\"xtick_5\">\n     <g id=\"line2d_5\">\n      <g>\n       <use style=\"stroke:#000000;stroke-width:0.8;\" x=\"169.190341\" xlink:href=\"#m9b8ac34366\" y=\"294.118125\"/>\n      </g>\n     </g>\n     <g id=\"text_5\">\n      <!-- 0.20 -->\n      <g transform=\"translate(158.057528 308.716563)scale(0.1 -0.1)\">\n       <defs>\n        <path d=\"M 19.1875 8.296875 \nL 53.609375 8.296875 \nL 53.609375 0 \nL 7.328125 0 \nL 7.328125 8.296875 \nQ 12.9375 14.109375 22.625 23.890625 \nQ 32.328125 33.6875 34.8125 36.53125 \nQ 39.546875 41.84375 41.421875 45.53125 \nQ 43.3125 49.21875 43.3125 52.78125 \nQ 43.3125 58.59375 39.234375 62.25 \nQ 35.15625 65.921875 28.609375 65.921875 \nQ 23.96875 65.921875 18.8125 64.3125 \nQ 13.671875 62.703125 7.8125 59.421875 \nL 7.8125 69.390625 \nQ 13.765625 71.78125 18.9375 73 \nQ 24.125 74.21875 28.421875 74.21875 \nQ 39.75 74.21875 46.484375 68.546875 \nQ 53.21875 62.890625 53.21875 53.421875 \nQ 53.21875 48.921875 51.53125 44.890625 \nQ 49.859375 40.875 45.40625 35.40625 \nQ 44.1875 33.984375 37.640625 27.21875 \nQ 31.109375 20.453125 19.1875 8.296875 \nz\n\" id=\"DejaVuSans-50\"/>\n       </defs>\n       <use xlink:href=\"#DejaVuSans-48\"/>\n       <use x=\"63.623047\" xlink:href=\"#DejaVuSans-46\"/>\n       <use x=\"95.410156\" xlink:href=\"#DejaVuSans-50\"/>\n       <use x=\"159.033203\" xlink:href=\"#DejaVuSans-48\"/>\n      </g>\n     </g>\n    </g>\n    <g id=\"xtick_6\">\n     <g id=\"line2d_6\">\n      <g>\n       <use style=\"stroke:#000000;stroke-width:0.8;\" x=\"197.372159\" xlink:href=\"#m9b8ac34366\" y=\"294.118125\"/>\n      </g>\n     </g>\n     <g id=\"text_6\">\n      <!-- 0.25 -->\n      <g transform=\"translate(186.239347 308.716563)scale(0.1 -0.1)\">\n       <use xlink:href=\"#DejaVuSans-48\"/>\n       <use x=\"63.623047\" xlink:href=\"#DejaVuSans-46\"/>\n       <use x=\"95.410156\" xlink:href=\"#DejaVuSans-50\"/>\n       <use x=\"159.033203\" xlink:href=\"#DejaVuSans-53\"/>\n      </g>\n     </g>\n    </g>\n    <g id=\"xtick_7\">\n     <g id=\"line2d_7\">\n      <g>\n       <use style=\"stroke:#000000;stroke-width:0.8;\" x=\"225.553977\" xlink:href=\"#m9b8ac34366\" y=\"294.118125\"/>\n      </g>\n     </g>\n     <g id=\"text_7\">\n      <!-- 0.30 -->\n      <g transform=\"translate(214.421165 308.716563)scale(0.1 -0.1)\">\n       <defs>\n        <path d=\"M 40.578125 39.3125 \nQ 47.65625 37.796875 51.625 33 \nQ 55.609375 28.21875 55.609375 21.1875 \nQ 55.609375 10.40625 48.1875 4.484375 \nQ 40.765625 -1.421875 27.09375 -1.421875 \nQ 22.515625 -1.421875 17.65625 -0.515625 \nQ 12.796875 0.390625 7.625 2.203125 \nL 7.625 11.71875 \nQ 11.71875 9.328125 16.59375 8.109375 \nQ 21.484375 6.890625 26.8125 6.890625 \nQ 36.078125 6.890625 40.9375 10.546875 \nQ 45.796875 14.203125 45.796875 21.1875 \nQ 45.796875 27.640625 41.28125 31.265625 \nQ 36.765625 34.90625 28.71875 34.90625 \nL 20.21875 34.90625 \nL 20.21875 43.015625 \nL 29.109375 43.015625 \nQ 36.375 43.015625 40.234375 45.921875 \nQ 44.09375 48.828125 44.09375 54.296875 \nQ 44.09375 59.90625 40.109375 62.90625 \nQ 36.140625 65.921875 28.71875 65.921875 \nQ 24.65625 65.921875 20.015625 65.03125 \nQ 15.375 64.15625 9.8125 62.3125 \nL 9.8125 71.09375 \nQ 15.4375 72.65625 20.34375 73.4375 \nQ 25.25 74.21875 29.59375 74.21875 \nQ 40.828125 74.21875 47.359375 69.109375 \nQ 53.90625 64.015625 53.90625 55.328125 \nQ 53.90625 49.265625 50.4375 45.09375 \nQ 46.96875 40.921875 40.578125 39.3125 \nz\n\" id=\"DejaVuSans-51\"/>\n       </defs>\n       <use xlink:href=\"#DejaVuSans-48\"/>\n       <use x=\"63.623047\" xlink:href=\"#DejaVuSans-46\"/>\n       <use x=\"95.410156\" xlink:href=\"#DejaVuSans-51\"/>\n       <use x=\"159.033203\" xlink:href=\"#DejaVuSans-48\"/>\n      </g>\n     </g>\n    </g>\n    <g id=\"text_8\">\n     <!-- Epsilon -->\n     <g transform=\"translate(165.336719 322.394687)scale(0.1 -0.1)\">\n      <defs>\n       <path d=\"M 9.8125 72.90625 \nL 55.90625 72.90625 \nL 55.90625 64.59375 \nL 19.671875 64.59375 \nL 19.671875 43.015625 \nL 54.390625 43.015625 \nL 54.390625 34.71875 \nL 19.671875 34.71875 \nL 19.671875 8.296875 \nL 56.78125 8.296875 \nL 56.78125 0 \nL 9.8125 0 \nz\n\" id=\"DejaVuSans-69\"/>\n       <path d=\"M 18.109375 8.203125 \nL 18.109375 -20.796875 \nL 9.078125 -20.796875 \nL 9.078125 54.6875 \nL 18.109375 54.6875 \nL 18.109375 46.390625 \nQ 20.953125 51.265625 25.265625 53.625 \nQ 29.59375 56 35.59375 56 \nQ 45.5625 56 51.78125 48.09375 \nQ 58.015625 40.1875 58.015625 27.296875 \nQ 58.015625 14.40625 51.78125 6.484375 \nQ 45.5625 -1.421875 35.59375 -1.421875 \nQ 29.59375 -1.421875 25.265625 0.953125 \nQ 20.953125 3.328125 18.109375 8.203125 \nz\nM 48.6875 27.296875 \nQ 48.6875 37.203125 44.609375 42.84375 \nQ 40.53125 48.484375 33.40625 48.484375 \nQ 26.265625 48.484375 22.1875 42.84375 \nQ 18.109375 37.203125 18.109375 27.296875 \nQ 18.109375 17.390625 22.1875 11.75 \nQ 26.265625 6.109375 33.40625 6.109375 \nQ 40.53125 6.109375 44.609375 11.75 \nQ 48.6875 17.390625 48.6875 27.296875 \nz\n\" id=\"DejaVuSans-112\"/>\n       <path d=\"M 44.28125 53.078125 \nL 44.28125 44.578125 \nQ 40.484375 46.53125 36.375 47.5 \nQ 32.28125 48.484375 27.875 48.484375 \nQ 21.1875 48.484375 17.84375 46.4375 \nQ 14.5 44.390625 14.5 40.28125 \nQ 14.5 37.15625 16.890625 35.375 \nQ 19.28125 33.59375 26.515625 31.984375 \nL 29.59375 31.296875 \nQ 39.15625 29.25 43.1875 25.515625 \nQ 47.21875 21.78125 47.21875 15.09375 \nQ 47.21875 7.46875 41.1875 3.015625 \nQ 35.15625 -1.421875 24.609375 -1.421875 \nQ 20.21875 -1.421875 15.453125 -0.5625 \nQ 10.6875 0.296875 5.421875 2 \nL 5.421875 11.28125 \nQ 10.40625 8.6875 15.234375 7.390625 \nQ 20.0625 6.109375 24.8125 6.109375 \nQ 31.15625 6.109375 34.5625 8.28125 \nQ 37.984375 10.453125 37.984375 14.40625 \nQ 37.984375 18.0625 35.515625 20.015625 \nQ 33.0625 21.96875 24.703125 23.78125 \nL 21.578125 24.515625 \nQ 13.234375 26.265625 9.515625 29.90625 \nQ 5.8125 33.546875 5.8125 39.890625 \nQ 5.8125 47.609375 11.28125 51.796875 \nQ 16.75 56 26.8125 56 \nQ 31.78125 56 36.171875 55.265625 \nQ 40.578125 54.546875 44.28125 53.078125 \nz\n\" id=\"DejaVuSans-115\"/>\n       <path d=\"M 9.421875 54.6875 \nL 18.40625 54.6875 \nL 18.40625 0 \nL 9.421875 0 \nz\nM 9.421875 75.984375 \nL 18.40625 75.984375 \nL 18.40625 64.59375 \nL 9.421875 64.59375 \nz\n\" id=\"DejaVuSans-105\"/>\n       <path d=\"M 9.421875 75.984375 \nL 18.40625 75.984375 \nL 18.40625 0 \nL 9.421875 0 \nz\n\" id=\"DejaVuSans-108\"/>\n       <path d=\"M 30.609375 48.390625 \nQ 23.390625 48.390625 19.1875 42.75 \nQ 14.984375 37.109375 14.984375 27.296875 \nQ 14.984375 17.484375 19.15625 11.84375 \nQ 23.34375 6.203125 30.609375 6.203125 \nQ 37.796875 6.203125 41.984375 11.859375 \nQ 46.1875 17.53125 46.1875 27.296875 \nQ 46.1875 37.015625 41.984375 42.703125 \nQ 37.796875 48.390625 30.609375 48.390625 \nz\nM 30.609375 56 \nQ 42.328125 56 49.015625 48.375 \nQ 55.71875 40.765625 55.71875 27.296875 \nQ 55.71875 13.875 49.015625 6.21875 \nQ 42.328125 -1.421875 30.609375 -1.421875 \nQ 18.84375 -1.421875 12.171875 6.21875 \nQ 5.515625 13.875 5.515625 27.296875 \nQ 5.515625 40.765625 12.171875 48.375 \nQ 18.84375 56 30.609375 56 \nz\n\" id=\"DejaVuSans-111\"/>\n       <path d=\"M 54.890625 33.015625 \nL 54.890625 0 \nL 45.90625 0 \nL 45.90625 32.71875 \nQ 45.90625 40.484375 42.875 44.328125 \nQ 39.84375 48.1875 33.796875 48.1875 \nQ 26.515625 48.1875 22.3125 43.546875 \nQ 18.109375 38.921875 18.109375 30.90625 \nL 18.109375 0 \nL 9.078125 0 \nL 9.078125 54.6875 \nL 18.109375 54.6875 \nL 18.109375 46.1875 \nQ 21.34375 51.125 25.703125 53.5625 \nQ 30.078125 56 35.796875 56 \nQ 45.21875 56 50.046875 50.171875 \nQ 54.890625 44.34375 54.890625 33.015625 \nz\n\" id=\"DejaVuSans-110\"/>\n      </defs>\n      <use xlink:href=\"#DejaVuSans-69\"/>\n      <use x=\"63.183594\" xlink:href=\"#DejaVuSans-112\"/>\n      <use x=\"126.660156\" xlink:href=\"#DejaVuSans-115\"/>\n      <use x=\"178.759766\" xlink:href=\"#DejaVuSans-105\"/>\n      <use x=\"206.542969\" xlink:href=\"#DejaVuSans-108\"/>\n      <use x=\"234.326172\" xlink:href=\"#DejaVuSans-111\"/>\n      <use x=\"295.507812\" xlink:href=\"#DejaVuSans-110\"/>\n     </g>\n    </g>\n   </g>\n   <g id=\"matplotlib.axis_2\">\n    <g id=\"ytick_1\">\n     <g id=\"line2d_8\">\n      <defs>\n       <path d=\"M 0 0 \nL -3.5 0 \n\" id=\"mb02b7c59cd\" style=\"stroke:#000000;stroke-width:0.8;\"/>\n      </defs>\n      <g>\n       <use style=\"stroke:#000000;stroke-width:0.8;\" x=\"43.78125\" xlink:href=\"#mb02b7c59cd\" y=\"294.118125\"/>\n      </g>\n     </g>\n     <g id=\"text_9\">\n      <!-- 0.0 -->\n      <g transform=\"translate(20.878125 297.917344)scale(0.1 -0.1)\">\n       <use xlink:href=\"#DejaVuSans-48\"/>\n       <use x=\"63.623047\" xlink:href=\"#DejaVuSans-46\"/>\n       <use x=\"95.410156\" xlink:href=\"#DejaVuSans-48\"/>\n      </g>\n     </g>\n    </g>\n    <g id=\"ytick_2\">\n     <g id=\"line2d_9\">\n      <g>\n       <use style=\"stroke:#000000;stroke-width:0.8;\" x=\"43.78125\" xlink:href=\"#mb02b7c59cd\" y=\"266.938125\"/>\n      </g>\n     </g>\n     <g id=\"text_10\">\n      <!-- 0.1 -->\n      <g transform=\"translate(20.878125 270.737344)scale(0.1 -0.1)\">\n       <use xlink:href=\"#DejaVuSans-48\"/>\n       <use x=\"63.623047\" xlink:href=\"#DejaVuSans-46\"/>\n       <use x=\"95.410156\" xlink:href=\"#DejaVuSans-49\"/>\n      </g>\n     </g>\n    </g>\n    <g id=\"ytick_3\">\n     <g id=\"line2d_10\">\n      <g>\n       <use style=\"stroke:#000000;stroke-width:0.8;\" x=\"43.78125\" xlink:href=\"#mb02b7c59cd\" y=\"239.758125\"/>\n      </g>\n     </g>\n     <g id=\"text_11\">\n      <!-- 0.2 -->\n      <g transform=\"translate(20.878125 243.557344)scale(0.1 -0.1)\">\n       <use xlink:href=\"#DejaVuSans-48\"/>\n       <use x=\"63.623047\" xlink:href=\"#DejaVuSans-46\"/>\n       <use x=\"95.410156\" xlink:href=\"#DejaVuSans-50\"/>\n      </g>\n     </g>\n    </g>\n    <g id=\"ytick_4\">\n     <g id=\"line2d_11\">\n      <g>\n       <use style=\"stroke:#000000;stroke-width:0.8;\" x=\"43.78125\" xlink:href=\"#mb02b7c59cd\" y=\"212.578125\"/>\n      </g>\n     </g>\n     <g id=\"text_12\">\n      <!-- 0.3 -->\n      <g transform=\"translate(20.878125 216.377344)scale(0.1 -0.1)\">\n       <use xlink:href=\"#DejaVuSans-48\"/>\n       <use x=\"63.623047\" xlink:href=\"#DejaVuSans-46\"/>\n       <use x=\"95.410156\" xlink:href=\"#DejaVuSans-51\"/>\n      </g>\n     </g>\n    </g>\n    <g id=\"ytick_5\">\n     <g id=\"line2d_12\">\n      <g>\n       <use style=\"stroke:#000000;stroke-width:0.8;\" x=\"43.78125\" xlink:href=\"#mb02b7c59cd\" y=\"185.398125\"/>\n      </g>\n     </g>\n     <g id=\"text_13\">\n      <!-- 0.4 -->\n      <g transform=\"translate(20.878125 189.197344)scale(0.1 -0.1)\">\n       <defs>\n        <path d=\"M 37.796875 64.3125 \nL 12.890625 25.390625 \nL 37.796875 25.390625 \nz\nM 35.203125 72.90625 \nL 47.609375 72.90625 \nL 47.609375 25.390625 \nL 58.015625 25.390625 \nL 58.015625 17.1875 \nL 47.609375 17.1875 \nL 47.609375 0 \nL 37.796875 0 \nL 37.796875 17.1875 \nL 4.890625 17.1875 \nL 4.890625 26.703125 \nz\n\" id=\"DejaVuSans-52\"/>\n       </defs>\n       <use xlink:href=\"#DejaVuSans-48\"/>\n       <use x=\"63.623047\" xlink:href=\"#DejaVuSans-46\"/>\n       <use x=\"95.410156\" xlink:href=\"#DejaVuSans-52\"/>\n      </g>\n     </g>\n    </g>\n    <g id=\"ytick_6\">\n     <g id=\"line2d_13\">\n      <g>\n       <use style=\"stroke:#000000;stroke-width:0.8;\" x=\"43.78125\" xlink:href=\"#mb02b7c59cd\" y=\"158.218125\"/>\n      </g>\n     </g>\n     <g id=\"text_14\">\n      <!-- 0.5 -->\n      <g transform=\"translate(20.878125 162.017344)scale(0.1 -0.1)\">\n       <use xlink:href=\"#DejaVuSans-48\"/>\n       <use x=\"63.623047\" xlink:href=\"#DejaVuSans-46\"/>\n       <use x=\"95.410156\" xlink:href=\"#DejaVuSans-53\"/>\n      </g>\n     </g>\n    </g>\n    <g id=\"ytick_7\">\n     <g id=\"line2d_14\">\n      <g>\n       <use style=\"stroke:#000000;stroke-width:0.8;\" x=\"43.78125\" xlink:href=\"#mb02b7c59cd\" y=\"131.038125\"/>\n      </g>\n     </g>\n     <g id=\"text_15\">\n      <!-- 0.6 -->\n      <g transform=\"translate(20.878125 134.837344)scale(0.1 -0.1)\">\n       <defs>\n        <path d=\"M 33.015625 40.375 \nQ 26.375 40.375 22.484375 35.828125 \nQ 18.609375 31.296875 18.609375 23.390625 \nQ 18.609375 15.53125 22.484375 10.953125 \nQ 26.375 6.390625 33.015625 6.390625 \nQ 39.65625 6.390625 43.53125 10.953125 \nQ 47.40625 15.53125 47.40625 23.390625 \nQ 47.40625 31.296875 43.53125 35.828125 \nQ 39.65625 40.375 33.015625 40.375 \nz\nM 52.59375 71.296875 \nL 52.59375 62.3125 \nQ 48.875 64.0625 45.09375 64.984375 \nQ 41.3125 65.921875 37.59375 65.921875 \nQ 27.828125 65.921875 22.671875 59.328125 \nQ 17.53125 52.734375 16.796875 39.40625 \nQ 19.671875 43.65625 24.015625 45.921875 \nQ 28.375 48.1875 33.59375 48.1875 \nQ 44.578125 48.1875 50.953125 41.515625 \nQ 57.328125 34.859375 57.328125 23.390625 \nQ 57.328125 12.15625 50.6875 5.359375 \nQ 44.046875 -1.421875 33.015625 -1.421875 \nQ 20.359375 -1.421875 13.671875 8.265625 \nQ 6.984375 17.96875 6.984375 36.375 \nQ 6.984375 53.65625 15.1875 63.9375 \nQ 23.390625 74.21875 37.203125 74.21875 \nQ 40.921875 74.21875 44.703125 73.484375 \nQ 48.484375 72.75 52.59375 71.296875 \nz\n\" id=\"DejaVuSans-54\"/>\n       </defs>\n       <use xlink:href=\"#DejaVuSans-48\"/>\n       <use x=\"63.623047\" xlink:href=\"#DejaVuSans-46\"/>\n       <use x=\"95.410156\" xlink:href=\"#DejaVuSans-54\"/>\n      </g>\n     </g>\n    </g>\n    <g id=\"ytick_8\">\n     <g id=\"line2d_15\">\n      <g>\n       <use style=\"stroke:#000000;stroke-width:0.8;\" x=\"43.78125\" xlink:href=\"#mb02b7c59cd\" y=\"103.858125\"/>\n      </g>\n     </g>\n     <g id=\"text_16\">\n      <!-- 0.7 -->\n      <g transform=\"translate(20.878125 107.657344)scale(0.1 -0.1)\">\n       <defs>\n        <path d=\"M 8.203125 72.90625 \nL 55.078125 72.90625 \nL 55.078125 68.703125 \nL 28.609375 0 \nL 18.3125 0 \nL 43.21875 64.59375 \nL 8.203125 64.59375 \nz\n\" id=\"DejaVuSans-55\"/>\n       </defs>\n       <use xlink:href=\"#DejaVuSans-48\"/>\n       <use x=\"63.623047\" xlink:href=\"#DejaVuSans-46\"/>\n       <use x=\"95.410156\" xlink:href=\"#DejaVuSans-55\"/>\n      </g>\n     </g>\n    </g>\n    <g id=\"ytick_9\">\n     <g id=\"line2d_16\">\n      <g>\n       <use style=\"stroke:#000000;stroke-width:0.8;\" x=\"43.78125\" xlink:href=\"#mb02b7c59cd\" y=\"76.678125\"/>\n      </g>\n     </g>\n     <g id=\"text_17\">\n      <!-- 0.8 -->\n      <g transform=\"translate(20.878125 80.477344)scale(0.1 -0.1)\">\n       <defs>\n        <path d=\"M 31.78125 34.625 \nQ 24.75 34.625 20.71875 30.859375 \nQ 16.703125 27.09375 16.703125 20.515625 \nQ 16.703125 13.921875 20.71875 10.15625 \nQ 24.75 6.390625 31.78125 6.390625 \nQ 38.8125 6.390625 42.859375 10.171875 \nQ 46.921875 13.96875 46.921875 20.515625 \nQ 46.921875 27.09375 42.890625 30.859375 \nQ 38.875 34.625 31.78125 34.625 \nz\nM 21.921875 38.8125 \nQ 15.578125 40.375 12.03125 44.71875 \nQ 8.5 49.078125 8.5 55.328125 \nQ 8.5 64.0625 14.71875 69.140625 \nQ 20.953125 74.21875 31.78125 74.21875 \nQ 42.671875 74.21875 48.875 69.140625 \nQ 55.078125 64.0625 55.078125 55.328125 \nQ 55.078125 49.078125 51.53125 44.71875 \nQ 48 40.375 41.703125 38.8125 \nQ 48.828125 37.15625 52.796875 32.3125 \nQ 56.78125 27.484375 56.78125 20.515625 \nQ 56.78125 9.90625 50.3125 4.234375 \nQ 43.84375 -1.421875 31.78125 -1.421875 \nQ 19.734375 -1.421875 13.25 4.234375 \nQ 6.78125 9.90625 6.78125 20.515625 \nQ 6.78125 27.484375 10.78125 32.3125 \nQ 14.796875 37.15625 21.921875 38.8125 \nz\nM 18.3125 54.390625 \nQ 18.3125 48.734375 21.84375 45.5625 \nQ 25.390625 42.390625 31.78125 42.390625 \nQ 38.140625 42.390625 41.71875 45.5625 \nQ 45.3125 48.734375 45.3125 54.390625 \nQ 45.3125 60.0625 41.71875 63.234375 \nQ 38.140625 66.40625 31.78125 66.40625 \nQ 25.390625 66.40625 21.84375 63.234375 \nQ 18.3125 60.0625 18.3125 54.390625 \nz\n\" id=\"DejaVuSans-56\"/>\n       </defs>\n       <use xlink:href=\"#DejaVuSans-48\"/>\n       <use x=\"63.623047\" xlink:href=\"#DejaVuSans-46\"/>\n       <use x=\"95.410156\" xlink:href=\"#DejaVuSans-56\"/>\n      </g>\n     </g>\n    </g>\n    <g id=\"ytick_10\">\n     <g id=\"line2d_17\">\n      <g>\n       <use style=\"stroke:#000000;stroke-width:0.8;\" x=\"43.78125\" xlink:href=\"#mb02b7c59cd\" y=\"49.498125\"/>\n      </g>\n     </g>\n     <g id=\"text_18\">\n      <!-- 0.9 -->\n      <g transform=\"translate(20.878125 53.297344)scale(0.1 -0.1)\">\n       <defs>\n        <path d=\"M 10.984375 1.515625 \nL 10.984375 10.5 \nQ 14.703125 8.734375 18.5 7.8125 \nQ 22.3125 6.890625 25.984375 6.890625 \nQ 35.75 6.890625 40.890625 13.453125 \nQ 46.046875 20.015625 46.78125 33.40625 \nQ 43.953125 29.203125 39.59375 26.953125 \nQ 35.25 24.703125 29.984375 24.703125 \nQ 19.046875 24.703125 12.671875 31.3125 \nQ 6.296875 37.9375 6.296875 49.421875 \nQ 6.296875 60.640625 12.9375 67.421875 \nQ 19.578125 74.21875 30.609375 74.21875 \nQ 43.265625 74.21875 49.921875 64.515625 \nQ 56.59375 54.828125 56.59375 36.375 \nQ 56.59375 19.140625 48.40625 8.859375 \nQ 40.234375 -1.421875 26.421875 -1.421875 \nQ 22.703125 -1.421875 18.890625 -0.6875 \nQ 15.09375 0.046875 10.984375 1.515625 \nz\nM 30.609375 32.421875 \nQ 37.25 32.421875 41.125 36.953125 \nQ 45.015625 41.5 45.015625 49.421875 \nQ 45.015625 57.28125 41.125 61.84375 \nQ 37.25 66.40625 30.609375 66.40625 \nQ 23.96875 66.40625 20.09375 61.84375 \nQ 16.21875 57.28125 16.21875 49.421875 \nQ 16.21875 41.5 20.09375 36.953125 \nQ 23.96875 32.421875 30.609375 32.421875 \nz\n\" id=\"DejaVuSans-57\"/>\n       </defs>\n       <use xlink:href=\"#DejaVuSans-48\"/>\n       <use x=\"63.623047\" xlink:href=\"#DejaVuSans-46\"/>\n       <use x=\"95.410156\" xlink:href=\"#DejaVuSans-57\"/>\n      </g>\n     </g>\n    </g>\n    <g id=\"ytick_11\">\n     <g id=\"line2d_18\">\n      <g>\n       <use style=\"stroke:#000000;stroke-width:0.8;\" x=\"43.78125\" xlink:href=\"#mb02b7c59cd\" y=\"22.318125\"/>\n      </g>\n     </g>\n     <g id=\"text_19\">\n      <!-- 1.0 -->\n      <g transform=\"translate(20.878125 26.117344)scale(0.1 -0.1)\">\n       <use xlink:href=\"#DejaVuSans-49\"/>\n       <use x=\"63.623047\" xlink:href=\"#DejaVuSans-46\"/>\n       <use x=\"95.410156\" xlink:href=\"#DejaVuSans-48\"/>\n      </g>\n     </g>\n    </g>\n    <g id=\"text_20\">\n     <!-- Accuracy -->\n     <g transform=\"translate(14.798438 181.04625)rotate(-90)scale(0.1 -0.1)\">\n      <defs>\n       <path d=\"M 34.1875 63.1875 \nL 20.796875 26.90625 \nL 47.609375 26.90625 \nz\nM 28.609375 72.90625 \nL 39.796875 72.90625 \nL 67.578125 0 \nL 57.328125 0 \nL 50.6875 18.703125 \nL 17.828125 18.703125 \nL 11.1875 0 \nL 0.78125 0 \nz\n\" id=\"DejaVuSans-65\"/>\n       <path d=\"M 48.78125 52.59375 \nL 48.78125 44.1875 \nQ 44.96875 46.296875 41.140625 47.34375 \nQ 37.3125 48.390625 33.40625 48.390625 \nQ 24.65625 48.390625 19.8125 42.84375 \nQ 14.984375 37.3125 14.984375 27.296875 \nQ 14.984375 17.28125 19.8125 11.734375 \nQ 24.65625 6.203125 33.40625 6.203125 \nQ 37.3125 6.203125 41.140625 7.25 \nQ 44.96875 8.296875 48.78125 10.40625 \nL 48.78125 2.09375 \nQ 45.015625 0.34375 40.984375 -0.53125 \nQ 36.96875 -1.421875 32.421875 -1.421875 \nQ 20.0625 -1.421875 12.78125 6.34375 \nQ 5.515625 14.109375 5.515625 27.296875 \nQ 5.515625 40.671875 12.859375 48.328125 \nQ 20.21875 56 33.015625 56 \nQ 37.15625 56 41.109375 55.140625 \nQ 45.0625 54.296875 48.78125 52.59375 \nz\n\" id=\"DejaVuSans-99\"/>\n       <path d=\"M 8.5 21.578125 \nL 8.5 54.6875 \nL 17.484375 54.6875 \nL 17.484375 21.921875 \nQ 17.484375 14.15625 20.5 10.265625 \nQ 23.53125 6.390625 29.59375 6.390625 \nQ 36.859375 6.390625 41.078125 11.03125 \nQ 45.3125 15.671875 45.3125 23.6875 \nL 45.3125 54.6875 \nL 54.296875 54.6875 \nL 54.296875 0 \nL 45.3125 0 \nL 45.3125 8.40625 \nQ 42.046875 3.421875 37.71875 1 \nQ 33.40625 -1.421875 27.6875 -1.421875 \nQ 18.265625 -1.421875 13.375 4.4375 \nQ 8.5 10.296875 8.5 21.578125 \nz\nM 31.109375 56 \nz\n\" id=\"DejaVuSans-117\"/>\n       <path d=\"M 41.109375 46.296875 \nQ 39.59375 47.171875 37.8125 47.578125 \nQ 36.03125 48 33.890625 48 \nQ 26.265625 48 22.1875 43.046875 \nQ 18.109375 38.09375 18.109375 28.8125 \nL 18.109375 0 \nL 9.078125 0 \nL 9.078125 54.6875 \nL 18.109375 54.6875 \nL 18.109375 46.1875 \nQ 20.953125 51.171875 25.484375 53.578125 \nQ 30.03125 56 36.53125 56 \nQ 37.453125 56 38.578125 55.875 \nQ 39.703125 55.765625 41.0625 55.515625 \nz\n\" id=\"DejaVuSans-114\"/>\n       <path d=\"M 34.28125 27.484375 \nQ 23.390625 27.484375 19.1875 25 \nQ 14.984375 22.515625 14.984375 16.5 \nQ 14.984375 11.71875 18.140625 8.90625 \nQ 21.296875 6.109375 26.703125 6.109375 \nQ 34.1875 6.109375 38.703125 11.40625 \nQ 43.21875 16.703125 43.21875 25.484375 \nL 43.21875 27.484375 \nz\nM 52.203125 31.203125 \nL 52.203125 0 \nL 43.21875 0 \nL 43.21875 8.296875 \nQ 40.140625 3.328125 35.546875 0.953125 \nQ 30.953125 -1.421875 24.3125 -1.421875 \nQ 15.921875 -1.421875 10.953125 3.296875 \nQ 6 8.015625 6 15.921875 \nQ 6 25.140625 12.171875 29.828125 \nQ 18.359375 34.515625 30.609375 34.515625 \nL 43.21875 34.515625 \nL 43.21875 35.40625 \nQ 43.21875 41.609375 39.140625 45 \nQ 35.0625 48.390625 27.6875 48.390625 \nQ 23 48.390625 18.546875 47.265625 \nQ 14.109375 46.140625 10.015625 43.890625 \nL 10.015625 52.203125 \nQ 14.9375 54.109375 19.578125 55.046875 \nQ 24.21875 56 28.609375 56 \nQ 40.484375 56 46.34375 49.84375 \nQ 52.203125 43.703125 52.203125 31.203125 \nz\n\" id=\"DejaVuSans-97\"/>\n       <path d=\"M 32.171875 -5.078125 \nQ 28.375 -14.84375 24.75 -17.8125 \nQ 21.140625 -20.796875 15.09375 -20.796875 \nL 7.90625 -20.796875 \nL 7.90625 -13.28125 \nL 13.1875 -13.28125 \nQ 16.890625 -13.28125 18.9375 -11.515625 \nQ 21 -9.765625 23.484375 -3.21875 \nL 25.09375 0.875 \nL 2.984375 54.6875 \nL 12.5 54.6875 \nL 29.59375 11.921875 \nL 46.6875 54.6875 \nL 56.203125 54.6875 \nz\n\" id=\"DejaVuSans-121\"/>\n      </defs>\n      <use xlink:href=\"#DejaVuSans-65\"/>\n      <use x=\"66.658203\" xlink:href=\"#DejaVuSans-99\"/>\n      <use x=\"121.638672\" xlink:href=\"#DejaVuSans-99\"/>\n      <use x=\"176.619141\" xlink:href=\"#DejaVuSans-117\"/>\n      <use x=\"239.998047\" xlink:href=\"#DejaVuSans-114\"/>\n      <use x=\"281.111328\" xlink:href=\"#DejaVuSans-97\"/>\n      <use x=\"342.390625\" xlink:href=\"#DejaVuSans-99\"/>\n      <use x=\"397.371094\" xlink:href=\"#DejaVuSans-121\"/>\n     </g>\n    </g>\n   </g>\n   <g id=\"line2d_19\">\n    <path clip-path=\"url(#pee727c6767)\" d=\"M 56.463068 44.333925 \nL 84.644886 47.649885 \nL 112.826705 51.944325 \nL 141.008523 57.026985 \nL 169.190341 64.718925 \nL 197.372159 73.878585 \nL 225.553977 85.239825 \nL 253.735795 101.466285 \nL 281.917614 122.557965 \nL 310.099432 147.617925 \n\" style=\"fill:none;stroke:#1f77b4;stroke-linecap:square;stroke-width:1.5;\"/>\n    <defs>\n     <path d=\"M 0 -3 \nL -0.673542 -0.927051 \nL -2.85317 -0.927051 \nL -1.089814 0.354102 \nL -1.763356 2.427051 \nL -0 1.145898 \nL 1.763356 2.427051 \nL 1.089814 0.354102 \nL 2.85317 -0.927051 \nL 0.673542 -0.927051 \nz\n\" id=\"m352060f04c\" style=\"stroke:#1f77b4;stroke-linejoin:bevel;\"/>\n    </defs>\n    <g clip-path=\"url(#pee727c6767)\">\n     <use style=\"fill:#1f77b4;stroke:#1f77b4;stroke-linejoin:bevel;\" x=\"56.463068\" xlink:href=\"#m352060f04c\" y=\"44.333925\"/>\n     <use style=\"fill:#1f77b4;stroke:#1f77b4;stroke-linejoin:bevel;\" x=\"84.644886\" xlink:href=\"#m352060f04c\" y=\"47.649885\"/>\n     <use style=\"fill:#1f77b4;stroke:#1f77b4;stroke-linejoin:bevel;\" x=\"112.826705\" xlink:href=\"#m352060f04c\" y=\"51.944325\"/>\n     <use style=\"fill:#1f77b4;stroke:#1f77b4;stroke-linejoin:bevel;\" x=\"141.008523\" xlink:href=\"#m352060f04c\" y=\"57.026985\"/>\n     <use style=\"fill:#1f77b4;stroke:#1f77b4;stroke-linejoin:bevel;\" x=\"169.190341\" xlink:href=\"#m352060f04c\" y=\"64.718925\"/>\n     <use style=\"fill:#1f77b4;stroke:#1f77b4;stroke-linejoin:bevel;\" x=\"197.372159\" xlink:href=\"#m352060f04c\" y=\"73.878585\"/>\n     <use style=\"fill:#1f77b4;stroke:#1f77b4;stroke-linejoin:bevel;\" x=\"225.553977\" xlink:href=\"#m352060f04c\" y=\"85.239825\"/>\n     <use style=\"fill:#1f77b4;stroke:#1f77b4;stroke-linejoin:bevel;\" x=\"253.735795\" xlink:href=\"#m352060f04c\" y=\"101.466285\"/>\n     <use style=\"fill:#1f77b4;stroke:#1f77b4;stroke-linejoin:bevel;\" x=\"281.917614\" xlink:href=\"#m352060f04c\" y=\"122.557965\"/>\n     <use style=\"fill:#1f77b4;stroke:#1f77b4;stroke-linejoin:bevel;\" x=\"310.099432\" xlink:href=\"#m352060f04c\" y=\"147.617925\"/>\n    </g>\n   </g>\n   <g id=\"patch_3\">\n    <path d=\"M 43.78125 294.118125 \nL 43.78125 22.318125 \n\" style=\"fill:none;stroke:#000000;stroke-linecap:square;stroke-linejoin:miter;stroke-width:0.8;\"/>\n   </g>\n   <g id=\"patch_4\">\n    <path d=\"M 322.78125 294.118125 \nL 322.78125 22.318125 \n\" style=\"fill:none;stroke:#000000;stroke-linecap:square;stroke-linejoin:miter;stroke-width:0.8;\"/>\n   </g>\n   <g id=\"patch_5\">\n    <path d=\"M 43.78125 294.118125 \nL 322.78125 294.118125 \n\" style=\"fill:none;stroke:#000000;stroke-linecap:square;stroke-linejoin:miter;stroke-width:0.8;\"/>\n   </g>\n   <g id=\"patch_6\">\n    <path d=\"M 43.78125 22.318125 \nL 322.78125 22.318125 \n\" style=\"fill:none;stroke:#000000;stroke-linecap:square;stroke-linejoin:miter;stroke-width:0.8;\"/>\n   </g>\n   <g id=\"text_21\">\n    <!-- Accuracy vs Epsilon -->\n    <g transform=\"translate(123.863438 16.318125)scale(0.12 -0.12)\">\n     <defs>\n      <path id=\"DejaVuSans-32\"/>\n      <path d=\"M 2.984375 54.6875 \nL 12.5 54.6875 \nL 29.59375 8.796875 \nL 46.6875 54.6875 \nL 56.203125 54.6875 \nL 35.6875 0 \nL 23.484375 0 \nz\n\" id=\"DejaVuSans-118\"/>\n     </defs>\n     <use xlink:href=\"#DejaVuSans-65\"/>\n     <use x=\"66.658203\" xlink:href=\"#DejaVuSans-99\"/>\n     <use x=\"121.638672\" xlink:href=\"#DejaVuSans-99\"/>\n     <use x=\"176.619141\" xlink:href=\"#DejaVuSans-117\"/>\n     <use x=\"239.998047\" xlink:href=\"#DejaVuSans-114\"/>\n     <use x=\"281.111328\" xlink:href=\"#DejaVuSans-97\"/>\n     <use x=\"342.390625\" xlink:href=\"#DejaVuSans-99\"/>\n     <use x=\"397.371094\" xlink:href=\"#DejaVuSans-121\"/>\n     <use x=\"456.550781\" xlink:href=\"#DejaVuSans-32\"/>\n     <use x=\"488.337891\" xlink:href=\"#DejaVuSans-118\"/>\n     <use x=\"547.517578\" xlink:href=\"#DejaVuSans-115\"/>\n     <use x=\"599.617188\" xlink:href=\"#DejaVuSans-32\"/>\n     <use x=\"631.404297\" xlink:href=\"#DejaVuSans-69\"/>\n     <use x=\"694.587891\" xlink:href=\"#DejaVuSans-112\"/>\n     <use x=\"758.064453\" xlink:href=\"#DejaVuSans-115\"/>\n     <use x=\"810.164062\" xlink:href=\"#DejaVuSans-105\"/>\n     <use x=\"837.947266\" xlink:href=\"#DejaVuSans-108\"/>\n     <use x=\"865.730469\" xlink:href=\"#DejaVuSans-111\"/>\n     <use x=\"926.912109\" xlink:href=\"#DejaVuSans-110\"/>\n    </g>\n   </g>\n  </g>\n </g>\n <defs>\n  <clipPath id=\"pee727c6767\">\n   <rect height=\"271.8\" width=\"279\" x=\"43.78125\" y=\"22.318125\"/>\n  </clipPath>\n </defs>\n</svg>\n",
      "image/png": "[encoded data removed]"
     },
     "metadata": {
      "needs_background": "light"
     }
    }
   ],
   "source": [
    "plt.figure(figsize=(5,5))\n",
    "plt.plot(epsilons_lenet, accuracies_lenet, \"*-\")\n",
    "plt.yticks(np.arange(0, 1.1, step=0.1))\n",
    "plt.xticks(np.arange(0, .35, step=0.05))\n",
    "plt.title(\"Accuracy vs Epsilon\")\n",
    "plt.xlabel(\"Epsilon\")\n",
    "plt.ylabel(\"Accuracy\")\n",
    "plt.show()"
   ]
  },
  {
   "cell_type": "code",
   "execution_count": null,
   "metadata": {},
   "outputs": [],
   "source": [
    "# Protect Model against FGSM"
   ]
  },
  {
   "cell_type": "code",
   "execution_count": 30,
   "metadata": {},
   "outputs": [],
   "source": [
    "robust_net = Net().to(device)\n",
    "protect_epochs = 10\n",
    "protect_lr = 0.01\n",
    "protect_bz = 16\n",
    "protect_dec_lr = False"
   ]
  },
  {
   "cell_type": "code",
   "execution_count": 38,
   "metadata": {},
   "outputs": [],
   "source": [
    "prot_train_loader, prot_test_loader = build_data_loaders(train_dataset, test_dataset, protect_bz)\n",
    "mini_opt = MiniBatchOptimizer(robust_net.parameters(), lr=protect_lr, decreasing_lr=protect_dec_lr)"
   ]
  },
  {
   "cell_type": "code",
   "execution_count": 35,
   "metadata": {},
   "outputs": [
    {
     "output_type": "error",
     "ename": "RuntimeError",
     "evalue": "Expected 4-dimensional input for 4-dimensional weight [20, 1, 5, 5], but got 6-dimensional input of size [16, 1, 1, 1, 28, 28] instead",
     "traceback": [
      "\u001b[0;31m---------------------------------------------------------------------------\u001b[0m",
      "\u001b[0;31mRuntimeError\u001b[0m                              Traceback (most recent call last)",
      "\u001b[0;32m<ipython-input-35-ad08e874e9e3>\u001b[0m in \u001b[0;36m<module>\u001b[0;34m\u001b[0m\n\u001b[1;32m      1\u001b[0m \u001b[0;31m#(model: Module, optim: Optimizer,criterion: Module, train_loader: Iterable, test_loader: Iterable, device, epochs: int = 10):\u001b[0m\u001b[0;34m\u001b[0m\u001b[0;34m\u001b[0m\u001b[0;34m\u001b[0m\u001b[0m\n\u001b[0;32m----> 2\u001b[0;31m \u001b[0mrobust_net\u001b[0m \u001b[0;34m=\u001b[0m \u001b[0mprotect\u001b[0m\u001b[0;34m(\u001b[0m\u001b[0mrobust_net\u001b[0m\u001b[0;34m,\u001b[0m \u001b[0mmini_opt\u001b[0m\u001b[0;34m,\u001b[0m \u001b[0mcriterion\u001b[0m\u001b[0;34m,\u001b[0m \u001b[0mprot_train_loader\u001b[0m\u001b[0;34m,\u001b[0m \u001b[0mprot_test_loader\u001b[0m\u001b[0;34m,\u001b[0m \u001b[0mdevice\u001b[0m\u001b[0;34m=\u001b[0m\u001b[0mdevice\u001b[0m\u001b[0;34m,\u001b[0m \u001b[0mepochs\u001b[0m\u001b[0;34m=\u001b[0m\u001b[0mprotect_epochs\u001b[0m\u001b[0;34m)\u001b[0m\u001b[0;34m\u001b[0m\u001b[0;34m\u001b[0m\u001b[0m\n\u001b[0m",
      "\u001b[0;32m/media/storage/Semester 2/Opt. ML/Project/REPO/optml_project/adversary.py\u001b[0m in \u001b[0;36mprotect\u001b[0;34m(model, optim, criterion, train_loader, test_loader, device, epochs)\u001b[0m\n\u001b[1;32m    101\u001b[0m             \u001b[0;31m# Forward pass for adversarial perturbations\u001b[0m\u001b[0;34m\u001b[0m\u001b[0;34m\u001b[0m\u001b[0;34m\u001b[0m\u001b[0m\n\u001b[1;32m    102\u001b[0m             \u001b[0mbatch_x\u001b[0m\u001b[0;34m.\u001b[0m\u001b[0mrequires_grad\u001b[0m \u001b[0;34m=\u001b[0m \u001b[0;32mTrue\u001b[0m\u001b[0;34m\u001b[0m\u001b[0;34m\u001b[0m\u001b[0m\n\u001b[0;32m--> 103\u001b[0;31m             \u001b[0moutput\u001b[0m \u001b[0;34m=\u001b[0m \u001b[0mmodel\u001b[0m\u001b[0;34m(\u001b[0m\u001b[0mbatch_x\u001b[0m\u001b[0;34m)\u001b[0m\u001b[0;34m\u001b[0m\u001b[0;34m\u001b[0m\u001b[0m\n\u001b[0m\u001b[1;32m    104\u001b[0m             \u001b[0moriginal_predictions\u001b[0m \u001b[0;34m=\u001b[0m \u001b[0moutput\u001b[0m\u001b[0;34m.\u001b[0m\u001b[0margmax\u001b[0m\u001b[0;34m(\u001b[0m\u001b[0;36m1\u001b[0m\u001b[0;34m)\u001b[0m \u001b[0;31m# get the index of the max logit\u001b[0m\u001b[0;34m\u001b[0m\u001b[0;34m\u001b[0m\u001b[0m\n\u001b[1;32m    105\u001b[0m             \u001b[0moriginal_accuracy\u001b[0m \u001b[0;34m=\u001b[0m \u001b[0maccuracy\u001b[0m\u001b[0;34m(\u001b[0m\u001b[0moutput\u001b[0m\u001b[0;34m,\u001b[0m \u001b[0mbatch_y\u001b[0m\u001b[0;34m)\u001b[0m\u001b[0;34m\u001b[0m\u001b[0;34m\u001b[0m\u001b[0m\n",
      "\u001b[0;32m~/.local/lib/python3.8/site-packages/torch/nn/modules/module.py\u001b[0m in \u001b[0;36m_call_impl\u001b[0;34m(self, *input, **kwargs)\u001b[0m\n\u001b[1;32m    887\u001b[0m             \u001b[0mresult\u001b[0m \u001b[0;34m=\u001b[0m \u001b[0mself\u001b[0m\u001b[0;34m.\u001b[0m\u001b[0m_slow_forward\u001b[0m\u001b[0;34m(\u001b[0m\u001b[0;34m*\u001b[0m\u001b[0minput\u001b[0m\u001b[0;34m,\u001b[0m \u001b[0;34m**\u001b[0m\u001b[0mkwargs\u001b[0m\u001b[0;34m)\u001b[0m\u001b[0;34m\u001b[0m\u001b[0;34m\u001b[0m\u001b[0m\n\u001b[1;32m    888\u001b[0m         \u001b[0;32melse\u001b[0m\u001b[0;34m:\u001b[0m\u001b[0;34m\u001b[0m\u001b[0;34m\u001b[0m\u001b[0m\n\u001b[0;32m--> 889\u001b[0;31m             \u001b[0mresult\u001b[0m \u001b[0;34m=\u001b[0m \u001b[0mself\u001b[0m\u001b[0;34m.\u001b[0m\u001b[0mforward\u001b[0m\u001b[0;34m(\u001b[0m\u001b[0;34m*\u001b[0m\u001b[0minput\u001b[0m\u001b[0;34m,\u001b[0m \u001b[0;34m**\u001b[0m\u001b[0mkwargs\u001b[0m\u001b[0;34m)\u001b[0m\u001b[0;34m\u001b[0m\u001b[0;34m\u001b[0m\u001b[0m\n\u001b[0m\u001b[1;32m    890\u001b[0m         for hook in itertools.chain(\n\u001b[1;32m    891\u001b[0m                 \u001b[0m_global_forward_hooks\u001b[0m\u001b[0;34m.\u001b[0m\u001b[0mvalues\u001b[0m\u001b[0;34m(\u001b[0m\u001b[0;34m)\u001b[0m\u001b[0;34m,\u001b[0m\u001b[0;34m\u001b[0m\u001b[0;34m\u001b[0m\u001b[0m\n",
      "\u001b[0;32m/media/storage/Semester 2/Opt. ML/Project/REPO/optml_project/net.py\u001b[0m in \u001b[0;36mforward\u001b[0;34m(self, x)\u001b[0m\n\u001b[1;32m     16\u001b[0m \u001b[0;34m\u001b[0m\u001b[0m\n\u001b[1;32m     17\u001b[0m     \u001b[0;32mdef\u001b[0m \u001b[0mforward\u001b[0m\u001b[0;34m(\u001b[0m\u001b[0mself\u001b[0m\u001b[0;34m,\u001b[0m \u001b[0mx\u001b[0m\u001b[0;34m)\u001b[0m\u001b[0;34m:\u001b[0m\u001b[0;34m\u001b[0m\u001b[0;34m\u001b[0m\u001b[0m\n\u001b[0;32m---> 18\u001b[0;31m         \u001b[0mx\u001b[0m \u001b[0;34m=\u001b[0m \u001b[0mF\u001b[0m\u001b[0;34m.\u001b[0m\u001b[0mrelu\u001b[0m\u001b[0;34m(\u001b[0m\u001b[0mself\u001b[0m\u001b[0;34m.\u001b[0m\u001b[0mconv1\u001b[0m\u001b[0;34m(\u001b[0m\u001b[0mx\u001b[0m\u001b[0;34m)\u001b[0m\u001b[0;34m)\u001b[0m\u001b[0;34m\u001b[0m\u001b[0;34m\u001b[0m\u001b[0m\n\u001b[0m\u001b[1;32m     19\u001b[0m         \u001b[0mx\u001b[0m \u001b[0;34m=\u001b[0m \u001b[0mF\u001b[0m\u001b[0;34m.\u001b[0m\u001b[0mmax_pool2d\u001b[0m\u001b[0;34m(\u001b[0m\u001b[0mx\u001b[0m\u001b[0;34m,\u001b[0m \u001b[0;36m2\u001b[0m\u001b[0;34m,\u001b[0m \u001b[0;36m2\u001b[0m\u001b[0;34m)\u001b[0m\u001b[0;34m\u001b[0m\u001b[0;34m\u001b[0m\u001b[0m\n\u001b[1;32m     20\u001b[0m         \u001b[0mx\u001b[0m \u001b[0;34m=\u001b[0m \u001b[0mF\u001b[0m\u001b[0;34m.\u001b[0m\u001b[0mrelu\u001b[0m\u001b[0;34m(\u001b[0m\u001b[0mself\u001b[0m\u001b[0;34m.\u001b[0m\u001b[0mconv2\u001b[0m\u001b[0;34m(\u001b[0m\u001b[0mx\u001b[0m\u001b[0;34m)\u001b[0m\u001b[0;34m)\u001b[0m\u001b[0;34m\u001b[0m\u001b[0;34m\u001b[0m\u001b[0m\n",
      "\u001b[0;32m~/.local/lib/python3.8/site-packages/torch/nn/modules/module.py\u001b[0m in \u001b[0;36m_call_impl\u001b[0;34m(self, *input, **kwargs)\u001b[0m\n\u001b[1;32m    887\u001b[0m             \u001b[0mresult\u001b[0m \u001b[0;34m=\u001b[0m \u001b[0mself\u001b[0m\u001b[0;34m.\u001b[0m\u001b[0m_slow_forward\u001b[0m\u001b[0;34m(\u001b[0m\u001b[0;34m*\u001b[0m\u001b[0minput\u001b[0m\u001b[0;34m,\u001b[0m \u001b[0;34m**\u001b[0m\u001b[0mkwargs\u001b[0m\u001b[0;34m)\u001b[0m\u001b[0;34m\u001b[0m\u001b[0;34m\u001b[0m\u001b[0m\n\u001b[1;32m    888\u001b[0m         \u001b[0;32melse\u001b[0m\u001b[0;34m:\u001b[0m\u001b[0;34m\u001b[0m\u001b[0;34m\u001b[0m\u001b[0m\n\u001b[0;32m--> 889\u001b[0;31m             \u001b[0mresult\u001b[0m \u001b[0;34m=\u001b[0m \u001b[0mself\u001b[0m\u001b[0;34m.\u001b[0m\u001b[0mforward\u001b[0m\u001b[0;34m(\u001b[0m\u001b[0;34m*\u001b[0m\u001b[0minput\u001b[0m\u001b[0;34m,\u001b[0m \u001b[0;34m**\u001b[0m\u001b[0mkwargs\u001b[0m\u001b[0;34m)\u001b[0m\u001b[0;34m\u001b[0m\u001b[0;34m\u001b[0m\u001b[0m\n\u001b[0m\u001b[1;32m    890\u001b[0m         for hook in itertools.chain(\n\u001b[1;32m    891\u001b[0m                 \u001b[0m_global_forward_hooks\u001b[0m\u001b[0;34m.\u001b[0m\u001b[0mvalues\u001b[0m\u001b[0;34m(\u001b[0m\u001b[0;34m)\u001b[0m\u001b[0;34m,\u001b[0m\u001b[0;34m\u001b[0m\u001b[0;34m\u001b[0m\u001b[0m\n",
      "\u001b[0;32m~/.local/lib/python3.8/site-packages/torch/nn/modules/conv.py\u001b[0m in \u001b[0;36mforward\u001b[0;34m(self, input)\u001b[0m\n\u001b[1;32m    397\u001b[0m \u001b[0;34m\u001b[0m\u001b[0m\n\u001b[1;32m    398\u001b[0m     \u001b[0;32mdef\u001b[0m \u001b[0mforward\u001b[0m\u001b[0;34m(\u001b[0m\u001b[0mself\u001b[0m\u001b[0;34m,\u001b[0m \u001b[0minput\u001b[0m\u001b[0;34m:\u001b[0m \u001b[0mTensor\u001b[0m\u001b[0;34m)\u001b[0m \u001b[0;34m->\u001b[0m \u001b[0mTensor\u001b[0m\u001b[0;34m:\u001b[0m\u001b[0;34m\u001b[0m\u001b[0;34m\u001b[0m\u001b[0m\n\u001b[0;32m--> 399\u001b[0;31m         \u001b[0;32mreturn\u001b[0m \u001b[0mself\u001b[0m\u001b[0;34m.\u001b[0m\u001b[0m_conv_forward\u001b[0m\u001b[0;34m(\u001b[0m\u001b[0minput\u001b[0m\u001b[0;34m,\u001b[0m \u001b[0mself\u001b[0m\u001b[0;34m.\u001b[0m\u001b[0mweight\u001b[0m\u001b[0;34m,\u001b[0m \u001b[0mself\u001b[0m\u001b[0;34m.\u001b[0m\u001b[0mbias\u001b[0m\u001b[0;34m)\u001b[0m\u001b[0;34m\u001b[0m\u001b[0;34m\u001b[0m\u001b[0m\n\u001b[0m\u001b[1;32m    400\u001b[0m \u001b[0;34m\u001b[0m\u001b[0m\n\u001b[1;32m    401\u001b[0m \u001b[0;32mclass\u001b[0m \u001b[0mConv3d\u001b[0m\u001b[0;34m(\u001b[0m\u001b[0m_ConvNd\u001b[0m\u001b[0;34m)\u001b[0m\u001b[0;34m:\u001b[0m\u001b[0;34m\u001b[0m\u001b[0;34m\u001b[0m\u001b[0m\n",
      "\u001b[0;32m~/.local/lib/python3.8/site-packages/torch/nn/modules/conv.py\u001b[0m in \u001b[0;36m_conv_forward\u001b[0;34m(self, input, weight, bias)\u001b[0m\n\u001b[1;32m    393\u001b[0m                             \u001b[0mweight\u001b[0m\u001b[0;34m,\u001b[0m \u001b[0mbias\u001b[0m\u001b[0;34m,\u001b[0m \u001b[0mself\u001b[0m\u001b[0;34m.\u001b[0m\u001b[0mstride\u001b[0m\u001b[0;34m,\u001b[0m\u001b[0;34m\u001b[0m\u001b[0;34m\u001b[0m\u001b[0m\n\u001b[1;32m    394\u001b[0m                             _pair(0), self.dilation, self.groups)\n\u001b[0;32m--> 395\u001b[0;31m         return F.conv2d(input, weight, bias, self.stride,\n\u001b[0m\u001b[1;32m    396\u001b[0m                         self.padding, self.dilation, self.groups)\n\u001b[1;32m    397\u001b[0m \u001b[0;34m\u001b[0m\u001b[0m\n",
      "\u001b[0;31mRuntimeError\u001b[0m: Expected 4-dimensional input for 4-dimensional weight [20, 1, 5, 5], but got 6-dimensional input of size [16, 1, 1, 1, 28, 28] instead"
     ]
    }
   ],
   "source": [
    "#(model: Module, optim: Optimizer,criterion: Module, train_loader: Iterable, test_loader: Iterable, device, epochs: int = 10):\n",
    "robust_net = protect(robust_net, mini_opt, criterion, prot_train_loader, prot_test_loader, device=device, epochs=protect_epochs)"
   ]
  },
  {
   "cell_type": "code",
   "execution_count": 39,
   "metadata": {},
   "outputs": [
    {
     "output_type": "execute_result",
     "data": {
      "text/plain": [
       "Net(\n",
       "  (conv1): Conv2d(1, 20, kernel_size=(5, 5), stride=(1, 1))\n",
       "  (conv2): Conv2d(20, 50, kernel_size=(5, 5), stride=(1, 1))\n",
       "  (fc1): Linear(in_features=800, out_features=500, bias=True)\n",
       "  (fc2): Linear(in_features=500, out_features=10, bias=True)\n",
       ")"
      ]
     },
     "metadata": {},
     "execution_count": 39
    }
   ],
   "source": [
    "robust_net"
   ]
  },
  {
   "cell_type": "code",
   "execution_count": 40,
   "metadata": {},
   "outputs": [
    {
     "output_type": "error",
     "ename": "RuntimeError",
     "evalue": "Expected 4-dimensional input for 4-dimensional weight [20, 1, 5, 5], but got 8-dimensional input of size [16, 1, 1, 1, 1, 1, 28, 28] instead",
     "traceback": [
      "\u001b[0;31m---------------------------------------------------------------------------\u001b[0m",
      "\u001b[0;31mRuntimeError\u001b[0m                              Traceback (most recent call last)",
      "\u001b[0;32m<ipython-input-40-0c67dab581e6>\u001b[0m in \u001b[0;36m<module>\u001b[0;34m\u001b[0m\n\u001b[1;32m      7\u001b[0m             \u001b[0;31m# Forward pass for adversarial perturbations\u001b[0m\u001b[0;34m\u001b[0m\u001b[0;34m\u001b[0m\u001b[0;34m\u001b[0m\u001b[0m\n\u001b[1;32m      8\u001b[0m             \u001b[0mbatch_x\u001b[0m\u001b[0;34m.\u001b[0m\u001b[0mrequires_grad\u001b[0m \u001b[0;34m=\u001b[0m \u001b[0;32mTrue\u001b[0m\u001b[0;34m\u001b[0m\u001b[0;34m\u001b[0m\u001b[0m\n\u001b[0;32m----> 9\u001b[0;31m             \u001b[0moutput\u001b[0m \u001b[0;34m=\u001b[0m \u001b[0mrobust_net\u001b[0m\u001b[0;34m(\u001b[0m\u001b[0mbatch_x\u001b[0m\u001b[0;34m)\u001b[0m\u001b[0;34m\u001b[0m\u001b[0;34m\u001b[0m\u001b[0m\n\u001b[0m\u001b[1;32m     10\u001b[0m \u001b[0;34m\u001b[0m\u001b[0m\n\u001b[1;32m     11\u001b[0m             \u001b[0moriginal_predictions\u001b[0m \u001b[0;34m=\u001b[0m \u001b[0moutput\u001b[0m\u001b[0;34m.\u001b[0m\u001b[0margmax\u001b[0m\u001b[0;34m(\u001b[0m\u001b[0;36m1\u001b[0m\u001b[0;34m)\u001b[0m \u001b[0;31m# get the index of the max logit\u001b[0m\u001b[0;34m\u001b[0m\u001b[0;34m\u001b[0m\u001b[0m\n",
      "\u001b[0;32m~/.local/lib/python3.8/site-packages/torch/nn/modules/module.py\u001b[0m in \u001b[0;36m_call_impl\u001b[0;34m(self, *input, **kwargs)\u001b[0m\n\u001b[1;32m    887\u001b[0m             \u001b[0mresult\u001b[0m \u001b[0;34m=\u001b[0m \u001b[0mself\u001b[0m\u001b[0;34m.\u001b[0m\u001b[0m_slow_forward\u001b[0m\u001b[0;34m(\u001b[0m\u001b[0;34m*\u001b[0m\u001b[0minput\u001b[0m\u001b[0;34m,\u001b[0m \u001b[0;34m**\u001b[0m\u001b[0mkwargs\u001b[0m\u001b[0;34m)\u001b[0m\u001b[0;34m\u001b[0m\u001b[0;34m\u001b[0m\u001b[0m\n\u001b[1;32m    888\u001b[0m         \u001b[0;32melse\u001b[0m\u001b[0;34m:\u001b[0m\u001b[0;34m\u001b[0m\u001b[0;34m\u001b[0m\u001b[0m\n\u001b[0;32m--> 889\u001b[0;31m             \u001b[0mresult\u001b[0m \u001b[0;34m=\u001b[0m \u001b[0mself\u001b[0m\u001b[0;34m.\u001b[0m\u001b[0mforward\u001b[0m\u001b[0;34m(\u001b[0m\u001b[0;34m*\u001b[0m\u001b[0minput\u001b[0m\u001b[0;34m,\u001b[0m \u001b[0;34m**\u001b[0m\u001b[0mkwargs\u001b[0m\u001b[0;34m)\u001b[0m\u001b[0;34m\u001b[0m\u001b[0;34m\u001b[0m\u001b[0m\n\u001b[0m\u001b[1;32m    890\u001b[0m         for hook in itertools.chain(\n\u001b[1;32m    891\u001b[0m                 \u001b[0m_global_forward_hooks\u001b[0m\u001b[0;34m.\u001b[0m\u001b[0mvalues\u001b[0m\u001b[0;34m(\u001b[0m\u001b[0;34m)\u001b[0m\u001b[0;34m,\u001b[0m\u001b[0;34m\u001b[0m\u001b[0;34m\u001b[0m\u001b[0m\n",
      "\u001b[0;32m/media/storage/Semester 2/Opt. ML/Project/REPO/optml_project/net.py\u001b[0m in \u001b[0;36mforward\u001b[0;34m(self, x)\u001b[0m\n\u001b[1;32m     16\u001b[0m \u001b[0;34m\u001b[0m\u001b[0m\n\u001b[1;32m     17\u001b[0m     \u001b[0;32mdef\u001b[0m \u001b[0mforward\u001b[0m\u001b[0;34m(\u001b[0m\u001b[0mself\u001b[0m\u001b[0;34m,\u001b[0m \u001b[0mx\u001b[0m\u001b[0;34m)\u001b[0m\u001b[0;34m:\u001b[0m\u001b[0;34m\u001b[0m\u001b[0;34m\u001b[0m\u001b[0m\n\u001b[0;32m---> 18\u001b[0;31m         \u001b[0mx\u001b[0m \u001b[0;34m=\u001b[0m \u001b[0mF\u001b[0m\u001b[0;34m.\u001b[0m\u001b[0mrelu\u001b[0m\u001b[0;34m(\u001b[0m\u001b[0mself\u001b[0m\u001b[0;34m.\u001b[0m\u001b[0mconv1\u001b[0m\u001b[0;34m(\u001b[0m\u001b[0mx\u001b[0m\u001b[0;34m)\u001b[0m\u001b[0;34m)\u001b[0m\u001b[0;34m\u001b[0m\u001b[0;34m\u001b[0m\u001b[0m\n\u001b[0m\u001b[1;32m     19\u001b[0m         \u001b[0mx\u001b[0m \u001b[0;34m=\u001b[0m \u001b[0mF\u001b[0m\u001b[0;34m.\u001b[0m\u001b[0mmax_pool2d\u001b[0m\u001b[0;34m(\u001b[0m\u001b[0mx\u001b[0m\u001b[0;34m,\u001b[0m \u001b[0;36m2\u001b[0m\u001b[0;34m,\u001b[0m \u001b[0;36m2\u001b[0m\u001b[0;34m)\u001b[0m\u001b[0;34m\u001b[0m\u001b[0;34m\u001b[0m\u001b[0m\n\u001b[1;32m     20\u001b[0m         \u001b[0mx\u001b[0m \u001b[0;34m=\u001b[0m \u001b[0mF\u001b[0m\u001b[0;34m.\u001b[0m\u001b[0mrelu\u001b[0m\u001b[0;34m(\u001b[0m\u001b[0mself\u001b[0m\u001b[0;34m.\u001b[0m\u001b[0mconv2\u001b[0m\u001b[0;34m(\u001b[0m\u001b[0mx\u001b[0m\u001b[0;34m)\u001b[0m\u001b[0;34m)\u001b[0m\u001b[0;34m\u001b[0m\u001b[0;34m\u001b[0m\u001b[0m\n",
      "\u001b[0;32m~/.local/lib/python3.8/site-packages/torch/nn/modules/module.py\u001b[0m in \u001b[0;36m_call_impl\u001b[0;34m(self, *input, **kwargs)\u001b[0m\n\u001b[1;32m    887\u001b[0m             \u001b[0mresult\u001b[0m \u001b[0;34m=\u001b[0m \u001b[0mself\u001b[0m\u001b[0;34m.\u001b[0m\u001b[0m_slow_forward\u001b[0m\u001b[0;34m(\u001b[0m\u001b[0;34m*\u001b[0m\u001b[0minput\u001b[0m\u001b[0;34m,\u001b[0m \u001b[0;34m**\u001b[0m\u001b[0mkwargs\u001b[0m\u001b[0;34m)\u001b[0m\u001b[0;34m\u001b[0m\u001b[0;34m\u001b[0m\u001b[0m\n\u001b[1;32m    888\u001b[0m         \u001b[0;32melse\u001b[0m\u001b[0;34m:\u001b[0m\u001b[0;34m\u001b[0m\u001b[0;34m\u001b[0m\u001b[0m\n\u001b[0;32m--> 889\u001b[0;31m             \u001b[0mresult\u001b[0m \u001b[0;34m=\u001b[0m \u001b[0mself\u001b[0m\u001b[0;34m.\u001b[0m\u001b[0mforward\u001b[0m\u001b[0;34m(\u001b[0m\u001b[0;34m*\u001b[0m\u001b[0minput\u001b[0m\u001b[0;34m,\u001b[0m \u001b[0;34m**\u001b[0m\u001b[0mkwargs\u001b[0m\u001b[0;34m)\u001b[0m\u001b[0;34m\u001b[0m\u001b[0;34m\u001b[0m\u001b[0m\n\u001b[0m\u001b[1;32m    890\u001b[0m         for hook in itertools.chain(\n\u001b[1;32m    891\u001b[0m                 \u001b[0m_global_forward_hooks\u001b[0m\u001b[0;34m.\u001b[0m\u001b[0mvalues\u001b[0m\u001b[0;34m(\u001b[0m\u001b[0;34m)\u001b[0m\u001b[0;34m,\u001b[0m\u001b[0;34m\u001b[0m\u001b[0;34m\u001b[0m\u001b[0m\n",
      "\u001b[0;32m~/.local/lib/python3.8/site-packages/torch/nn/modules/conv.py\u001b[0m in \u001b[0;36mforward\u001b[0;34m(self, input)\u001b[0m\n\u001b[1;32m    397\u001b[0m \u001b[0;34m\u001b[0m\u001b[0m\n\u001b[1;32m    398\u001b[0m     \u001b[0;32mdef\u001b[0m \u001b[0mforward\u001b[0m\u001b[0;34m(\u001b[0m\u001b[0mself\u001b[0m\u001b[0;34m,\u001b[0m \u001b[0minput\u001b[0m\u001b[0;34m:\u001b[0m \u001b[0mTensor\u001b[0m\u001b[0;34m)\u001b[0m \u001b[0;34m->\u001b[0m \u001b[0mTensor\u001b[0m\u001b[0;34m:\u001b[0m\u001b[0;34m\u001b[0m\u001b[0;34m\u001b[0m\u001b[0m\n\u001b[0;32m--> 399\u001b[0;31m         \u001b[0;32mreturn\u001b[0m \u001b[0mself\u001b[0m\u001b[0;34m.\u001b[0m\u001b[0m_conv_forward\u001b[0m\u001b[0;34m(\u001b[0m\u001b[0minput\u001b[0m\u001b[0;34m,\u001b[0m \u001b[0mself\u001b[0m\u001b[0;34m.\u001b[0m\u001b[0mweight\u001b[0m\u001b[0;34m,\u001b[0m \u001b[0mself\u001b[0m\u001b[0;34m.\u001b[0m\u001b[0mbias\u001b[0m\u001b[0;34m)\u001b[0m\u001b[0;34m\u001b[0m\u001b[0;34m\u001b[0m\u001b[0m\n\u001b[0m\u001b[1;32m    400\u001b[0m \u001b[0;34m\u001b[0m\u001b[0m\n\u001b[1;32m    401\u001b[0m \u001b[0;32mclass\u001b[0m \u001b[0mConv3d\u001b[0m\u001b[0;34m(\u001b[0m\u001b[0m_ConvNd\u001b[0m\u001b[0;34m)\u001b[0m\u001b[0;34m:\u001b[0m\u001b[0;34m\u001b[0m\u001b[0;34m\u001b[0m\u001b[0m\n",
      "\u001b[0;32m~/.local/lib/python3.8/site-packages/torch/nn/modules/conv.py\u001b[0m in \u001b[0;36m_conv_forward\u001b[0;34m(self, input, weight, bias)\u001b[0m\n\u001b[1;32m    393\u001b[0m                             \u001b[0mweight\u001b[0m\u001b[0;34m,\u001b[0m \u001b[0mbias\u001b[0m\u001b[0;34m,\u001b[0m \u001b[0mself\u001b[0m\u001b[0;34m.\u001b[0m\u001b[0mstride\u001b[0m\u001b[0;34m,\u001b[0m\u001b[0;34m\u001b[0m\u001b[0;34m\u001b[0m\u001b[0m\n\u001b[1;32m    394\u001b[0m                             _pair(0), self.dilation, self.groups)\n\u001b[0;32m--> 395\u001b[0;31m         return F.conv2d(input, weight, bias, self.stride,\n\u001b[0m\u001b[1;32m    396\u001b[0m                         self.padding, self.dilation, self.groups)\n\u001b[1;32m    397\u001b[0m \u001b[0;34m\u001b[0m\u001b[0m\n",
      "\u001b[0;31mRuntimeError\u001b[0m: Expected 4-dimensional input for 4-dimensional weight [20, 1, 5, 5], but got 8-dimensional input of size [16, 1, 1, 1, 1, 1, 28, 28] instead"
     ]
    }
   ],
   "source": [
    "for epoch in range(protect_epochs):\n",
    "        # Train an epoch\n",
    "        #robust_net.train()\n",
    "        for batch_x, batch_y in prot_train_loader:\n",
    "            batch_x, batch_y = batch_x.to(device), batch_y.to(device)\n",
    "\n",
    "            # Forward pass for adversarial perturbations\n",
    "            batch_x.requires_grad = True\n",
    "            output = robust_net(batch_x)\n",
    "\n",
    "            original_predictions = output.argmax(1) # get the index of the max logit\n",
    "            original_accuracy = accuracy(output, batch_y)\n",
    "            loss = criterion(output, batch_y)\n",
    "            robust_net.zero_grad()\n",
    "            loss.backward()\n",
    "            perturbed_data = fgsm(batch_x, batch_x.grad, 0.25)\n",
    "            \n",
    "            # Evaluate the network (forward pass)\n",
    "            prediction = robust_net(perturbed_data)\n",
    "            loss = criterion(prediction, batch_y)\n",
    "            \n",
    "            # Compute the gradient\n",
    "            mini_opt.zero_grad()\n",
    "            loss.backward()\n",
    "\n",
    "            # Update the parameters of the model with a gradient step\n",
    "            mini_opt.step()\n",
    "\n",
    "        # Test the quality on the test set\n",
    "        robust_net.eval()\n",
    "        accuracies = []\n",
    "        for batch_x, batch_y in prot_test_loader:\n",
    "            batch_x, batch_y = batch_x.to(device), batch_y.to(device)\n",
    "\n",
    "            # Evaluate the network (forward pass)\n",
    "            prediction = robust_net(batch_x)\n",
    "            accuracies.append(accuracy(prediction, batch_y))\n",
    "        \n",
    "        print(\"Epoch {:.2f} | Test accuracy: {:.5f}\".format(epoch, sum(accuracies).item()/len(accuracies)))    "
   ]
  },
  {
   "cell_type": "code",
   "execution_count": null,
   "metadata": {},
   "outputs": [],
   "source": [
    "# Attack against Protected Model"
   ]
  },
  {
   "cell_type": "code",
   "execution_count": null,
   "metadata": {},
   "outputs": [],
   "source": [
    "accuracies_lenet_robust = []\n",
    "examples_lenet_robust = []\n",
    "\n",
    "epsilons_lenet_robust = np.arange(0, 0.5, 0.05)"
   ]
  },
  {
   "cell_type": "code",
   "execution_count": null,
   "metadata": {},
   "outputs": [],
   "source": [
    "for eps in epsilons_lenet_robust:\n",
    "    acc, ex = attack(protected_net, CrossEntropyLoss(), prot_train_loader, eps, device=device)\n",
    "    accuracies_lenet_robust.append(acc)\n",
    "    examples_lenet_robust.append(ex)"
   ]
  },
  {
   "cell_type": "code",
   "execution_count": null,
   "metadata": {},
   "outputs": [],
   "source": [
    "# Comparing the models\n",
    "plt.figure(figsize=(5,5))\n",
    "plt.plot(epsilons_lenet, accuracies_lenet, \"*-\", c='blue', label='Convolutional network')\n",
    "plt.plot(epsilons_lenet_robust, accuracies_lenet_robust, \"*-\", c='orange', label='Convolutional network (robust)')\n",
    "\n",
    "plt.yticks(np.arange(0, 1.1, step=0.1))\n",
    "plt.xticks(np.arange(0, .35, step=0.05))\n",
    "\n",
    "plt.title(\"Accuracy vs Epsilon\")\n",
    "plt.xlabel(\"Epsilon\")\n",
    "plt.ylabel(\"Accuracy\")\n",
    "plt.legend();"
   ]
  }
 ]
}