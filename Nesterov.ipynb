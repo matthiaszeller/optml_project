{
 "cells": [
  {
   "cell_type": "code",
   "execution_count": 1,
   "metadata": {},
   "outputs": [],
   "source": [
    "import torch\n",
    "import numpy as np\n",
    "import matplotlib.pyplot as plt"
   ]
  },
  {
   "cell_type": "code",
   "execution_count": 2,
   "metadata": {},
   "outputs": [],
   "source": [
    "use_cuda = True\n",
    "\n",
    "device = torch.device('cuda' if use_cuda and torch.cuda.is_available() else 'cpu')"
   ]
  },
  {
   "cell_type": "code",
   "execution_count": 3,
   "metadata": {},
   "outputs": [
    {
     "data": {
      "text/plain": [
       "device(type='cuda')"
      ]
     },
     "execution_count": 3,
     "metadata": {},
     "output_type": "execute_result"
    }
   ],
   "source": [
    "device"
   ]
  },
  {
   "cell_type": "code",
   "execution_count": 4,
   "metadata": {},
   "outputs": [],
   "source": [
    "lr = 7.196856730011514e-05"
   ]
  },
  {
   "cell_type": "code",
   "execution_count": 5,
   "metadata": {},
   "outputs": [],
   "source": [
    "batch_size = 64\n",
    "epochs = 10"
   ]
  },
  {
   "cell_type": "markdown",
   "metadata": {},
   "source": [
    "# Data"
   ]
  },
  {
   "cell_type": "markdown",
   "metadata": {},
   "source": [
    "* `get_mnist`\n",
    "* `build_data_loaders`"
   ]
  },
  {
   "cell_type": "code",
   "execution_count": 6,
   "metadata": {},
   "outputs": [],
   "source": [
    "from data_utils import get_mnist, build_data_loaders"
   ]
  },
  {
   "cell_type": "code",
   "execution_count": 7,
   "metadata": {},
   "outputs": [],
   "source": [
    "train_dataset, test_dataset = get_mnist(normalize=True)\n",
    "\n",
    "# Build data loaders\n",
    "train_loader, test_loader = build_data_loaders(train_dataset, test_dataset, batch_size)"
   ]
  },
  {
   "cell_type": "code",
   "execution_count": 8,
   "metadata": {},
   "outputs": [
    {
     "name": "stdout",
     "output_type": "stream",
     "text": [
      "torch.Size([64, 1, 28, 28]) torch.Size([64])\n"
     ]
    }
   ],
   "source": [
    "for x, y in train_loader:\n",
    "    print(x.shape, y.shape)\n",
    "    break"
   ]
  },
  {
   "cell_type": "markdown",
   "metadata": {},
   "source": [
    "# Model"
   ]
  },
  {
   "cell_type": "code",
   "execution_count": 9,
   "metadata": {},
   "outputs": [],
   "source": [
    "from net import Net"
   ]
  },
  {
   "cell_type": "code",
   "execution_count": 10,
   "metadata": {},
   "outputs": [],
   "source": [
    "net = Net().to(device)"
   ]
  },
  {
   "cell_type": "code",
   "execution_count": 11,
   "metadata": {},
   "outputs": [
    {
     "data": {
      "text/plain": [
       "device(type='cuda')"
      ]
     },
     "execution_count": 11,
     "metadata": {},
     "output_type": "execute_result"
    }
   ],
   "source": [
    "device"
   ]
  },
  {
   "cell_type": "markdown",
   "metadata": {},
   "source": [
    "# Custom optimizers"
   ]
  },
  {
   "cell_type": "code",
   "execution_count": 12,
   "metadata": {},
   "outputs": [],
   "source": [
    "from optimizer import NesterovOptimizer"
   ]
  },
  {
   "cell_type": "code",
   "execution_count": 13,
   "metadata": {},
   "outputs": [],
   "source": [
    "optim = NesterovOptimizer(net.parameters(), lr=lr)"
   ]
  },
  {
   "cell_type": "markdown",
   "metadata": {},
   "source": [
    "# Training"
   ]
  },
  {
   "cell_type": "code",
   "execution_count": 14,
   "metadata": {},
   "outputs": [],
   "source": [
    "from training import training, accuracy, testing\n",
    "from torch.nn import CrossEntropyLoss"
   ]
  },
  {
   "cell_type": "code",
   "execution_count": 15,
   "metadata": {},
   "outputs": [
    {
     "name": "stdout",
     "output_type": "stream",
     "text": [
      "Launching training on cuda\n",
      "epoch 0\tavg epoch loss = 1.235\tavg epoch acc = 0.6698\n",
      "epoch 1\tavg epoch loss = 0.1744\tavg epoch acc = 0.9481\n",
      "epoch 2\tavg epoch loss = 0.07812\tavg epoch acc = 0.9755\n",
      "epoch 3\tavg epoch loss = 0.0568\tavg epoch acc = 0.9825\n",
      "epoch 4\tavg epoch loss = 0.04209\tavg epoch acc = 0.987\n",
      "epoch 5\tavg epoch loss = 0.02996\tavg epoch acc = 0.9904\n",
      "epoch 6\tavg epoch loss = 0.02397\tavg epoch acc = 0.9923\n",
      "epoch 7\tavg epoch loss = 0.02145\tavg epoch acc = 0.9929\n",
      "epoch 8\tavg epoch loss = 0.01667\tavg epoch acc = 0.9944\n",
      "epoch 9\tavg epoch loss = 0.01786\tavg epoch acc = 0.9943\n",
      "training took 18.51 s\n"
     ]
    }
   ],
   "source": [
    "loss_train, acc_train = training(\n",
    "    model=net,\n",
    "    dataset=train_loader,\n",
    "    optim=optim,\n",
    "    loss_fun=CrossEntropyLoss(),\n",
    "    metric_fun=accuracy,\n",
    "    epochs=epochs,\n",
    "    device=device,\n",
    "    batch_log_interval=0\n",
    ")"
   ]
  },
  {
   "cell_type": "code",
   "execution_count": 16,
   "metadata": {},
   "outputs": [
    {
     "data": {
      "image/png": "[encoded data removed]",
      "text/plain": [
       "<Figure size 432x288 with 1 Axes>"
      ]
     },
     "metadata": {
      "needs_background": "light"
     },
     "output_type": "display_data"
    }
   ],
   "source": [
    "plt.semilogy(np.mean(loss_train, axis=1), '-o')\n",
    "plt.xlabel('epoch'); plt.ylabel('training loss')\n",
    "plt.grid();"
   ]
  },
  {
   "cell_type": "code",
   "execution_count": 17,
   "metadata": {},
   "outputs": [
    {
     "name": "stdout",
     "output_type": "stream",
     "text": [
      "Avg test loss = 0.0411\tAvg test acc = 0.988\n"
     ]
    }
   ],
   "source": [
    "loss_test, acc_test = testing(\n",
    "    model=net,\n",
    "    dataset=test_loader,\n",
    "    loss_fun=CrossEntropyLoss(),\n",
    "    metric_fun=accuracy,\n",
    "    device=device\n",
    ")"
   ]
  },
  {
   "cell_type": "markdown",
   "metadata": {},
   "source": [
    "# Adversarial training"
   ]
  },
  {
   "cell_type": "markdown",
   "metadata": {},
   "source": [
    "## Attack naive model"
   ]
  },
  {
   "cell_type": "code",
   "execution_count": 18,
   "metadata": {},
   "outputs": [],
   "source": [
    "from adversary import attack, protect"
   ]
  },
  {
   "cell_type": "code",
   "execution_count": 21,
   "metadata": {},
   "outputs": [
    {
     "name": "stdout",
     "output_type": "stream",
     "text": [
      "Epsilon: 0.00\tTest Accuracy = 0.931\n",
      "Epsilon: 0.05\tTest Accuracy = 0.918\n",
      "Epsilon: 0.10\tTest Accuracy = 0.902\n",
      "Epsilon: 0.15\tTest Accuracy = 0.882\n",
      "Epsilon: 0.20\tTest Accuracy = 0.856\n",
      "Epsilon: 0.25\tTest Accuracy = 0.824\n",
      "Epsilon: 0.30\tTest Accuracy = 0.789\n",
      "Epsilon: 0.35\tTest Accuracy = 0.743\n",
      "Epsilon: 0.40\tTest Accuracy = 0.686\n",
      "Epsilon: 0.45\tTest Accuracy = 0.615\n"
     ]
    }
   ],
   "source": [
    "noise = np.arange(0, 0.5, 0.05)\n",
    "\n",
    "accuracy_naive= []\n",
    "losses_naive= []\n",
    "\n",
    "for ns in noise:\n",
    "    loss_attack, acc_attack  = attack(\n",
    "        model=net, \n",
    "        loss_fun=CrossEntropyLoss(), \n",
    "        test_loader=test_loader, \n",
    "        epsilon=ns, \n",
    "        device=device\n",
    "    )\n",
    "    accuracy_naive.append(acc_attack)\n",
    "    losses_naive.append(loss_attack)"
   ]
  },
  {
   "cell_type": "markdown",
   "metadata": {},
   "source": [
    "## Train robust model"
   ]
  },
  {
   "cell_type": "code",
   "execution_count": 22,
   "metadata": {},
   "outputs": [
    {
     "name": "stdout",
     "output_type": "stream",
     "text": [
      "Epoch 0.00 | Test accuracy: 0.81379\n",
      "Epoch 1.00 | Test accuracy: 0.93601\n",
      "Epoch 2.00 | Test accuracy: 0.96029\n",
      "Epoch 3.00 | Test accuracy: 0.97164\n",
      "Epoch 4.00 | Test accuracy: 0.96795\n",
      "Epoch 5.00 | Test accuracy: 0.97572\n",
      "Epoch 6.00 | Test accuracy: 0.97412\n",
      "Epoch 7.00 | Test accuracy: 0.96895\n",
      "Epoch 8.00 | Test accuracy: 0.97442\n",
      "Epoch 9.00 | Test accuracy: 0.98298\n",
      "training took 30.89 s\n"
     ]
    }
   ],
   "source": [
    "robust_net = Net().to(device)\n",
    "\n",
    "optim_robust = NesterovOptimizer(robust_net.parameters(), lr=lr)\n",
    "\n",
    "robust_net = protect(model=robust_net, \n",
    "                     optim=optim_robust, \n",
    "                     loss_fun=CrossEntropyLoss(), \n",
    "                     train_loader=train_loader, \n",
    "                     test_loader=test_loader, \n",
    "                     device=device, \n",
    "                     epochs=epochs)"
   ]
  },
  {
   "cell_type": "markdown",
   "metadata": {},
   "source": [
    "## Attack robust model"
   ]
  },
  {
   "cell_type": "code",
   "execution_count": 23,
   "metadata": {},
   "outputs": [
    {
     "name": "stdout",
     "output_type": "stream",
     "text": [
      "Epsilon: 0.00\tTest Accuracy = 0.988\n",
      "Epsilon: 0.05\tTest Accuracy = 0.986\n",
      "Epsilon: 0.10\tTest Accuracy = 0.984\n",
      "Epsilon: 0.15\tTest Accuracy = 0.982\n",
      "Epsilon: 0.20\tTest Accuracy = 0.979\n",
      "Epsilon: 0.25\tTest Accuracy = 0.975\n",
      "Epsilon: 0.30\tTest Accuracy = 0.968\n",
      "Epsilon: 0.35\tTest Accuracy = 0.959\n",
      "Epsilon: 0.40\tTest Accuracy = 0.949\n",
      "Epsilon: 0.45\tTest Accuracy = 0.930\n"
     ]
    }
   ],
   "source": [
    "noise = np.arange(0, 0.5, 0.05)\n",
    "\n",
    "accuracy_robust= []\n",
    "losses_robust= []\n",
    "\n",
    "for ns in noise:\n",
    "    loss_attack, acc_attack = attack(\n",
    "        model=robust_net, \n",
    "        loss_fun=CrossEntropyLoss(), \n",
    "        test_loader=test_loader, \n",
    "        epsilon=ns, \n",
    "        device=device\n",
    "    )\n",
    "    accuracy_robust.append(acc_attack)\n",
    "    losses_robust.append(loss_attack)"
   ]
  }
 ],
 "metadata": {
  "kernelspec": {
   "display_name": "Python [conda env:cs456env]",
   "language": "python",
   "name": "conda-env-cs456env-py"
  },
  "language_info": {
   "codemirror_mode": {
    "name": "ipython",
    "version": 3
   },
   "file_extension": ".py",
   "mimetype": "text/x-python",
   "name": "python",
   "nbconvert_exporter": "python",
   "pygments_lexer": "ipython3",
   "version": "3.7.2"
  }
 },
 "nbformat": 4,
 "nbformat_minor": 5
}
