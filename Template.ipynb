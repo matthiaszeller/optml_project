{
 "cells": [
  {
   "cell_type": "code",
   "execution_count": 1,
   "id": "documentary-psychiatry",
   "metadata": {},
   "outputs": [],
   "source": [
    "import torch"
   ]
  },
  {
   "cell_type": "code",
   "execution_count": 2,
   "id": "eight-assignment",
   "metadata": {},
   "outputs": [],
   "source": [
    "use_cuda = True\n",
    "\n",
    "device = torch.device('cuda' if use_cuda and torch.cuda.is_available() else 'cpu')"
   ]
  },
  {
   "cell_type": "code",
   "execution_count": 3,
   "id": "foster-cancer",
   "metadata": {},
   "outputs": [
    {
     "data": {
      "text/plain": [
       "device(type='cuda')"
      ]
     },
     "execution_count": 3,
     "metadata": {},
     "output_type": "execute_result"
    }
   ],
   "source": [
    "device"
   ]
  },
  {
   "cell_type": "markdown",
   "id": "alert-lighter",
   "metadata": {},
   "source": [
    "# Data"
   ]
  },
  {
   "cell_type": "markdown",
   "id": "connected-collect",
   "metadata": {},
   "source": [
    "* `get_mnist`\n",
    "* `build_data_loaders`"
   ]
  },
  {
   "cell_type": "code",
   "execution_count": 4,
   "id": "political-knight",
   "metadata": {},
   "outputs": [],
   "source": [
    "from data import get_mnist, build_data_loaders"
   ]
  },
  {
   "cell_type": "code",
   "execution_count": 5,
   "id": "amber-trance",
   "metadata": {},
   "outputs": [],
   "source": [
    "train_dataset, test_dataset = get_mnist(normalize=True)"
   ]
  },
  {
   "cell_type": "code",
   "execution_count": 6,
   "id": "novel-daughter",
   "metadata": {},
   "outputs": [
    {
     "data": {
      "text/plain": [
       "(-7.328089801639237e-10, 0.002495675580576062)"
      ]
     },
     "execution_count": 6,
     "metadata": {},
     "output_type": "execute_result"
    }
   ],
   "source": [
    "# Average of average per-pixel mean\n",
    "train_dataset.data.mean(0).mean().item(), test_dataset.data.mean(0).mean().item()"
   ]
  },
  {
   "cell_type": "code",
   "execution_count": 7,
   "id": "pregnant-billy",
   "metadata": {},
   "outputs": [],
   "source": [
    "# Build data loaders\n",
    "batch_size = 64\n",
    "train_loader, test_loader = build_data_loaders(train_dataset, test_dataset, batch_size)"
   ]
  },
  {
   "cell_type": "code",
   "execution_count": 8,
   "id": "disabled-desire",
   "metadata": {},
   "outputs": [
    {
     "name": "stdout",
     "output_type": "stream",
     "text": [
      "torch.Size([64, 1, 28, 28]) torch.Size([64])\n"
     ]
    }
   ],
   "source": [
    "for x, y in train_loader:\n",
    "    print(x.shape, y.shape)\n",
    "    break"
   ]
  },
  {
   "cell_type": "markdown",
   "id": "electric-nelson",
   "metadata": {},
   "source": [
    "# Model"
   ]
  },
  {
   "cell_type": "code",
   "execution_count": 9,
   "id": "fossil-ebony",
   "metadata": {},
   "outputs": [],
   "source": [
    "from net import Net"
   ]
  },
  {
   "cell_type": "code",
   "execution_count": 10,
   "id": "accepted-strain",
   "metadata": {},
   "outputs": [],
   "source": [
    "net = Net().to(device)"
   ]
  },
  {
   "cell_type": "markdown",
   "id": "imperial-pleasure",
   "metadata": {},
   "source": [
    "# Custom optimizers"
   ]
  },
  {
   "cell_type": "code",
   "execution_count": 11,
   "id": "bridal-service",
   "metadata": {},
   "outputs": [],
   "source": [
    "from torch.optim import Optimizer"
   ]
  },
  {
   "cell_type": "code",
   "execution_count": 12,
   "id": "designing-ebony",
   "metadata": {},
   "outputs": [],
   "source": [
    "class MyFancyOptimizer(Optimizer):\n",
    "    \n",
    "    def __init__(self, params, lr):\n",
    "        super(self, MyFancyOptimizer).__init__()"
   ]
  },
  {
   "cell_type": "markdown",
   "id": "alone-breach",
   "metadata": {},
   "source": [
    "# Training"
   ]
  },
  {
   "cell_type": "code",
   "execution_count": 13,
   "id": "gothic-holder",
   "metadata": {},
   "outputs": [],
   "source": [
    "from torch.optim import SGD"
   ]
  },
  {
   "cell_type": "code",
   "execution_count": 14,
   "id": "blocked-network",
   "metadata": {},
   "outputs": [],
   "source": [
    "opt = SGD(net.parameters(), lr=0.01)"
   ]
  },
  {
   "cell_type": "code",
   "execution_count": 15,
   "id": "wanted-bench",
   "metadata": {},
   "outputs": [],
   "source": [
    "from training import training, accuracy\n",
    "from torch.nn import CrossEntropyLoss"
   ]
  },
  {
   "cell_type": "code",
   "execution_count": null,
   "id": "traditional-winning",
   "metadata": {},
   "outputs": [
    {
     "name": "stdout",
     "output_type": "stream",
     "text": [
      "Launching training on cuda\n",
      "batch 100\tloss = 1.919\tacc = 0.7031\n",
      "batch 200\tloss = 0.8091\tacc = 0.75\n",
      "batch 300\tloss = 0.524\tacc = 0.8125\n",
      "batch 400\tloss = 0.3663\tacc = 0.8906\n",
      "batch 500\tloss = 0.2546\tacc = 0.9375\n",
      "batch 600\tloss = 0.3399\tacc = 0.9062\n",
      "batch 700\tloss = 0.2701\tacc = 0.9062\n",
      "batch 800\tloss = 0.2282\tacc = 0.9219\n",
      "batch 900\tloss = 0.1185\tacc = 0.9844\n",
      "epoch 0\tavg epoch loss = 0.6165\tavg epoch acc = 0.8384\n",
      "batch 100\tloss = 0.08525\tacc = 0.9688\n",
      "batch 200\tloss = 0.1969\tacc = 0.9375\n",
      "batch 300\tloss = 0.1261\tacc = 0.9531\n",
      "batch 400\tloss = 0.2314\tacc = 0.9688\n",
      "batch 500\tloss = 0.1419\tacc = 0.9531\n",
      "batch 600\tloss = 0.1563\tacc = 0.9688\n",
      "batch 700\tloss = 0.1325\tacc = 0.9688\n",
      "batch 800\tloss = 0.09454\tacc = 0.9688\n",
      "batch 900\tloss = 0.04687\tacc = 1.0\n",
      "epoch 1\tavg epoch loss = 0.1465\tavg epoch acc = 0.9569\n",
      "batch 100\tloss = 0.08078\tacc = 0.9531\n",
      "batch 200\tloss = 0.123\tacc = 0.9375\n",
      "batch 300\tloss = 0.04975\tacc = 1.0\n",
      "batch 400\tloss = 0.2073\tacc = 0.9688\n",
      "batch 500\tloss = 0.1131\tacc = 0.9688\n",
      "batch 600\tloss = 0.1204\tacc = 0.9688\n",
      "batch 700\tloss = 0.1018\tacc = 0.9688\n",
      "batch 800\tloss = 0.05113\tacc = 1.0\n",
      "batch 900\tloss = 0.0233\tacc = 1.0\n",
      "epoch 2\tavg epoch loss = 0.0979\tavg epoch acc = 0.9709\n",
      "batch 100\tloss = 0.06823\tacc = 0.9688\n",
      "batch 200\tloss = 0.08348\tacc = 0.9688\n"
     ]
    }
   ],
   "source": [
    "losses, accs = training(net, train_loader, opt, CrossEntropyLoss(), accuracy, epochs=5, device=device)"
   ]
  },
  {
   "cell_type": "markdown",
   "id": "coated-kuwait",
   "metadata": {},
   "source": [
    "# Test"
   ]
  },
  {
   "cell_type": "code",
   "execution_count": null,
   "id": "incorporate-shopper",
   "metadata": {},
   "outputs": [],
   "source": [
    "from training import testing"
   ]
  },
  {
   "cell_type": "code",
   "execution_count": null,
   "id": "naughty-usage",
   "metadata": {},
   "outputs": [],
   "source": [
    "batch_size = 64\n",
    "test_loader = DataLoader(TensorDataset(test_dataset.data, test_dataset.targets), batch_size=batch_size)\n",
    "losses, metrics = testing(net, test_loader, CrossEntropyLoss(), accuracy, device)"
   ]
  }
 ],
 "metadata": {
  "kernelspec": {
   "display_name": "Python [conda env:ml]",
   "language": "python",
   "name": "conda-env-ml-py"
  },
  "language_info": {
   "codemirror_mode": {
    "name": "ipython",
    "version": 3
   },
   "file_extension": ".py",
   "mimetype": "text/x-python",
   "name": "python",
   "nbconvert_exporter": "python",
   "pygments_lexer": "ipython3",
   "version": "3.8.8"
  }
 },
 "nbformat": 4,
 "nbformat_minor": 5
}
