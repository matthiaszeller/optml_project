{
 "cells": [
  {
   "cell_type": "code",
   "execution_count": 1,
   "id": "foster-johnston",
   "metadata": {},
   "outputs": [],
   "source": [
    "from torch.optim import SGD\n",
    "import torch\n",
    "import torchvision\n",
    "from torch.nn import CrossEntropyLoss\n",
    "import numpy as np\n",
    "from torch.utils.data import DataLoader, TensorDataset"
   ]
  },
  {
   "cell_type": "code",
   "execution_count": 2,
   "id": "driven-accent",
   "metadata": {},
   "outputs": [],
   "source": [
    "use_cuda = True\n",
    "\n",
    "device = torch.device('cuda' if use_cuda and torch.cuda.is_available() else 'cpu')"
   ]
  },
  {
   "cell_type": "markdown",
   "id": "daily-worth",
   "metadata": {},
   "source": [
    "# Data"
   ]
  },
  {
   "cell_type": "markdown",
   "id": "supported-measurement",
   "metadata": {},
   "source": [
    "The rountine downloads data, reshapes and normalizes data:"
   ]
  },
  {
   "cell_type": "code",
   "execution_count": 3,
   "id": "generic-association",
   "metadata": {},
   "outputs": [],
   "source": [
    "def get_mnist(normalize=True):\n",
    "    train = torchvision.datasets.MNIST('data', download=True, train=True, transform=torchvision.transforms.ToTensor())\n",
    "    test = torchvision.datasets.MNIST('data', train=False, transform=torchvision.transforms.ToTensor())\n",
    "\n",
    "    xtrain = train.data.to(torch.float32)\n",
    "    xtest = test.data.to(torch.float32)\n",
    "\n",
    "    if normalize:\n",
    "        xtrain = xtrain.view(-1, 28*28)\n",
    "        xtest = xtest.view(-1, 28*28)\n",
    "        mu, std = xtrain.mean(0), xtrain.std(0)\n",
    "\n",
    "        xtrain -= mu\n",
    "        xtest -= mu\n",
    "        xtrain[:, std > 0] /= std[std > 0]\n",
    "        xtest[:, std > 0] /= std[std > 0]\n",
    "        \n",
    "        xtrain = xtrain.view(-1, 28, 28)\n",
    "        xtest = xtest.view(-1, 28, 28)\n",
    "\n",
    "    train.data = xtrain\n",
    "    test.data = xtest\n",
    "\n",
    "    return train, test"
   ]
  },
  {
   "cell_type": "code",
   "execution_count": 4,
   "id": "wicked-nerve",
   "metadata": {},
   "outputs": [],
   "source": [
    "train_dataset, test_dataset = get_mnist(normalize=True)"
   ]
  },
  {
   "cell_type": "code",
   "execution_count": 5,
   "id": "fluid-vegetation",
   "metadata": {},
   "outputs": [
    {
     "data": {
      "text/plain": [
       "(-7.328089801639237e-10, 0.002495675580576062)"
      ]
     },
     "execution_count": 5,
     "metadata": {},
     "output_type": "execute_result"
    }
   ],
   "source": [
    "# Average of average per-pixel mean\n",
    "train_dataset.data.mean(0).mean().item(), test_dataset.data.mean(0).mean().item()"
   ]
  },
  {
   "cell_type": "markdown",
   "id": "identified-steps",
   "metadata": {},
   "source": [
    "# Model"
   ]
  },
  {
   "cell_type": "code",
   "execution_count": 6,
   "id": "starting-standing",
   "metadata": {},
   "outputs": [],
   "source": [
    "import torch.nn as nn\n",
    "import torch.nn.functional as F\n",
    "\n",
    "# https://github.com/floydhub/mnist/blob/master/ConvNet.py\n",
    "class Net(nn.Module):\n",
    "    \"\"\"ConvNet -> Max_Pool -> RELU -> ConvNet -> Max_Pool -> RELU -> FC -> RELU -> FC -> SOFTMAX\"\"\"\n",
    "    def __init__(self):\n",
    "        super(Net, self).__init__()\n",
    "        self.conv1 = nn.Conv2d(1, 20, 5, 1)\n",
    "        self.conv2 = nn.Conv2d(20, 50, 5, 1)\n",
    "        self.fc1 = nn.Linear(4*4*50, 500)\n",
    "        self.fc2 = nn.Linear(500, 10)\n",
    "\n",
    "    def forward(self, x):\n",
    "        x = F.relu(self.conv1(x))\n",
    "        x = F.max_pool2d(x, 2, 2)\n",
    "        x = F.relu(self.conv2(x))\n",
    "        x = F.max_pool2d(x, 2, 2)\n",
    "        x = x.view(-1, 4*4*50)\n",
    "        x = F.relu(self.fc1(x))\n",
    "        x = self.fc2(x)\n",
    "        return F.log_softmax(x, dim=1)"
   ]
  },
  {
   "cell_type": "code",
   "execution_count": 7,
   "id": "operating-columbia",
   "metadata": {},
   "outputs": [],
   "source": [
    "net = Net().to(device)"
   ]
  },
  {
   "cell_type": "markdown",
   "id": "incomplete-reward",
   "metadata": {},
   "source": [
    "# Training"
   ]
  },
  {
   "cell_type": "code",
   "execution_count": 8,
   "id": "bizarre-antigua",
   "metadata": {},
   "outputs": [],
   "source": [
    "def accuracy(yhat, y):\n",
    "    prediction = yhat.argmax(dim=1)\n",
    "    return (y.eq(prediction)).to(float).mean().item()"
   ]
  },
  {
   "cell_type": "code",
   "execution_count": 9,
   "id": "electoral-intro",
   "metadata": {},
   "outputs": [],
   "source": [
    "from typing import Iterable, Callable\n",
    "\n",
    "from torch.nn import Module\n",
    "from torch.optim import Optimizer\n",
    "from time import time\n",
    "\n",
    "def train_epoch(model: Module, dataset: Iterable, optim: Optimizer, loss_fun: Module, metric_fun: Callable, device):\n",
    "    losses = []\n",
    "    metrics = []\n",
    "    for batch_id, (x, y) in enumerate(dataset, 1):\n",
    "        # Move to GPU\n",
    "        x, y = x.to(device), y.to(device)\n",
    "        # Reset gradients\n",
    "        optim.zero_grad()\n",
    "        # Forward pass\n",
    "        yhat = model(x)\n",
    "        # Performance evaluation\n",
    "        metrics.append(metric_fun(yhat, y))\n",
    "        # Compute loss\n",
    "        loss = loss_fun(yhat, y)\n",
    "        # Backward pass\n",
    "        loss.backward()\n",
    "        # Optimization step\n",
    "        optim.step()\n",
    "\n",
    "        losses.append(loss.item())\n",
    "\n",
    "    return losses, metrics\n",
    "\n",
    "\n",
    "def training(model: Module, dataset: Iterable, optim: Optimizer, loss_fun: Module, metric_fun: Callable, epochs: int, device):\n",
    "    losses_epoch = []\n",
    "    metrics_epoch = []\n",
    "    model.train()\n",
    "    t = time()\n",
    "    for epoch in range(epochs):\n",
    "        losses, metrics = train_epoch(model, dataset, optim, loss_fun, metric_fun, device)\n",
    "        losses_epoch.append(losses)\n",
    "        metrics_epoch.append(metrics)\n",
    "        print(f'epoch {epoch}\\tloss = {np.mean(losses)}\\tacc = {np.mean(metrics)}')\n",
    "    \n",
    "    t = time() - t\n",
    "    print('training took', t, 's')\n",
    "\n",
    "    return losses_epoch, metrics_epoch"
   ]
  },
  {
   "cell_type": "code",
   "execution_count": 10,
   "id": "literary-cardiff",
   "metadata": {
    "tags": []
   },
   "outputs": [],
   "source": [
    "# Dataset preparation\n",
    "# Add an axis to have one channel \n",
    "train_dataset.data = train_dataset.data[:, None, :]\n",
    "test_dataset.data = test_dataset.data[:, None, :]\n",
    "\n",
    "batch_size = 64\n",
    "train_loader = DataLoader(TensorDataset(train_dataset.data, train_dataset.targets), batch_size=batch_size)"
   ]
  },
  {
   "cell_type": "code",
   "execution_count": 11,
   "id": "whole-transfer",
   "metadata": {},
   "outputs": [],
   "source": [
    "opt = SGD(net.parameters(), lr=0.01)"
   ]
  },
  {
   "cell_type": "code",
   "execution_count": 12,
   "id": "urban-equity",
   "metadata": {},
   "outputs": [
    {
     "name": "stdout",
     "output_type": "stream",
     "text": [
      "epoch 0\tloss = 0.6013755448289645\tacc = 0.8408515458422174\n",
      "epoch 1\tloss = 0.148831311306521\tacc = 0.9561400586353944\n",
      "epoch 2\tloss = 0.09917276037106318\tacc = 0.9707322761194029\n",
      "epoch 3\tloss = 0.07691708515792378\tacc = 0.9769956023454158\n",
      "epoch 4\tloss = 0.06368229625811642\tacc = 0.9810934168443497\n",
      "training took 7.350011825561523 s\n"
     ]
    }
   ],
   "source": [
    "losses, accs = training(net, train_loader, opt, CrossEntropyLoss(), accuracy, epochs=5, device=device)"
   ]
  },
  {
   "cell_type": "markdown",
   "id": "quality-international",
   "metadata": {},
   "source": [
    "# Test"
   ]
  },
  {
   "cell_type": "code",
   "execution_count": 13,
   "id": "convinced-coalition",
   "metadata": {},
   "outputs": [],
   "source": [
    "def test(model: Module, dataset: Iterable, loss_fun: Module, metric_fun: Callable, device):\n",
    "    losses = []\n",
    "    metrics = []\n",
    "    model.eval()\n",
    "    with torch.no_grad():\n",
    "        for x, y in dataset:\n",
    "            x, y = x.to(device), y.to(device)\n",
    "            yhat = model(x)\n",
    "            loss = loss_fun(yhat, y)\n",
    "            losses.append(loss.item())\n",
    "            metrics.append(metric_fun(yhat, y))\n",
    "            \n",
    "    print(f'Avg loss = {np.mean(losses)}\\tAvg acc = {np.mean(metrics)}')\n",
    "    return losses, metrics"
   ]
  },
  {
   "cell_type": "code",
   "execution_count": 14,
   "id": "utility-fishing",
   "metadata": {},
   "outputs": [
    {
     "name": "stdout",
     "output_type": "stream",
     "text": [
      "Avg loss = 0.05828293676934484\tAvg acc = 0.9804936305732485\n"
     ]
    }
   ],
   "source": [
    "batch_size = 64\n",
    "test_loader = DataLoader(TensorDataset(test_dataset.data, test_dataset.targets), batch_size=batch_size)\n",
    "losses, metrics = test(net, test_loader, CrossEntropyLoss(), accuracy, device)"
   ]
  }
 ],
 "metadata": {
  "kernelspec": {
   "display_name": "Python [conda env:ml]",
   "language": "python",
   "name": "conda-env-ml-py"
  },
  "language_info": {
   "codemirror_mode": {
    "name": "ipython",
    "version": 3
   },
   "file_extension": ".py",
   "mimetype": "text/x-python",
   "name": "python",
   "nbconvert_exporter": "python",
   "pygments_lexer": "ipython3",
   "version": "3.8.8"
  }
 },
 "nbformat": 4,
 "nbformat_minor": 5
}
