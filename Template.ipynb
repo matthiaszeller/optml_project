{
 "cells": [
  {
   "cell_type": "code",
   "execution_count": 1,
   "id": "convenient-calendar",
   "metadata": {},
   "outputs": [],
   "source": [
    "import torch"
   ]
  },
  {
   "cell_type": "code",
   "execution_count": 2,
   "id": "continuous-round",
   "metadata": {},
   "outputs": [],
   "source": [
    "use_cuda = True\n",
    "\n",
    "device = torch.device('cuda' if use_cuda and torch.cuda.is_available() else 'cpu')"
   ]
  },
  {
   "cell_type": "code",
   "execution_count": 3,
   "id": "fitting-ratio",
   "metadata": {},
   "outputs": [
    {
     "data": {
      "text/plain": [
       "device(type='cuda')"
      ]
     },
     "execution_count": 3,
     "metadata": {},
     "output_type": "execute_result"
    }
   ],
   "source": [
    "device"
   ]
  },
  {
   "cell_type": "markdown",
   "id": "moving-working",
   "metadata": {},
   "source": [
    "# Data"
   ]
  },
  {
   "cell_type": "markdown",
   "id": "perceived-findings",
   "metadata": {},
   "source": [
    "* `get_mnist`\n",
    "* `build_data_loaders`"
   ]
  },
  {
   "cell_type": "code",
   "execution_count": 4,
   "id": "healthy-installation",
   "metadata": {},
   "outputs": [],
   "source": [
    "from data_utils import get_mnist, build_data_loaders"
   ]
  },
  {
   "cell_type": "code",
   "execution_count": 5,
   "id": "fifteen-perry",
   "metadata": {},
   "outputs": [],
   "source": [
    "train_dataset, test_dataset = get_mnist(normalize=True)"
   ]
  },
  {
   "cell_type": "code",
   "execution_count": 6,
   "id": "chemical-profession",
   "metadata": {},
   "outputs": [
    {
     "data": {
      "text/plain": [
       "(-7.328089801639237e-10, 0.002495675580576062)"
      ]
     },
     "execution_count": 6,
     "metadata": {},
     "output_type": "execute_result"
    }
   ],
   "source": [
    "# Average of average per-pixel mean\n",
    "train_dataset.data.mean(0).mean().item(), test_dataset.data.mean(0).mean().item()"
   ]
  },
  {
   "cell_type": "code",
   "execution_count": 7,
   "id": "sensitive-border",
   "metadata": {},
   "outputs": [],
   "source": [
    "# Build data loaders\n",
    "batch_size = 64\n",
    "train_loader, test_loader = build_data_loaders(train_dataset, test_dataset, batch_size)"
   ]
  },
  {
   "cell_type": "code",
   "execution_count": 8,
   "id": "prospective-failure",
   "metadata": {},
   "outputs": [
    {
     "name": "stdout",
     "output_type": "stream",
     "text": [
      "torch.Size([64, 1, 28, 28]) torch.Size([64])\n"
     ]
    }
   ],
   "source": [
    "for x, y in train_loader:\n",
    "    print(x.shape, y.shape)\n",
    "    break"
   ]
  },
  {
   "cell_type": "markdown",
   "id": "loose-party",
   "metadata": {},
   "source": [
    "# Model"
   ]
  },
  {
   "cell_type": "code",
   "execution_count": 9,
   "id": "surrounded-commerce",
   "metadata": {},
   "outputs": [],
   "source": [
    "from net import Net"
   ]
  },
  {
   "cell_type": "code",
   "execution_count": 10,
   "id": "illegal-sample",
   "metadata": {},
   "outputs": [],
   "source": [
    "net = Net().to(device)"
   ]
  },
  {
   "cell_type": "markdown",
   "id": "norwegian-madagascar",
   "metadata": {},
   "source": [
    "# Custom optimizers"
   ]
  },
  {
   "cell_type": "code",
   "execution_count": 11,
   "id": "destroyed-baking",
   "metadata": {},
   "outputs": [],
   "source": [
    "from torch.optim import Optimizer"
   ]
  },
  {
   "cell_type": "code",
   "execution_count": 12,
   "id": "pleased-nothing",
   "metadata": {},
   "outputs": [],
   "source": [
    "class MyFancyOptimizer(Optimizer):\n",
    "    \n",
    "    def __init__(self, params, lr):\n",
    "        super(self, MyFancyOptimizer).__init__()"
   ]
  },
  {
   "cell_type": "markdown",
   "id": "assigned-preview",
   "metadata": {},
   "source": [
    "# Training"
   ]
  },
  {
   "cell_type": "code",
   "execution_count": 13,
   "id": "alike-remainder",
   "metadata": {},
   "outputs": [],
   "source": [
    "from torch.optim import SGD"
   ]
  },
  {
   "cell_type": "code",
   "execution_count": 14,
   "id": "chronic-infrastructure",
   "metadata": {},
   "outputs": [],
   "source": [
    "opt = SGD(net.parameters(), lr=0.01)"
   ]
  },
  {
   "cell_type": "code",
   "execution_count": 15,
   "id": "physical-mentor",
   "metadata": {},
   "outputs": [],
   "source": [
    "from training import training, accuracy\n",
    "from torch.nn import CrossEntropyLoss"
   ]
  },
  {
   "cell_type": "code",
   "execution_count": 16,
   "id": "unavailable-flexibility",
   "metadata": {},
   "outputs": [
    {
     "name": "stdout",
     "output_type": "stream",
     "text": [
      "Launching training on cuda\n",
      "epoch 0\tavg epoch loss = 2.326\tavg epoch acc = 0.07812\n",
      "epoch 1\tavg epoch loss = 2.314\tavg epoch acc = 0.09375\n",
      "epoch 2\tavg epoch loss = 2.302\tavg epoch acc = 0.1094\n",
      "epoch 3\tavg epoch loss = 2.291\tavg epoch acc = 0.125\n",
      "epoch 4\tavg epoch loss = 2.28\tavg epoch acc = 0.1406\n",
      "training took 0.05831 s\n"
     ]
    }
   ],
   "source": [
    "losses, accs = training(net, train_loader, opt, CrossEntropyLoss(), accuracy, epochs=5, device=device)"
   ]
  },
  {
   "cell_type": "markdown",
   "id": "handed-indianapolis",
   "metadata": {},
   "source": [
    "# Test"
   ]
  },
  {
   "cell_type": "code",
   "execution_count": 17,
   "id": "arabic-event",
   "metadata": {},
   "outputs": [],
   "source": [
    "from training import testing"
   ]
  },
  {
   "cell_type": "code",
   "execution_count": 18,
   "id": "third-channels",
   "metadata": {},
   "outputs": [
    {
     "name": "stdout",
     "output_type": "stream",
     "text": [
      "Avg loss = 2.301611997519329\tAvg acc = 0.11236066878980892\n"
     ]
    }
   ],
   "source": [
    "losses, metrics = testing(net, test_loader, CrossEntropyLoss(), accuracy, device)"
   ]
  }
 ],
 "metadata": {
  "kernelspec": {
   "display_name": "Python [conda env:ml]",
   "language": "python",
   "name": "conda-env-ml-py"
  },
  "language_info": {
   "codemirror_mode": {
    "name": "ipython",
    "version": 3
   },
   "file_extension": ".py",
   "mimetype": "text/x-python",
   "name": "python",
   "nbconvert_exporter": "python",
   "pygments_lexer": "ipython3",
   "version": "3.8.8"
  }
 },
 "nbformat": 4,
 "nbformat_minor": 5
}
