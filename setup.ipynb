{
 "cells": [
  {
   "cell_type": "code",
   "execution_count": 1,
   "metadata": {},
   "outputs": [],
   "source": [
    "import numpy as np\n",
    "import random\n",
    "import pandas as pd\n",
    "import matplotlib.pyplot as plt\n",
    "\n",
    "from keras.datasets import mnist\n",
    "from keras.datasets import fashion_mnist"
   ]
  },
  {
   "cell_type": "code",
   "execution_count": 6,
   "metadata": {},
   "outputs": [],
   "source": [
    "(x_train, y_train), (x_test, y_test) = mnist.load_data()\n",
    "(x_fash_train, y_fash_train), (x_fash_test, y_fash_test) = fashion_mnist.load_data()"
   ]
  },
  {
   "cell_type": "code",
   "execution_count": null,
   "metadata": {},
   "outputs": [],
   "source": [
    "print('X_train(MNIST): ' + str(x_train.shape))\n",
    "print('Y_train(MNIST): ' + str(y_train.shape))\n",
    "print('X_test(MNIST):  '  + str(x_test.shape))\n",
    "print('Y_test(MNIST):  '  + str(y_test.shape))"
   ]
  },
  {
   "cell_type": "code",
   "execution_count": null,
   "metadata": {},
   "outputs": [],
   "source": [
    "print('X_train(Fashion-MNIST): ' + str(x_fash_train.shape))\n",
    "print('Y_train(Fashion-MNIST): ' + str(y_fash_train.shape))\n",
    "print('X_test(Fashion-MNIST):  '  + str(x_fash_test.shape))\n",
    "print('Y_test(Fashion-MNIST):  '  + str(y_fash_test.shape))"
   ]
  }
 ],
 "metadata": {
  "kernelspec": {
   "display_name": "Python [conda env:OneForAll]",
   "language": "python",
   "name": "conda-env-OneForAll-py"
  },
  "language_info": {
   "codemirror_mode": {
    "name": "ipython",
    "version": 3
   },
   "file_extension": ".py",
   "mimetype": "text/x-python",
   "name": "python",
   "nbconvert_exporter": "python",
   "pygments_lexer": "ipython3",
   "version": "3.8.1"
  }
 },
 "nbformat": 4,
 "nbformat_minor": 4
}
